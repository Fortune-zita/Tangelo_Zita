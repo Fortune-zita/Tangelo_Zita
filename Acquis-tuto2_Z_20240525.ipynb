{
 "cells": [
  {
   "cell_type": "markdown",
   "id": "fa343ca3-e6a2-43d9-be27-33f1289c7799",
   "metadata": {},
   "source": [
    "# PHY4268 Tutorial2 - Qiskit Qubit Hamiltonian ( Acquis de lecture)\n",
    "\n",
    "1. **F. Z. ATSAFACK FOUELEFACK**, zita.atsafack@facsciences-uy1.cm\n",
    "    * Department of Physics, Faculty of Science, University of Yaounde I"
   ]
  },
  {
   "cell_type": "markdown",
   "id": "00878a01-38d2-44ff-9f7b-ceec06fe5e01",
   "metadata": {},
   "source": [
    "### problème de structure electronique\n",
    "\n",
    "Utilisons le driver PySCF pour la construction d'un opérateur Hamiltonien fermionique de la molécule Thiazole\n"
   ]
  },
  {
   "cell_type": "code",
   "execution_count": 3,
   "id": "c705c800",
   "metadata": {},
   "outputs": [
    {
     "name": "stdout",
     "output_type": "stream",
     "text": [
      "Collecting qiskit-nature[pyscf]\n",
      "  Using cached qiskit_nature-0.7.2-py3-none-any.whl.metadata (8.0 kB)\n",
      "Collecting qiskit>=0.44 (from qiskit-nature[pyscf])\n",
      "  Using cached qiskit-1.1.0-cp38-abi3-manylinux_2_17_x86_64.manylinux2014_x86_64.whl.metadata (12 kB)\n",
      "Collecting qiskit-algorithms>=0.2.1 (from qiskit-nature[pyscf])\n",
      "  Using cached qiskit_algorithms-0.3.0-py3-none-any.whl.metadata (4.2 kB)\n",
      "Requirement already satisfied: scipy>=1.4 in /home/fortune/anaconda3/lib/python3.11/site-packages (from qiskit-nature[pyscf]) (1.11.4)\n",
      "Requirement already satisfied: numpy>=1.17 in /home/fortune/anaconda3/lib/python3.11/site-packages (from qiskit-nature[pyscf]) (1.26.4)\n",
      "Requirement already satisfied: psutil>=5 in /home/fortune/anaconda3/lib/python3.11/site-packages (from qiskit-nature[pyscf]) (5.9.0)\n",
      "Requirement already satisfied: setuptools>=40.1.0 in /home/fortune/anaconda3/lib/python3.11/site-packages (from qiskit-nature[pyscf]) (68.2.2)\n",
      "Requirement already satisfied: typing-extensions in /home/fortune/anaconda3/lib/python3.11/site-packages (from qiskit-nature[pyscf]) (4.9.0)\n",
      "Requirement already satisfied: h5py in /home/fortune/anaconda3/lib/python3.11/site-packages (from qiskit-nature[pyscf]) (3.9.0)\n",
      "Collecting rustworkx>=0.12 (from qiskit-nature[pyscf])\n",
      "  Using cached rustworkx-0.14.2-cp311-cp311-manylinux_2_17_x86_64.manylinux2014_x86_64.whl.metadata (10.0 kB)\n",
      "Requirement already satisfied: pyscf in /home/fortune/anaconda3/lib/python3.11/site-packages (from qiskit-nature[pyscf]) (2.5.0)\n",
      "Requirement already satisfied: sympy>=1.3 in /home/fortune/anaconda3/lib/python3.11/site-packages (from qiskit>=0.44->qiskit-nature[pyscf]) (1.12)\n",
      "Requirement already satisfied: dill>=0.3 in /home/fortune/anaconda3/lib/python3.11/site-packages (from qiskit>=0.44->qiskit-nature[pyscf]) (0.3.7)\n",
      "Requirement already satisfied: python-dateutil>=2.8.0 in /home/fortune/anaconda3/lib/python3.11/site-packages (from qiskit>=0.44->qiskit-nature[pyscf]) (2.8.2)\n",
      "Collecting stevedore>=3.0.0 (from qiskit>=0.44->qiskit-nature[pyscf])\n",
      "  Using cached stevedore-5.2.0-py3-none-any.whl.metadata (2.3 kB)\n",
      "Collecting symengine>=0.11 (from qiskit>=0.44->qiskit-nature[pyscf])\n",
      "  Using cached symengine-0.11.0-cp311-cp311-manylinux_2_12_x86_64.manylinux2010_x86_64.whl.metadata (1.2 kB)\n",
      "Requirement already satisfied: six>=1.5 in /home/fortune/anaconda3/lib/python3.11/site-packages (from python-dateutil>=2.8.0->qiskit>=0.44->qiskit-nature[pyscf]) (1.16.0)\n",
      "Collecting pbr!=2.1.0,>=2.0.0 (from stevedore>=3.0.0->qiskit>=0.44->qiskit-nature[pyscf])\n",
      "  Using cached pbr-6.0.0-py2.py3-none-any.whl.metadata (1.3 kB)\n",
      "Requirement already satisfied: mpmath>=0.19 in /home/fortune/anaconda3/lib/python3.11/site-packages (from sympy>=1.3->qiskit>=0.44->qiskit-nature[pyscf]) (1.3.0)\n",
      "Using cached qiskit-1.1.0-cp38-abi3-manylinux_2_17_x86_64.manylinux2014_x86_64.whl (4.3 MB)\n",
      "Using cached qiskit_algorithms-0.3.0-py3-none-any.whl (308 kB)\n",
      "Using cached rustworkx-0.14.2-cp311-cp311-manylinux_2_17_x86_64.manylinux2014_x86_64.whl (2.1 MB)\n",
      "Using cached qiskit_nature-0.7.2-py3-none-any.whl (2.2 MB)\n",
      "Using cached stevedore-5.2.0-py3-none-any.whl (49 kB)\n",
      "Downloading symengine-0.11.0-cp311-cp311-manylinux_2_12_x86_64.manylinux2010_x86_64.whl (39.4 MB)\n",
      "\u001b[2K   \u001b[38;5;237m━━━━━━━━━━━━━━━━━━━━━━━━━━━━━━━━━━━━━━━━\u001b[0m \u001b[32m0.2/39.4 MB\u001b[0m \u001b[31m3.9 kB/s\u001b[0m eta \u001b[36m2:47:36\u001b[0m\n",
      "\u001b[?25h\u001b[31mERROR: Exception:\n",
      "Traceback (most recent call last):\n",
      "  File \"/home/fortune/anaconda3/lib/python3.11/site-packages/pip/_vendor/urllib3/response.py\", line 438, in _error_catcher\n",
      "    yield\n",
      "  File \"/home/fortune/anaconda3/lib/python3.11/site-packages/pip/_vendor/urllib3/response.py\", line 561, in read\n",
      "    data = self._fp_read(amt) if not fp_closed else b\"\"\n",
      "           ^^^^^^^^^^^^^^^^^^\n",
      "  File \"/home/fortune/anaconda3/lib/python3.11/site-packages/pip/_vendor/urllib3/response.py\", line 527, in _fp_read\n",
      "    return self._fp.read(amt) if amt is not None else self._fp.read()\n",
      "           ^^^^^^^^^^^^^^^^^^\n",
      "  File \"/home/fortune/anaconda3/lib/python3.11/site-packages/pip/_vendor/cachecontrol/filewrapper.py\", line 98, in read\n",
      "    data: bytes = self.__fp.read(amt)\n",
      "                  ^^^^^^^^^^^^^^^^^^^\n",
      "  File \"/home/fortune/anaconda3/lib/python3.11/http/client.py\", line 473, in read\n",
      "    s = self.fp.read(amt)\n",
      "        ^^^^^^^^^^^^^^^^^\n",
      "  File \"/home/fortune/anaconda3/lib/python3.11/socket.py\", line 706, in readinto\n",
      "    return self._sock.recv_into(b)\n",
      "           ^^^^^^^^^^^^^^^^^^^^^^^\n",
      "  File \"/home/fortune/anaconda3/lib/python3.11/ssl.py\", line 1314, in recv_into\n",
      "    return self.read(nbytes, buffer)\n",
      "           ^^^^^^^^^^^^^^^^^^^^^^^^^\n",
      "  File \"/home/fortune/anaconda3/lib/python3.11/ssl.py\", line 1166, in read\n",
      "    return self._sslobj.read(len, buffer)\n",
      "           ^^^^^^^^^^^^^^^^^^^^^^^^^^^^^^\n",
      "TimeoutError: The read operation timed out\n",
      "\n",
      "During handling of the above exception, another exception occurred:\n",
      "\n",
      "Traceback (most recent call last):\n",
      "  File \"/home/fortune/anaconda3/lib/python3.11/site-packages/pip/_internal/cli/base_command.py\", line 180, in exc_logging_wrapper\n",
      "    status = run_func(*args)\n",
      "             ^^^^^^^^^^^^^^^\n",
      "  File \"/home/fortune/anaconda3/lib/python3.11/site-packages/pip/_internal/cli/req_command.py\", line 245, in wrapper\n",
      "    return func(self, options, args)\n",
      "           ^^^^^^^^^^^^^^^^^^^^^^^^^\n",
      "  File \"/home/fortune/anaconda3/lib/python3.11/site-packages/pip/_internal/commands/install.py\", line 377, in run\n",
      "    requirement_set = resolver.resolve(\n",
      "                      ^^^^^^^^^^^^^^^^^\n",
      "  File \"/home/fortune/anaconda3/lib/python3.11/site-packages/pip/_internal/resolution/resolvelib/resolver.py\", line 179, in resolve\n",
      "    self.factory.preparer.prepare_linked_requirements_more(reqs)\n",
      "  File \"/home/fortune/anaconda3/lib/python3.11/site-packages/pip/_internal/operations/prepare.py\", line 552, in prepare_linked_requirements_more\n",
      "    self._complete_partial_requirements(\n",
      "  File \"/home/fortune/anaconda3/lib/python3.11/site-packages/pip/_internal/operations/prepare.py\", line 467, in _complete_partial_requirements\n",
      "    for link, (filepath, _) in batch_download:\n",
      "  File \"/home/fortune/anaconda3/lib/python3.11/site-packages/pip/_internal/network/download.py\", line 183, in __call__\n",
      "    for chunk in chunks:\n",
      "  File \"/home/fortune/anaconda3/lib/python3.11/site-packages/pip/_internal/cli/progress_bars.py\", line 53, in _rich_progress_bar\n",
      "    for chunk in iterable:\n",
      "  File \"/home/fortune/anaconda3/lib/python3.11/site-packages/pip/_internal/network/utils.py\", line 63, in response_chunks\n",
      "    for chunk in response.raw.stream(\n",
      "  File \"/home/fortune/anaconda3/lib/python3.11/site-packages/pip/_vendor/urllib3/response.py\", line 622, in stream\n",
      "    data = self.read(amt=amt, decode_content=decode_content)\n",
      "           ^^^^^^^^^^^^^^^^^^^^^^^^^^^^^^^^^^^^^^^^^^^^^^^^^\n",
      "  File \"/home/fortune/anaconda3/lib/python3.11/site-packages/pip/_vendor/urllib3/response.py\", line 560, in read\n",
      "    with self._error_catcher():\n",
      "  File \"/home/fortune/anaconda3/lib/python3.11/contextlib.py\", line 158, in __exit__\n",
      "    self.gen.throw(typ, value, traceback)\n",
      "  File \"/home/fortune/anaconda3/lib/python3.11/site-packages/pip/_vendor/urllib3/response.py\", line 443, in _error_catcher\n",
      "    raise ReadTimeoutError(self._pool, None, \"Read timed out.\")\n",
      "pip._vendor.urllib3.exceptions.ReadTimeoutError: HTTPSConnectionPool(host='files.pythonhosted.org', port=443): Read timed out.\u001b[0m\u001b[31m\n",
      "\u001b[0mNote: you may need to restart the kernel to use updated packages.\n"
     ]
    }
   ],
   "source": [
    "pip install qiskit-nature[pyscf] -U"
   ]
  },
  {
   "cell_type": "code",
   "execution_count": 1,
   "id": "48de0b47",
   "metadata": {},
   "outputs": [
    {
     "name": "stdout",
     "output_type": "stream",
     "text": [
      "Collecting qiskit-nature[pyscf]\n",
      "  Using cached qiskit_nature-0.7.2-py3-none-any.whl.metadata (8.0 kB)\n",
      "Collecting qiskit>=0.44 (from qiskit-nature[pyscf])\n",
      "  Using cached qiskit-1.1.0-cp38-abi3-manylinux_2_17_x86_64.manylinux2014_x86_64.whl.metadata (12 kB)\n",
      "Collecting qiskit-algorithms>=0.2.1 (from qiskit-nature[pyscf])\n",
      "  Using cached qiskit_algorithms-0.3.0-py3-none-any.whl.metadata (4.2 kB)\n",
      "Requirement already satisfied: scipy>=1.4 in /home/fortune/anaconda3/lib/python3.11/site-packages (from qiskit-nature[pyscf]) (1.11.4)\n",
      "Requirement already satisfied: numpy>=1.17 in /home/fortune/anaconda3/lib/python3.11/site-packages (from qiskit-nature[pyscf]) (1.26.4)\n",
      "Requirement already satisfied: psutil>=5 in /home/fortune/anaconda3/lib/python3.11/site-packages (from qiskit-nature[pyscf]) (5.9.0)\n",
      "Requirement already satisfied: setuptools>=40.1.0 in /home/fortune/anaconda3/lib/python3.11/site-packages (from qiskit-nature[pyscf]) (68.2.2)\n",
      "Requirement already satisfied: typing-extensions in /home/fortune/anaconda3/lib/python3.11/site-packages (from qiskit-nature[pyscf]) (4.9.0)\n",
      "Requirement already satisfied: h5py in /home/fortune/anaconda3/lib/python3.11/site-packages (from qiskit-nature[pyscf]) (3.9.0)\n",
      "Collecting rustworkx>=0.12 (from qiskit-nature[pyscf])\n",
      "  Using cached rustworkx-0.14.2-cp311-cp311-manylinux_2_17_x86_64.manylinux2014_x86_64.whl.metadata (10.0 kB)\n",
      "Requirement already satisfied: pyscf in /home/fortune/anaconda3/lib/python3.11/site-packages (from qiskit-nature[pyscf]) (2.5.0)\n",
      "Requirement already satisfied: sympy>=1.3 in /home/fortune/anaconda3/lib/python3.11/site-packages (from qiskit>=0.44->qiskit-nature[pyscf]) (1.12)\n",
      "Requirement already satisfied: dill>=0.3 in /home/fortune/anaconda3/lib/python3.11/site-packages (from qiskit>=0.44->qiskit-nature[pyscf]) (0.3.7)\n",
      "Requirement already satisfied: python-dateutil>=2.8.0 in /home/fortune/anaconda3/lib/python3.11/site-packages (from qiskit>=0.44->qiskit-nature[pyscf]) (2.8.2)\n",
      "Collecting stevedore>=3.0.0 (from qiskit>=0.44->qiskit-nature[pyscf])\n",
      "  Using cached stevedore-5.2.0-py3-none-any.whl.metadata (2.3 kB)\n",
      "Collecting symengine>=0.11 (from qiskit>=0.44->qiskit-nature[pyscf])\n",
      "  Using cached symengine-0.11.0-cp311-cp311-manylinux_2_12_x86_64.manylinux2010_x86_64.whl.metadata (1.2 kB)\n",
      "Requirement already satisfied: six>=1.5 in /home/fortune/anaconda3/lib/python3.11/site-packages (from python-dateutil>=2.8.0->qiskit>=0.44->qiskit-nature[pyscf]) (1.16.0)\n",
      "Collecting pbr!=2.1.0,>=2.0.0 (from stevedore>=3.0.0->qiskit>=0.44->qiskit-nature[pyscf])\n",
      "  Using cached pbr-6.0.0-py2.py3-none-any.whl.metadata (1.3 kB)\n",
      "Requirement already satisfied: mpmath>=0.19 in /home/fortune/anaconda3/lib/python3.11/site-packages (from sympy>=1.3->qiskit>=0.44->qiskit-nature[pyscf]) (1.3.0)\n",
      "Using cached qiskit-1.1.0-cp38-abi3-manylinux_2_17_x86_64.manylinux2014_x86_64.whl (4.3 MB)\n",
      "Using cached qiskit_algorithms-0.3.0-py3-none-any.whl (308 kB)\n",
      "Using cached rustworkx-0.14.2-cp311-cp311-manylinux_2_17_x86_64.manylinux2014_x86_64.whl (2.1 MB)\n",
      "Using cached qiskit_nature-0.7.2-py3-none-any.whl (2.2 MB)\n",
      "Using cached stevedore-5.2.0-py3-none-any.whl (49 kB)\n",
      "Downloading symengine-0.11.0-cp311-cp311-manylinux_2_12_x86_64.manylinux2010_x86_64.whl (39.4 MB)\n",
      "\u001b[2K   \u001b[38;2;114;156;31m━━━━━━━━━━━━━━━━━━━━━━━━━━━━━━━━━━━━━━━━\u001b[0m \u001b[32m39.4/39.4 MB\u001b[0m \u001b[31m176.9 kB/s\u001b[0m eta \u001b[36m0:00:00\u001b[0mm eta \u001b[36m0:00:01\u001b[0m[36m0:00:07\u001b[0m\n",
      "\u001b[?25hDownloading pbr-6.0.0-py2.py3-none-any.whl (107 kB)\n",
      "\u001b[2K   \u001b[38;2;114;156;31m━━━━━━━━━━━━━━━━━━━━━━━━━━━━━━━━━━━━━━━\u001b[0m \u001b[32m107.5/107.5 kB\u001b[0m \u001b[31m125.6 kB/s\u001b[0m eta \u001b[36m0:00:00\u001b[0m1m73.1 kB/s\u001b[0m eta \u001b[36m0:00:01\u001b[0m\n",
      "\u001b[?25hInstalling collected packages: symengine, rustworkx, pbr, stevedore, qiskit, qiskit-algorithms, qiskit-nature\n",
      "Successfully installed pbr-6.0.0 qiskit-1.1.0 qiskit-algorithms-0.3.0 qiskit-nature-0.7.2 rustworkx-0.14.2 stevedore-5.2.0 symengine-0.11.0\n",
      "Note: you may need to restart the kernel to use updated packages.\n"
     ]
    },
    {
     "data": {
      "text/plain": [
       "'0.7.2'"
      ]
     },
     "execution_count": 1,
     "metadata": {},
     "output_type": "execute_result"
    }
   ],
   "source": [
    "try:\n",
    "    import qiskit_nature\n",
    "except:\n",
    "    %pip install qiskit-nature[pyscf] -U\n",
    "    import qiskit_nature\n",
    "    \n",
    "qiskit_nature.__version__"
   ]
  },
  {
   "cell_type": "code",
   "execution_count": 1,
   "id": "9dcd7c55",
   "metadata": {},
   "outputs": [],
   "source": [
    "from rdkit import Chem\n",
    "from pathlib import Path "
   ]
  },
  {
   "cell_type": "code",
   "execution_count": 2,
   "id": "08827e3e",
   "metadata": {},
   "outputs": [
    {
     "data": {
      "image/png": "[encoded data removed]",
      "text/plain": [
       "<rdkit.Chem.rdchem.Mol at 0x7246e475b530>"
      ]
     },
     "execution_count": 2,
     "metadata": {},
     "output_type": "execute_result"
    }
   ],
   "source": [
    "smile='C1=CSC=N1'\n",
    "smi_key='Thiazole'\n",
    "mol_rdkit = Chem.MolFromSmiles(smile)\n",
    "mol_rdkit"
   ]
  },
  {
   "cell_type": "markdown",
   "id": "f99b7cd6",
   "metadata": {},
   "source": [
    "### Quelques propriétes moleculaires\n",
    " On utilise le module **Descriptors** qui  fournit un ensemble de fonctions pour calculer diverses propriétés moléculaires (Respectivement: \\\n",
    " Masse moléculaire avec la fonction **ExactMolwt**,\\\n",
    "Masse moléculaire moyenne avec la fonction **HeavyAtomMolWt**,\\\n",
    "Polarité avec la fonction **TPSA**,\\\n",
    "Solubilité avec la fonction **MolLogP**"
   ]
  },
  {
   "cell_type": "code",
   "execution_count": 3,
   "id": "113ebfef",
   "metadata": {},
   "outputs": [
    {
     "ename": "SyntaxError",
     "evalue": "unterminated string literal (detected at line 6) (3334077286.py, line 3)",
     "output_type": "error",
     "traceback": [
      "\u001b[0;36m  Cell \u001b[0;32mIn[3], line 3\u001b[0;36m\u001b[0m\n\u001b[0;31m    print(f'Some molecular properties are :\\\u001b[0m\n\u001b[0m          ^\u001b[0m\n\u001b[0;31mSyntaxError\u001b[0m\u001b[0;31m:\u001b[0m unterminated string literal (detected at line 6)\n"
     ]
    }
   ],
   "source": [
    "from rdkit.Chem import Descriptors\n",
    "\n",
    "print(f'Some molecular properties are :\\\n",
    "      \\n Molecular weight={Descriptors.ExactMolWt(mol_rdkit)},\\\n",
    "      \\n Average molecular weight={Descriptors.HeavyAtomMolWt(mol_rdkit)},\\\n",
    "      \\n Polarity={Descriptors.TPSA(mol_rdkit)},\\                                         \n",
    "      \\n Solubility={Descriptors.MolLogP(mol_rdkit)}')\n"
   ]
  },
  {
   "cell_type": "markdown",
   "id": "5852dae3-7926-4f8b-9d8f-2de45ee82810",
   "metadata": {},
   "source": [
    "### Visualiation  3D de la molécule avec le logiciel 'py3Dmol'"
   ]
  },
  {
   "cell_type": "code",
   "execution_count": 4,
   "id": "98b06290",
   "metadata": {},
   "outputs": [],
   "source": [
    " import py3Dmol "
   ]
  },
  {
   "cell_type": "code",
   "execution_count": 5,
   "id": "49b26e3f-79d6-44aa-aaac-20717342034c",
   "metadata": {},
   "outputs": [],
   "source": [
    "\n",
    "def view3D(mol, label, fmt='mol'):\n",
    "        \"\"\"3D vizualisation of mol/xyz file with Py3DMol\n",
    "        \"\"\"\n",
    "\n",
    "        view = py3Dmol.view(width=400, height=400)       # visualiser la molécule avec une largeur de ''400'' et hauteur de ''400''\n",
    "\n",
    "        if fmt=='mol':                                   # si le format des 'mol',\n",
    "            view.addModel(Chem.MolToMolBlock(mol), fmt)     # generer les coordonnes de a molecule dans un block\n",
    "            # view.addModel(mol, fmt)\n",
    "        elif fmt=='xyz':                                      # sinon \n",
    "            view.addModel(mol, fmt)                             # generer les coordonnes en xyz\n",
    "\n",
    "        view.setStyle({'stick': {}, 'sphere': {'scale': .30}})     # définir le style de représentation de la molécule, avec des bâtons pour les liaisons et des sphères pour les atomes avec une échelle de '30'\n",
    "        view.addLabel(label, {'position': {'x': -2, 'y': -3, 'z': 0}}) # ajouter une etiquette de visualisation dont les coordonnées sont x,y,z\n",
    "\n",
    "        view.zoomTo()\n",
    "        view.show()"
   ]
  },
  {
   "cell_type": "markdown",
   "id": "c4933bef",
   "metadata": {},
   "source": [
    "Meilleur conformere de la molecule"
   ]
  },
  {
   "cell_type": "code",
   "execution_count": 6,
   "id": "d8691e97",
   "metadata": {},
   "outputs": [
    {
     "data": {
      "image/png": "[encoded data removed]",
      "text/plain": [
       "<rdkit.Chem.rdchem.Mol at 0x7246e41bd8c0>"
      ]
     },
     "execution_count": 6,
     "metadata": {},
     "output_type": "execute_result"
    }
   ],
   "source": [
    "from rdkit.Chem import AllChem\n",
    "\n",
    "# Add explicit Hs\n",
    "mol_rdkit = Chem.AddHs(mol_rdkit)    #   Ajouter les atomes d'hydrogene a la molécule\n",
    "\n",
    "# Generates the initial 3D conformation of the molecule\n",
    "AllChem.EmbedMolecule(mol_rdkit)\n",
    "mol_rdkit"
   ]
  },
  {
   "cell_type": "markdown",
   "id": "57ca5402",
   "metadata": {},
   "source": [
    "Molecule 3D"
   ]
  },
  {
   "cell_type": "code",
   "execution_count": 7,
   "id": "a2e0b697-2f9f-4962-b524-65c53364d325",
   "metadata": {},
   "outputs": [
    {
     "data": {
      "application/3dmoljs_load.v0": "<div id=\"3dmolviewer_1716654258940725\"  style=\"position: relative; width: 400px; height: 400px;\">\n        <p id=\"3dmolwarning_1716654258940725\" style=\"background-color:#ffcccc;color:black\">3Dmol.js failed to load for some reason.  Please check your browser console for error messages.<br></p>\n        </div>\n<script>\n\nvar loadScriptAsync = function(uri){\n  return new Promise((resolve, reject) => {\n    //this is to ignore the existence of requirejs amd\n    var savedexports, savedmodule;\n    if (typeof exports !== 'undefined') savedexports = exports;\n    else exports = {}\n    if (typeof module !== 'undefined') savedmodule = module;\n    else module = {}\n\n    var tag = document.createElement('script');\n    tag.src = uri;\n    tag.async = true;\n    tag.onload = () => {\n        exports = savedexports;\n        module = savedmodule;\n        resolve();\n    };\n  var firstScriptTag = document.getElementsByTagName('script')[0];\n  firstScriptTag.parentNode.insertBefore(tag, firstScriptTag);\n});\n};\n\nif(typeof $3Dmolpromise === 'undefined') {\n$3Dmolpromise = null;\n  $3Dmolpromise = loadScriptAsync('https://cdnjs.cloudflare.com/ajax/libs/3Dmol/2.1.0/3Dmol-min.js');\n}\n\nvar viewer_1716654258940725 = null;\nvar warn = document.getElementById(\"3dmolwarning_1716654258940725\");\nif(warn) {\n    warn.parentNode.removeChild(warn);\n}\n$3Dmolpromise.then(function() {\nviewer_1716654258940725 = $3Dmol.createViewer(document.getElementById(\"3dmolviewer_1716654258940725\"),{backgroundColor:\"white\"});\nviewer_1716654258940725.zoomTo();\n\tviewer_1716654258940725.addModel(\"\\n     RDKit          3D\\n\\n  8  8  0  0  0  0  0  0  0  0999 V2000\\n   -0.6300   -0.7321    0.0145 C   0  0  0  0  0  0  0  0  0  0  0  0\\n   -1.0547    0.6017    0.0165 C   0  0  0  0  0  0  0  0  0  0  0  0\\n    0.4360    1.5152    0.2263 S   0  0  0  0  0  0  0  0  0  0  0  0\\n    1.4926   -0.0630    0.2888 C   0  0  0  0  0  0  0  0  0  0  0  0\\n    0.6625   -0.8586    0.1609 N   0  0  0  0  0  0  0  0  0  0  0  0\\n   -1.3961   -1.5168   -0.1055 H   0  0  0  0  0  0  0  0  0  0  0  0\\n   -2.0821    0.9892   -0.0887 H   0  0  0  0  0  0  0  0  0  0  0  0\\n    2.5717    0.0645    0.4201 H   0  0  0  0  0  0  0  0  0  0  0  0\\n  1  2  2  0\\n  2  3  1  0\\n  3  4  1  0\\n  4  5  2  0\\n  5  1  1  0\\n  1  6  1  0\\n  2  7  1  0\\n  4  8  1  0\\nM  END\\n\",\"mol\");\n\tviewer_1716654258940725.setStyle({\"stick\": {}, \"sphere\": {\"scale\": 0.3}});\n\tviewer_1716654258940725.addLabel(\"Thiazole RDKit Molecule\",{\"position\": {\"x\": -2, \"y\": -3, \"z\": 0}});\n\tviewer_1716654258940725.zoomTo();\nviewer_1716654258940725.render();\n});\n</script>",
      "text/html": [
       "<div id=\"3dmolviewer_1716654258940725\"  style=\"position: relative; width: 400px; height: 400px;\">\n",
       "        <p id=\"3dmolwarning_1716654258940725\" style=\"background-color:#ffcccc;color:black\">3Dmol.js failed to load for some reason.  Please check your browser console for error messages.<br></p>\n",
       "        </div>\n",
       "<script>\n",
       "\n",
       "var loadScriptAsync = function(uri){\n",
       "  return new Promise((resolve, reject) => {\n",
       "    //this is to ignore the existence of requirejs amd\n",
       "    var savedexports, savedmodule;\n",
       "    if (typeof exports !== 'undefined') savedexports = exports;\n",
       "    else exports = {}\n",
       "    if (typeof module !== 'undefined') savedmodule = module;\n",
       "    else module = {}\n",
       "\n",
       "    var tag = document.createElement('script');\n",
       "    tag.src = uri;\n",
       "    tag.async = true;\n",
       "    tag.onload = () => {\n",
       "        exports = savedexports;\n",
       "        module = savedmodule;\n",
       "        resolve();\n",
       "    };\n",
       "  var firstScriptTag = document.getElementsByTagName('script')[0];\n",
       "  firstScriptTag.parentNode.insertBefore(tag, firstScriptTag);\n",
       "});\n",
       "};\n",
       "\n",
       "if(typeof $3Dmolpromise === 'undefined') {\n",
       "$3Dmolpromise = null;\n",
       "  $3Dmolpromise = loadScriptAsync('https://cdnjs.cloudflare.com/ajax/libs/3Dmol/2.1.0/3Dmol-min.js');\n",
       "}\n",
       "\n",
       "var viewer_1716654258940725 = null;\n",
       "var warn = document.getElementById(\"3dmolwarning_1716654258940725\");\n",
       "if(warn) {\n",
       "    warn.parentNode.removeChild(warn);\n",
       "}\n",
       "$3Dmolpromise.then(function() {\n",
       "viewer_1716654258940725 = $3Dmol.createViewer(document.getElementById(\"3dmolviewer_1716654258940725\"),{backgroundColor:\"white\"});\n",
       "viewer_1716654258940725.zoomTo();\n",
       "\tviewer_1716654258940725.addModel(\"\\n     RDKit          3D\\n\\n  8  8  0  0  0  0  0  0  0  0999 V2000\\n   -0.6300   -0.7321    0.0145 C   0  0  0  0  0  0  0  0  0  0  0  0\\n   -1.0547    0.6017    0.0165 C   0  0  0  0  0  0  0  0  0  0  0  0\\n    0.4360    1.5152    0.2263 S   0  0  0  0  0  0  0  0  0  0  0  0\\n    1.4926   -0.0630    0.2888 C   0  0  0  0  0  0  0  0  0  0  0  0\\n    0.6625   -0.8586    0.1609 N   0  0  0  0  0  0  0  0  0  0  0  0\\n   -1.3961   -1.5168   -0.1055 H   0  0  0  0  0  0  0  0  0  0  0  0\\n   -2.0821    0.9892   -0.0887 H   0  0  0  0  0  0  0  0  0  0  0  0\\n    2.5717    0.0645    0.4201 H   0  0  0  0  0  0  0  0  0  0  0  0\\n  1  2  2  0\\n  2  3  1  0\\n  3  4  1  0\\n  4  5  2  0\\n  5  1  1  0\\n  1  6  1  0\\n  2  7  1  0\\n  4  8  1  0\\nM  END\\n\",\"mol\");\n",
       "\tviewer_1716654258940725.setStyle({\"stick\": {}, \"sphere\": {\"scale\": 0.3}});\n",
       "\tviewer_1716654258940725.addLabel(\"Thiazole RDKit Molecule\",{\"position\": {\"x\": -2, \"y\": -3, \"z\": 0}});\n",
       "\tviewer_1716654258940725.zoomTo();\n",
       "viewer_1716654258940725.render();\n",
       "});\n",
       "</script>"
      ]
     },
     "metadata": {},
     "output_type": "display_data"
    }
   ],
   "source": [
    "\n",
    "# 3D visualization\n",
    "mol_rdkit0 = mol_rdkit                    #crée une nouvelle variable mol_rdkit0 qui est une copie de mol_rdkit.\n",
    "                                           #Cette copie est nécessaire pour la visualisation 3D, car la fonction view3D() modifie l'objet molécule passé en argument.\n",
    "\n",
    "view3D(mol_rdkit0, f'{smi_key} RDKit Molecule')\n"
   ]
  },
  {
   "cell_type": "markdown",
   "id": "4b04441e",
   "metadata": {},
   "source": [
    "Coordonnées XYZ de la molécule a partir de la fonction 'MolToXYZBlock'"
   ]
  },
  {
   "cell_type": "code",
   "execution_count": 8,
   "id": "10b37697-5ed8-41f2-8dfd-c5f2273dbbc2",
   "metadata": {},
   "outputs": [
    {
     "name": "stdout",
     "output_type": "stream",
     "text": [
      "8\n",
      "\n",
      "C     -0.629972   -0.732056    0.014525\n",
      "C     -1.054678    0.601653    0.016497\n",
      "S      0.436004    1.515214    0.226338\n",
      "C      1.492643   -0.063002    0.288846\n",
      "N      0.662480   -0.858628    0.160870\n",
      "H     -1.396102   -1.516840   -0.105550\n",
      "H     -2.082068    0.989155   -0.088716\n",
      "H      2.571693    0.064503    0.420074\n",
      "\n"
     ]
    }
   ],
   "source": [
    "# Convert RDKit molecule to XYZ format \n",
    "mol_xyz0 = Chem.MolToXYZBlock(mol_rdkit)    # Convertir  la molecule format XYZ \n",
    "print(mol_xyz0)"
   ]
  },
  {
   "cell_type": "markdown",
   "id": "c7182143",
   "metadata": {},
   "source": [
    "Preoptimisation de la structure 3D de la molécule avec le champ de force  **MMFF94** de rdkit"
   ]
  },
  {
   "cell_type": "code",
   "execution_count": 9,
   "id": "3c02d1c4-952a-4367-bc08-1e9b281379bd",
   "metadata": {},
   "outputs": [
    {
     "data": {
      "application/3dmoljs_load.v0": "<div id=\"3dmolviewer_17166542603458853\"  style=\"position: relative; width: 400px; height: 400px;\">\n        <p id=\"3dmolwarning_17166542603458853\" style=\"background-color:#ffcccc;color:black\">3Dmol.js failed to load for some reason.  Please check your browser console for error messages.<br></p>\n        </div>\n<script>\n\nvar loadScriptAsync = function(uri){\n  return new Promise((resolve, reject) => {\n    //this is to ignore the existence of requirejs amd\n    var savedexports, savedmodule;\n    if (typeof exports !== 'undefined') savedexports = exports;\n    else exports = {}\n    if (typeof module !== 'undefined') savedmodule = module;\n    else module = {}\n\n    var tag = document.createElement('script');\n    tag.src = uri;\n    tag.async = true;\n    tag.onload = () => {\n        exports = savedexports;\n        module = savedmodule;\n        resolve();\n    };\n  var firstScriptTag = document.getElementsByTagName('script')[0];\n  firstScriptTag.parentNode.insertBefore(tag, firstScriptTag);\n});\n};\n\nif(typeof $3Dmolpromise === 'undefined') {\n$3Dmolpromise = null;\n  $3Dmolpromise = loadScriptAsync('https://cdnjs.cloudflare.com/ajax/libs/3Dmol/2.1.0/3Dmol-min.js');\n}\n\nvar viewer_17166542603458853 = null;\nvar warn = document.getElementById(\"3dmolwarning_17166542603458853\");\nif(warn) {\n    warn.parentNode.removeChild(warn);\n}\n$3Dmolpromise.then(function() {\nviewer_17166542603458853 = $3Dmol.createViewer(document.getElementById(\"3dmolviewer_17166542603458853\"),{backgroundColor:\"white\"});\nviewer_17166542603458853.zoomTo();\n\tviewer_17166542603458853.addModel(\"\\n     RDKit          3D\\n\\n  8  8  0  0  0  0  0  0  0  0999 V2000\\n   -0.6916   -0.7202   -0.0000 C   0  0  0  0  0  0  0  0  0  0  0  0\\n   -0.9547    0.6332    0.0000 C   0  0  0  0  0  0  0  0  0  0  0  0\\n    0.5201    1.5092   -0.0000 S   0  0  0  0  0  0  0  0  0  0  0  0\\n    1.3771    0.0223    0.0000 C   0  0  0  0  0  0  0  0  0  0  0  0\\n    0.6447   -1.0700    0.0000 N   0  0  0  0  0  0  0  0  0  0  0  0\\n   -1.4425   -1.5011   -0.0000 H   0  0  0  0  0  0  0  0  0  0  0  0\\n   -1.9120    1.1336    0.0000 H   0  0  0  0  0  0  0  0  0  0  0  0\\n    2.4589   -0.0071   -0.0000 H   0  0  0  0  0  0  0  0  0  0  0  0\\n  1  2  2  0\\n  2  3  1  0\\n  3  4  1  0\\n  4  5  2  0\\n  5  1  1  0\\n  1  6  1  0\\n  2  7  1  0\\n  4  8  1  0\\nM  END\\n\",\"mol\");\n\tviewer_17166542603458853.setStyle({\"stick\": {}, \"sphere\": {\"scale\": 0.3}});\n\tviewer_17166542603458853.addLabel(\"Thiazole RDKit Molecule MMFF94\",{\"position\": {\"x\": -2, \"y\": -3, \"z\": 0}});\n\tviewer_17166542603458853.zoomTo();\nviewer_17166542603458853.render();\n});\n</script>",
      "text/html": [
       "<div id=\"3dmolviewer_17166542603458853\"  style=\"position: relative; width: 400px; height: 400px;\">\n",
       "        <p id=\"3dmolwarning_17166542603458853\" style=\"background-color:#ffcccc;color:black\">3Dmol.js failed to load for some reason.  Please check your browser console for error messages.<br></p>\n",
       "        </div>\n",
       "<script>\n",
       "\n",
       "var loadScriptAsync = function(uri){\n",
       "  return new Promise((resolve, reject) => {\n",
       "    //this is to ignore the existence of requirejs amd\n",
       "    var savedexports, savedmodule;\n",
       "    if (typeof exports !== 'undefined') savedexports = exports;\n",
       "    else exports = {}\n",
       "    if (typeof module !== 'undefined') savedmodule = module;\n",
       "    else module = {}\n",
       "\n",
       "    var tag = document.createElement('script');\n",
       "    tag.src = uri;\n",
       "    tag.async = true;\n",
       "    tag.onload = () => {\n",
       "        exports = savedexports;\n",
       "        module = savedmodule;\n",
       "        resolve();\n",
       "    };\n",
       "  var firstScriptTag = document.getElementsByTagName('script')[0];\n",
       "  firstScriptTag.parentNode.insertBefore(tag, firstScriptTag);\n",
       "});\n",
       "};\n",
       "\n",
       "if(typeof $3Dmolpromise === 'undefined') {\n",
       "$3Dmolpromise = null;\n",
       "  $3Dmolpromise = loadScriptAsync('https://cdnjs.cloudflare.com/ajax/libs/3Dmol/2.1.0/3Dmol-min.js');\n",
       "}\n",
       "\n",
       "var viewer_17166542603458853 = null;\n",
       "var warn = document.getElementById(\"3dmolwarning_17166542603458853\");\n",
       "if(warn) {\n",
       "    warn.parentNode.removeChild(warn);\n",
       "}\n",
       "$3Dmolpromise.then(function() {\n",
       "viewer_17166542603458853 = $3Dmol.createViewer(document.getElementById(\"3dmolviewer_17166542603458853\"),{backgroundColor:\"white\"});\n",
       "viewer_17166542603458853.zoomTo();\n",
       "\tviewer_17166542603458853.addModel(\"\\n     RDKit          3D\\n\\n  8  8  0  0  0  0  0  0  0  0999 V2000\\n   -0.6916   -0.7202   -0.0000 C   0  0  0  0  0  0  0  0  0  0  0  0\\n   -0.9547    0.6332    0.0000 C   0  0  0  0  0  0  0  0  0  0  0  0\\n    0.5201    1.5092   -0.0000 S   0  0  0  0  0  0  0  0  0  0  0  0\\n    1.3771    0.0223    0.0000 C   0  0  0  0  0  0  0  0  0  0  0  0\\n    0.6447   -1.0700    0.0000 N   0  0  0  0  0  0  0  0  0  0  0  0\\n   -1.4425   -1.5011   -0.0000 H   0  0  0  0  0  0  0  0  0  0  0  0\\n   -1.9120    1.1336    0.0000 H   0  0  0  0  0  0  0  0  0  0  0  0\\n    2.4589   -0.0071   -0.0000 H   0  0  0  0  0  0  0  0  0  0  0  0\\n  1  2  2  0\\n  2  3  1  0\\n  3  4  1  0\\n  4  5  2  0\\n  5  1  1  0\\n  1  6  1  0\\n  2  7  1  0\\n  4  8  1  0\\nM  END\\n\",\"mol\");\n",
       "\tviewer_17166542603458853.setStyle({\"stick\": {}, \"sphere\": {\"scale\": 0.3}});\n",
       "\tviewer_17166542603458853.addLabel(\"Thiazole RDKit Molecule MMFF94\",{\"position\": {\"x\": -2, \"y\": -3, \"z\": 0}});\n",
       "\tviewer_17166542603458853.zoomTo();\n",
       "viewer_17166542603458853.render();\n",
       "});\n",
       "</script>"
      ]
     },
     "metadata": {},
     "output_type": "display_data"
    }
   ],
   "source": [
    "from rdkit.Chem import AllChem\n",
    "\n",
    "# Optimizes the 3D conformation of the molecule using MMFF - Merck Molecular Force Field\n",
    "AllChem.MMFFOptimizeMolecule(mol_rdkit, maxIters=200, mmffVariant=\"MMFF94s\")   # utiliser 200 itérations et la variante MMFF94s\n",
    "\n",
    "#Canonicalize the orientation of the conformation\n",
    "Chem.rdMolTransforms.CanonicalizeMol(mol_rdkit, normalizeCovar=True, ignoreHs=False)\n",
    "\n",
    "# 3D visualization\n",
    "mol_rdkit1 = mol_rdkit\n",
    "view3D(mol_rdkit1, f'{smi_key} RDKit Molecule MMFF94')\n"
   ]
  },
  {
   "cell_type": "markdown",
   "id": "3de5b936",
   "metadata": {},
   "source": [
    "\n",
    "\n",
    "Chem.rdMolTransforms.CanonicalizeMol(mol_rdkit, normalizeCovar=True, ignoreHs=False) :\n",
    "\n",
    "    *Cette ligne canonicalise l'orientation de la conformation 3D de la molécule mol_rdkit.\\\n",
    "    *La canonicalisation aligne la molécule de manière standard, ce qui facilitera les comparaisons et les analyses ultérieures.\\\n",
    "    *L'argument **normalizeCovar=True** indique que les coordonnées doivent être normalisées.\\\n",
    "    *L'argument **ignoreHs=False** indique que les atomes d'hydrogène doivent être pris en compte dans la canonicalisation.\\\n",
    "\n"
   ]
  },
  {
   "cell_type": "code",
   "execution_count": 10,
   "id": "976fa095",
   "metadata": {},
   "outputs": [
    {
     "name": "stdout",
     "output_type": "stream",
     "text": [
      "8\n",
      "\n",
      "C     -0.691649   -0.720224   -0.000001\n",
      "C     -0.954693    0.633220    0.000000\n",
      "S      0.520142    1.509220   -0.000003\n",
      "C      1.377142    0.022332    0.000002\n",
      "N      0.644690   -1.070005    0.000002\n",
      "H     -1.442497   -1.501087   -0.000002\n",
      "H     -1.912037    1.133607    0.000002\n",
      "H      2.458901   -0.007063   -0.000001\n",
      "\n"
     ]
    }
   ],
   "source": [
    "# Convert RDKit molecule to XYZ format \n",
    "mol_xyz0 = Chem.MolToXYZBlock(mol_rdkit)    # Convertir  la molecule format XYZ \n",
    "print(mol_xyz0)"
   ]
  },
  {
   "cell_type": "markdown",
   "id": "e3190b20",
   "metadata": {},
   "source": [
    "Suppression des 2 premieres lignes du resultat xyz"
   ]
  },
  {
   "cell_type": "code",
   "execution_count": 11,
   "id": "6d3d4756-2616-47e5-aa0d-38f9b74cb713",
   "metadata": {},
   "outputs": [
    {
     "name": "stdout",
     "output_type": "stream",
     "text": [
      "C     -0.691649   -0.720224   -0.000001\n",
      "C     -0.954693    0.633220    0.000000\n",
      "S      0.520142    1.509220   -0.000003\n",
      "C      1.377142    0.022332    0.000002\n",
      "N      0.644690   -1.070005    0.000002\n",
      "H     -1.442497   -1.501087   -0.000002\n",
      "H     -1.912037    1.133607    0.000002\n",
      "H      2.458901   -0.007063   -0.000001\n"
     ]
    }
   ],
   "source": [
    "\n",
    "\n",
    "# Remove the first two lines (number of atoms and empty line) from XYZ data\n",
    "mol_xyz1 = '\\n'.join(mol_xyz0.strip().split('\\n')[2:])\n",
    "\n",
    "# Check that the xyz file is valide for the next step (pyscf.gto)\n",
    "print(mol_xyz1)"
   ]
  },
  {
   "cell_type": "code",
   "execution_count": 12,
   "id": "6792fc8f-dacf-48c2-9287-70832078de02",
   "metadata": {},
   "outputs": [],
   "source": [
    "from qiskit_nature.second_q.drivers import PySCFDriver # Nous travaillons avec le driver PySCF\n",
    "\n",
    "# Renseigner la structure de la molécule \n",
    "Thiazole_driver = PySCFDriver(\n",
    "    atom=mol_xyz1, #Coordonnées xyz Thiazole\n",
    "    basis='3-21G', #'def2-SVP', # Ensemble de base\n",
    ")\n",
    "Thiazole_problem = Thiazole_driver.run() "
   ]
  },
  {
   "cell_type": "code",
   "execution_count": 13,
   "id": "97fdd2bc-73ce-4d17-a68c-919429e2caf9",
   "metadata": {},
   "outputs": [
    {
     "name": "stdout",
     "output_type": "stream",
     "text": [
      "Molecule strcuture: Molecule:\n",
      "\tMultiplicity: 1\n",
      "\tCharge: 0\n",
      "\tUnit: Bohr\n",
      "\tGeometry:\n",
      "\t\tC\t(-1.3070271843293004, -1.3610261083387472, -1.8897261245650618e-06)\n",
      "\t\tC\t(-1.8041083030393925, 1.1966123765970884, 0.0)\n",
      "\t\tS\t(0.9829259258835203, 2.8520124617160825, -5.6691783736951854e-06)\n",
      "\t\tC\t(2.6024212146357786, 0.04220136381378696, 3.7794522491301236e-06)\n",
      "\t\tN\t(1.2182875352458498, -2.022016401915239, 3.7794522491301236e-06)\n",
      "\t\tH\t(-2.7259242655067277, -2.836643319144995, -3.7794522491301236e-06)\n",
      "\t\tH\t(-3.6132262700350073, 2.1422067628898263, 3.7794522491301236e-06)\n",
      "\t\tH\t(4.646649457419155, -0.013347135617803032, -1.8897261245650618e-06)\n",
      "\tMasses:\n",
      "\t\tC\t12\n",
      "\t\tC\t12\n",
      "\t\tS\t32\n",
      "\t\tC\t12\n",
      "\t\tN\t14\n",
      "\t\tH\t1\n",
      "\t\tH\t1\n",
      "\t\tH\t1\n",
      "Reference energy (HF): -564.3572532831154\n",
      "Nuclear repulsion energy: 204.83945839928373\n",
      "Hydrogen molecule, basis: 3-21G, Hartree-Fock calculation\n",
      "Number of alpha electrons: 22\n",
      "Number of beta electrons: 22\n",
      "Number of spin orbitals: 110\n",
      "spin orbitals occupation: [1. 1. 1. 1. 1. 1. 1. 1. 1. 1. 1. 1. 1. 1. 1. 1. 1. 1. 1. 1. 1. 1. 0. 0.\n",
      " 0. 0. 0. 0. 0. 0. 0. 0. 0. 0. 0. 0. 0. 0. 0. 0. 0. 0. 0. 0. 0. 0. 0. 0.\n",
      " 0. 0. 0. 0. 0. 0. 0.]\n",
      "Spin orbitals energies: [-91.35965937 -15.51549047 -11.26395685 -11.22941923 -11.22764084\n",
      "  -8.96264263  -6.63718339  -6.63587211  -6.63255926  -1.30734293\n",
      "  -1.09177263  -1.01400635  -0.80686424  -0.78112222  -0.70747619\n",
      "  -0.59628459  -0.57500215  -0.57048682  -0.50950853  -0.42947537\n",
      "  -0.39709866  -0.35431724   0.11105924   0.1907029    0.22324864\n",
      "   0.26516322   0.29425399   0.32107831   0.35325989   0.43638617\n",
      "   0.51752069   0.6092034    0.64295715   0.70593953   0.71017143\n",
      "   0.73738811   0.93056841   0.96759187   0.98251647   1.00211971\n",
      "   1.05769701   1.06776112   1.11650937   1.24091422   1.28166994\n",
      "   1.28922037   1.3696672    1.5043658    1.50982393   1.58852576\n",
      "   1.67500815   1.75694051   1.91602514   2.14183238   2.99566159]\n"
     ]
    }
   ],
   "source": [
    "print(f'Molecule strcuture: {Thiazole_problem.molecule}')\n",
    "print(f'Reference energy (HF): {Thiazole_problem.reference_energy}')\n",
    "print(f'Nuclear repulsion energy: {Thiazole_problem.nuclear_repulsion_energy}')\n",
    "print(f\"Hydrogen molecule, basis: {Thiazole_driver.basis}, Hartree-Fock calculation\")\n",
    "print(f\"Number of alpha electrons: {Thiazole_problem.num_alpha}\")\n",
    "print(f\"Number of beta electrons: {Thiazole_problem.num_beta}\")\n",
    "print(f\"Number of spin orbitals: {Thiazole_problem.num_spin_orbitals}\")\n",
    "print(f\"spin orbitals occupation: {Thiazole_problem.orbital_occupations}\")\n",
    "print(f\"Spin orbitals energies: {Thiazole_problem.orbital_energies}\")"
   ]
  },
  {
   "cell_type": "code",
   "execution_count": 14,
   "id": "7a2f484c",
   "metadata": {},
   "outputs": [
    {
     "name": "stdout",
     "output_type": "stream",
     "text": [
      "HOMO and LUMO index are (21, 22)\n",
      "HOMO and LUMO energies in eV are (-0.3543172354557676, 3.0220757761842485)\n",
      "HOMO-LUMO gap in eV is 12.663538843710372\n"
     ]
    }
   ],
   "source": [
    "# Fermi Level and properties\n",
    "from pyscf.data import nist\n",
    "au2ev = nist.HARTREE2EV\n",
    "\n",
    "print(f\"HOMO and LUMO index are {Thiazole_problem.num_alpha-1, Thiazole_problem.num_alpha}\")\n",
    "print(f\"HOMO and LUMO energies in eV are {Thiazole_problem.orbital_energies[Thiazole_problem.num_alpha-1],Thiazole_problem.orbital_energies[Thiazole_problem.num_alpha] * au2ev}\")\n",
    "print(f\"HOMO-LUMO gap in eV is {abs(Thiazole_problem.orbital_energies[Thiazole_problem.num_alpha-1]-Thiazole_problem.orbital_energies[Thiazole_problem.num_alpha]) * au2ev}\")"
   ]
  },
  {
   "cell_type": "markdown",
   "id": "922c9c4f",
   "metadata": {},
   "source": [
    "Hamiltonien fermionique du Thiazole"
   ]
  },
  {
   "cell_type": "code",
   "execution_count": 15,
   "id": "e2fdcc05",
   "metadata": {},
   "outputs": [
    {
     "ename": "",
     "evalue": "",
     "output_type": "error",
     "traceback": [
      "\u001b[1;31mCannot execute code, session has been disposed. Please try restarting the Kernel."
     ]
    },
    {
     "ename": "",
     "evalue": "",
     "output_type": "error",
     "traceback": [
      "\u001b[1;31mThe Kernel crashed while executing code in the the current cell or a previous cell. Please review the code in the cell(s) to identify a possible cause of the failure. Click <a href='https://aka.ms/vscodeJupyterKernelCrash'>here</a> for more info. View Jupyter <a href='command:jupyter.viewOutput'>log</a> for further details."
     ]
    }
   ],
   "source": [
    "Thiazole_hamiltonian = Thiazole_problem.hamiltonian # Hamiltonien en 1ere quantification\n",
    "Thiazole_fermionic_op = Thiazole_hamiltonian.second_q_op() # Hamiltonien fermionique"
   ]
  },
  {
   "cell_type": "code",
   "execution_count": null,
   "id": "75a5ad45",
   "metadata": {},
   "outputs": [],
   "source": [
    "if len(Thiazole_fermionic_op) <= 20:                                            #Si l'operateur fermionique respecte la condition, l'afficher \n",
    "                                                                           # sinon afficher les 20 premiers termes et le reste sous forme de [...]\n",
    "    print(Thiazole_fermionic_op)                                       \n",
    "else: # print the first 20 terms of the fermionic Hamiltonian operator of the molecule\n",
    "    print(\"\\n\".join(str(Thiazole_fermionic_op).splitlines()[:22] + [\"...\"]))\n"
   ]
  },
  {
   "cell_type": "code",
   "execution_count": null,
   "id": "4521f989",
   "metadata": {},
   "outputs": [],
   "source": [
    "Thiazole_particle_number_op = Thiazole_problem.properties.particle_number.second_q_ops()[\"ParticleNumber\"]\n",
    "print(Thiazole_particle_number_op)"
   ]
  },
  {
   "cell_type": "code",
   "execution_count": null,
   "id": "77e7ec2c",
   "metadata": {},
   "outputs": [],
   "source": []
  }
 ],
 "metadata": {
  "kernelspec": {
   "display_name": "Python 3 (ipykernel)",
   "language": "python",
   "name": "python3"
  },
  "language_info": {
   "codemirror_mode": {
    "name": "ipython",
    "version": 3
   },
   "file_extension": ".py",
   "mimetype": "text/x-python",
   "name": "python",
   "nbconvert_exporter": "python",
   "pygments_lexer": "ipython3",
   "version": "3.11.8"
  }
 },
 "nbformat": 4,
 "nbformat_minor": 5
}
