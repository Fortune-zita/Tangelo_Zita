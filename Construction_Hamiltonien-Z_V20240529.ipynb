{
 "cells": [
  {
   "cell_type": "markdown",
   "metadata": {},
   "source": [
    "### Hamiltonien fermionic"
   ]
  },
  {
   "cell_type": "code",
   "execution_count": 1,
   "metadata": {},
   "outputs": [],
   "source": [
    "from qiskit_nature.second_q.drivers import PySCFDriver # Nous travaillons avec le driver PySCF\n",
    "\n",
    "# Renseigner la structure de la molécule \n",
    "H2_driver = PySCFDriver(\n",
    "    atom=\"H 0 0 0; H 0 0 0.735\", #Coordonnées xyz H2\n",
    "    basis='3-21G', #'def2-SVP', # Ensemble de base\n",
    ")\n",
    "H2_problem = H2_driver.run() # Electronic Structure Problem\n"
   ]
  },
  {
   "cell_type": "code",
   "execution_count": 2,
   "metadata": {},
   "outputs": [],
   "source": [
    "H2_hamiltonian = H2_problem.hamiltonian # Hamiltonien en 1ere quantification\n",
    "H2_fermionic_op = H2_hamiltonian.second_q_op() # Hamiltonien fermionique\n"
   ]
  },
  {
   "cell_type": "code",
   "execution_count": 4,
   "metadata": {},
   "outputs": [
    {
     "name": "stdout",
     "output_type": "stream",
     "text": [
      "Fermionic Operator\n",
      "number spin orbitals=8, number terms=528\n",
      "  -1.2487422554432475 * ( +_0 -_0 )\n",
      "+ -0.16735956952108966 * ( +_0 -_2 )\n",
      "+ -0.5567540613297289 * ( +_1 -_1 )\n",
      "+ -0.20707789056234427 * ( +_1 -_3 )\n",
      "+ -0.1673595695210895 * ( +_2 -_0 )\n",
      "+ -0.09070454289658278 * ( +_2 -_2 )\n",
      "+ -0.20707789056234424 * ( +_3 -_1 )\n",
      "+ 0.32440168730746466 * ( +_3 -_3 )\n",
      "+ -1.2487422554432475 * ( +_4 -_4 )\n",
      "+ -0.16735956952108966 * ( +_4 -_6 )\n",
      "+ -0.5567540613297289 * ( +_5 -_5 )\n",
      "+ -0.20707789056234427 * ( +_5 -_7 )\n",
      "+ -0.1673595695210895 * ( +_6 -_4 )\n",
      "+ -0.09070454289658278 * ( +_6 -_6 )\n",
      "+ -0.20707789056234424 * ( +_7 -_5 )\n",
      "+ 0.32440168730746466 * ( +_7 -_7 )\n",
      "+ 0.32727785201769993 * ( +_0 +_0 -_0 -_0 )\n",
      "+ 0.08367974023919306 * ( +_0 +_0 -_2 -_0 )\n",
      "+ 0.22771178000942122 * ( +_0 +_1 -_1 -_0 )\n",
      "+ 0.07177423650389209 * ( +_0 +_1 -_3 -_0 )\n",
      "...\n"
     ]
    }
   ],
   "source": [
    "if len(H2_fermionic_op) <= 20:\n",
    "    print(H2_fermionic_op)\n",
    "else: # print the first 20 terms of the fermionic Hamiltonian operator of the molecule\n",
    "    print(\"\\n\".join(str(H2_fermionic_op).splitlines()[:22] + [\"...\"]))"
   ]
  },
  {
   "cell_type": "markdown",
   "metadata": {},
   "source": [
    "### Construction du Hamiltonien "
   ]
  },
  {
   "cell_type": "code",
   "execution_count": null,
   "metadata": {},
   "outputs": [],
   "source": [
    "from qiskit_nature.second_q.drivers import PySCFDriver # Nous travaillons avec le driver PySCF\n",
    "\n",
    "# Renseigner la structure de la molécule \n",
    "H2_driver = PySCFDriver(\n",
    "    atom=\"H 0 0 0; H 0 0 0.735\", #Coordonnées xyz H2\n",
    "    basis='3-21G', #'def2-SVP', # Ensemble de base\n",
    ")\n",
    "H2_problem = H2_driver.run() # Electronic Structure Problem"
   ]
  },
  {
   "cell_type": "code",
   "execution_count": 4,
   "metadata": {},
   "outputs": [],
   "source": [
    "\n",
    "import numpy as np\n",
    "from pyscf import ao2mo\n",
    "from qiskit_nature.second_q.operators.symmetric_two_body import fold"
   ]
  },
  {
   "cell_type": "code",
   "execution_count": 5,
   "metadata": {},
   "outputs": [],
   "source": [
    "mf=H2_driver._calc # champs moyen"
   ]
  },
  {
   "cell_type": "code",
   "execution_count": 6,
   "metadata": {},
   "outputs": [],
   "source": [
    "## integrales a 1 electron\n",
    "\n",
    "mo_coeff, mo_coeff_b = H2_driver._expand_mo_object(mf.mo_coeff, array_dimension=3)\n",
    "h1_a = mf.get_hcore()\n",
    "h1_a = np.dot(np.dot(mo_coeff.T, h1_a), mo_coeff)\n",
    "if mo_coeff_b is not None:\n",
    "    h1_b = np.dot(np.dot(mo_coeff_b.T, h1_a), mo_coeff_b)\n",
    "else:\n",
    "    h1_b = None"
   ]
  },
  {
   "cell_type": "code",
   "execution_count": 7,
   "metadata": {},
   "outputs": [],
   "source": [
    "## Intégrale à 2 electrons\n",
    "\n",
    "h2_aa = H2_driver._mol.intor(\"int2e\", aosym=8)\n",
    "h2_aa = fold(ao2mo.full(H2_driver._mol, mo_coeff, aosym=4))\n",
    "if mo_coeff_b is not None:\n",
    "    h2_bb = fold(ao2mo.full(H2_driver._mol, mo_coeff_b, aosym=4))\n",
    "    h2_ba = fold(ao2mo.general(\n",
    "            H2_driver._mol,\n",
    "            [mo_coeff_b, mo_coeff_b, mo_coeff, mo_coeff],\n",
    "            aosym=4,\n",
    "        )\n",
    "    )\n",
    "else:\n",
    "    h2_bb = None\n",
    "    h2_ba = None"
   ]
  },
  {
   "cell_type": "code",
   "execution_count": 8,
   "metadata": {},
   "outputs": [],
   "source": [
    " from qiskit_nature.second_q.hamiltonians import ElectronicEnergy"
   ]
  },
  {
   "cell_type": "code",
   "execution_count": 9,
   "metadata": {},
   "outputs": [],
   "source": [
    "  \n",
    "hamiltonian = ElectronicEnergy.from_raw_integrals(h1_a, h2_aa, h1_b, h2_bb, h2_ba)\n",
    "hamiltonian.nuclear_repulsion_energy = 1.0"
   ]
  },
  {
   "cell_type": "code",
   "execution_count": 10,
   "metadata": {},
   "outputs": [],
   "source": [
    "from qiskit_nature.second_q.operators import PolynomialTensor\n",
    "\n",
    "e_nuc = hamiltonian.nuclear_repulsion_energy\n",
    "hamiltonian.electronic_integrals.alpha += PolynomialTensor({\"\": e_nuc})\n",
    "hamiltonian.nuclear_repulsion_energy = None"
   ]
  },
  {
   "cell_type": "code",
   "execution_count": 11,
   "metadata": {},
   "outputs": [
    {
     "data": {
      "text/plain": [
       "<qiskit_nature.second_q.hamiltonians.electronic_energy.ElectronicEnergy at 0x75e20753ee50>"
      ]
     },
     "execution_count": 11,
     "metadata": {},
     "output_type": "execute_result"
    }
   ],
   "source": [
    "hamiltonian"
   ]
  },
  {
   "cell_type": "code",
   "execution_count": 1,
   "metadata": {},
   "outputs": [],
   "source": []
  },
  {
   "cell_type": "code",
   "execution_count": 12,
   "metadata": {},
   "outputs": [],
   "source": [
    "from qiskit_nature import second_q \n",
    "from qiskit_nature.second_q.operators import ElectronicIntegrals, FermionicOp, PolynomialTensor"
   ]
  },
  {
   "cell_type": "code",
   "execution_count": 38,
   "metadata": {},
   "outputs": [],
   "source": [
    "#FermionicOp.from_polynomial_tensor(H2_driver.electronic_integrals.second_q_coeffs())"
   ]
  },
  {
   "cell_type": "code",
   "execution_count": 13,
   "metadata": {},
   "outputs": [],
   "source": [
    "fermionic_op = hamiltonian.second_q_op() # Hamiltonien fermionique"
   ]
  },
  {
   "cell_type": "code",
   "execution_count": 14,
   "metadata": {},
   "outputs": [
    {
     "name": "stdout",
     "output_type": "stream",
     "text": [
      "Fermionic Operator\n",
      "number spin orbitals=8, number terms=529\n",
      "  1.0\n",
      "+ -1.2487422554432475 * ( +_0 -_0 )\n",
      "+ -0.16735956952109032 * ( +_0 -_2 )\n",
      "+ -0.5567540613297285 * ( +_1 -_1 )\n",
      "+ -0.20707789056234327 * ( +_1 -_3 )\n",
      "+ -0.16735956952109027 * ( +_2 -_0 )\n",
      "+ -0.090704542896583 * ( +_2 -_2 )\n",
      "+ -0.20707789056234346 * ( +_3 -_1 )\n",
      "+ 0.32440168730746477 * ( +_3 -_3 )\n",
      "+ -1.2487422554432475 * ( +_4 -_4 )\n",
      "+ -0.16735956952109032 * ( +_4 -_6 )\n",
      "+ -0.5567540613297285 * ( +_5 -_5 )\n",
      "+ -0.20707789056234327 * ( +_5 -_7 )\n",
      "+ -0.16735956952109027 * ( +_6 -_4 )\n",
      "+ -0.090704542896583 * ( +_6 -_6 )\n",
      "+ -0.20707789056234346 * ( +_7 -_5 )\n",
      "+ 0.32440168730746477 * ( +_7 -_7 )\n",
      "+ 0.32727785201769993 * ( +_0 +_0 -_0 -_0 )\n",
      "+ 0.0836797402391932 * ( +_0 +_0 -_2 -_0 )\n",
      "+ 0.2277117800094211 * ( +_0 +_1 -_1 -_0 )\n",
      "...\n"
     ]
    }
   ],
   "source": [
    "if len(fermionic_op) <= 20:\n",
    "    print(fermionic_op)\n",
    "else: # print the first 20 terms of the fermionic Hamiltonian operator of the molecule\n",
    "    print(\"\\n\".join(str(fermionic_op).splitlines()[:22] + [\"...\"]))"
   ]
  },
  {
   "cell_type": "markdown",
   "metadata": {},
   "source": [
    "Après construction du Hamiltonien on obtiens les memes operateurs fermioniques ,mais avec 529 termes au lieu de 528"
   ]
  },
  {
   "cell_type": "markdown",
   "metadata": {},
   "source": [
    "Autre facon de construire le Hamiltonien"
   ]
  },
  {
   "cell_type": "code",
   "execution_count": 2,
   "metadata": {},
   "outputs": [],
   "source": [
    "from qiskit_nature.second_q.drivers import PySCFDriver # Nous travaillons avec le driver PySCF\n",
    "\n",
    "# Renseigner la structure de la molécule \n",
    "H2_driver = PySCFDriver(\n",
    "    atom=\"H 0 0 0; H 0 0 0.735\", #Coordonnées xyz H2\n",
    "    basis='3-21G', #'def2-SVP', # Ensemble de base\n",
    ")\n",
    "H2_problem = H2_driver.run() # Electronic Structure Problem"
   ]
  },
  {
   "cell_type": "code",
   "execution_count": 3,
   "metadata": {},
   "outputs": [],
   "source": [
    "from qiskit_nature.second_q.formats.qcschema import QCSchema\n",
    "from qiskit_nature.second_q.formats import qcschema_translator\n",
    "\n",
    "qcschema = H2_driver.to_qcschema(include_dipole=True)\n",
    "hamiltonian33 = qcschema_translator._get_mo_hamiltonian_direct(qcschema)"
   ]
  },
  {
   "cell_type": "code",
   "execution_count": 4,
   "metadata": {},
   "outputs": [
    {
     "data": {
      "text/plain": [
       "<qiskit_nature.second_q.hamiltonians.electronic_energy.ElectronicEnergy at 0x7be4d71ba810>"
      ]
     },
     "execution_count": 4,
     "metadata": {},
     "output_type": "execute_result"
    }
   ],
   "source": [
    "hamiltonian33"
   ]
  },
  {
   "cell_type": "code",
   "execution_count": 5,
   "metadata": {},
   "outputs": [],
   "source": [
    "fermionic_op=hamiltonian33.second_q_op()"
   ]
  },
  {
   "cell_type": "code",
   "execution_count": 6,
   "metadata": {},
   "outputs": [
    {
     "name": "stdout",
     "output_type": "stream",
     "text": [
      "Fermionic Operator\n",
      "number spin orbitals=8, number terms=528\n",
      "  0.32727785201770015 * ( +_0 +_0 -_0 -_0 )\n",
      "+ 0.08367974023919308 * ( +_0 +_0 -_2 -_0 )\n",
      "+ 0.2277117800094214 * ( +_0 +_1 -_1 -_0 )\n",
      "+ 0.07177423650389209 * ( +_0 +_1 -_3 -_0 )\n",
      "+ 0.08367974023919308 * ( +_0 +_2 -_0 -_0 )\n",
      "+ 0.2807371312277761 * ( +_0 +_2 -_2 -_0 )\n",
      "+ 0.07177423650389209 * ( +_0 +_3 -_1 -_0 )\n",
      "+ 0.33476307215274814 * ( +_0 +_3 -_3 -_0 )\n",
      "+ 0.32727785201770015 * ( +_0 +_4 -_4 -_0 )\n",
      "+ 0.08367974023919308 * ( +_0 +_4 -_6 -_0 )\n",
      "+ 0.2277117800094214 * ( +_0 +_5 -_5 -_0 )\n",
      "+ 0.07177423650389209 * ( +_0 +_5 -_7 -_0 )\n",
      "+ 0.08367974023919308 * ( +_0 +_6 -_4 -_0 )\n",
      "+ 0.2807371312277761 * ( +_0 +_6 -_6 -_0 )\n",
      "+ 0.07177423650389209 * ( +_0 +_7 -_5 -_0 )\n",
      "+ 0.33476307215274814 * ( +_0 +_7 -_7 -_0 )\n",
      "+ 0.04422158915970546 * ( +_0 +_0 -_1 -_1 )\n",
      "+ 0.040009488695227295 * ( +_0 +_0 -_3 -_1 )\n",
      "+ 0.04422158915970546 * ( +_0 +_1 -_0 -_1 )\n",
      "+ -0.008645079696048438 * ( +_0 +_1 -_2 -_1 )\n",
      "...\n"
     ]
    }
   ],
   "source": [
    "if len(fermionic_op) <= 20:\n",
    "   print(fermionic_op)\n",
    "else:\n",
    "   print(\"\\n\".join(str(fermionic_op).splitlines()[:22]+[\"...\"]))   "
   ]
  },
  {
   "cell_type": "code",
   "execution_count": null,
   "metadata": {},
   "outputs": [],
   "source": [
    "On a à nouveau 28 termes "
   ]
  }
 ],
 "metadata": {
  "kernelspec": {
   "display_name": "base",
   "language": "python",
   "name": "python3"
  },
  "language_info": {
   "codemirror_mode": {
    "name": "ipython",
    "version": 3
   },
   "file_extension": ".py",
   "mimetype": "text/x-python",
   "name": "python",
   "nbconvert_exporter": "python",
   "pygments_lexer": "ipython3",
   "version": "3.11.8"
  },
  "orig_nbformat": 4
 },
 "nbformat": 4,
 "nbformat_minor": 2
}
