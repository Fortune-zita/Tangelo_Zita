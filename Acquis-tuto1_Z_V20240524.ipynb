{
 "cells": [
  {
   "cell_type": "markdown",
   "id": "e08ca35c-7b7a-4055-8e36-e6955a4f2e9d",
   "metadata": {},
   "source": [
    "# PHY4268 Tutorial 1 - Quantum Chemistry Modelling Basis ( Acquis de lecture)\n",
    "\n",
    "1. **F. Z. ATSAFACK FOUELEFACK**, zita.atsafack@facsciences-uy1.cm\n",
    "    * Department of Physics, Faculty of Science, University of Yaounde I\n",
    "  \n"
   ]
  },
  {
   "cell_type": "code",
   "execution_count": 2,
   "id": "d1fe8326-8cd8-45ff-9924-b8c76e9df46c",
   "metadata": {},
   "outputs": [],
   "source": [
    "from pyscf import gto\n",
    "import py3Dmol"
   ]
  },
  {
   "cell_type": "code",
   "execution_count": 3,
   "id": "6a323343-5444-4b7c-905f-6423e79b7c79",
   "metadata": {},
   "outputs": [
    {
     "data": {
      "text/plain": [
       "<pyscf.gto.mole.Mole at 0x747791f7ead0>"
      ]
     },
     "execution_count": 3,
     "metadata": {},
     "output_type": "execute_result"
    }
   ],
   "source": [
    "## definir les coordonnées de la molecule (thiazole)\n",
    "mol_xyz = \"\"\"\n",
    "  C      1.1291      0.0795     -0.5259\n",
    "  C      0.7115     -1.2207     -0.4748\n",
    "  H      2.0789      0.4171     -0.9381\n",
    "  H      1.2719     -2.0822     -0.8377\n",
    "  S     -0.0500      1.1306      0.1514\n",
    "  N     -1.1147     -0.1822      0.5074\n",
    "  C     -0.5926     -1.3347      0.1299\n",
    "  H     -1.1422     -2.2662      0.2851\"\"\"\n",
    "\n",
    "smi_key = 'thiazole'\n",
    "\n",
    "# Define the PySCF molecule object\n",
    "Thiazole_mol=gto.Mole(\n",
    "    atom=mol_xyz,\n",
    "    basis='def2-TZVP',# on defini la base de la molécule\n",
    "    charge=0,      # on defini la charge \n",
    "    spin=0,        #  on defini le spin\n",
    "    unit='Angstrom', # on defini l'unité 'Angstrom' ,on peut aussi definir le 'bohr'\n",
    ")\n",
    "Thiazole_mol.build() # on construit la molécule"
   ]
  },
  {
   "cell_type": "markdown",
   "id": "ca4de36d-139d-4c44-a7d6-72dc201e125b",
   "metadata": {},
   "source": [
    "### Representation 3D de la molécule avec py3Dmol"
   ]
  },
  {
   "cell_type": "code",
   "execution_count": 4,
   "id": "5906f439-79c2-462d-a8e8-4902e9a12dac",
   "metadata": {},
   "outputs": [
    {
     "data": {
      "application/3dmoljs_load.v0": "<div id=\"3dmolviewer_1716977746483465\"  style=\"position: relative; width: 250px; height: 250px;\">\n        <p id=\"3dmolwarning_1716977746483465\" style=\"background-color:#ffcccc;color:black\">3Dmol.js failed to load for some reason.  Please check your browser console for error messages.<br></p>\n        </div>\n<script>\n\nvar loadScriptAsync = function(uri){\n  return new Promise((resolve, reject) => {\n    //this is to ignore the existence of requirejs amd\n    var savedexports, savedmodule;\n    if (typeof exports !== 'undefined') savedexports = exports;\n    else exports = {}\n    if (typeof module !== 'undefined') savedmodule = module;\n    else module = {}\n\n    var tag = document.createElement('script');\n    tag.src = uri;\n    tag.async = true;\n    tag.onload = () => {\n        exports = savedexports;\n        module = savedmodule;\n        resolve();\n    };\n  var firstScriptTag = document.getElementsByTagName('script')[0];\n  firstScriptTag.parentNode.insertBefore(tag, firstScriptTag);\n});\n};\n\nif(typeof $3Dmolpromise === 'undefined') {\n$3Dmolpromise = null;\n  $3Dmolpromise = loadScriptAsync('https://cdnjs.cloudflare.com/ajax/libs/3Dmol/2.1.0/3Dmol-min.js');\n}\n\nvar viewer_1716977746483465 = null;\nvar warn = document.getElementById(\"3dmolwarning_1716977746483465\");\nif(warn) {\n    warn.parentNode.removeChild(warn);\n}\n$3Dmolpromise.then(function() {\nviewer_1716977746483465 = $3Dmol.createViewer(document.getElementById(\"3dmolviewer_1716977746483465\"),{backgroundColor:\"white\"});\nviewer_1716977746483465.zoomTo();\n\tviewer_1716977746483465.addModel(\"8\\nXYZ from PySCF\\nC           1.12910        0.07950       -0.52590\\nC           0.71150       -1.22070       -0.47480\\nH           2.07890        0.41710       -0.93810\\nH           1.27190       -2.08220       -0.83770\\nS          -0.05000        1.13060        0.15140\\nN          -1.11470       -0.18220        0.50740\\nC          -0.59260       -1.33470        0.12990\\nH          -1.14220       -2.26620        0.28510\",\"xyz\");\n\tviewer_1716977746483465.setStyle({\"stick\": {}, \"sphere\": {\"scale\": 0.4}});\n\tviewer_1716977746483465.zoomTo();\nviewer_1716977746483465.render();\n});\n</script>",
      "text/html": [
       "<div id=\"3dmolviewer_1716977746483465\"  style=\"position: relative; width: 250px; height: 250px;\">\n",
       "        <p id=\"3dmolwarning_1716977746483465\" style=\"background-color:#ffcccc;color:black\">3Dmol.js failed to load for some reason.  Please check your browser console for error messages.<br></p>\n",
       "        </div>\n",
       "<script>\n",
       "\n",
       "var loadScriptAsync = function(uri){\n",
       "  return new Promise((resolve, reject) => {\n",
       "    //this is to ignore the existence of requirejs amd\n",
       "    var savedexports, savedmodule;\n",
       "    if (typeof exports !== 'undefined') savedexports = exports;\n",
       "    else exports = {}\n",
       "    if (typeof module !== 'undefined') savedmodule = module;\n",
       "    else module = {}\n",
       "\n",
       "    var tag = document.createElement('script');\n",
       "    tag.src = uri;\n",
       "    tag.async = true;\n",
       "    tag.onload = () => {\n",
       "        exports = savedexports;\n",
       "        module = savedmodule;\n",
       "        resolve();\n",
       "    };\n",
       "  var firstScriptTag = document.getElementsByTagName('script')[0];\n",
       "  firstScriptTag.parentNode.insertBefore(tag, firstScriptTag);\n",
       "});\n",
       "};\n",
       "\n",
       "if(typeof $3Dmolpromise === 'undefined') {\n",
       "$3Dmolpromise = null;\n",
       "  $3Dmolpromise = loadScriptAsync('https://cdnjs.cloudflare.com/ajax/libs/3Dmol/2.1.0/3Dmol-min.js');\n",
       "}\n",
       "\n",
       "var viewer_1716977746483465 = null;\n",
       "var warn = document.getElementById(\"3dmolwarning_1716977746483465\");\n",
       "if(warn) {\n",
       "    warn.parentNode.removeChild(warn);\n",
       "}\n",
       "$3Dmolpromise.then(function() {\n",
       "viewer_1716977746483465 = $3Dmol.createViewer(document.getElementById(\"3dmolviewer_1716977746483465\"),{backgroundColor:\"white\"});\n",
       "viewer_1716977746483465.zoomTo();\n",
       "\tviewer_1716977746483465.addModel(\"8\\nXYZ from PySCF\\nC           1.12910        0.07950       -0.52590\\nC           0.71150       -1.22070       -0.47480\\nH           2.07890        0.41710       -0.93810\\nH           1.27190       -2.08220       -0.83770\\nS          -0.05000        1.13060        0.15140\\nN          -1.11470       -0.18220        0.50740\\nC          -0.59260       -1.33470        0.12990\\nH          -1.14220       -2.26620        0.28510\",\"xyz\");\n",
       "\tviewer_1716977746483465.setStyle({\"stick\": {}, \"sphere\": {\"scale\": 0.4}});\n",
       "\tviewer_1716977746483465.zoomTo();\n",
       "viewer_1716977746483465.render();\n",
       "});\n",
       "</script>"
      ]
     },
     "metadata": {},
     "output_type": "display_data"
    }
   ],
   "source": [
    "\"\"\"_3D representation with py3Dmol\n",
    "\"\"\"\n",
    "# Create a py3Dmol.view object\n",
    "xyz_view = py3Dmol.view(width=250, height=250) # on crée  un objet py3Dmol.view representant la fenetre 3D  ou la molécule sera affiché comme parametre respectifs 'largeur ' et 'hauteur'\n",
    "\n",
    "# Add the molecule model to the view\n",
    "xyz_view.addModel(Thiazole_mol.tostring(format=\"xyz\"),'xyz')# la methode 'tostring()'convertit l'objet moléculaire en une chaine de caractères ( format de sortie est 'xyz')\n",
    "# xyz_view.addModel(mol_xyz,'xyz')\n",
    "\n",
    "# Set the style of representation\n",
    "xyz_view.setStyle({'stick': {}, 'sphere': {'scale': 0.40}}) # on defini le style de représentation de la molécule:\n",
    "# les atomes sont représentés par des bâtonnets (stick) et des sphères (sphere) avec une échelle de 0,40.\n",
    "\n",
    "# Zoom to fit the molecule in the view\n",
    "xyz_view.zoomTo()    # on ajoute l'option de zoom ,pour mieux visualiser la molécule\n",
    "\n",
    "# Show the molecule view\n",
    "xyz_view.show() # On  affiche la fenêtre 3D contenant la représentation de la molécule\n"
   ]
  },
  {
   "cell_type": "markdown",
   "id": "a438eb78-5c20-45b0-8716-a6b21762f6dc",
   "metadata": {},
   "source": [
    "### Impression des propriétés de la molécule"
   ]
  },
  {
   "cell_type": "code",
   "execution_count": 5,
   "id": "aa671d1a-2403-4db3-ac09-b7e0238ec97b",
   "metadata": {},
   "outputs": [
    {
     "name": "stdout",
     "output_type": "stream",
     "text": [
      "Le nombre total d'électrons est 44 et le nombre total d'électrons (alpha, béta) est (22, 22)\n",
      "\n",
      "Les index (0-Based) du (HOMO,LUMO) sont (21, 22)\n",
      "\n",
      "Le nombre d'orbitales atomiques, dans la base def2-TZVP, est 179\n",
      "\n",
      "L'énergie nucléaire vaut 203.5391249740159 Hartrees\n"
     ]
    }
   ],
   "source": [
    "print(f'Le nombre total d\\'électrons est {Thiazole_mol.nelectron} \\\n",
    "et le nombre total d\\'électrons (alpha, béta) est {Thiazole_mol.nelec}\\n')\n",
    "print(f'Les index (0-Based) du (HOMO,LUMO) sont {Thiazole_mol.nelectron//2 -1, Thiazole_mol.nelectron//2}\\n')\n",
    "print(f'Le nombre d\\'orbitales atomiques, dans la base {Thiazole_mol.basis}, est {Thiazole_mol.nao}\\n')\n",
    "print(f'L\\'énergie nucléaire vaut {Thiazole_mol.energy_nuc()} Hartrees')"
   ]
  },
  {
   "cell_type": "markdown",
   "id": "ff44ef84-2eda-4872-a9d6-2ff95e7db768",
   "metadata": {},
   "source": [
    "### Calcul Hartree Fock (HF) "
   ]
  },
  {
   "cell_type": "markdown",
   "id": "db386cc9-f5c6-42b6-b163-053ff1fd9343",
   "metadata": {},
   "source": [
    "Il utilise la fonction de Roothaan-Hall qui jout un rôle essentiel dans la résolution de l'équation de Hartree-Fock pour les systèmes moléculaires\n",
    "\n",
    "$$\\mathbf{FC} = \\mathbf{SC} \\epsilon.$$\n",
    "\n",
    "* $\\mathbf{F}$ est la matrice Fock;\n",
    "* $\\mathbf{C}$ est la matrice des coefficients orbitaux moléculaires;\n",
    "* $\\mathbf{S}$ est la matrice de chevauchement orbitale atomique;\n",
    "* $\\epsilon$ est le vecteur des énergies orbitales moléculaires."
   ]
  },
  {
   "cell_type": "markdown",
   "id": "941125e9-34af-4ffb-b707-289c58dbf7c2",
   "metadata": {},
   "source": [
    "L'équation de Roothaan-Hall est une méthode fondamentale en chimie quantique permettant de résoudre l'équation de Schrödinger pour les systèmes moléculaires. Sa résolution sert principalement à :\n",
    "\n",
    "    Calculer la structure électronique des molécules :\n",
    "        Déterminer les orbitales moléculaires et leur énergie.\n",
    "        Calculer la densité électronique et les charges partielles des atomes.\n",
    "        Prédire les propriétés chimiques et physiques des molécules.\n",
    "\n",
    "\n",
    "$$\\mathbf{FC} = \\mathbf{SC} \\epsilon.$$\n",
    "\n",
    "* $\\mathbf{F}$ est la matrice Fock;\n",
    "* $\\mathbf{C}$ est la matrice des coefficients orbitaux moléculaires;\n",
    "* $\\mathbf{S}$ est la matrice de chevauchement orbitale atomique;\n",
    "* $\\epsilon$ est le vecteur des énergies orbitales moléculaires.\n"
   ]
  },
  {
   "cell_type": "markdown",
   "id": "c6797cbf-b5be-4fe6-9684-fb0f81c6586d",
   "metadata": {},
   "source": [
    "### Création du champ moyen avec scf.RHF()"
   ]
  },
  {
   "cell_type": "code",
   "execution_count": 6,
   "id": "af0b4cdd-331d-4046-b34c-68f85cf40c61",
   "metadata": {},
   "outputs": [],
   "source": [
    "from pyscf import scf # de 'pyscf' on importe 'scf\"\n",
    "\n",
    "mf=scf.RHF(Thiazole_mol) # On utilise l'objet 'RHF' de 'scf' pour faire le calcul du champ moyen"
   ]
  },
  {
   "cell_type": "code",
   "execution_count": 7,
   "id": "96eb4038-1c7c-4edc-9503-db5d4b9c5e56",
   "metadata": {},
   "outputs": [
    {
     "name": "stdout",
     "output_type": "stream",
     "text": [
      "converged SCF energy = -567.370561140446\n"
     ]
    },
    {
     "data": {
      "text/plain": [
       "-567.3705611404457"
      ]
     },
     "execution_count": 7,
     "metadata": {},
     "output_type": "execute_result"
    }
   ],
   "source": [
    "mf.kernel() #  la fonction 'kernel()' permet d'executer ce calcul "
   ]
  },
  {
   "cell_type": "code",
   "execution_count": 8,
   "id": "04330ad7-09d7-473f-83a9-1df86d28b098",
   "metadata": {},
   "outputs": [
    {
     "data": {
      "text/plain": [
       "array([2., 2., 2., 2., 2., 2., 2., 2., 2., 2., 2., 2., 2., 2., 2., 2., 2.,\n",
       "       2., 2., 2., 2., 2., 0., 0., 0., 0., 0., 0., 0., 0., 0., 0., 0., 0.,\n",
       "       0., 0., 0., 0., 0., 0., 0., 0., 0., 0., 0., 0., 0., 0., 0., 0., 0.,\n",
       "       0., 0., 0., 0., 0., 0., 0., 0., 0., 0., 0., 0., 0., 0., 0., 0., 0.,\n",
       "       0., 0., 0., 0., 0., 0., 0., 0., 0., 0., 0., 0., 0., 0., 0., 0., 0.,\n",
       "       0., 0., 0., 0., 0., 0., 0., 0., 0., 0., 0., 0., 0., 0., 0., 0., 0.,\n",
       "       0., 0., 0., 0., 0., 0., 0., 0., 0., 0., 0., 0., 0., 0., 0., 0., 0.,\n",
       "       0., 0., 0., 0., 0., 0., 0., 0., 0., 0., 0., 0., 0., 0., 0., 0., 0.,\n",
       "       0., 0., 0., 0., 0., 0., 0., 0., 0., 0., 0., 0., 0., 0., 0., 0., 0.,\n",
       "       0., 0., 0., 0., 0., 0., 0., 0., 0., 0., 0., 0., 0., 0., 0., 0., 0.,\n",
       "       0., 0., 0., 0., 0., 0., 0., 0., 0.])"
      ]
     },
     "execution_count": 8,
     "metadata": {},
     "output_type": "execute_result"
    }
   ],
   "source": [
    "mf.mo_occ # on obtient  l'occupation des orbitales moléculaires à partir du champ moyen"
   ]
  },
  {
   "cell_type": "code",
   "execution_count": 9,
   "id": "3bb565fb-b06f-4c2c-b8b9-5021bb7a7d1c",
   "metadata": {},
   "outputs": [
    {
     "data": {
      "text/plain": [
       "array([2., 2., 2., 2., 2., 2., 2., 2., 2., 2., 2., 2., 2., 2., 2., 2., 2.,\n",
       "       2., 2., 2., 2., 2., 0., 0., 0., 0., 0., 0., 0., 0., 0., 0., 0., 0.,\n",
       "       0., 0., 0., 0., 0., 0., 0., 0., 0., 0., 0., 0., 0., 0., 0., 0., 0.,\n",
       "       0., 0., 0., 0., 0., 0., 0., 0., 0., 0., 0., 0., 0., 0., 0., 0., 0.,\n",
       "       0., 0., 0., 0., 0., 0., 0., 0., 0., 0., 0., 0., 0., 0., 0., 0., 0.,\n",
       "       0., 0., 0., 0., 0., 0., 0., 0., 0., 0., 0., 0., 0., 0., 0., 0., 0.,\n",
       "       0., 0., 0., 0., 0., 0., 0., 0., 0., 0., 0., 0., 0., 0., 0., 0., 0.,\n",
       "       0., 0., 0., 0., 0., 0., 0., 0., 0., 0., 0., 0., 0., 0., 0., 0., 0.,\n",
       "       0., 0., 0., 0., 0., 0., 0., 0., 0., 0., 0., 0., 0., 0., 0., 0., 0.,\n",
       "       0., 0., 0., 0., 0., 0., 0., 0., 0., 0., 0., 0., 0., 0., 0., 0., 0.,\n",
       "       0., 0., 0., 0., 0., 0., 0., 0., 0.])"
      ]
     },
     "execution_count": 9,
     "metadata": {},
     "output_type": "execute_result"
    }
   ],
   "source": [
    "mf.get_occ() # on affiche l'occupation des orbitales moléculaires"
   ]
  },
  {
   "cell_type": "code",
   "execution_count": 10,
   "id": "c6eb37ab-2695-4070-95f0-fc2f50b6f9a6",
   "metadata": {},
   "outputs": [
    {
     "data": {
      "application/vnd.plotly.v1+json": {
       "config": {
        "plotlyServerURL": "https://plot.ly"
       },
       "data": [
        {
         "hovertemplate": "x=%{x}<br>y=%{y}<extra></extra>",
         "legendgroup": "",
         "line": {
          "color": "#636efa",
          "dash": "solid"
         },
         "marker": {
          "symbol": "circle"
         },
         "mode": "markers+lines",
         "name": "",
         "orientation": "v",
         "showlegend": false,
         "type": "scatter",
         "x": [
          0,
          1,
          2,
          3,
          4,
          5,
          6,
          7,
          8,
          9,
          10,
          11,
          12,
          13,
          14,
          15,
          16,
          17,
          18,
          19,
          20,
          21,
          22,
          23,
          24,
          25,
          26,
          27,
          28,
          29,
          30,
          31,
          32,
          33,
          34,
          35,
          36,
          37,
          38,
          39,
          40,
          41,
          42,
          43,
          44,
          45,
          46,
          47,
          48,
          49,
          50,
          51,
          52,
          53,
          54,
          55,
          56,
          57,
          58,
          59,
          60,
          61,
          62,
          63,
          64,
          65,
          66,
          67,
          68,
          69,
          70,
          71,
          72,
          73,
          74,
          75,
          76,
          77,
          78,
          79,
          80,
          81,
          82,
          83,
          84,
          85,
          86,
          87,
          88,
          89,
          90,
          91,
          92,
          93,
          94,
          95,
          96,
          97,
          98,
          99,
          100,
          101,
          102,
          103,
          104,
          105,
          106,
          107,
          108,
          109,
          110,
          111,
          112,
          113,
          114,
          115,
          116,
          117,
          118,
          119,
          120,
          121,
          122,
          123,
          124,
          125,
          126,
          127,
          128,
          129,
          130,
          131,
          132,
          133,
          134,
          135,
          136,
          137,
          138,
          139,
          140,
          141,
          142,
          143,
          144,
          145,
          146,
          147,
          148,
          149,
          150,
          151,
          152,
          153,
          154,
          155,
          156,
          157,
          158,
          159,
          160,
          161,
          162,
          163,
          164,
          165,
          166,
          167,
          168,
          169,
          170,
          171,
          172,
          173,
          174,
          175,
          176,
          177,
          178
         ],
         "xaxis": "x",
         "y": [
          2,
          2,
          2,
          2,
          2,
          2,
          2,
          2,
          2,
          2,
          2,
          2,
          2,
          2,
          2,
          2,
          2,
          2,
          2,
          2,
          2,
          2,
          0,
          0,
          0,
          0,
          0,
          0,
          0,
          0,
          0,
          0,
          0,
          0,
          0,
          0,
          0,
          0,
          0,
          0,
          0,
          0,
          0,
          0,
          0,
          0,
          0,
          0,
          0,
          0,
          0,
          0,
          0,
          0,
          0,
          0,
          0,
          0,
          0,
          0,
          0,
          0,
          0,
          0,
          0,
          0,
          0,
          0,
          0,
          0,
          0,
          0,
          0,
          0,
          0,
          0,
          0,
          0,
          0,
          0,
          0,
          0,
          0,
          0,
          0,
          0,
          0,
          0,
          0,
          0,
          0,
          0,
          0,
          0,
          0,
          0,
          0,
          0,
          0,
          0,
          0,
          0,
          0,
          0,
          0,
          0,
          0,
          0,
          0,
          0,
          0,
          0,
          0,
          0,
          0,
          0,
          0,
          0,
          0,
          0,
          0,
          0,
          0,
          0,
          0,
          0,
          0,
          0,
          0,
          0,
          0,
          0,
          0,
          0,
          0,
          0,
          0,
          0,
          0,
          0,
          0,
          0,
          0,
          0,
          0,
          0,
          0,
          0,
          0,
          0,
          0,
          0,
          0,
          0,
          0,
          0,
          0,
          0,
          0,
          0,
          0,
          0,
          0,
          0,
          0,
          0,
          0,
          0,
          0,
          0,
          0,
          0,
          0,
          0,
          0,
          0,
          0,
          0,
          0
         ],
         "yaxis": "y"
        }
       ],
       "layout": {
        "legend": {
         "tracegroupgap": 0
        },
        "template": {
         "data": {
          "bar": [
           {
            "error_x": {
             "color": "#2a3f5f"
            },
            "error_y": {
             "color": "#2a3f5f"
            },
            "marker": {
             "line": {
              "color": "#E5ECF6",
              "width": 0.5
             },
             "pattern": {
              "fillmode": "overlay",
              "size": 10,
              "solidity": 0.2
             }
            },
            "type": "bar"
           }
          ],
          "barpolar": [
           {
            "marker": {
             "line": {
              "color": "#E5ECF6",
              "width": 0.5
             },
             "pattern": {
              "fillmode": "overlay",
              "size": 10,
              "solidity": 0.2
             }
            },
            "type": "barpolar"
           }
          ],
          "carpet": [
           {
            "aaxis": {
             "endlinecolor": "#2a3f5f",
             "gridcolor": "white",
             "linecolor": "white",
             "minorgridcolor": "white",
             "startlinecolor": "#2a3f5f"
            },
            "baxis": {
             "endlinecolor": "#2a3f5f",
             "gridcolor": "white",
             "linecolor": "white",
             "minorgridcolor": "white",
             "startlinecolor": "#2a3f5f"
            },
            "type": "carpet"
           }
          ],
          "choropleth": [
           {
            "colorbar": {
             "outlinewidth": 0,
             "ticks": ""
            },
            "type": "choropleth"
           }
          ],
          "contour": [
           {
            "colorbar": {
             "outlinewidth": 0,
             "ticks": ""
            },
            "colorscale": [
             [
              0,
              "#0d0887"
             ],
             [
              0.1111111111111111,
              "#46039f"
             ],
             [
              0.2222222222222222,
              "#7201a8"
             ],
             [
              0.3333333333333333,
              "#9c179e"
             ],
             [
              0.4444444444444444,
              "#bd3786"
             ],
             [
              0.5555555555555556,
              "#d8576b"
             ],
             [
              0.6666666666666666,
              "#ed7953"
             ],
             [
              0.7777777777777778,
              "#fb9f3a"
             ],
             [
              0.8888888888888888,
              "#fdca26"
             ],
             [
              1,
              "#f0f921"
             ]
            ],
            "type": "contour"
           }
          ],
          "contourcarpet": [
           {
            "colorbar": {
             "outlinewidth": 0,
             "ticks": ""
            },
            "type": "contourcarpet"
           }
          ],
          "heatmap": [
           {
            "colorbar": {
             "outlinewidth": 0,
             "ticks": ""
            },
            "colorscale": [
             [
              0,
              "#0d0887"
             ],
             [
              0.1111111111111111,
              "#46039f"
             ],
             [
              0.2222222222222222,
              "#7201a8"
             ],
             [
              0.3333333333333333,
              "#9c179e"
             ],
             [
              0.4444444444444444,
              "#bd3786"
             ],
             [
              0.5555555555555556,
              "#d8576b"
             ],
             [
              0.6666666666666666,
              "#ed7953"
             ],
             [
              0.7777777777777778,
              "#fb9f3a"
             ],
             [
              0.8888888888888888,
              "#fdca26"
             ],
             [
              1,
              "#f0f921"
             ]
            ],
            "type": "heatmap"
           }
          ],
          "heatmapgl": [
           {
            "colorbar": {
             "outlinewidth": 0,
             "ticks": ""
            },
            "colorscale": [
             [
              0,
              "#0d0887"
             ],
             [
              0.1111111111111111,
              "#46039f"
             ],
             [
              0.2222222222222222,
              "#7201a8"
             ],
             [
              0.3333333333333333,
              "#9c179e"
             ],
             [
              0.4444444444444444,
              "#bd3786"
             ],
             [
              0.5555555555555556,
              "#d8576b"
             ],
             [
              0.6666666666666666,
              "#ed7953"
             ],
             [
              0.7777777777777778,
              "#fb9f3a"
             ],
             [
              0.8888888888888888,
              "#fdca26"
             ],
             [
              1,
              "#f0f921"
             ]
            ],
            "type": "heatmapgl"
           }
          ],
          "histogram": [
           {
            "marker": {
             "pattern": {
              "fillmode": "overlay",
              "size": 10,
              "solidity": 0.2
             }
            },
            "type": "histogram"
           }
          ],
          "histogram2d": [
           {
            "colorbar": {
             "outlinewidth": 0,
             "ticks": ""
            },
            "colorscale": [
             [
              0,
              "#0d0887"
             ],
             [
              0.1111111111111111,
              "#46039f"
             ],
             [
              0.2222222222222222,
              "#7201a8"
             ],
             [
              0.3333333333333333,
              "#9c179e"
             ],
             [
              0.4444444444444444,
              "#bd3786"
             ],
             [
              0.5555555555555556,
              "#d8576b"
             ],
             [
              0.6666666666666666,
              "#ed7953"
             ],
             [
              0.7777777777777778,
              "#fb9f3a"
             ],
             [
              0.8888888888888888,
              "#fdca26"
             ],
             [
              1,
              "#f0f921"
             ]
            ],
            "type": "histogram2d"
           }
          ],
          "histogram2dcontour": [
           {
            "colorbar": {
             "outlinewidth": 0,
             "ticks": ""
            },
            "colorscale": [
             [
              0,
              "#0d0887"
             ],
             [
              0.1111111111111111,
              "#46039f"
             ],
             [
              0.2222222222222222,
              "#7201a8"
             ],
             [
              0.3333333333333333,
              "#9c179e"
             ],
             [
              0.4444444444444444,
              "#bd3786"
             ],
             [
              0.5555555555555556,
              "#d8576b"
             ],
             [
              0.6666666666666666,
              "#ed7953"
             ],
             [
              0.7777777777777778,
              "#fb9f3a"
             ],
             [
              0.8888888888888888,
              "#fdca26"
             ],
             [
              1,
              "#f0f921"
             ]
            ],
            "type": "histogram2dcontour"
           }
          ],
          "mesh3d": [
           {
            "colorbar": {
             "outlinewidth": 0,
             "ticks": ""
            },
            "type": "mesh3d"
           }
          ],
          "parcoords": [
           {
            "line": {
             "colorbar": {
              "outlinewidth": 0,
              "ticks": ""
             }
            },
            "type": "parcoords"
           }
          ],
          "pie": [
           {
            "automargin": true,
            "type": "pie"
           }
          ],
          "scatter": [
           {
            "fillpattern": {
             "fillmode": "overlay",
             "size": 10,
             "solidity": 0.2
            },
            "type": "scatter"
           }
          ],
          "scatter3d": [
           {
            "line": {
             "colorbar": {
              "outlinewidth": 0,
              "ticks": ""
             }
            },
            "marker": {
             "colorbar": {
              "outlinewidth": 0,
              "ticks": ""
             }
            },
            "type": "scatter3d"
           }
          ],
          "scattercarpet": [
           {
            "marker": {
             "colorbar": {
              "outlinewidth": 0,
              "ticks": ""
             }
            },
            "type": "scattercarpet"
           }
          ],
          "scattergeo": [
           {
            "marker": {
             "colorbar": {
              "outlinewidth": 0,
              "ticks": ""
             }
            },
            "type": "scattergeo"
           }
          ],
          "scattergl": [
           {
            "marker": {
             "colorbar": {
              "outlinewidth": 0,
              "ticks": ""
             }
            },
            "type": "scattergl"
           }
          ],
          "scattermapbox": [
           {
            "marker": {
             "colorbar": {
              "outlinewidth": 0,
              "ticks": ""
             }
            },
            "type": "scattermapbox"
           }
          ],
          "scatterpolar": [
           {
            "marker": {
             "colorbar": {
              "outlinewidth": 0,
              "ticks": ""
             }
            },
            "type": "scatterpolar"
           }
          ],
          "scatterpolargl": [
           {
            "marker": {
             "colorbar": {
              "outlinewidth": 0,
              "ticks": ""
             }
            },
            "type": "scatterpolargl"
           }
          ],
          "scatterternary": [
           {
            "marker": {
             "colorbar": {
              "outlinewidth": 0,
              "ticks": ""
             }
            },
            "type": "scatterternary"
           }
          ],
          "surface": [
           {
            "colorbar": {
             "outlinewidth": 0,
             "ticks": ""
            },
            "colorscale": [
             [
              0,
              "#0d0887"
             ],
             [
              0.1111111111111111,
              "#46039f"
             ],
             [
              0.2222222222222222,
              "#7201a8"
             ],
             [
              0.3333333333333333,
              "#9c179e"
             ],
             [
              0.4444444444444444,
              "#bd3786"
             ],
             [
              0.5555555555555556,
              "#d8576b"
             ],
             [
              0.6666666666666666,
              "#ed7953"
             ],
             [
              0.7777777777777778,
              "#fb9f3a"
             ],
             [
              0.8888888888888888,
              "#fdca26"
             ],
             [
              1,
              "#f0f921"
             ]
            ],
            "type": "surface"
           }
          ],
          "table": [
           {
            "cells": {
             "fill": {
              "color": "#EBF0F8"
             },
             "line": {
              "color": "white"
             }
            },
            "header": {
             "fill": {
              "color": "#C8D4E3"
             },
             "line": {
              "color": "white"
             }
            },
            "type": "table"
           }
          ]
         },
         "layout": {
          "annotationdefaults": {
           "arrowcolor": "#2a3f5f",
           "arrowhead": 0,
           "arrowwidth": 1
          },
          "autotypenumbers": "strict",
          "coloraxis": {
           "colorbar": {
            "outlinewidth": 0,
            "ticks": ""
           }
          },
          "colorscale": {
           "diverging": [
            [
             0,
             "#8e0152"
            ],
            [
             0.1,
             "#c51b7d"
            ],
            [
             0.2,
             "#de77ae"
            ],
            [
             0.3,
             "#f1b6da"
            ],
            [
             0.4,
             "#fde0ef"
            ],
            [
             0.5,
             "#f7f7f7"
            ],
            [
             0.6,
             "#e6f5d0"
            ],
            [
             0.7,
             "#b8e186"
            ],
            [
             0.8,
             "#7fbc41"
            ],
            [
             0.9,
             "#4d9221"
            ],
            [
             1,
             "#276419"
            ]
           ],
           "sequential": [
            [
             0,
             "#0d0887"
            ],
            [
             0.1111111111111111,
             "#46039f"
            ],
            [
             0.2222222222222222,
             "#7201a8"
            ],
            [
             0.3333333333333333,
             "#9c179e"
            ],
            [
             0.4444444444444444,
             "#bd3786"
            ],
            [
             0.5555555555555556,
             "#d8576b"
            ],
            [
             0.6666666666666666,
             "#ed7953"
            ],
            [
             0.7777777777777778,
             "#fb9f3a"
            ],
            [
             0.8888888888888888,
             "#fdca26"
            ],
            [
             1,
             "#f0f921"
            ]
           ],
           "sequentialminus": [
            [
             0,
             "#0d0887"
            ],
            [
             0.1111111111111111,
             "#46039f"
            ],
            [
             0.2222222222222222,
             "#7201a8"
            ],
            [
             0.3333333333333333,
             "#9c179e"
            ],
            [
             0.4444444444444444,
             "#bd3786"
            ],
            [
             0.5555555555555556,
             "#d8576b"
            ],
            [
             0.6666666666666666,
             "#ed7953"
            ],
            [
             0.7777777777777778,
             "#fb9f3a"
            ],
            [
             0.8888888888888888,
             "#fdca26"
            ],
            [
             1,
             "#f0f921"
            ]
           ]
          },
          "colorway": [
           "#636efa",
           "#EF553B",
           "#00cc96",
           "#ab63fa",
           "#FFA15A",
           "#19d3f3",
           "#FF6692",
           "#B6E880",
           "#FF97FF",
           "#FECB52"
          ],
          "font": {
           "color": "#2a3f5f"
          },
          "geo": {
           "bgcolor": "white",
           "lakecolor": "white",
           "landcolor": "#E5ECF6",
           "showlakes": true,
           "showland": true,
           "subunitcolor": "white"
          },
          "hoverlabel": {
           "align": "left"
          },
          "hovermode": "closest",
          "mapbox": {
           "style": "light"
          },
          "paper_bgcolor": "white",
          "plot_bgcolor": "#E5ECF6",
          "polar": {
           "angularaxis": {
            "gridcolor": "white",
            "linecolor": "white",
            "ticks": ""
           },
           "bgcolor": "#E5ECF6",
           "radialaxis": {
            "gridcolor": "white",
            "linecolor": "white",
            "ticks": ""
           }
          },
          "scene": {
           "xaxis": {
            "backgroundcolor": "#E5ECF6",
            "gridcolor": "white",
            "gridwidth": 2,
            "linecolor": "white",
            "showbackground": true,
            "ticks": "",
            "zerolinecolor": "white"
           },
           "yaxis": {
            "backgroundcolor": "#E5ECF6",
            "gridcolor": "white",
            "gridwidth": 2,
            "linecolor": "white",
            "showbackground": true,
            "ticks": "",
            "zerolinecolor": "white"
           },
           "zaxis": {
            "backgroundcolor": "#E5ECF6",
            "gridcolor": "white",
            "gridwidth": 2,
            "linecolor": "white",
            "showbackground": true,
            "ticks": "",
            "zerolinecolor": "white"
           }
          },
          "shapedefaults": {
           "line": {
            "color": "#2a3f5f"
           }
          },
          "ternary": {
           "aaxis": {
            "gridcolor": "white",
            "linecolor": "white",
            "ticks": ""
           },
           "baxis": {
            "gridcolor": "white",
            "linecolor": "white",
            "ticks": ""
           },
           "bgcolor": "#E5ECF6",
           "caxis": {
            "gridcolor": "white",
            "linecolor": "white",
            "ticks": ""
           }
          },
          "title": {
           "x": 0.05
          },
          "xaxis": {
           "automargin": true,
           "gridcolor": "white",
           "linecolor": "white",
           "ticks": "",
           "title": {
            "standoff": 15
           },
           "zerolinecolor": "white",
           "zerolinewidth": 2
          },
          "yaxis": {
           "automargin": true,
           "gridcolor": "white",
           "linecolor": "white",
           "ticks": "",
           "title": {
            "standoff": 15
           },
           "zerolinecolor": "white",
           "zerolinewidth": 2
          }
         }
        },
        "title": {
         "text": "Molecular Orbital (MO) Occupations"
        },
        "xaxis": {
         "anchor": "y",
         "domain": [
          0,
          1
         ],
         "title": {
          "text": "Orbital Index (0-Based)"
         }
        },
        "yaxis": {
         "anchor": "x",
         "domain": [
          0,
          1
         ],
         "title": {
          "text": "MO Occupation"
         }
        }
       }
      }
     },
     "metadata": {},
     "output_type": "display_data"
    }
   ],
   "source": [
    "try:\n",
    "    import plotly.express as px  # On importe 'plotly.express' comme 'px'\n",
    "except:                          # s'il n'est pas installé, le programme utilisera les commandes qui suivent pour l'installer  et l'importer respectivement\n",
    "    !pip install plotly\n",
    "    import plotly.express as px\n",
    "\n",
    "# Plot the MO Occupations\n",
    "fig = px.line(y=mf.mo_occ, markers=True, title=\"Molecular Orbital (MO) Occupations\")   # on utilise la fonction px.line() de Plotly express pour tracer un graphique en ligne des occupations des orbitales moléculaires (mf.mo_occ)\n",
    "fig.update_layout(xaxis_title=\"Orbital Index (0-Based)\", yaxis_title=\"MO Occupation\") # utilise 'update_layout' pour personnaliser la mise en page du graphique\n",
    "                                                                                     # yaxis_title=\"MO Occupation\" permet de nommer l'axe des y\n",
    "fig.show()                                                                          # affiche la figure"
   ]
  },
  {
   "cell_type": "code",
   "execution_count": 11,
   "id": "142d05e2-8ce4-4ec6-a5bc-8d1400597acc",
   "metadata": {},
   "outputs": [
    {
     "name": "stdout",
     "output_type": "stream",
     "text": [
      "Les index (0-Based) du (HOMO,LUMO) sont (21, 22)\n"
     ]
    }
   ],
   "source": [
    "lumo_idx = mf.mo_occ.tolist().index(0.) # 'tolist()' converti en liste python la liste des occupations moléculaires recupérées,et trouve l'indice de la première valeur egale à '0' de cette liste\n",
    "                                         #qui correspond a l'indice LUMO  \n",
    "homo_idx = lumo_idx - 1               # Il déduit ensuite l'indice de la dernière orbitale moléculaire occupée (HOMO) en soustrayant 1 de l'indice LUMO.\n",
    "print(f'Les index (0-Based) du (HOMO,LUMO) sont {homo_idx,lumo_idx}') # affiche l'indice du HOMO et LUMO calculé "
   ]
  },
  {
   "cell_type": "code",
   "execution_count": 12,
   "id": "5a96ee99-28d4-43a6-b5d5-e0c0deb4ab0c",
   "metadata": {},
   "outputs": [
    {
     "name": "stdout",
     "output_type": "stream",
     "text": [
      "Energie du Homo = -9.655929108062653 eV\n",
      "Energie de Lumo = 2.462426007020408 eV\n",
      "Energie du gap Homo-Lumo = 12.11835511508306 eV\n"
     ]
    }
   ],
   "source": [
    "from pyscf.data.nist import HARTREE2EV as au2ev # On importe de 'pyscf.data.nist' la fonction'HARTREE2EV' comme 'au2ev (qui permettra de convertir de HARTREE en EV\n",
    "print(f'Energie du Homo = {mf.mo_energy[homo_idx] * au2ev} eV')#Récupère l'énergie de l'orbitale HOMO  en hartree et convertie en ev.\n",
    "print(f'Energie de Lumo = {mf.mo_energy[lumo_idx] * au2ev} eV')#Récupère l'énergie de l'orbitale LUMO  en hartree et convertie en ev.\n",
    "print(f'Energie du gap Homo-Lumo = {abs(mf.mo_energy[homo_idx] - mf.mo_energy[lumo_idx]) * au2ev} eV')#Calcule la différence d'énergie entre le HOMO et le LUMO, en valeur absolue,et affiche l'énergie en eV"
   ]
  },
  {
   "cell_type": "code",
   "execution_count": 13,
   "id": "e1604f88-ab01-49f9-9edc-0dea120ed826",
   "metadata": {},
   "outputs": [
    {
     "data": {
      "application/vnd.plotly.v1+json": {
       "config": {
        "plotlyServerURL": "https://plot.ly"
       },
       "data": [
        {
         "hovertemplate": "x=%{x}<br>y=%{y}<extra></extra>",
         "legendgroup": "",
         "line": {
          "color": "#636efa",
          "dash": "solid"
         },
         "marker": {
          "symbol": "circle"
         },
         "mode": "markers+lines",
         "name": "",
         "orientation": "v",
         "showlegend": false,
         "type": "scatter",
         "x": [
          0,
          1,
          2,
          3,
          4,
          5,
          6,
          7,
          8,
          9,
          10,
          11,
          12,
          13,
          14,
          15,
          16,
          17,
          18,
          19,
          20,
          21,
          22,
          23,
          24,
          25,
          26,
          27,
          28,
          29,
          30,
          31,
          32,
          33,
          34,
          35,
          36,
          37,
          38,
          39,
          40,
          41,
          42,
          43,
          44,
          45,
          46,
          47,
          48,
          49,
          50,
          51,
          52,
          53,
          54,
          55,
          56,
          57,
          58,
          59,
          60,
          61,
          62,
          63,
          64,
          65,
          66,
          67,
          68,
          69,
          70,
          71,
          72,
          73,
          74,
          75,
          76,
          77,
          78,
          79,
          80,
          81,
          82,
          83,
          84,
          85,
          86,
          87,
          88,
          89,
          90,
          91,
          92,
          93,
          94,
          95,
          96,
          97,
          98,
          99,
          100,
          101,
          102,
          103,
          104,
          105,
          106,
          107,
          108,
          109,
          110,
          111,
          112,
          113,
          114,
          115,
          116,
          117,
          118,
          119,
          120,
          121,
          122,
          123,
          124,
          125,
          126,
          127,
          128,
          129,
          130,
          131,
          132,
          133,
          134,
          135,
          136,
          137,
          138,
          139,
          140,
          141,
          142,
          143,
          144,
          145,
          146,
          147,
          148,
          149,
          150,
          151,
          152,
          153,
          154,
          155,
          156,
          157,
          158,
          159,
          160,
          161,
          162,
          163,
          164,
          165,
          166,
          167,
          168,
          169,
          170,
          171,
          172,
          173,
          174,
          175,
          176,
          177,
          178
         ],
         "xaxis": "x",
         "y": [
          -92.00868246844304,
          -15.592935840077438,
          -11.290006558654003,
          -11.286307245908406,
          -11.249911123820313,
          -9.008640017315468,
          -6.68971835340136,
          -6.688868529029135,
          -6.688428572543409,
          -1.2555032611400792,
          -1.0597118973440158,
          -0.9985320332703354,
          -0.7960673968275529,
          -0.7691301712740223,
          -0.6979210397692931,
          -0.5863739779145688,
          -0.5720948793043696,
          -0.5517838363807526,
          -0.4990159744106123,
          -0.4403968128022183,
          -0.3780617336794852,
          -0.35484885264446564,
          0.09049248741723624,
          0.1428433481091055,
          0.16025674970486728,
          0.1738628111395097,
          0.1853706562053803,
          0.19181215654471737,
          0.21975726192020445,
          0.2368463457829134,
          0.28836471276882614,
          0.31716652259880396,
          0.3289391829812881,
          0.3483221239027566,
          0.358397495175343,
          0.3760890881570003,
          0.3826719438528121,
          0.41566589125932235,
          0.4465211472969457,
          0.4798709090054175,
          0.49058682743036763,
          0.4910982210875191,
          0.5200215941668006,
          0.5504899510885372,
          0.5566294741571096,
          0.5588292335173988,
          0.5826699375059711,
          0.5849894447631874,
          0.5981948567321143,
          0.6407856870369598,
          0.6486339456728055,
          0.6982158413194195,
          0.7078022163383815,
          0.7419419204437887,
          0.7911021829468778,
          0.8172998997803241,
          0.8345784226073706,
          0.8570833091895094,
          0.9070512610621666,
          0.9161555472562661,
          1.0102605208704067,
          1.0299911257078551,
          1.0461411407583905,
          1.1260976928759934,
          1.1401439201399854,
          1.151545192708444,
          1.2045889994722419,
          1.2338945468901212,
          1.279385213570526,
          1.298606456899005,
          1.3735020759171026,
          1.3774848725527156,
          1.4299633202425077,
          1.47373864693655,
          1.508367921906715,
          1.523974752436252,
          1.5955715525490457,
          1.6775217845268775,
          1.6923292842589412,
          1.71314365458433,
          1.7275834961409748,
          1.735741868199271,
          1.7706833675447922,
          1.8059048665354294,
          1.809613460744258,
          1.8198596831371714,
          1.830799550744758,
          1.8319195640650965,
          1.8933877952762626,
          1.908554736108536,
          1.9310345196693477,
          1.989891653648001,
          1.9904533753960023,
          2.065225191793184,
          2.0817279573719927,
          2.1123407141366384,
          2.1556575493478425,
          2.184354983056703,
          2.237403942340225,
          2.2483559712373085,
          2.2583374047980307,
          2.313327273971252,
          2.3342328961525363,
          2.369878925277369,
          2.446506794113384,
          2.4720052659278298,
          2.5209957962884397,
          2.5237912175183754,
          2.5725293867938914,
          2.6163553757711133,
          2.7171344099967722,
          2.748504042132304,
          2.7952217210690855,
          2.8247608385286154,
          2.866097200819226,
          2.870291338334505,
          2.9275471901775934,
          2.940453632555613,
          2.97774140738494,
          3.0370912907348604,
          3.048154127516825,
          3.0653164902353227,
          3.1390527521351785,
          3.151344515019118,
          3.208620646848952,
          3.2683010117461175,
          3.287153725595677,
          3.3171377208672745,
          3.3936622216037096,
          3.4054487735749905,
          3.469133702121041,
          3.4701103220090843,
          3.4814030035038495,
          3.518055653051612,
          3.57674073606257,
          3.607189052678696,
          3.6321077272984965,
          3.6605082094936563,
          3.747947427060553,
          3.77379477916209,
          3.791787006892644,
          3.8030240373042177,
          3.8498597540514523,
          3.9098185978564652,
          3.9430385575088325,
          3.9910840441040163,
          4.084333071208329,
          4.1457304364454695,
          4.292277757027774,
          4.419279098730906,
          4.42701188536108,
          4.443753042196828,
          4.506112778131798,
          4.5606108427028405,
          4.641022956375162,
          4.683436210451441,
          4.765631129269577,
          4.8481218272508135,
          4.907990274387267,
          5.070430277433287,
          5.097319705886138,
          5.210349940983069,
          5.215085225931589,
          5.269225703421124,
          5.313574835902318,
          5.451675615230264,
          5.599394784015934,
          5.6780555459622635,
          5.81765719950944,
          5.855718424335942,
          5.980117226710427,
          9.534206649586272,
          9.950236113130588,
          10.060063469289453,
          20.469685095124014,
          23.125528001816665,
          23.60810191640847,
          23.775282122871783,
          33.321240806967474
         ],
         "yaxis": "y"
        }
       ],
       "layout": {
        "legend": {
         "tracegroupgap": 0
        },
        "template": {
         "data": {
          "bar": [
           {
            "error_x": {
             "color": "#2a3f5f"
            },
            "error_y": {
             "color": "#2a3f5f"
            },
            "marker": {
             "line": {
              "color": "#E5ECF6",
              "width": 0.5
             },
             "pattern": {
              "fillmode": "overlay",
              "size": 10,
              "solidity": 0.2
             }
            },
            "type": "bar"
           }
          ],
          "barpolar": [
           {
            "marker": {
             "line": {
              "color": "#E5ECF6",
              "width": 0.5
             },
             "pattern": {
              "fillmode": "overlay",
              "size": 10,
              "solidity": 0.2
             }
            },
            "type": "barpolar"
           }
          ],
          "carpet": [
           {
            "aaxis": {
             "endlinecolor": "#2a3f5f",
             "gridcolor": "white",
             "linecolor": "white",
             "minorgridcolor": "white",
             "startlinecolor": "#2a3f5f"
            },
            "baxis": {
             "endlinecolor": "#2a3f5f",
             "gridcolor": "white",
             "linecolor": "white",
             "minorgridcolor": "white",
             "startlinecolor": "#2a3f5f"
            },
            "type": "carpet"
           }
          ],
          "choropleth": [
           {
            "colorbar": {
             "outlinewidth": 0,
             "ticks": ""
            },
            "type": "choropleth"
           }
          ],
          "contour": [
           {
            "colorbar": {
             "outlinewidth": 0,
             "ticks": ""
            },
            "colorscale": [
             [
              0,
              "#0d0887"
             ],
             [
              0.1111111111111111,
              "#46039f"
             ],
             [
              0.2222222222222222,
              "#7201a8"
             ],
             [
              0.3333333333333333,
              "#9c179e"
             ],
             [
              0.4444444444444444,
              "#bd3786"
             ],
             [
              0.5555555555555556,
              "#d8576b"
             ],
             [
              0.6666666666666666,
              "#ed7953"
             ],
             [
              0.7777777777777778,
              "#fb9f3a"
             ],
             [
              0.8888888888888888,
              "#fdca26"
             ],
             [
              1,
              "#f0f921"
             ]
            ],
            "type": "contour"
           }
          ],
          "contourcarpet": [
           {
            "colorbar": {
             "outlinewidth": 0,
             "ticks": ""
            },
            "type": "contourcarpet"
           }
          ],
          "heatmap": [
           {
            "colorbar": {
             "outlinewidth": 0,
             "ticks": ""
            },
            "colorscale": [
             [
              0,
              "#0d0887"
             ],
             [
              0.1111111111111111,
              "#46039f"
             ],
             [
              0.2222222222222222,
              "#7201a8"
             ],
             [
              0.3333333333333333,
              "#9c179e"
             ],
             [
              0.4444444444444444,
              "#bd3786"
             ],
             [
              0.5555555555555556,
              "#d8576b"
             ],
             [
              0.6666666666666666,
              "#ed7953"
             ],
             [
              0.7777777777777778,
              "#fb9f3a"
             ],
             [
              0.8888888888888888,
              "#fdca26"
             ],
             [
              1,
              "#f0f921"
             ]
            ],
            "type": "heatmap"
           }
          ],
          "heatmapgl": [
           {
            "colorbar": {
             "outlinewidth": 0,
             "ticks": ""
            },
            "colorscale": [
             [
              0,
              "#0d0887"
             ],
             [
              0.1111111111111111,
              "#46039f"
             ],
             [
              0.2222222222222222,
              "#7201a8"
             ],
             [
              0.3333333333333333,
              "#9c179e"
             ],
             [
              0.4444444444444444,
              "#bd3786"
             ],
             [
              0.5555555555555556,
              "#d8576b"
             ],
             [
              0.6666666666666666,
              "#ed7953"
             ],
             [
              0.7777777777777778,
              "#fb9f3a"
             ],
             [
              0.8888888888888888,
              "#fdca26"
             ],
             [
              1,
              "#f0f921"
             ]
            ],
            "type": "heatmapgl"
           }
          ],
          "histogram": [
           {
            "marker": {
             "pattern": {
              "fillmode": "overlay",
              "size": 10,
              "solidity": 0.2
             }
            },
            "type": "histogram"
           }
          ],
          "histogram2d": [
           {
            "colorbar": {
             "outlinewidth": 0,
             "ticks": ""
            },
            "colorscale": [
             [
              0,
              "#0d0887"
             ],
             [
              0.1111111111111111,
              "#46039f"
             ],
             [
              0.2222222222222222,
              "#7201a8"
             ],
             [
              0.3333333333333333,
              "#9c179e"
             ],
             [
              0.4444444444444444,
              "#bd3786"
             ],
             [
              0.5555555555555556,
              "#d8576b"
             ],
             [
              0.6666666666666666,
              "#ed7953"
             ],
             [
              0.7777777777777778,
              "#fb9f3a"
             ],
             [
              0.8888888888888888,
              "#fdca26"
             ],
             [
              1,
              "#f0f921"
             ]
            ],
            "type": "histogram2d"
           }
          ],
          "histogram2dcontour": [
           {
            "colorbar": {
             "outlinewidth": 0,
             "ticks": ""
            },
            "colorscale": [
             [
              0,
              "#0d0887"
             ],
             [
              0.1111111111111111,
              "#46039f"
             ],
             [
              0.2222222222222222,
              "#7201a8"
             ],
             [
              0.3333333333333333,
              "#9c179e"
             ],
             [
              0.4444444444444444,
              "#bd3786"
             ],
             [
              0.5555555555555556,
              "#d8576b"
             ],
             [
              0.6666666666666666,
              "#ed7953"
             ],
             [
              0.7777777777777778,
              "#fb9f3a"
             ],
             [
              0.8888888888888888,
              "#fdca26"
             ],
             [
              1,
              "#f0f921"
             ]
            ],
            "type": "histogram2dcontour"
           }
          ],
          "mesh3d": [
           {
            "colorbar": {
             "outlinewidth": 0,
             "ticks": ""
            },
            "type": "mesh3d"
           }
          ],
          "parcoords": [
           {
            "line": {
             "colorbar": {
              "outlinewidth": 0,
              "ticks": ""
             }
            },
            "type": "parcoords"
           }
          ],
          "pie": [
           {
            "automargin": true,
            "type": "pie"
           }
          ],
          "scatter": [
           {
            "fillpattern": {
             "fillmode": "overlay",
             "size": 10,
             "solidity": 0.2
            },
            "type": "scatter"
           }
          ],
          "scatter3d": [
           {
            "line": {
             "colorbar": {
              "outlinewidth": 0,
              "ticks": ""
             }
            },
            "marker": {
             "colorbar": {
              "outlinewidth": 0,
              "ticks": ""
             }
            },
            "type": "scatter3d"
           }
          ],
          "scattercarpet": [
           {
            "marker": {
             "colorbar": {
              "outlinewidth": 0,
              "ticks": ""
             }
            },
            "type": "scattercarpet"
           }
          ],
          "scattergeo": [
           {
            "marker": {
             "colorbar": {
              "outlinewidth": 0,
              "ticks": ""
             }
            },
            "type": "scattergeo"
           }
          ],
          "scattergl": [
           {
            "marker": {
             "colorbar": {
              "outlinewidth": 0,
              "ticks": ""
             }
            },
            "type": "scattergl"
           }
          ],
          "scattermapbox": [
           {
            "marker": {
             "colorbar": {
              "outlinewidth": 0,
              "ticks": ""
             }
            },
            "type": "scattermapbox"
           }
          ],
          "scatterpolar": [
           {
            "marker": {
             "colorbar": {
              "outlinewidth": 0,
              "ticks": ""
             }
            },
            "type": "scatterpolar"
           }
          ],
          "scatterpolargl": [
           {
            "marker": {
             "colorbar": {
              "outlinewidth": 0,
              "ticks": ""
             }
            },
            "type": "scatterpolargl"
           }
          ],
          "scatterternary": [
           {
            "marker": {
             "colorbar": {
              "outlinewidth": 0,
              "ticks": ""
             }
            },
            "type": "scatterternary"
           }
          ],
          "surface": [
           {
            "colorbar": {
             "outlinewidth": 0,
             "ticks": ""
            },
            "colorscale": [
             [
              0,
              "#0d0887"
             ],
             [
              0.1111111111111111,
              "#46039f"
             ],
             [
              0.2222222222222222,
              "#7201a8"
             ],
             [
              0.3333333333333333,
              "#9c179e"
             ],
             [
              0.4444444444444444,
              "#bd3786"
             ],
             [
              0.5555555555555556,
              "#d8576b"
             ],
             [
              0.6666666666666666,
              "#ed7953"
             ],
             [
              0.7777777777777778,
              "#fb9f3a"
             ],
             [
              0.8888888888888888,
              "#fdca26"
             ],
             [
              1,
              "#f0f921"
             ]
            ],
            "type": "surface"
           }
          ],
          "table": [
           {
            "cells": {
             "fill": {
              "color": "#EBF0F8"
             },
             "line": {
              "color": "white"
             }
            },
            "header": {
             "fill": {
              "color": "#C8D4E3"
             },
             "line": {
              "color": "white"
             }
            },
            "type": "table"
           }
          ]
         },
         "layout": {
          "annotationdefaults": {
           "arrowcolor": "#2a3f5f",
           "arrowhead": 0,
           "arrowwidth": 1
          },
          "autotypenumbers": "strict",
          "coloraxis": {
           "colorbar": {
            "outlinewidth": 0,
            "ticks": ""
           }
          },
          "colorscale": {
           "diverging": [
            [
             0,
             "#8e0152"
            ],
            [
             0.1,
             "#c51b7d"
            ],
            [
             0.2,
             "#de77ae"
            ],
            [
             0.3,
             "#f1b6da"
            ],
            [
             0.4,
             "#fde0ef"
            ],
            [
             0.5,
             "#f7f7f7"
            ],
            [
             0.6,
             "#e6f5d0"
            ],
            [
             0.7,
             "#b8e186"
            ],
            [
             0.8,
             "#7fbc41"
            ],
            [
             0.9,
             "#4d9221"
            ],
            [
             1,
             "#276419"
            ]
           ],
           "sequential": [
            [
             0,
             "#0d0887"
            ],
            [
             0.1111111111111111,
             "#46039f"
            ],
            [
             0.2222222222222222,
             "#7201a8"
            ],
            [
             0.3333333333333333,
             "#9c179e"
            ],
            [
             0.4444444444444444,
             "#bd3786"
            ],
            [
             0.5555555555555556,
             "#d8576b"
            ],
            [
             0.6666666666666666,
             "#ed7953"
            ],
            [
             0.7777777777777778,
             "#fb9f3a"
            ],
            [
             0.8888888888888888,
             "#fdca26"
            ],
            [
             1,
             "#f0f921"
            ]
           ],
           "sequentialminus": [
            [
             0,
             "#0d0887"
            ],
            [
             0.1111111111111111,
             "#46039f"
            ],
            [
             0.2222222222222222,
             "#7201a8"
            ],
            [
             0.3333333333333333,
             "#9c179e"
            ],
            [
             0.4444444444444444,
             "#bd3786"
            ],
            [
             0.5555555555555556,
             "#d8576b"
            ],
            [
             0.6666666666666666,
             "#ed7953"
            ],
            [
             0.7777777777777778,
             "#fb9f3a"
            ],
            [
             0.8888888888888888,
             "#fdca26"
            ],
            [
             1,
             "#f0f921"
            ]
           ]
          },
          "colorway": [
           "#636efa",
           "#EF553B",
           "#00cc96",
           "#ab63fa",
           "#FFA15A",
           "#19d3f3",
           "#FF6692",
           "#B6E880",
           "#FF97FF",
           "#FECB52"
          ],
          "font": {
           "color": "#2a3f5f"
          },
          "geo": {
           "bgcolor": "white",
           "lakecolor": "white",
           "landcolor": "#E5ECF6",
           "showlakes": true,
           "showland": true,
           "subunitcolor": "white"
          },
          "hoverlabel": {
           "align": "left"
          },
          "hovermode": "closest",
          "mapbox": {
           "style": "light"
          },
          "paper_bgcolor": "white",
          "plot_bgcolor": "#E5ECF6",
          "polar": {
           "angularaxis": {
            "gridcolor": "white",
            "linecolor": "white",
            "ticks": ""
           },
           "bgcolor": "#E5ECF6",
           "radialaxis": {
            "gridcolor": "white",
            "linecolor": "white",
            "ticks": ""
           }
          },
          "scene": {
           "xaxis": {
            "backgroundcolor": "#E5ECF6",
            "gridcolor": "white",
            "gridwidth": 2,
            "linecolor": "white",
            "showbackground": true,
            "ticks": "",
            "zerolinecolor": "white"
           },
           "yaxis": {
            "backgroundcolor": "#E5ECF6",
            "gridcolor": "white",
            "gridwidth": 2,
            "linecolor": "white",
            "showbackground": true,
            "ticks": "",
            "zerolinecolor": "white"
           },
           "zaxis": {
            "backgroundcolor": "#E5ECF6",
            "gridcolor": "white",
            "gridwidth": 2,
            "linecolor": "white",
            "showbackground": true,
            "ticks": "",
            "zerolinecolor": "white"
           }
          },
          "shapedefaults": {
           "line": {
            "color": "#2a3f5f"
           }
          },
          "ternary": {
           "aaxis": {
            "gridcolor": "white",
            "linecolor": "white",
            "ticks": ""
           },
           "baxis": {
            "gridcolor": "white",
            "linecolor": "white",
            "ticks": ""
           },
           "bgcolor": "#E5ECF6",
           "caxis": {
            "gridcolor": "white",
            "linecolor": "white",
            "ticks": ""
           }
          },
          "title": {
           "x": 0.05
          },
          "xaxis": {
           "automargin": true,
           "gridcolor": "white",
           "linecolor": "white",
           "ticks": "",
           "title": {
            "standoff": 15
           },
           "zerolinecolor": "white",
           "zerolinewidth": 2
          },
          "yaxis": {
           "automargin": true,
           "gridcolor": "white",
           "linecolor": "white",
           "ticks": "",
           "title": {
            "standoff": 15
           },
           "zerolinecolor": "white",
           "zerolinewidth": 2
          }
         }
        },
        "title": {
         "text": "Molecular Orbital (MO) Energies (a.u.)"
        },
        "xaxis": {
         "anchor": "y",
         "domain": [
          0,
          1
         ],
         "title": {
          "text": "Orbital Index (0-Based)"
         }
        },
        "yaxis": {
         "anchor": "x",
         "domain": [
          0,
          1
         ],
         "title": {
          "text": "MO Energies (a.u.)"
         }
        }
       }
      }
     },
     "metadata": {},
     "output_type": "display_data"
    }
   ],
   "source": [
    "# Plot the MO Energies (i.e. eigenvalues of the Fock matrix)\n",
    "fig = px.line(y=mf.mo_energy, markers=True, title=\"Molecular Orbital (MO) Energies (a.u.)\")# crée un objet fig qui représente le graphique à l'aide de la fonction px.line() de la bibliothèque Plotly Express\n",
    "                                                                                           # markers=True : ajoute des marqueurs pour chaque point de données sur le graphique.  \n",
    "fig.update_layout(xaxis_title=\"Orbital Index (0-Based)\", yaxis_title=\"MO Energies (a.u.)\")\n",
    "fig.show()"
   ]
  },
  {
   "cell_type": "markdown",
   "id": "b8bbdb09-4966-4d55-aba7-050f25b65c2d",
   "metadata": {},
   "source": [
    "#### Energie totale SCF"
   ]
  },
  {
   "cell_type": "code",
   "execution_count": 14,
   "id": "e1133766-8e98-40fd-ba80-81e6df291081",
   "metadata": {},
   "outputs": [
    {
     "data": {
      "text/plain": [
       "-567.3705611404457"
      ]
     },
     "execution_count": 14,
     "metadata": {},
     "output_type": "execute_result"
    }
   ],
   "source": [
    "mf.e_tot  # Calcul l'energie totale SCF"
   ]
  },
  {
   "cell_type": "code",
   "execution_count": 15,
   "id": "452cd456-19d2-41db-982a-8707bb2cffa1",
   "metadata": {},
   "outputs": [
    {
     "name": "stdout",
     "output_type": "stream",
     "text": [
      "**** SCF Summaries ****\n",
      "Total Energy =                        -567.370561140445716\n",
      "Nuclear Repulsion Energy =             203.539124974015891\n",
      "One-electron Energy =                -1182.893516081878943\n",
      "Two-electron Energy =                  411.983829967417364\n"
     ]
    }
   ],
   "source": [
    "mf.dump_scf_summary() # On fait la synthese des energies SCF "
   ]
  },
  {
   "cell_type": "code",
   "execution_count": 16,
   "id": "5391d010-d46f-4061-a287-eb517e8baec2",
   "metadata": {},
   "outputs": [
    {
     "data": {
      "text/plain": [
       "{'e1': -1182.893516081879, 'e2': 411.98382996741736, 'nuc': 203.5391249740159}"
      ]
     },
     "execution_count": 16,
     "metadata": {},
     "output_type": "execute_result"
    }
   ],
   "source": [
    "mf.scf_summary # on affiche les principales composantes de l'énergie totale du système calculée par la méthode Hartree-Fock"
   ]
  },
  {
   "cell_type": "markdown",
   "id": "07352ce1-c1b3-4020-8835-ba0a4e20f686",
   "metadata": {},
   "source": [
    "### On affiche les paramètres de calculs du mf"
   ]
  },
  {
   "cell_type": "code",
   "execution_count": 17,
   "id": "0d9c4c99-de9f-4f14-879b-cd42145d96ba",
   "metadata": {},
   "outputs": [
    {
     "name": "stdout",
     "output_type": "stream",
     "text": [
      "\n",
      "\n",
      "******** <class 'pyscf.scf.hf.RHF'> ********\n",
      "method = RHF\n",
      "initial guess = atom\n",
      "damping factor = 0\n",
      "level_shift factor = 0\n",
      "DIIS = <class 'pyscf.scf.diis.CDIIS'>\n",
      "diis_start_cycle = 1\n",
      "diis_space = 8\n",
      "diis_damp = 0\n",
      "SCF conv_tol = 1e-12\n",
      "SCF conv_tol_grad = 1e-08\n",
      "SCF max_cycles = 100\n",
      "direct_scf = True\n",
      "direct_scf_tol = 1e-13\n",
      "chkfile to save SCF result = /tmp/tmpltkub_ze\n",
      "max_memory 4000 MB (current use 279 MB)\n",
      "Initial guess from superposition of atomic densities.\n"
     ]
    },
    {
     "name": "stdout",
     "output_type": "stream",
     "text": [
      "E1 = -1176.7450757219299  E_coul = 403.6569157838239\n",
      "init E= -569.54903496409\n",
      "cond(S) = 45359.41841873373\n",
      "    CPU time for initialize scf     21.42 sec, wall time      9.00 sec\n",
      "  HOMO = -0.344699663784207  LUMO = -0.0898579654351829\n",
      "  mo_energy =\n",
      "[-9.20916190e+01 -1.59210380e+01 -1.16260678e+01 -1.16082133e+01\n",
      " -1.16066085e+01 -9.10150518e+00 -6.77162724e+00 -6.77029622e+00\n",
      " -6.76684400e+00 -1.88347582e+00 -1.47537382e+00 -1.28918397e+00\n",
      " -9.28107818e-01 -8.99833081e-01 -7.51151199e-01 -6.24444950e-01\n",
      " -5.70449236e-01 -5.52428845e-01 -4.60858737e-01 -4.22400877e-01\n",
      " -3.93550127e-01 -3.44699664e-01 -8.98579654e-02 -2.18009224e-02\n",
      "  1.04391958e-02  8.03160201e-02  9.29687004e-02  1.30419879e-01\n",
      "  1.51892324e-01  1.67691165e-01  2.07637821e-01  2.60989786e-01\n",
      "  2.70930804e-01  2.91973677e-01  3.05112945e-01  3.16569387e-01\n",
      "  3.22791029e-01  3.64351384e-01  3.80792020e-01  3.86257519e-01\n",
      "  4.06867824e-01  4.14356639e-01  4.29563694e-01  4.53776080e-01\n",
      "  4.64235656e-01  4.85316718e-01  4.89363852e-01  4.96413403e-01\n",
      "  5.08300547e-01  5.23510835e-01  5.63850760e-01  5.79706607e-01\n",
      "  6.23525267e-01  6.52319825e-01  6.78396386e-01  7.13192494e-01\n",
      "  7.45394854e-01  7.82795966e-01  7.98126777e-01  8.07818944e-01\n",
      "  8.87373817e-01  9.35272971e-01  9.48738404e-01  1.01237522e+00\n",
      "  1.04560334e+00  1.04609951e+00  1.09547996e+00  1.13193020e+00\n",
      "  1.16387017e+00  1.16588113e+00  1.24247773e+00  1.26349939e+00\n",
      "  1.31337465e+00  1.35633391e+00  1.38998964e+00  1.39458934e+00\n",
      "  1.49213943e+00  1.51708097e+00  1.57074923e+00  1.58590844e+00\n",
      "  1.59465970e+00  1.61039955e+00  1.65998385e+00  1.70093231e+00\n",
      "  1.70318492e+00  1.72265942e+00  1.73609565e+00  1.73941320e+00\n",
      "  1.77263413e+00  1.80043074e+00  1.82425670e+00  1.83665786e+00\n",
      "  1.88397907e+00  1.94858066e+00  1.99127743e+00  2.01885277e+00\n",
      "  2.05144849e+00  2.05566638e+00  2.12804180e+00  2.13407914e+00\n",
      "  2.17114314e+00  2.17590640e+00  2.20257121e+00  2.22243608e+00\n",
      "  2.27502066e+00  2.33479853e+00  2.38582053e+00  2.38876070e+00\n",
      "  2.42585388e+00  2.46979697e+00  2.56773945e+00  2.62027927e+00\n",
      "  2.65109446e+00  2.68885123e+00  2.69477256e+00  2.72143094e+00\n",
      "  2.73411895e+00  2.81593934e+00  2.83099193e+00  2.88308531e+00\n",
      "  2.88870263e+00  2.91297507e+00  2.96396165e+00  3.00966160e+00\n",
      "  3.03980162e+00  3.07710374e+00  3.12888404e+00  3.12964277e+00\n",
      "  3.22592421e+00  3.22606043e+00  3.27584704e+00  3.29898818e+00\n",
      "  3.31123255e+00  3.34750127e+00  3.40452590e+00  3.44518250e+00\n",
      "  3.45392371e+00  3.47917551e+00  3.58135470e+00  3.58998553e+00\n",
      "  3.61288093e+00  3.63391435e+00  3.68077547e+00  3.74259907e+00\n",
      "  3.77454344e+00  3.80191485e+00  3.89632915e+00  3.95732607e+00\n",
      "  4.10434798e+00  4.20254676e+00  4.23414992e+00  4.24642591e+00\n",
      "  4.31294868e+00  4.32849054e+00  4.42844325e+00  4.47574308e+00\n",
      "  4.55312519e+00  4.64982806e+00  4.69000373e+00  4.83909509e+00\n",
      "  4.86805074e+00  4.96852309e+00  4.99342552e+00  5.04187147e+00\n",
      "  5.09641009e+00  5.22775195e+00  5.39004634e+00  5.43595338e+00\n",
      "  5.57622606e+00  5.61001290e+00  5.73937870e+00  9.45730495e+00\n",
      "  9.87544451e+00  9.97755679e+00  2.03829956e+01  2.28169310e+01\n",
      "  2.33083372e+01  2.34636674e+01  3.30140379e+01]\n",
      "E1 = -1184.0667914421135  E_coul = 413.2767850704104\n",
      "cycle= 1 E= -567.250881397687  delta_E=  2.3  |g|= 0.616  |ddm|=  2.4\n",
      "    CPU time for cycle= 1      1.30 sec, wall time      0.48 sec\n",
      "  HOMO = -0.310501073700222  LUMO = 0.108862039238933\n",
      "  mo_energy =\n",
      "[-92.12244193 -15.37191289 -11.24375317 -11.17252123 -11.07056677\n",
      "  -9.1061494   -6.78728149  -6.78574637  -6.78571226  -1.19070642\n",
      "  -1.01437901  -0.96428892  -0.76819025  -0.7344749   -0.65795906\n",
      "  -0.52216589  -0.52206093  -0.51174981  -0.49265435  -0.35022786\n",
      "  -0.34034407  -0.31050107   0.10886204   0.12147252   0.1559118\n",
      "   0.17736386   0.19769141   0.2066716    0.21955381   0.24618719\n",
      "   0.3013699    0.3155622    0.34270514   0.34781246   0.36802371\n",
      "   0.39204019   0.39435033   0.41859296   0.45141078   0.48650701\n",
      "   0.4956223    0.50741088   0.52475101   0.55171554   0.56503327\n",
      "   0.57713918   0.58111304   0.60536717   0.61929002   0.67782566\n",
      "   0.68340816   0.72826014   0.7444479    0.75065565   0.806352\n",
      "   0.84675059   0.85058832   0.87082857   0.93354787   0.96020123\n",
      "   1.00624038   1.03741902   1.08173148   1.15452004   1.17248403\n",
      "   1.17277559   1.23082949   1.25313198   1.31122065   1.35242403\n",
      "   1.40624307   1.41933781   1.46473808   1.5000391    1.53407429\n",
      "   1.5632166    1.62183216   1.68915747   1.69981428   1.72405091\n",
      "   1.74475617   1.7649454    1.76510512   1.77279716   1.8048234\n",
      "   1.82149429   1.84430245   1.87236194   1.8877365    1.92199481\n",
      "   1.93856803   1.9785006    2.02061032   2.05760705   2.06321174\n",
      "   2.13364215   2.16304676   2.21019019   2.21556174   2.26117647\n",
      "   2.27501025   2.34938936   2.3646729    2.40655423   2.49457597\n",
      "   2.53114851   2.55068214   2.55421573   2.58363596   2.64759053\n",
      "   2.76029905   2.78384579   2.83039716   2.8445803    2.88177705\n",
      "   2.94636334   2.95375944   2.99700773   3.01691666   3.06599099\n",
      "   3.08997815   3.13095164   3.1789887    3.20722157   3.25767585\n",
      "   3.33356377   3.33811367   3.38170246   3.44098574   3.44795101\n",
      "   3.5185672    3.52134805   3.52859749   3.5700188    3.62580243\n",
      "   3.6456876    3.69091166   3.71752403   3.77471692   3.82270065\n",
      "   3.85945079   3.85966778   3.88135373   3.93913868   3.98744303\n",
      "   4.06580598   4.16385356   4.20980751   4.33810678   4.49890506\n",
      "   4.51629954   4.51760378   4.60210533   4.63026254   4.71054294\n",
      "   4.76625504   4.81679987   4.94275182   4.99264146   5.14384881\n",
      "   5.17699102   5.26809937   5.34791058   5.39762939   5.39839\n",
      "   5.56735013   5.70293427   5.79296958   5.92691681   5.96821778\n",
      "   6.08484928   9.44735457   9.86829924   9.97834206  20.38719865\n",
      "  23.20647203  23.71636896  23.90460938  33.53084412]\n",
      "E1 = -1182.079584279973  E_coul = 411.2090621928549\n",
      "cycle= 2 E= -567.331397113102  delta_E= -0.0805  |g|= 0.375  |ddm|= 0.707\n",
      "    CPU time for cycle= 2      1.29 sec, wall time      0.48 sec\n",
      "  HOMO = -0.353829463824576  LUMO = 0.0801691339128322\n",
      "  mo_energy =\n",
      "[-9.19824682e+01 -1.56378166e+01 -1.13122636e+01 -1.12737014e+01\n",
      " -1.12623658e+01 -8.99150326e+00 -6.67128462e+00 -6.67067092e+00\n",
      " -6.66971407e+00 -1.27309546e+00 -1.06784303e+00 -1.00509823e+00\n",
      " -8.01007636e-01 -7.76408532e-01 -7.04238279e-01 -5.87630924e-01\n",
      " -5.73314128e-01 -5.61411675e-01 -4.90358242e-01 -4.45996196e-01\n",
      " -3.85281664e-01 -3.53829464e-01  8.01691339e-02  1.39198402e-01\n",
      "  1.56429442e-01  1.70582366e-01  1.75599992e-01  1.87326067e-01\n",
      "  2.20141560e-01  2.35050080e-01  2.82277295e-01  3.15440681e-01\n",
      "  3.26917356e-01  3.47833625e-01  3.57986283e-01  3.73529020e-01\n",
      "  3.81375491e-01  4.15021668e-01  4.43599121e-01  4.76495625e-01\n",
      "  4.88721707e-01  4.88902634e-01  5.17858046e-01  5.42017794e-01\n",
      "  5.53789895e-01  5.57823022e-01  5.79286229e-01  5.81211558e-01\n",
      "  5.91757874e-01  6.30624016e-01  6.45566096e-01  6.94270850e-01\n",
      "  7.01307453e-01  7.38782679e-01  7.85451628e-01  8.13449426e-01\n",
      "  8.30067904e-01  8.56818972e-01  9.03020612e-01  9.10896579e-01\n",
      "  1.00961130e+00  1.03134091e+00  1.04010395e+00  1.12180774e+00\n",
      "  1.13872281e+00  1.14972929e+00  1.20099131e+00  1.23312789e+00\n",
      "  1.27570915e+00  1.28964723e+00  1.36955604e+00  1.37077657e+00\n",
      "  1.42633422e+00  1.46955822e+00  1.50343441e+00  1.51421650e+00\n",
      "  1.58839672e+00  1.67402245e+00  1.68666047e+00  1.70730391e+00\n",
      "  1.72136478e+00  1.72655028e+00  1.77450936e+00  1.80672872e+00\n",
      "  1.80999512e+00  1.82023056e+00  1.83027881e+00  1.83177497e+00\n",
      "  1.89550370e+00  1.90351220e+00  1.92796718e+00  1.98500920e+00\n",
      "  1.99094740e+00  2.06121584e+00  2.08647964e+00  2.11036211e+00\n",
      "  2.14874371e+00  2.18129412e+00  2.23411516e+00  2.24529170e+00\n",
      "  2.25872220e+00  2.30941192e+00  2.32530456e+00  2.36342843e+00\n",
      "  2.43612596e+00  2.46199077e+00  2.51258490e+00  2.51616427e+00\n",
      "  2.57224279e+00  2.60826031e+00  2.70737686e+00  2.74533727e+00\n",
      "  2.78707885e+00  2.81882804e+00  2.86035941e+00  2.86415624e+00\n",
      "  2.92326628e+00  2.93708322e+00  2.96856649e+00  3.02744837e+00\n",
      "  3.03835720e+00  3.05758095e+00  3.12768091e+00  3.14240480e+00\n",
      "  3.20119490e+00  3.25790047e+00  3.27824660e+00  3.30519402e+00\n",
      "  3.38589447e+00  3.40087678e+00  3.46001658e+00  3.46539445e+00\n",
      "  3.48088044e+00  3.50713875e+00  3.56936221e+00  3.60077559e+00\n",
      "  3.62386468e+00  3.65227277e+00  3.74454928e+00  3.77092856e+00\n",
      "  3.78806768e+00  3.79256808e+00  3.84710769e+00  3.90268856e+00\n",
      "  3.93755074e+00  3.97954830e+00  4.07020994e+00  4.13912676e+00\n",
      "  4.28077341e+00  4.40015835e+00  4.41462660e+00  4.43429311e+00\n",
      "  4.48779956e+00  4.55198465e+00  4.63708601e+00  4.66675752e+00\n",
      "  4.75944221e+00  4.82952494e+00  4.89127543e+00  5.06063510e+00\n",
      "  5.08913676e+00  5.18965572e+00  5.19980006e+00  5.24467976e+00\n",
      "  5.29593454e+00  5.42997999e+00  5.58060509e+00  5.65127414e+00\n",
      "  5.79138930e+00  5.83208836e+00  5.95906620e+00  9.54826042e+00\n",
      "  9.96577750e+00  1.00743451e+01  2.04829980e+01  2.31273850e+01\n",
      "  2.35964139e+01  2.37628295e+01  3.32787989e+01]\n",
      "E1 = -1182.9478842469873  E_coul = 412.04238963496425\n",
      "cycle= 3 E= -567.366369638007  delta_E= -0.035  |g|= 0.0936  |ddm|= 0.36\n",
      "    CPU time for cycle= 3      1.30 sec, wall time      0.59 sec\n",
      "  HOMO = -0.356802966877495  LUMO = 0.086501285606357\n",
      "  mo_energy =\n",
      "[-9.20134315e+01 -1.55832203e+01 -1.13071218e+01 -1.12861284e+01\n",
      " -1.12623497e+01 -9.01189913e+00 -6.69284905e+00 -6.69200653e+00\n",
      " -6.69158378e+00 -1.25507016e+00 -1.06563811e+00 -1.00070293e+00\n",
      " -7.99076946e-01 -7.70160987e-01 -7.00126890e-01 -5.88595198e-01\n",
      " -5.71564845e-01 -5.54126727e-01 -5.01196313e-01 -4.35758715e-01\n",
      " -3.80006232e-01 -3.56802967e-01  8.65012856e-02  1.40850541e-01\n",
      "  1.59246378e-01  1.73719339e-01  1.83374764e-01  1.92180561e-01\n",
      "  2.17802512e-01  2.35709739e-01  2.89057471e-01  3.16014740e-01\n",
      "  3.27140185e-01  3.47065624e-01  3.57325398e-01  3.75021674e-01\n",
      "  3.81484323e-01  4.14408158e-01  4.46601777e-01  4.78561386e-01\n",
      "  4.87879194e-01  4.89512046e-01  5.18079844e-01  5.51151002e-01\n",
      "  5.55818646e-01  5.56664275e-01  5.81576941e-01  5.84053153e-01\n",
      "  5.98316059e-01  6.40437413e-01  6.49072100e-01  6.95686621e-01\n",
      "  7.08590937e-01  7.40274111e-01  7.91439628e-01  8.15375968e-01\n",
      "  8.33797679e-01  8.55970956e-01  9.05926813e-01  9.14503275e-01\n",
      "  1.00882769e+00  1.02806389e+00  1.04516853e+00  1.12441084e+00\n",
      "  1.13739246e+00  1.14919546e+00  1.20274004e+00  1.23079113e+00\n",
      "  1.27662955e+00  1.29918609e+00  1.37253478e+00  1.37612548e+00\n",
      "  1.42738602e+00  1.47158820e+00  1.50645974e+00  1.52558603e+00\n",
      "  1.59524529e+00  1.67428733e+00  1.69276734e+00  1.71120242e+00\n",
      "  1.72579170e+00  1.73578657e+00  1.76779474e+00  1.80447203e+00\n",
      "  1.80733308e+00  1.81794092e+00  1.82905651e+00  1.82977304e+00\n",
      "  1.89171940e+00  1.90744626e+00  1.92885600e+00  1.98692694e+00\n",
      "  1.98724927e+00  2.06509533e+00  2.07846236e+00  2.10954988e+00\n",
      "  2.15489053e+00  2.18287281e+00  2.23508384e+00  2.24725265e+00\n",
      "  2.25605911e+00  2.31105183e+00  2.33554508e+00  2.36733654e+00\n",
      "  2.44669362e+00  2.47204782e+00  2.52072208e+00  2.52268036e+00\n",
      "  2.56680828e+00  2.61706216e+00  2.71667470e+00  2.74531640e+00\n",
      "  2.79421328e+00  2.82248257e+00  2.86266497e+00  2.86908913e+00\n",
      "  2.92062058e+00  2.93892466e+00  2.97607615e+00  3.03573078e+00\n",
      "  3.04682727e+00  3.06150762e+00  3.13845409e+00  3.14890374e+00\n",
      "  3.20505750e+00  3.26626027e+00  3.28504276e+00  3.31694879e+00\n",
      "  3.39085085e+00  3.40085887e+00  3.46416135e+00  3.46710483e+00\n",
      "  3.47643483e+00  3.51588076e+00  3.57478885e+00  3.60335821e+00\n",
      "  3.63030500e+00  3.65772037e+00  3.74266866e+00  3.76813424e+00\n",
      "  3.78668350e+00  3.80158809e+00  3.84543336e+00  3.90601864e+00\n",
      "  3.94044211e+00  3.99106260e+00  4.08525335e+00  4.14146577e+00\n",
      "  4.28946248e+00  4.42098384e+00  4.42674306e+00  4.44043720e+00\n",
      "  4.50906265e+00  4.55466020e+00  4.63368094e+00  4.68453438e+00\n",
      "  4.75885874e+00  4.85202260e+00  4.90778162e+00  5.06458470e+00\n",
      "  5.09248995e+00  5.20543524e+00  5.22116725e+00  5.27518387e+00\n",
      "  5.31425851e+00  5.45548069e+00  5.60493304e+00  5.68284037e+00\n",
      "  5.82210077e+00  5.85922367e+00  5.98254363e+00  9.53062108e+00\n",
      "  9.94807524e+00  1.00570413e+01  2.04664336e+01  2.31094875e+01\n",
      "  2.36025930e+01  2.37694905e+01  3.33304762e+01]\n",
      "E1 = -1182.9374662457062  E_coul = 412.0284633093191\n",
      "cycle= 4 E= -567.369877962371  delta_E= -0.00351  |g|= 0.0334  |ddm|= 0.168\n",
      "    CPU time for cycle= 4      1.33 sec, wall time      0.70 sec\n",
      "  HOMO = -0.353710272779591  LUMO = 0.0900112158799165\n",
      "  mo_energy =\n",
      "[-9.20124224e+01 -1.55946240e+01 -1.12888550e+01 -1.12832706e+01\n",
      " -1.12455719e+01 -9.01147296e+00 -6.69253918e+00 -6.69166571e+00\n",
      " -6.69130938e+00 -1.25521652e+00 -1.05844484e+00 -9.97927669e-01\n",
      " -7.94942704e-01 -7.68000078e-01 -6.96436965e-01 -5.84578163e-01\n",
      " -5.70650393e-01 -5.52168664e-01 -4.99274016e-01 -4.39527031e-01\n",
      " -3.77769909e-01 -3.53710273e-01  9.00112159e-02  1.41983516e-01\n",
      "  1.61191621e-01  1.74503632e-01  1.85756653e-01  1.92430829e-01\n",
      "  2.19342907e-01  2.37430483e-01  2.89243698e-01  3.17743883e-01\n",
      "  3.29824097e-01  3.48437310e-01  3.58679323e-01  3.76537498e-01\n",
      "  3.83119643e-01  4.15587262e-01  4.46683308e-01  4.80260787e-01\n",
      "  4.91168829e-01  4.91612674e-01  5.20926003e-01  5.51196912e-01\n",
      "  5.57616939e-01  5.58697733e-01  5.81834691e-01  5.85120872e-01\n",
      "  5.98468120e-01  6.42292835e-01  6.47923321e-01  6.99135771e-01\n",
      "  7.08549493e-01  7.42605218e-01  7.91152099e-01  8.18275064e-01\n",
      "  8.34869480e-01  8.57083418e-01  9.07567629e-01  9.17599040e-01\n",
      "  1.01054375e+00  1.02983244e+00  1.04739589e+00  1.12735576e+00\n",
      "  1.14151335e+00  1.15241685e+00  1.20545145e+00  1.23490923e+00\n",
      "  1.28111171e+00  1.29990366e+00  1.37454521e+00  1.37886585e+00\n",
      "  1.43131521e+00  1.47526754e+00  1.50957314e+00  1.52400916e+00\n",
      "  1.59690744e+00  1.67830861e+00  1.69231365e+00  1.71443686e+00\n",
      "  1.72851353e+00  1.73682235e+00  1.76952044e+00  1.80521617e+00\n",
      "  1.80892475e+00  1.81932268e+00  1.83132171e+00  1.83243632e+00\n",
      "  1.89332756e+00  1.90922532e+00  1.93187501e+00  1.98953942e+00\n",
      "  1.99226125e+00  2.06450073e+00  2.07914880e+00  2.11243883e+00\n",
      "  2.15623316e+00  2.18493605e+00  2.23813393e+00  2.24844579e+00\n",
      "  2.25863775e+00  2.31435793e+00  2.33319990e+00  2.37121777e+00\n",
      "  2.44683006e+00  2.47333055e+00  2.52213759e+00  2.52454961e+00\n",
      "  2.57383957e+00  2.61635666e+00  2.71757243e+00  2.75017278e+00\n",
      "  2.79646120e+00  2.82608283e+00  2.86697532e+00  2.87207250e+00\n",
      "  2.92986605e+00  2.94132999e+00  2.97907108e+00  3.03852580e+00\n",
      "  3.04984247e+00  3.06748272e+00  3.14051055e+00  3.15313558e+00\n",
      "  3.21022966e+00  3.26992216e+00  3.28887081e+00  3.31847107e+00\n",
      "  3.39539811e+00  3.40764225e+00  3.47062608e+00  3.47235154e+00\n",
      "  3.48304663e+00  3.51991520e+00  3.57843596e+00  3.60900998e+00\n",
      "  3.63389377e+00  3.66250937e+00  3.74907981e+00  3.77608386e+00\n",
      "  3.79401220e+00  3.80457632e+00  3.85096118e+00  3.91136331e+00\n",
      "  3.94408934e+00  3.99233895e+00  4.08516676e+00  4.14783840e+00\n",
      "  4.29435584e+00  4.42008650e+00  4.42868345e+00  4.44553230e+00\n",
      "  4.50661658e+00  4.56306984e+00  4.64348131e+00  4.68431329e+00\n",
      "  4.76768352e+00  4.84848627e+00  4.90903456e+00  5.07283298e+00\n",
      "  5.09954198e+00  5.21218858e+00  5.21487364e+00  5.26857001e+00\n",
      "  5.31470507e+00  5.45162616e+00  5.59974432e+00  5.67778470e+00\n",
      "  5.81739216e+00  5.85503638e+00  5.98008984e+00  9.53116470e+00\n",
      "  9.94812366e+00  1.00577364e+01  2.04672417e+01  2.31288743e+01\n",
      "  2.36102915e+01  2.37780357e+01  3.33196557e+01]\n",
      "E1 = -1182.8934762539857  E_coul = 411.983990970082\n",
      "cycle= 5 E= -567.370360309888  delta_E= -0.000482  |g|= 0.0124  |ddm|= 0.0523\n",
      "    CPU time for cycle= 5      1.48 sec, wall time      0.80 sec\n",
      "  HOMO = -0.354267172712226  LUMO = 0.0900530808182984\n",
      "  mo_energy =\n",
      "[-9.20077627e+01 -1.55905282e+01 -1.12908691e+01 -1.12869980e+01\n",
      " -1.12493143e+01 -9.00818519e+00 -6.68923533e+00 -6.68837901e+00\n",
      " -6.68796610e+00 -1.25490768e+00 -1.05952011e+00 -9.98285779e-01\n",
      " -7.95932521e-01 -7.68915200e-01 -6.97734925e-01 -5.86471162e-01\n",
      " -5.71669946e-01 -5.51867051e-01 -4.98890017e-01 -4.38935305e-01\n",
      " -3.77821060e-01 -3.54267173e-01  9.00530808e-02  1.43086705e-01\n",
      "  1.60302870e-01  1.73808220e-01  1.85202784e-01  1.91859658e-01\n",
      "  2.19902662e-01  2.36939893e-01  2.88504401e-01  3.17155113e-01\n",
      "  3.28904687e-01  3.48368360e-01  3.58448247e-01  3.76015824e-01\n",
      "  3.82785401e-01  4.15762126e-01  4.46829802e-01  4.79995144e-01\n",
      "  4.90579542e-01  4.91132027e-01  5.20113052e-01  5.50546263e-01\n",
      "  5.56593655e-01  5.59032140e-01  5.82785347e-01  5.85225296e-01\n",
      "  5.98393678e-01  6.41096544e-01  6.48923729e-01  6.98422217e-01\n",
      "  7.08014237e-01  7.41996554e-01  7.91437002e-01  8.17342490e-01\n",
      "  8.34741559e-01  8.57234227e-01  9.07363094e-01  9.16213932e-01\n",
      "  1.01069374e+00  1.03015678e+00  1.04627021e+00  1.12616173e+00\n",
      "  1.14020198e+00  1.15153525e+00  1.20470830e+00  1.23384363e+00\n",
      "  1.27946096e+00  1.29870223e+00  1.37373574e+00  1.37757446e+00\n",
      "  1.43008844e+00  1.47385806e+00  1.50843260e+00  1.52441789e+00\n",
      "  1.59574305e+00  1.67763610e+00  1.69295834e+00  1.71318710e+00\n",
      "  1.72797044e+00  1.73588933e+00  1.77062002e+00  1.80605389e+00\n",
      "  1.80963493e+00  1.82009933e+00  1.83082371e+00  1.83179348e+00\n",
      "  1.89378977e+00  1.90875450e+00  1.93118215e+00  1.98990826e+00\n",
      "  1.99064446e+00  2.06557480e+00  2.08139189e+00  2.11250649e+00\n",
      "  2.15564592e+00  2.18463473e+00  2.23744493e+00  2.24852756e+00\n",
      "  2.25831304e+00  2.31347910e+00  2.33475711e+00  2.37005971e+00\n",
      "  2.44738674e+00  2.47233751e+00  2.52126102e+00  2.52400894e+00\n",
      "  2.57248227e+00  2.61704950e+00  2.71777965e+00  2.74862566e+00\n",
      "  2.79544503e+00  2.82486963e+00  2.86615629e+00  2.87066013e+00\n",
      "  2.92763568e+00  2.94071210e+00  2.97783724e+00  3.03722219e+00\n",
      "  3.04839404e+00  3.06538475e+00  3.13911895e+00  3.15142043e+00\n",
      "  3.20869874e+00  3.26832070e+00  3.28710602e+00  3.31717286e+00\n",
      "  3.39370436e+00  3.40548686e+00  3.46925937e+00  3.47009592e+00\n",
      "  3.48121057e+00  3.51817426e+00  3.57658209e+00  3.60715636e+00\n",
      "  3.63217838e+00  3.66068012e+00  3.74810462e+00  3.77378993e+00\n",
      "  3.79180700e+00  3.80315653e+00  3.85003982e+00  3.90991379e+00\n",
      "  3.94332273e+00  3.99134710e+00  4.08487462e+00  4.14591993e+00\n",
      "  4.29221944e+00  4.42001082e+00  4.42747030e+00  4.44375475e+00\n",
      "  4.50713400e+00  4.56077868e+00  4.64114781e+00  4.68423771e+00\n",
      "  4.76574218e+00  4.84917090e+00  4.90858608e+00  5.07056256e+00\n",
      "  5.09749730e+00  5.21040507e+00  5.21685971e+00  5.27088169e+00\n",
      "  5.31429707e+00  5.45298889e+00  5.60087750e+00  5.67895778e+00\n",
      "  5.81862895e+00  5.85669212e+00  5.98104852e+00  9.53425747e+00\n",
      "  9.95080866e+00  1.00604887e+01  2.04700157e+01  2.31253213e+01\n",
      "  2.36076381e+01  2.37751085e+01  3.33235686e+01]\n",
      "E1 = -1182.8850508082448  E_coul = 411.97542494406105\n",
      "cycle= 6 E= -567.370500890168  delta_E= -0.000141  |g|= 0.00612  |ddm|= 0.0318\n",
      "    CPU time for cycle= 6      1.41 sec, wall time      0.70 sec\n",
      "  HOMO = -0.35475993053434  LUMO = 0.0901784580792815\n",
      "  mo_energy =\n",
      "[-9.20095962e+01 -1.55931743e+01 -1.12889314e+01 -1.12874274e+01\n",
      " -1.12496151e+01 -9.00942391e+00 -6.69052235e+00 -6.68966447e+00\n",
      " -6.68923190e+00 -1.25542646e+00 -1.05987359e+00 -9.98528888e-01\n",
      " -7.96087501e-01 -7.69091285e-01 -6.97882434e-01 -5.86407068e-01\n",
      " -5.72045519e-01 -5.51975586e-01 -4.99399571e-01 -4.40136695e-01\n",
      " -3.78142215e-01 -3.54759931e-01  9.01784581e-02  1.42667049e-01\n",
      "  1.60246834e-01  1.73834667e-01  1.85348059e-01  1.91875744e-01\n",
      "  2.19612445e-01  2.36825986e-01  2.88511764e-01  3.17084675e-01\n",
      "  3.28967001e-01  3.48230487e-01  3.58311108e-01  3.76104673e-01\n",
      "  3.82652596e-01  4.15606082e-01  4.46496040e-01  4.79763770e-01\n",
      "  4.90507321e-01  4.90994698e-01  5.19933491e-01  5.50638985e-01\n",
      "  5.56611290e-01  5.58628965e-01  5.82399589e-01  5.84986495e-01\n",
      "  5.98259354e-01  6.41013076e-01  6.48562986e-01  6.98186994e-01\n",
      "  7.07898455e-01  7.41797579e-01  7.91089115e-01  8.17300618e-01\n",
      "  8.34508475e-01  8.56943030e-01  9.06988583e-01  9.16277645e-01\n",
      "  1.01015265e+00  1.02973967e+00  1.04617228e+00  1.12615169e+00\n",
      "  1.14007594e+00  1.15142423e+00  1.20455386e+00  1.23375270e+00\n",
      "  1.27940120e+00  1.29879027e+00  1.37351379e+00  1.37760078e+00\n",
      "  1.42993612e+00  1.47367608e+00  1.50833749e+00  1.52406984e+00\n",
      "  1.59564497e+00  1.67739436e+00  1.69233337e+00  1.71308365e+00\n",
      "  1.72761388e+00  1.73586170e+00  1.77022116e+00  1.80560637e+00\n",
      "  1.80923611e+00  1.81958719e+00  1.83067109e+00  1.83181407e+00\n",
      "  1.89319024e+00  1.90844811e+00  1.93085602e+00  1.98956932e+00\n",
      "  1.99060068e+00  2.06500554e+00  2.08110792e+00  2.11214024e+00\n",
      "  2.15559311e+00  2.18432198e+00  2.23714307e+00  2.24828904e+00\n",
      "  2.25806527e+00  2.31329423e+00  2.33409172e+00  2.36986208e+00\n",
      "  2.44660163e+00  2.47213791e+00  2.52111497e+00  2.52372248e+00\n",
      "  2.57217731e+00  2.61623930e+00  2.71707044e+00  2.74841194e+00\n",
      "  2.79525531e+00  2.82464825e+00  2.86590009e+00  2.87061459e+00\n",
      "  2.92747860e+00  2.94034684e+00  2.97778559e+00  3.03708143e+00\n",
      "  3.04823831e+00  3.06545497e+00  3.13926079e+00  3.15140651e+00\n",
      "  3.20853057e+00  3.26847028e+00  3.28721716e+00  3.31734623e+00\n",
      "  3.39373060e+00  3.40541949e+00  3.46919480e+00  3.47004178e+00\n",
      "  3.48120910e+00  3.51814774e+00  3.57677053e+00  3.60709474e+00\n",
      "  3.63224191e+00  3.66055285e+00  3.74763246e+00  3.77368659e+00\n",
      "  3.79176047e+00  3.80316402e+00  3.84958308e+00  3.90966180e+00\n",
      "  3.94286179e+00  3.99123878e+00  4.08443966e+00  4.14574178e+00\n",
      "  4.29236568e+00  4.41947989e+00  4.42730835e+00  4.44373674e+00\n",
      "  4.50620809e+00  4.56063056e+00  4.64089778e+00  4.68353481e+00\n",
      "  4.76539284e+00  4.84830916e+00  4.90803857e+00  5.07057427e+00\n",
      "  5.09737780e+00  5.21025740e+00  5.21534884e+00  5.26936802e+00\n",
      "  5.31371161e+00  5.45181736e+00  5.59977158e+00  5.67818550e+00\n",
      "  5.81770057e+00  5.85586668e+00  5.98031670e+00  9.53336257e+00\n",
      "  9.94959572e+00  1.00593856e+01  2.04689658e+01  2.31250108e+01\n",
      "  2.36084505e+01  2.37756889e+01  3.33210406e+01]\n",
      "E1 = -1182.8965703573872  E_coul = 411.9868957101215\n",
      "cycle= 7 E= -567.37054967325  delta_E= -4.88e-05  |g|= 0.00303  |ddm|= 0.0178\n",
      "    CPU time for cycle= 7      1.37 sec, wall time      0.55 sec\n",
      "  HOMO = -0.35483211721085  LUMO = 0.0904331750685145\n",
      "  mo_energy =\n",
      "[-9.20088960e+01 -1.55925756e+01 -1.12903457e+01 -1.12863168e+01\n",
      " -1.12499964e+01 -9.00876049e+00 -6.68984891e+00 -6.68899821e+00\n",
      " -6.68856082e+00 -1.25543993e+00 -1.05970479e+00 -9.98559034e-01\n",
      " -7.96109282e-01 -7.69167252e-01 -6.97925829e-01 -5.86461865e-01\n",
      " -5.72081563e-01 -5.51811704e-01 -4.99082128e-01 -4.40245580e-01\n",
      " -3.78048234e-01 -3.54832117e-01  9.04331751e-02  1.42874483e-01\n",
      "  1.60251944e-01  1.73822306e-01  1.85321565e-01  1.91795321e-01\n",
      "  2.19759451e-01  2.36844413e-01  2.88354041e-01  3.17144192e-01\n",
      "  3.28940920e-01  3.48311146e-01  3.58379735e-01  3.76074378e-01\n",
      "  3.82672372e-01  4.15673300e-01  4.46555092e-01  4.79851809e-01\n",
      "  4.90582962e-01  4.91073696e-01  5.20019609e-01  5.50440595e-01\n",
      "  5.56597526e-01  5.58823229e-01  5.82652884e-01  5.85003769e-01\n",
      "  5.98165509e-01  6.40777297e-01  6.48669747e-01  6.98212232e-01\n",
      "  7.07771093e-01  7.41912920e-01  7.91116278e-01  8.17259419e-01\n",
      "  8.34575770e-01  8.57077716e-01  9.07062756e-01  9.16113498e-01\n",
      "  1.01028364e+00  1.02994830e+00  1.04612058e+00  1.12606857e+00\n",
      "  1.14012397e+00  1.15150475e+00  1.20454417e+00  1.23384983e+00\n",
      "  1.27936012e+00  1.29854659e+00  1.37351026e+00  1.37742483e+00\n",
      "  1.42994033e+00  1.47371598e+00  1.50833303e+00  1.52400190e+00\n",
      "  1.59554933e+00  1.67750553e+00  1.69238229e+00  1.71310686e+00\n",
      "  1.72759914e+00  1.73569543e+00  1.77061850e+00  1.80589169e+00\n",
      "  1.80957505e+00  1.81981984e+00  1.83073275e+00  1.83184988e+00\n",
      "  1.89339696e+00  1.90853740e+00  1.93102114e+00  1.98984658e+00\n",
      "  1.99042447e+00  2.06523715e+00  2.08162971e+00  2.11231221e+00\n",
      "  2.15560048e+00  2.18433103e+00  2.23734834e+00  2.24830902e+00\n",
      "  2.25827677e+00  2.31328911e+00  2.33427389e+00  2.36985777e+00\n",
      "  2.44660264e+00  2.47198670e+00  2.52093733e+00  2.52378095e+00\n",
      "  2.57248577e+00  2.61642044e+00  2.71720124e+00  2.74846814e+00\n",
      "  2.79518299e+00  2.82472612e+00  2.86604772e+00  2.87025537e+00\n",
      "  2.92751863e+00  2.94043814e+00  2.97767161e+00  3.03704090e+00\n",
      "  3.04813496e+00  3.06525504e+00  3.13895744e+00  3.15129804e+00\n",
      "  3.20858275e+00  3.26822720e+00  3.28707058e+00  3.31705163e+00\n",
      "  3.39360346e+00  3.40540911e+00  3.46907774e+00  3.47006233e+00\n",
      "  3.48132142e+00  3.51801163e+00  3.57661800e+00  3.60712506e+00\n",
      "  3.63205754e+00  3.66047650e+00  3.74795669e+00  3.77375958e+00\n",
      "  3.79173876e+00  3.80297726e+00  3.84985952e+00  3.90981061e+00\n",
      "  3.94304956e+00  3.99104902e+00  4.08437601e+00  4.14570242e+00\n",
      "  4.29218916e+00  4.41934863e+00  4.42701001e+00  4.44368277e+00\n",
      "  4.50626458e+00  4.56055756e+00  4.64099912e+00  4.68351706e+00\n",
      "  4.76562925e+00  4.84823500e+00  4.90803820e+00  5.07037134e+00\n",
      "  5.09727442e+00  5.21029747e+00  5.21532452e+00  5.26945251e+00\n",
      "  5.31362877e+00  5.45184370e+00  5.59956270e+00  5.67813608e+00\n",
      "  5.81776218e+00  5.85578845e+00  5.98018977e+00  9.53406983e+00\n",
      "  9.95015643e+00  1.00599647e+01  2.04695907e+01  2.31254841e+01\n",
      "  2.36079080e+01  2.37751106e+01  3.33215841e+01]\n",
      "E1 = -1182.8925835665696  E_coul = 411.9828986646679\n",
      "cycle= 8 E= -567.370559927886  delta_E= -1.03e-05  |g|= 0.000994  |ddm|= 0.00884\n",
      "    CPU time for cycle= 8      1.39 sec, wall time      0.54 sec\n",
      "  HOMO = -0.354843872229214  LUMO = 0.0904900139572929\n",
      "  mo_energy =\n",
      "[-9.20085875e+01 -1.55928500e+01 -1.12900641e+01 -1.12864602e+01\n",
      " -1.12497291e+01 -9.00858340e+00 -6.68965970e+00 -6.68880962e+00\n",
      " -6.68837126e+00 -1.25548207e+00 -1.05972099e+00 -9.98517228e-01\n",
      " -7.96078088e-01 -7.69141913e-01 -6.97900603e-01 -5.86385834e-01\n",
      " -5.72070846e-01 -5.51782917e-01 -4.99023895e-01 -4.40348088e-01\n",
      " -3.78070696e-01 -3.54843872e-01  9.04900140e-02  1.42858774e-01\n",
      "  1.60260849e-01  1.73847670e-01  1.85376339e-01  1.91815110e-01\n",
      "  2.19752403e-01  2.36845236e-01  2.88373461e-01  3.17164980e-01\n",
      "  3.28941996e-01  3.48317091e-01  3.58395989e-01  3.76085790e-01\n",
      "  3.82676803e-01  4.15675362e-01  4.46534974e-01  4.79875723e-01\n",
      "  4.90591511e-01  4.91090220e-01  5.20017124e-01  5.50488759e-01\n",
      "  5.56628165e-01  5.58828512e-01  5.82671066e-01  5.85002689e-01\n",
      "  5.98194774e-01  6.40814035e-01  6.48645536e-01  6.98221662e-01\n",
      "  7.07809394e-01  7.41930541e-01  7.91116249e-01  8.17309302e-01\n",
      "  8.34594663e-01  8.57080925e-01  9.07056606e-01  9.16158861e-01\n",
      "  1.01028732e+00  1.02997978e+00  1.04612676e+00  1.12610161e+00\n",
      "  1.14014786e+00  1.15153186e+00  1.20458981e+00  1.23386428e+00\n",
      "  1.27939318e+00  1.29860796e+00  1.37351404e+00  1.37749491e+00\n",
      "  1.42997021e+00  1.47373346e+00  1.50836879e+00  1.52399347e+00\n",
      "  1.59559166e+00  1.67751332e+00  1.69234821e+00  1.71313149e+00\n",
      "  1.72761273e+00  1.73575650e+00  1.77068979e+00  1.80592393e+00\n",
      "  1.80961323e+00  1.81986568e+00  1.83079699e+00  1.83189402e+00\n",
      "  1.89341241e+00  1.90855973e+00  1.93102940e+00  1.98989427e+00\n",
      "  1.99048192e+00  2.06524407e+00  2.08173980e+00  2.11234773e+00\n",
      "  2.15567296e+00  2.18436170e+00  2.23737977e+00  2.24835267e+00\n",
      "  2.25832844e+00  2.31332777e+00  2.33425674e+00  2.36988524e+00\n",
      "  2.44654329e+00  2.47201587e+00  2.52100529e+00  2.52379821e+00\n",
      "  2.57250234e+00  2.61637926e+00  2.71716091e+00  2.74850389e+00\n",
      "  2.79523408e+00  2.82476241e+00  2.86608911e+00  2.87031292e+00\n",
      "  2.92755503e+00  2.94046086e+00  2.97772838e+00  3.03708281e+00\n",
      "  3.04818593e+00  3.06531772e+00  3.13906314e+00  3.15135106e+00\n",
      "  3.20861509e+00  3.26828203e+00  3.28714095e+00  3.31712179e+00\n",
      "  3.39367760e+00  3.40543310e+00  3.46913788e+00  3.47011450e+00\n",
      "  3.48134972e+00  3.51806395e+00  3.57668873e+00  3.60716774e+00\n",
      "  3.63210048e+00  3.66051392e+00  3.74793109e+00  3.77379664e+00\n",
      "  3.79179533e+00  3.80303801e+00  3.84984046e+00  3.90980815e+00\n",
      "  3.94302788e+00  3.99108445e+00  4.08434754e+00  4.14573704e+00\n",
      "  4.29227915e+00  4.41932337e+00  4.42704942e+00  4.44373487e+00\n",
      "  4.50616339e+00  4.56062082e+00  4.64102745e+00  4.68348374e+00\n",
      "  4.76564598e+00  4.84816182e+00  4.90802315e+00  5.07045288e+00\n",
      "  5.09733079e+00  5.21034888e+00  5.21514931e+00  5.26928943e+00\n",
      "  5.31361049e+00  5.45172758e+00  5.59943804e+00  5.67808647e+00\n",
      "  5.81768848e+00  5.85574203e+00  5.98014523e+00  9.53424947e+00\n",
      "  9.95028653e+00  1.00601053e+01  2.04697291e+01  2.31255006e+01\n",
      "  2.36080727e+01  2.37753139e+01  3.33213229e+01]\n",
      "E1 = -1182.8934985243327  E_coul = 411.9838125438775\n",
      "cycle= 9 E= -567.370561006439  delta_E= -1.08e-06  |g|= 0.000337  |ddm|= 0.00344\n",
      "    CPU time for cycle= 9      1.27 sec, wall time      0.52 sec\n",
      "  HOMO = -0.35485768692169  LUMO = 0.0904961743020253\n",
      "  mo_energy =\n",
      "[-9.20086777e+01 -1.55928476e+01 -1.12900113e+01 -1.12863179e+01\n",
      " -1.12499227e+01 -9.00863340e+00 -6.68971131e+00 -6.68886172e+00\n",
      " -6.68842229e+00 -1.25548120e+00 -1.05971074e+00 -9.98529446e-01\n",
      " -7.96072392e-01 -7.69132749e-01 -6.97919296e-01 -5.86381252e-01\n",
      " -5.72083444e-01 -5.51777595e-01 -4.99012762e-01 -4.40351310e-01\n",
      " -3.78056516e-01 -3.54857687e-01  9.04961743e-02  1.42854495e-01\n",
      "  1.60253306e-01  1.73853848e-01  1.85371880e-01  1.91810549e-01\n",
      "  2.19757446e-01  2.36844515e-01  2.88364791e-01  3.17162129e-01\n",
      "  3.28935315e-01  3.48320820e-01  3.58395224e-01  3.76090226e-01\n",
      "  3.82673172e-01  4.15668749e-01  4.46530624e-01  4.79873862e-01\n",
      "  4.90586616e-01  4.91093526e-01  5.20017768e-01  5.50486641e-01\n",
      "  5.56623913e-01  5.58831580e-01  5.82676380e-01  5.84999292e-01\n",
      "  5.98195826e-01  6.40791597e-01  6.48649461e-01  6.98219170e-01\n",
      "  7.07805446e-01  7.41937779e-01  7.91114165e-01  8.17297313e-01\n",
      "  8.34586462e-01  8.57084983e-01  9.07058054e-01  9.16150378e-01\n",
      "  1.01027345e+00  1.02998922e+00  1.04613582e+00  1.12609366e+00\n",
      "  1.14013944e+00  1.15153836e+00  1.20458684e+00  1.23388343e+00\n",
      "  1.27937893e+00  1.29860468e+00  1.37350619e+00  1.37748371e+00\n",
      "  1.42996104e+00  1.47373337e+00  1.50836498e+00  1.52399339e+00\n",
      "  1.59557357e+00  1.67752420e+00  1.69234839e+00  1.71313906e+00\n",
      "  1.72759076e+00  1.73574256e+00  1.77068548e+00  1.80591423e+00\n",
      "  1.80961967e+00  1.81986124e+00  1.83079753e+00  1.83191668e+00\n",
      "  1.89339402e+00  1.90855894e+00  1.93103337e+00  1.98989375e+00\n",
      "  1.99044976e+00  2.06524038e+00  2.08173537e+00  2.11234710e+00\n",
      "  2.15565742e+00  2.18435975e+00  2.23739362e+00  2.24836087e+00\n",
      "  2.25833176e+00  2.31332622e+00  2.33425983e+00  2.36987900e+00\n",
      "  2.44653464e+00  2.47200853e+00  2.52099444e+00  2.52379366e+00\n",
      "  2.57251744e+00  2.61637422e+00  2.71715339e+00  2.74849700e+00\n",
      "  2.79522264e+00  2.82475560e+00  2.86609078e+00  2.87029220e+00\n",
      "  2.92754088e+00  2.94045495e+00  2.97773709e+00  3.03708642e+00\n",
      "  3.04815641e+00  3.06530748e+00  3.13904760e+00  3.15134032e+00\n",
      "  3.20861878e+00  3.26829688e+00  3.28714314e+00  3.31713720e+00\n",
      "  3.39365779e+00  3.40543939e+00  3.46913142e+00  3.47010260e+00\n",
      "  3.48138722e+00  3.51805342e+00  3.57672285e+00  3.60717724e+00\n",
      "  3.63210227e+00  3.66050495e+00  3.74794929e+00  3.77378494e+00\n",
      "  3.79177607e+00  3.80302457e+00  3.84985924e+00  3.90982006e+00\n",
      "  3.94304378e+00  3.99108841e+00  4.08435469e+00  4.14572730e+00\n",
      "  4.29226915e+00  4.41930698e+00  4.42702249e+00  4.44374729e+00\n",
      "  4.50615210e+00  4.56060587e+00  4.64101565e+00  4.68346320e+00\n",
      "  4.76563081e+00  4.84815660e+00  4.90800891e+00  5.07042555e+00\n",
      "  5.09731658e+00  5.21034523e+00  5.21514880e+00  5.26929142e+00\n",
      "  5.31359721e+00  5.45172381e+00  5.59943944e+00  5.67809486e+00\n",
      "  5.81769338e+00  5.85575676e+00  5.98014840e+00  9.53421454e+00\n",
      "  9.95024593e+00  1.00600682e+01  2.04696923e+01  2.31255171e+01\n",
      "  2.36080944e+01  2.37752738e+01  3.33213257e+01]\n",
      "E1 = -1182.8935619633824  E_coul = 411.98387588904166\n",
      "cycle= 10 E= -567.370561100325  delta_E= -9.39e-08  |g|= 0.000161  |ddm|= 0.000768\n",
      "    CPU time for cycle= 10      1.28 sec, wall time      0.59 sec\n",
      "  HOMO = -0.354851491654949  LUMO = 0.0904909389254284\n",
      "  mo_energy =\n",
      "[-9.20086735e+01 -1.55929128e+01 -1.12900430e+01 -1.12863464e+01\n",
      " -1.12498848e+01 -9.00862970e+00 -6.68970803e+00 -6.68885801e+00\n",
      " -6.68841804e+00 -1.25549973e+00 -1.05971646e+00 -9.98529997e-01\n",
      " -7.96073525e-01 -7.69135080e-01 -6.97919208e-01 -5.86381816e-01\n",
      " -5.72091019e-01 -5.51784316e-01 -4.99014670e-01 -4.40379049e-01\n",
      " -3.78066668e-01 -3.54851492e-01  9.04909389e-02  1.42845816e-01\n",
      "  1.60256716e-01  1.73857761e-01  1.85369979e-01  1.91812374e-01\n",
      "  2.19755679e-01  2.36845244e-01  2.88364302e-01  3.17165257e-01\n",
      "  3.28936964e-01  3.48319913e-01  3.58396375e-01  3.76086209e-01\n",
      "  3.82672400e-01  4.15668347e-01  4.46524902e-01  4.79872835e-01\n",
      "  4.90586495e-01  4.91094925e-01  5.20019368e-01  5.50486912e-01\n",
      "  5.56627008e-01  5.58829871e-01  5.82671555e-01  5.84992658e-01\n",
      "  5.98192621e-01  6.40789190e-01  6.48639424e-01  6.98216009e-01\n",
      "  7.07802038e-01  7.41937990e-01  7.91105260e-01  8.17299759e-01\n",
      "  8.34582313e-01  8.57083112e-01  9.07051230e-01  9.16151390e-01\n",
      "  1.01026686e+00  1.02998877e+00  1.04613411e+00  1.12609492e+00\n",
      "  1.14014211e+00  1.15153985e+00  1.20458640e+00  1.23388444e+00\n",
      "  1.27938304e+00  1.29860139e+00  1.37350327e+00  1.37748254e+00\n",
      "  1.42996231e+00  1.47373461e+00  1.50836534e+00  1.52397887e+00\n",
      "  1.59557407e+00  1.67751800e+00  1.69233503e+00  1.71313825e+00\n",
      "  1.72758836e+00  1.73574158e+00  1.77068694e+00  1.80591059e+00\n",
      "  1.80961505e+00  1.81986111e+00  1.83079703e+00  1.83190985e+00\n",
      "  1.89339282e+00  1.90855556e+00  1.93103300e+00  1.98989268e+00\n",
      "  1.99045408e+00  2.06523205e+00  2.08173581e+00  2.11234228e+00\n",
      "  2.15565969e+00  2.18435450e+00  2.23739733e+00  2.24835277e+00\n",
      "  2.25833523e+00  2.31332427e+00  2.33424122e+00  2.36987735e+00\n",
      "  2.44651577e+00  2.47200514e+00  2.52099443e+00  2.52379142e+00\n",
      "  2.57252075e+00  2.61636205e+00  2.71714111e+00  2.74850063e+00\n",
      "  2.79522166e+00  2.82475852e+00  2.86609288e+00  2.87029021e+00\n",
      "  2.92754415e+00  2.94045436e+00  2.97773394e+00  3.03708528e+00\n",
      "  3.04815920e+00  3.06531090e+00  3.13904867e+00  3.15134113e+00\n",
      "  3.20861529e+00  3.26828978e+00  3.28714441e+00  3.31712690e+00\n",
      "  3.39366008e+00  3.40543910e+00  3.46912945e+00  3.47010526e+00\n",
      "  3.48138478e+00  3.51805289e+00  3.57672075e+00  3.60717936e+00\n",
      "  3.63209968e+00  3.66050445e+00  3.74794219e+00  3.77379004e+00\n",
      "  3.79178298e+00  3.80302229e+00  3.84985331e+00  3.90981292e+00\n",
      "  3.94303386e+00  3.99107874e+00  4.08433434e+00  4.14572737e+00\n",
      "  4.29227122e+00  4.41928780e+00  4.42701587e+00  4.44374260e+00\n",
      "  4.50612695e+00  4.56060697e+00  4.64101921e+00  4.68344695e+00\n",
      "  4.76563092e+00  4.84813261e+00  4.90799642e+00  5.07042847e+00\n",
      "  5.09731602e+00  5.21034453e+00  5.21510301e+00  5.26924489e+00\n",
      "  5.31358114e+00  5.45168969e+00  5.59940665e+00  5.67806186e+00\n",
      "  5.81766550e+00  5.85572321e+00  5.98012260e+00  9.53421761e+00\n",
      "  9.95024661e+00  1.00600711e+01  2.04696943e+01  2.31255135e+01\n",
      "  2.36080793e+01  2.37752732e+01  3.33212632e+01]\n",
      "E1 = -1182.893590321578  E_coul = 411.98390421643387\n",
      "cycle= 11 E= -567.370561131128  delta_E= -3.08e-08  |g|= 8.59e-05  |ddm|= 0.000397\n",
      "    CPU time for cycle= 11      1.31 sec, wall time      0.71 sec\n",
      "  HOMO = -0.354848702938386  LUMO = 0.0904941610768435\n",
      "  mo_energy =\n",
      "[-9.20086712e+01 -1.55929226e+01 -1.12900076e+01 -1.12863097e+01\n",
      " -1.12499072e+01 -9.00863303e+00 -6.68971133e+00 -6.68886133e+00\n",
      " -6.68842131e+00 -1.25549882e+00 -1.05970992e+00 -9.98529565e-01\n",
      " -7.96066755e-01 -7.69129122e-01 -6.97919825e-01 -5.86374538e-01\n",
      " -5.72092934e-01 -5.51781995e-01 -4.99014020e-01 -4.40389844e-01\n",
      " -3.78060463e-01 -3.54848703e-01  9.04941611e-02  1.42845331e-01\n",
      "  1.60257012e-01  1.73862256e-01  1.85372027e-01  1.91812584e-01\n",
      "  2.19757894e-01  2.36846783e-01  2.88365060e-01  3.17166608e-01\n",
      "  3.28938999e-01  3.48322359e-01  3.58398016e-01  3.76089341e-01\n",
      "  3.82672626e-01  4.15667120e-01  4.46523029e-01  4.79872480e-01\n",
      "  4.90587458e-01  4.91098268e-01  5.20021755e-01  5.50490170e-01\n",
      "  5.56629394e-01  5.58830950e-01  5.82671945e-01  5.84991112e-01\n",
      "  5.98195666e-01  6.40787706e-01  6.48636465e-01  6.98216993e-01\n",
      "  7.07803463e-01  7.41942367e-01  7.91104432e-01  8.17300819e-01\n",
      "  8.34580492e-01  8.57084299e-01  9.07052656e-01  9.16155737e-01\n",
      "  1.01026343e+00  1.02999218e+00  1.04614105e+00  1.12609800e+00\n",
      "  1.14014427e+00  1.15154530e+00  1.20458976e+00  1.23389394e+00\n",
      "  1.27938532e+00  1.29860700e+00  1.37350343e+00  1.37748569e+00\n",
      "  1.42996410e+00  1.47373890e+00  1.50836865e+00  1.52397784e+00\n",
      "  1.59557283e+00  1.67752291e+00  1.69233262e+00  1.71314401e+00\n",
      "  1.72758573e+00  1.73574311e+00  1.77068601e+00  1.80590788e+00\n",
      "  1.80961581e+00  1.81986169e+00  1.83080065e+00  1.83192010e+00\n",
      "  1.89339035e+00  1.90855647e+00  1.93103545e+00  1.98989356e+00\n",
      "  1.99045430e+00  2.06522848e+00  2.08173144e+00  2.11234285e+00\n",
      "  2.15565894e+00  2.18435681e+00  2.23740376e+00  2.24835767e+00\n",
      "  2.25833828e+00  2.31332831e+00  2.33423744e+00  2.36987999e+00\n",
      "  2.44651107e+00  2.47200669e+00  2.52099686e+00  2.52379285e+00\n",
      "  2.57252923e+00  2.61635904e+00  2.71713815e+00  2.74850435e+00\n",
      "  2.79522325e+00  2.82476148e+00  2.86609785e+00  2.87029280e+00\n",
      "  2.92754776e+00  2.94045503e+00  2.97774187e+00  3.03709168e+00\n",
      "  3.04815614e+00  3.06531666e+00  3.13905348e+00  3.15134528e+00\n",
      "  3.20862144e+00  3.26830137e+00  3.28715341e+00  3.31713845e+00\n",
      "  3.39366299e+00  3.40544843e+00  3.46913464e+00  3.47011054e+00\n",
      "  3.48140167e+00  3.51805664e+00  3.57673911e+00  3.60718860e+00\n",
      "  3.63210788e+00  3.66050915e+00  3.74794866e+00  3.77379474e+00\n",
      "  3.79178712e+00  3.80302537e+00  3.84986086e+00  3.90981968e+00\n",
      "  3.94304016e+00  3.99108564e+00  4.08433667e+00  4.14573130e+00\n",
      "  4.29227787e+00  4.41928387e+00  4.42701452e+00  4.44375331e+00\n",
      "  4.50611888e+00  4.56061181e+00  4.64102353e+00  4.68344112e+00\n",
      "  4.76563269e+00  4.84812727e+00  4.90799419e+00  5.07043140e+00\n",
      "  5.09732077e+00  5.21035077e+00  5.21509393e+00  5.26923477e+00\n",
      "  5.31357891e+00  5.45168257e+00  5.59940101e+00  5.67806172e+00\n",
      "  5.81766320e+00  5.85572421e+00  5.98012208e+00  9.53421306e+00\n",
      "  9.95024223e+00  1.00600690e+01  2.04696910e+01  2.31255279e+01\n",
      "  2.36081016e+01  2.37752830e+01  3.33212535e+01]\n",
      "E1 = -1182.893482987573  E_coul = 411.9837968736674\n",
      "cycle= 12 E= -567.37056113989  delta_E= -8.76e-09  |g|= 2.18e-05  |ddm|= 0.000235\n",
      "    CPU time for cycle= 12      1.37 sec, wall time      0.74 sec\n",
      "  HOMO = -0.354849380607961  LUMO = 0.0904919789665854\n",
      "  mo_energy =\n",
      "[-9.20086820e+01 -1.55929336e+01 -1.12900100e+01 -1.12863105e+01\n",
      " -1.12499134e+01 -9.00863924e+00 -6.68971762e+00 -6.68886779e+00\n",
      " -6.68842780e+00 -1.25550347e+00 -1.05971290e+00 -9.98532532e-01\n",
      " -7.96068280e-01 -7.69130872e-01 -6.97921901e-01 -5.86375464e-01\n",
      " -5.72095697e-01 -5.51784259e-01 -4.99016126e-01 -4.40396158e-01\n",
      " -3.78062227e-01 -3.54849381e-01  9.04919790e-02  1.42843686e-01\n",
      "  1.60256416e-01  1.73862528e-01  1.85370073e-01  1.91811995e-01\n",
      "  2.19757434e-01  2.36846002e-01  2.88364352e-01  3.17166230e-01\n",
      "  3.28938503e-01  3.48321946e-01  3.58397238e-01  3.76088534e-01\n",
      "  3.82671683e-01  4.15665880e-01  4.46521260e-01  4.79870714e-01\n",
      "  4.90586351e-01  4.91097879e-01  5.20021101e-01  5.50489605e-01\n",
      "  5.56628908e-01  5.58829149e-01  5.82670189e-01  5.84989354e-01\n",
      "  5.98194661e-01  6.40784989e-01  6.48634353e-01  6.98215334e-01\n",
      "  7.07801862e-01  7.41941496e-01  7.91102204e-01  8.17299179e-01\n",
      "  8.34578257e-01  8.57083287e-01  9.07050945e-01  9.16154539e-01\n",
      "  1.01026039e+00  1.02999108e+00  1.04614032e+00  1.12609685e+00\n",
      "  1.14014307e+00  1.15154451e+00  1.20458834e+00  1.23389363e+00\n",
      "  1.27938421e+00  1.29860555e+00  1.37350153e+00  1.37748394e+00\n",
      "  1.42996252e+00  1.47373780e+00  1.50836718e+00  1.52397474e+00\n",
      "  1.59557103e+00  1.67752107e+00  1.69232953e+00  1.71314289e+00\n",
      "  1.72758302e+00  1.73574127e+00  1.77068355e+00  1.80590496e+00\n",
      "  1.80961350e+00  1.81985985e+00  1.83079913e+00  1.83191854e+00\n",
      "  1.89338779e+00  1.90855439e+00  1.93103411e+00  1.98989152e+00\n",
      "  1.99045218e+00  2.06522564e+00  2.08172875e+00  2.11234044e+00\n",
      "  2.15565722e+00  2.18435452e+00  2.23740354e+00  2.24835552e+00\n",
      "  2.25833711e+00  2.31332651e+00  2.33423349e+00  2.36987813e+00\n",
      "  2.44650695e+00  2.47200474e+00  2.52099523e+00  2.52379081e+00\n",
      "  2.57252839e+00  2.61635572e+00  2.71713442e+00  2.74850311e+00\n",
      "  2.79522106e+00  2.82476015e+00  2.86609649e+00  2.87029016e+00\n",
      "  2.92754560e+00  2.94045335e+00  2.97774047e+00  3.03709048e+00\n",
      "  3.04815345e+00  3.06531496e+00  3.13905170e+00  3.15134339e+00\n",
      "  3.20861951e+00  3.26829947e+00  3.28715246e+00  3.31713642e+00\n",
      "  3.39366106e+00  3.40544718e+00  3.46913265e+00  3.47010866e+00\n",
      "  3.48140135e+00  3.51805453e+00  3.57673917e+00  3.60718778e+00\n",
      "  3.63210637e+00  3.66050694e+00  3.74794653e+00  3.77379321e+00\n",
      "  3.79178549e+00  3.80302302e+00  3.84985891e+00  3.90981749e+00\n",
      "  3.94303782e+00  3.99108310e+00  4.08433259e+00  4.14572906e+00\n",
      "  4.29227633e+00  4.41927884e+00  4.42701094e+00  4.44375162e+00\n",
      "  4.50611304e+00  4.56060923e+00  4.64102131e+00  4.68343616e+00\n",
      "  4.76562979e+00  4.84812222e+00  4.90798990e+00  5.07042862e+00\n",
      "  5.09731814e+00  5.21034866e+00  5.21508627e+00  5.26922695e+00\n",
      "  5.31357450e+00  5.45167628e+00  5.59939547e+00  5.67805590e+00\n",
      "  5.81765777e+00  5.85571890e+00  5.98011741e+00  9.53420742e+00\n",
      "  9.95023682e+00  1.00600641e+01  2.04696858e+01  2.31255252e+01\n",
      "  2.36080990e+01  2.37752794e+01  3.33212429e+01]\n",
      "E1 = -1182.8935210792063  E_coul = 411.983834964758\n",
      "cycle= 13 E= -567.370561140432  delta_E= -5.43e-10  |g|= 7.37e-06  |ddm|= 6.38e-05\n",
      "    CPU time for cycle= 13      1.28 sec, wall time      0.71 sec\n",
      "  HOMO = -0.354848221436144  LUMO = 0.090492813147513\n",
      "  mo_energy =\n",
      "[-9.20086821e+01 -1.55929344e+01 -1.12900070e+01 -1.12863057e+01\n",
      " -1.12499098e+01 -9.00863971e+00 -6.68971803e+00 -6.68886821e+00\n",
      " -6.68842827e+00 -1.25550263e+00 -1.05971114e+00 -9.98531630e-01\n",
      " -7.96066936e-01 -7.69129814e-01 -6.97920637e-01 -5.86373442e-01\n",
      " -5.72094584e-01 -5.51783295e-01 -4.99015708e-01 -4.40396686e-01\n",
      " -3.78061050e-01 -3.54848221e-01  9.04928131e-02  1.42843502e-01\n",
      "  1.60256846e-01  1.73862957e-01  1.85370883e-01  1.91812181e-01\n",
      "  2.19757422e-01  2.36846583e-01  2.88364784e-01  3.17166667e-01\n",
      "  3.28939451e-01  3.48322288e-01  3.58397749e-01  3.76089213e-01\n",
      "  3.82672116e-01  4.15666038e-01  4.46521247e-01  4.79871142e-01\n",
      "  4.90587064e-01  4.91098511e-01  5.20021903e-01  5.50490021e-01\n",
      "  5.56629644e-01  5.58829630e-01  5.82670299e-01  5.84989583e-01\n",
      "  5.98195093e-01  6.40785892e-01  6.48634090e-01  6.98216132e-01\n",
      "  7.07802375e-01  7.41942258e-01  7.91102382e-01  8.17300232e-01\n",
      "  8.34578600e-01  8.57083558e-01  9.07051623e-01  9.16155902e-01\n",
      "  1.01026075e+00  1.02999153e+00  1.04614162e+00  1.12609805e+00\n",
      "  1.14014428e+00  1.15154558e+00  1.20458939e+00  1.23389505e+00\n",
      "  1.27938560e+00  1.29860672e+00  1.37350234e+00  1.37748512e+00\n",
      "  1.42996369e+00  1.47373908e+00  1.50836822e+00  1.52397494e+00\n",
      "  1.59557166e+00  1.67752224e+00  1.69232950e+00  1.71314402e+00\n",
      "  1.72758397e+00  1.73574204e+00  1.77068367e+00  1.80590512e+00\n",
      "  1.80961367e+00  1.81986002e+00  1.83079976e+00  1.83191993e+00\n",
      "  1.89338815e+00  1.90855503e+00  1.93103486e+00  1.98989196e+00\n",
      "  1.99045390e+00  2.06522542e+00  2.08172797e+00  2.11234104e+00\n",
      "  2.15565768e+00  2.18435531e+00  2.23740434e+00  2.24835628e+00\n",
      "  2.25833774e+00  2.31332767e+00  2.33423311e+00  2.36987932e+00\n",
      "  2.44650717e+00  2.47200555e+00  2.52099610e+00  2.52379164e+00\n",
      "  2.57253007e+00  2.61635587e+00  2.71713492e+00  2.74850446e+00\n",
      "  2.79522209e+00  2.82476127e+00  2.86609772e+00  2.87029185e+00\n",
      "  2.92754796e+00  2.94045385e+00  2.97774182e+00  3.03709170e+00\n",
      "  3.04815437e+00  3.06531711e+00  3.13905307e+00  3.15134493e+00\n",
      "  3.20862119e+00  3.26830155e+00  3.28715418e+00  3.31713809e+00\n",
      "  3.39366259e+00  3.40544943e+00  3.46913414e+00  3.47011100e+00\n",
      "  3.48140373e+00  3.51805609e+00  3.57674133e+00  3.60718965e+00\n",
      "  3.63210823e+00  3.66050879e+00  3.74794815e+00  3.77379545e+00\n",
      "  3.79178767e+00  3.80302438e+00  3.84986046e+00  3.90981913e+00\n",
      "  3.94303916e+00  3.99108448e+00  4.08433347e+00  4.14573110e+00\n",
      "  4.29227818e+00  4.41927956e+00  4.42701232e+00  4.44375363e+00\n",
      "  4.50611334e+00  4.56061156e+00  4.64102380e+00  4.68343670e+00\n",
      "  4.76563188e+00  4.84812230e+00  4.90799090e+00  5.07043090e+00\n",
      "  5.09732041e+00  5.21035060e+00  5.21508568e+00  5.26922612e+00\n",
      "  5.31357534e+00  5.45167612e+00  5.59939512e+00  5.67805608e+00\n",
      "  5.81765793e+00  5.85571891e+00  5.98011775e+00  9.53420685e+00\n",
      "  9.95023636e+00  1.00600638e+01  2.04696854e+01  2.31255293e+01\n",
      "  2.36081023e+01  2.37752827e+01  3.33212421e+01]\n",
      "E1 = -1182.893495600802  E_coul = 411.9838094863197\n",
      "cycle= 14 E= -567.370561140466  delta_E= -3.4e-11  |g|= 2.71e-06  |ddm|= 2.08e-05\n",
      "    CPU time for cycle= 14      1.34 sec, wall time      0.62 sec\n",
      "  HOMO = -0.354848569335847  LUMO = 0.0904925080249862\n",
      "  mo_energy =\n",
      "[-9.20086813e+01 -1.55929337e+01 -1.12900074e+01 -1.12863077e+01\n",
      " -1.12499112e+01 -9.00863929e+00 -6.68971758e+00 -6.68886777e+00\n",
      " -6.68842782e+00 -1.25550286e+00 -1.05971184e+00 -9.98531950e-01\n",
      " -7.96067338e-01 -7.69130090e-01 -6.97921046e-01 -5.86373925e-01\n",
      " -5.72094755e-01 -5.51783547e-01 -4.99015794e-01 -4.40396567e-01\n",
      " -3.78061291e-01 -3.54848569e-01  9.04925080e-02  1.42843528e-01\n",
      "  1.60256660e-01  1.73862837e-01  1.85370576e-01  1.91812103e-01\n",
      "  2.19757350e-01  2.36846387e-01  2.88364691e-01  3.17166514e-01\n",
      "  3.28939154e-01  3.48322191e-01  3.58397600e-01  3.76089022e-01\n",
      "  3.82671962e-01  4.15665912e-01  4.46521211e-01  4.79870962e-01\n",
      "  4.90586766e-01  4.91098316e-01  5.20021640e-01  5.50489946e-01\n",
      "  5.56629422e-01  5.58829460e-01  5.82670298e-01  5.84989499e-01\n",
      "  5.98195024e-01  6.40785591e-01  6.48634168e-01  6.98215837e-01\n",
      "  7.07802270e-01  7.41942018e-01  7.91102347e-01  8.17299904e-01\n",
      "  8.34578468e-01  8.57083466e-01  9.07051446e-01  9.16155526e-01\n",
      "  1.01026062e+00  1.02999138e+00  1.04614129e+00  1.12609770e+00\n",
      "  1.14014389e+00  1.15154526e+00  1.20458909e+00  1.23389463e+00\n",
      "  1.27938515e+00  1.29860649e+00  1.37350211e+00  1.37748481e+00\n",
      "  1.42996330e+00  1.47373868e+00  1.50836789e+00  1.52397495e+00\n",
      "  1.59557146e+00  1.67752185e+00  1.69232953e+00  1.71314365e+00\n",
      "  1.72758365e+00  1.73574186e+00  1.77068359e+00  1.80590507e+00\n",
      "  1.80961361e+00  1.81985995e+00  1.83079960e+00  1.83191956e+00\n",
      "  1.89338805e+00  1.90855481e+00  1.93103458e+00  1.98989179e+00\n",
      "  1.99045337e+00  2.06522549e+00  2.08172808e+00  2.11234082e+00\n",
      "  2.15565752e+00  2.18435510e+00  2.23740409e+00  2.24835613e+00\n",
      "  2.25833752e+00  2.31332732e+00  2.33423330e+00  2.36987893e+00\n",
      "  2.44650711e+00  2.47200530e+00  2.52099589e+00  2.52379139e+00\n",
      "  2.57252946e+00  2.61635585e+00  2.71713477e+00  2.74850402e+00\n",
      "  2.79522179e+00  2.82476090e+00  2.86609731e+00  2.87029141e+00\n",
      "  2.92754710e+00  2.94045365e+00  2.97774145e+00  3.03709136e+00\n",
      "  3.04815401e+00  3.06531644e+00  3.13905272e+00  3.15134445e+00\n",
      "  3.20862065e+00  3.26830102e+00  3.28715371e+00  3.31713773e+00\n",
      "  3.39366213e+00  3.40544876e+00  3.46913372e+00  3.47011024e+00\n",
      "  3.48140305e+00  3.51805560e+00  3.57674082e+00  3.60718906e+00\n",
      "  3.63210775e+00  3.66050823e+00  3.74794757e+00  3.77379471e+00\n",
      "  3.79178697e+00  3.80302398e+00  3.84985993e+00  3.90981860e+00\n",
      "  3.94303875e+00  3.99108417e+00  4.08433329e+00  4.14573044e+00\n",
      "  4.29227762e+00  4.41927942e+00  4.42701197e+00  4.44375303e+00\n",
      "  4.50611331e+00  4.56061074e+00  4.64102291e+00  4.68343654e+00\n",
      "  4.76563109e+00  4.84812236e+00  4.90799061e+00  5.07043011e+00\n",
      "  5.09731966e+00  5.21034994e+00  5.21508601e+00  5.26922651e+00\n",
      "  5.31357512e+00  5.45167626e+00  5.59939531e+00  5.67805624e+00\n",
      "  5.81765805e+00  5.85571909e+00  5.98011778e+00  9.53420718e+00\n",
      "  9.95023673e+00  1.00600641e+01  2.04696857e+01  2.31255277e+01\n",
      "  2.36081014e+01  2.37752817e+01  3.33212428e+01]\n",
      "E1 = -1182.8935011517356  E_coul = 411.98381503725244\n",
      "cycle= 15 E= -567.370561140467  delta_E= -7.96e-13  |g|= 1.38e-06  |ddm|= 5.43e-06\n",
      "    CPU time for cycle= 15      1.32 sec, wall time      0.53 sec\n",
      "  HOMO = -0.354848571218563  LUMO = 0.0904924897126479\n",
      "  mo_energy =\n",
      "[-9.20086820e+01 -1.55929347e+01 -1.12900071e+01 -1.12863072e+01\n",
      " -1.12499110e+01 -9.00863977e+00 -6.68971807e+00 -6.68886826e+00\n",
      " -6.68842832e+00 -1.25550308e+00 -1.05971181e+00 -9.98532003e-01\n",
      " -7.96067267e-01 -7.69130048e-01 -6.97921014e-01 -5.86373766e-01\n",
      " -5.72094771e-01 -5.51783630e-01 -4.99015869e-01 -4.40396942e-01\n",
      " -3.78061322e-01 -3.54848571e-01  9.04924897e-02  1.42843380e-01\n",
      "  1.60256704e-01  1.73862897e-01  1.85370573e-01  1.91812126e-01\n",
      "  2.19757282e-01  2.36846404e-01  2.88364719e-01  3.17166546e-01\n",
      "  3.28939225e-01  3.48322187e-01  3.58397593e-01  3.76089058e-01\n",
      "  3.82671965e-01  4.15665847e-01  4.46521105e-01  4.79870927e-01\n",
      "  4.90586790e-01  4.91098344e-01  5.20021687e-01  5.50489987e-01\n",
      "  5.56629492e-01  5.58829378e-01  5.82670155e-01  5.84989443e-01\n",
      "  5.98195001e-01  6.40785593e-01  6.48634002e-01  6.98215862e-01\n",
      "  7.07802253e-01  7.41942039e-01  7.91102227e-01  8.17299943e-01\n",
      "  8.34578392e-01  8.57083414e-01  9.07051401e-01  9.16155626e-01\n",
      "  1.01026049e+00  1.02999131e+00  1.04614136e+00  1.12609778e+00\n",
      "  1.14014397e+00  1.15154532e+00  1.20458912e+00  1.23389474e+00\n",
      "  1.27938527e+00  1.29860655e+00  1.37350211e+00  1.37748489e+00\n",
      "  1.42996336e+00  1.47373876e+00  1.50836795e+00  1.52397479e+00\n",
      "  1.59557149e+00  1.67752186e+00  1.69232935e+00  1.71314373e+00\n",
      "  1.72758360e+00  1.73574187e+00  1.77068341e+00  1.80590489e+00\n",
      "  1.80961348e+00  1.81985982e+00  1.83079959e+00  1.83191961e+00\n",
      "  1.89338790e+00  1.90855477e+00  1.93103458e+00  1.98989170e+00\n",
      "  1.99045347e+00  2.06522527e+00  2.08172782e+00  2.11234075e+00\n",
      "  2.15565751e+00  2.18435506e+00  2.23740413e+00  2.24835608e+00\n",
      "  2.25833750e+00  2.31332735e+00  2.33423300e+00  2.36987898e+00\n",
      "  2.44650690e+00  2.47200531e+00  2.52099591e+00  2.52379135e+00\n",
      "  2.57252956e+00  2.61635562e+00  2.71713458e+00  2.74850411e+00\n",
      "  2.79522180e+00  2.82476095e+00  2.86609735e+00  2.87029147e+00\n",
      "  2.92754728e+00  2.94045363e+00  2.97774153e+00  3.03709142e+00\n",
      "  3.04815402e+00  3.06531661e+00  3.13905280e+00  3.15134454e+00\n",
      "  3.20862074e+00  3.26830115e+00  3.28715385e+00  3.31713780e+00\n",
      "  3.39366223e+00  3.40544894e+00  3.46913378e+00  3.47011041e+00\n",
      "  3.48140326e+00  3.51805568e+00  3.57674103e+00  3.60718922e+00\n",
      "  3.63210787e+00  3.66050832e+00  3.74794760e+00  3.77379488e+00\n",
      "  3.79178714e+00  3.80302403e+00  3.84985995e+00  3.90981866e+00\n",
      "  3.94303873e+00  3.99108417e+00  4.08433315e+00  4.14573056e+00\n",
      "  4.29227778e+00  4.41927921e+00  4.42701196e+00  4.44375316e+00\n",
      "  4.50611297e+00  4.56061090e+00  4.64102308e+00  4.68343631e+00\n",
      "  4.76563118e+00  4.84812204e+00  4.90799045e+00  5.07043026e+00\n",
      "  5.09731979e+00  5.21035005e+00  5.21508545e+00  5.26922592e+00\n",
      "  5.31357496e+00  5.45167583e+00  5.59939491e+00  5.67805586e+00\n",
      "  5.81765765e+00  5.85571873e+00  5.98011751e+00  9.53420675e+00\n",
      "  9.95023631e+00  1.00600637e+01  2.04696853e+01  2.31255281e+01\n",
      "  2.36081017e+01  2.37752820e+01  3.33212419e+01]\n",
      "E1 = -1182.8935032594154  E_coul = 411.983817144929\n",
      "cycle= 16 E= -567.370561140471  delta_E= -3.41e-12  |g|= 5.05e-07  |ddm|= 3.87e-06\n",
      "    CPU time for cycle= 16      1.32 sec, wall time      0.57 sec\n",
      "  HOMO = -0.354848542094963  LUMO = 0.0904925165673814\n",
      "  mo_energy =\n",
      "[-9.20086819e+01 -1.55929343e+01 -1.12900072e+01 -1.12863072e+01\n",
      " -1.12499109e+01 -9.00863972e+00 -6.68971801e+00 -6.68886820e+00\n",
      " -6.68842826e+00 -1.25550297e+00 -1.05971176e+00 -9.98531952e-01\n",
      " -7.96067246e-01 -7.69130017e-01 -6.97920976e-01 -5.86373755e-01\n",
      " -5.72094707e-01 -5.51783581e-01 -4.99015837e-01 -4.40396801e-01\n",
      " -3.78061267e-01 -3.54848542e-01  9.04925166e-02  1.42843407e-01\n",
      "  1.60256710e-01  1.73862889e-01  1.85370592e-01  1.91812136e-01\n",
      "  2.19757283e-01  2.36846421e-01  2.88364732e-01  3.17166548e-01\n",
      "  3.28939233e-01  3.48322193e-01  3.58397609e-01  3.76089063e-01\n",
      "  3.82671983e-01  4.15665866e-01  4.46521138e-01  4.79870960e-01\n",
      "  4.90586801e-01  4.91098350e-01  5.20021702e-01  5.50489994e-01\n",
      "  5.56629494e-01  5.58829415e-01  5.82670197e-01  5.84989479e-01\n",
      "  5.98195026e-01  6.40785637e-01  6.48634055e-01  6.98215892e-01\n",
      "  7.07802282e-01  7.41942053e-01  7.91102276e-01  8.17299969e-01\n",
      "  8.34578431e-01  8.57083436e-01  9.07051443e-01  9.16155641e-01\n",
      "  1.01026055e+00  1.02999134e+00  1.04614139e+00  1.12609780e+00\n",
      "  1.14014399e+00  1.15154533e+00  1.20458915e+00  1.23389474e+00\n",
      "  1.27938528e+00  1.29860657e+00  1.37350214e+00  1.37748491e+00\n",
      "  1.42996339e+00  1.47373878e+00  1.50836797e+00  1.52397486e+00\n",
      "  1.59557151e+00  1.67752189e+00  1.69232942e+00  1.71314374e+00\n",
      "  1.72758366e+00  1.73574190e+00  1.77068344e+00  1.80590494e+00\n",
      "  1.80961351e+00  1.81985984e+00  1.83079960e+00  1.83191962e+00\n",
      "  1.89338795e+00  1.90855481e+00  1.93103461e+00  1.98989172e+00\n",
      "  1.99045351e+00  2.06522533e+00  2.08172784e+00  2.11234079e+00\n",
      "  2.15565753e+00  2.18435510e+00  2.23740413e+00  2.24835611e+00\n",
      "  2.25833752e+00  2.31332738e+00  2.33423310e+00  2.36987901e+00\n",
      "  2.44650701e+00  2.47200535e+00  2.52099594e+00  2.52379139e+00\n",
      "  2.57252957e+00  2.61635572e+00  2.71713468e+00  2.74850413e+00\n",
      "  2.79522184e+00  2.82476097e+00  2.86609737e+00  2.87029152e+00\n",
      "  2.92754731e+00  2.94045366e+00  2.97774155e+00  3.03709144e+00\n",
      "  3.04815406e+00  3.06531664e+00  3.13905282e+00  3.15134457e+00\n",
      "  3.20862077e+00  3.26830117e+00  3.28715385e+00  3.31713782e+00\n",
      "  3.39366225e+00  3.40544895e+00  3.46913381e+00  3.47011044e+00\n",
      "  3.48140324e+00  3.51805572e+00  3.57674101e+00  3.60718923e+00\n",
      "  3.63210789e+00  3.66050836e+00  3.74794764e+00  3.77379490e+00\n",
      "  3.79178716e+00  3.80302406e+00  3.84985999e+00  3.90981869e+00\n",
      "  3.94303877e+00  3.99108422e+00  4.08433323e+00  4.14573060e+00\n",
      "  4.29227779e+00  4.41927933e+00  4.42701203e+00  4.44375318e+00\n",
      "  4.50611313e+00  4.56061093e+00  4.64102312e+00  4.68343643e+00\n",
      "  4.76563122e+00  4.84812218e+00  4.90799056e+00  5.07043030e+00\n",
      "  5.09731984e+00  5.21035008e+00  5.21508567e+00  5.26922613e+00\n",
      "  5.31357506e+00  5.45167600e+00  5.59939506e+00  5.67805600e+00\n",
      "  5.81765781e+00  5.85571887e+00  5.98011763e+00  9.53420679e+00\n",
      "  9.95023637e+00  1.00600638e+01  2.04696853e+01  2.31255281e+01\n",
      "  2.36081017e+01  2.37752820e+01  3.33212422e+01]\n",
      "E1 = -1182.8935017595697  E_coul = 411.98381564508355\n",
      "cycle= 17 E= -567.37056114047  delta_E= 2.27e-13  |g|= 2.13e-07  |ddm|= 1.03e-06\n",
      "    CPU time for cycle= 17      1.37 sec, wall time      0.63 sec\n",
      "  HOMO = -0.35484853946006  LUMO = 0.0904925083015607\n",
      "  mo_energy =\n",
      "[-9.20086819e+01 -1.55929344e+01 -1.12900071e+01 -1.12863072e+01\n",
      " -1.12499109e+01 -9.00863972e+00 -6.68971801e+00 -6.68886820e+00\n",
      " -6.68842826e+00 -1.25550298e+00 -1.05971176e+00 -9.98531946e-01\n",
      " -7.96067239e-01 -7.69130005e-01 -6.97920973e-01 -5.86373747e-01\n",
      " -5.72094703e-01 -5.51783592e-01 -4.99015845e-01 -4.40396828e-01\n",
      " -3.78061267e-01 -3.54848539e-01  9.04925083e-02  1.42843398e-01\n",
      "  1.60256716e-01  1.73862897e-01  1.85370591e-01  1.91812145e-01\n",
      "  2.19757274e-01  2.36846423e-01  2.88364742e-01  3.17166550e-01\n",
      "  3.28939239e-01  3.48322192e-01  3.58397610e-01  3.76089067e-01\n",
      "  3.82671983e-01  4.15665861e-01  4.46521131e-01  4.79870958e-01\n",
      "  4.90586800e-01  4.91098351e-01  5.20021704e-01  5.50490007e-01\n",
      "  5.56629501e-01  5.58829409e-01  5.82670183e-01  5.84989476e-01\n",
      "  5.98195030e-01  6.40785648e-01  6.48634041e-01  6.98215891e-01\n",
      "  7.07802289e-01  7.41942054e-01  7.91102269e-01  8.17299977e-01\n",
      "  8.34578428e-01  8.57083431e-01  9.07051438e-01  9.16155655e-01\n",
      "  1.01026054e+00  1.02999133e+00  1.04614139e+00  1.12609781e+00\n",
      "  1.14014399e+00  1.15154533e+00  1.20458915e+00  1.23389475e+00\n",
      "  1.27938529e+00  1.29860659e+00  1.37350215e+00  1.37748492e+00\n",
      "  1.42996340e+00  1.47373879e+00  1.50836798e+00  1.52397485e+00\n",
      "  1.59557152e+00  1.67752189e+00  1.69232941e+00  1.71314375e+00\n",
      "  1.72758366e+00  1.73574191e+00  1.77068343e+00  1.80590493e+00\n",
      "  1.80961350e+00  1.81985983e+00  1.83079960e+00  1.83191963e+00\n",
      "  1.89338794e+00  1.90855480e+00  1.93103460e+00  1.98989171e+00\n",
      "  1.99045352e+00  2.06522532e+00  2.08172781e+00  2.11234079e+00\n",
      "  2.15565754e+00  2.18435510e+00  2.23740413e+00  2.24835612e+00\n",
      "  2.25833751e+00  2.31332738e+00  2.33423308e+00  2.36987901e+00\n",
      "  2.44650699e+00  2.47200535e+00  2.52099595e+00  2.52379139e+00\n",
      "  2.57252956e+00  2.61635570e+00  2.71713466e+00  2.74850413e+00\n",
      "  2.79522185e+00  2.82476097e+00  2.86609737e+00  2.87029154e+00\n",
      "  2.92754732e+00  2.94045366e+00  2.97774156e+00  3.03709144e+00\n",
      "  3.04815407e+00  3.06531665e+00  3.13905284e+00  3.15134458e+00\n",
      "  3.20862077e+00  3.26830119e+00  3.28715387e+00  3.31713784e+00\n",
      "  3.39366227e+00  3.40544896e+00  3.46913382e+00  3.47011045e+00\n",
      "  3.48140325e+00  3.51805573e+00  3.57674103e+00  3.60718924e+00\n",
      "  3.63210790e+00  3.66050837e+00  3.74794763e+00  3.77379491e+00\n",
      "  3.79178717e+00  3.80302408e+00  3.84985998e+00  3.90981869e+00\n",
      "  3.94303877e+00  3.99108423e+00  4.08433323e+00  4.14573061e+00\n",
      "  4.29227780e+00  4.41927932e+00  4.42701204e+00  4.44375319e+00\n",
      "  4.50611310e+00  4.56061094e+00  4.64102312e+00  4.68343641e+00\n",
      "  4.76563122e+00  4.84812216e+00  4.90799055e+00  5.07043031e+00\n",
      "  5.09731985e+00  5.21035008e+00  5.21508562e+00  5.26922609e+00\n",
      "  5.31357505e+00  5.45167597e+00  5.59939503e+00  5.67805598e+00\n",
      "  5.81765778e+00  5.85571884e+00  5.98011762e+00  9.53420679e+00\n",
      "  9.95023637e+00  1.00600638e+01  2.04696853e+01  2.31255281e+01\n",
      "  2.36081017e+01  2.37752820e+01  3.33212421e+01]\n",
      "E1 = -1182.8935018093393  E_coul = 411.9838156948537\n",
      "cycle= 18 E= -567.37056114047  delta_E= 6.82e-13  |g|= 9.44e-08  |ddm|= 6.42e-07\n",
      "    CPU time for cycle= 18      1.33 sec, wall time      0.71 sec\n",
      "  HOMO = -0.354848540021118  LUMO = 0.0904925044012705\n",
      "  mo_energy =\n",
      "[-9.20086820e+01 -1.55929344e+01 -1.12900071e+01 -1.12863072e+01\n",
      " -1.12499109e+01 -9.00863975e+00 -6.68971804e+00 -6.68886823e+00\n",
      " -6.68842829e+00 -1.25550298e+00 -1.05971176e+00 -9.98531951e-01\n",
      " -7.96067238e-01 -7.69130004e-01 -6.97920972e-01 -5.86373748e-01\n",
      " -5.72094703e-01 -5.51783597e-01 -4.99015852e-01 -4.40396824e-01\n",
      " -3.78061264e-01 -3.54848540e-01  9.04925044e-02  1.42843396e-01\n",
      "  1.60256718e-01  1.73862898e-01  1.85370587e-01  1.91812146e-01\n",
      "  2.19757273e-01  2.36846423e-01  2.88364743e-01  3.17166550e-01\n",
      "  3.28939240e-01  3.48322192e-01  3.58397609e-01  3.76089066e-01\n",
      "  3.82671983e-01  4.15665858e-01  4.46521130e-01  4.79870957e-01\n",
      "  4.90586800e-01  4.91098351e-01  5.20021706e-01  5.50490007e-01\n",
      "  5.56629502e-01  5.58829405e-01  5.82670179e-01  5.84989476e-01\n",
      "  5.98195029e-01  6.40785647e-01  6.48634040e-01  6.98215894e-01\n",
      "  7.07802288e-01  7.41942054e-01  7.91102268e-01  8.17299973e-01\n",
      "  8.34578425e-01  8.57083430e-01  9.07051439e-01  9.16155655e-01\n",
      "  1.01026054e+00  1.02999132e+00  1.04614140e+00  1.12609781e+00\n",
      "  1.14014399e+00  1.15154533e+00  1.20458915e+00  1.23389475e+00\n",
      "  1.27938529e+00  1.29860659e+00  1.37350215e+00  1.37748492e+00\n",
      "  1.42996340e+00  1.47373879e+00  1.50836798e+00  1.52397485e+00\n",
      "  1.59557152e+00  1.67752189e+00  1.69232942e+00  1.71314375e+00\n",
      "  1.72758365e+00  1.73574191e+00  1.77068342e+00  1.80590492e+00\n",
      "  1.80961349e+00  1.81985983e+00  1.83079960e+00  1.83191962e+00\n",
      "  1.89338794e+00  1.90855480e+00  1.93103460e+00  1.98989171e+00\n",
      "  1.99045352e+00  2.06522531e+00  2.08172780e+00  2.11234078e+00\n",
      "  2.15565753e+00  2.18435510e+00  2.23740412e+00  2.24835611e+00\n",
      "  2.25833751e+00  2.31332738e+00  2.33423307e+00  2.36987902e+00\n",
      "  2.44650699e+00  2.47200535e+00  2.52099595e+00  2.52379139e+00\n",
      "  2.57252957e+00  2.61635570e+00  2.71713467e+00  2.74850413e+00\n",
      "  2.79522185e+00  2.82476097e+00  2.86609737e+00  2.87029154e+00\n",
      "  2.92754732e+00  2.94045366e+00  2.97774156e+00  3.03709144e+00\n",
      "  3.04815407e+00  3.06531665e+00  3.13905283e+00  3.15134458e+00\n",
      "  3.20862077e+00  3.26830119e+00  3.28715387e+00  3.31713784e+00\n",
      "  3.39366227e+00  3.40544896e+00  3.46913382e+00  3.47011045e+00\n",
      "  3.48140326e+00  3.51805573e+00  3.57674103e+00  3.60718924e+00\n",
      "  3.63210790e+00  3.66050837e+00  3.74794764e+00  3.77379491e+00\n",
      "  3.79178717e+00  3.80302408e+00  3.84985998e+00  3.90981870e+00\n",
      "  3.94303877e+00  3.99108423e+00  4.08433323e+00  4.14573061e+00\n",
      "  4.29227780e+00  4.41927932e+00  4.42701204e+00  4.44375319e+00\n",
      "  4.50611311e+00  4.56061094e+00  4.64102313e+00  4.68343641e+00\n",
      "  4.76563122e+00  4.84812216e+00  4.90799055e+00  5.07043031e+00\n",
      "  5.09731985e+00  5.21035008e+00  5.21508563e+00  5.26922610e+00\n",
      "  5.31357506e+00  5.45167598e+00  5.59939504e+00  5.67805598e+00\n",
      "  5.81765778e+00  5.85571885e+00  5.98011762e+00  9.53420676e+00\n",
      "  9.95023635e+00  1.00600638e+01  2.04696853e+01  2.31255281e+01\n",
      "  2.36081017e+01  2.37752820e+01  3.33212422e+01]\n",
      "E1 = -1182.8935018216825  E_coul = 411.9838157071964\n",
      "cycle= 19 E= -567.37056114047  delta_E= -5.68e-13  |g|= 4.49e-08  |ddm|= 2.61e-07\n",
      "    CPU time for cycle= 19      1.39 sec, wall time      0.66 sec\n",
      "Linear dependence found in DIIS error vectors.\n",
      "  HOMO = -0.354848537169685  LUMO = 0.0904925029194873\n",
      "  mo_energy =\n",
      "[-9.20086820e+01 -1.55929344e+01 -1.12900071e+01 -1.12863072e+01\n",
      " -1.12499109e+01 -9.00863974e+00 -6.68971804e+00 -6.68886822e+00\n",
      " -6.68842829e+00 -1.25550298e+00 -1.05971176e+00 -9.98531949e-01\n",
      " -7.96067238e-01 -7.69130004e-01 -6.97920970e-01 -5.86373748e-01\n",
      " -5.72094701e-01 -5.51783597e-01 -4.99015853e-01 -4.40396821e-01\n",
      " -3.78061264e-01 -3.54848537e-01  9.04925029e-02  1.42843397e-01\n",
      "  1.60256718e-01  1.73862897e-01  1.85370587e-01  1.91812146e-01\n",
      "  2.19757273e-01  2.36846424e-01  2.88364744e-01  3.17166550e-01\n",
      "  3.28939240e-01  3.48322191e-01  3.58397609e-01  3.76089066e-01\n",
      "  3.82671984e-01  4.15665859e-01  4.46521131e-01  4.79870957e-01\n",
      "  4.90586800e-01  4.91098351e-01  5.20021706e-01  5.50490008e-01\n",
      "  5.56629502e-01  5.58829406e-01  5.82670179e-01  5.84989477e-01\n",
      "  5.98195030e-01  6.40785650e-01  6.48634041e-01  6.98215894e-01\n",
      "  7.07802289e-01  7.41942054e-01  7.91102269e-01  8.17299975e-01\n",
      "  8.34578426e-01  8.57083430e-01  9.07051440e-01  9.16155656e-01\n",
      "  1.01026054e+00  1.02999132e+00  1.04614140e+00  1.12609781e+00\n",
      "  1.14014399e+00  1.15154533e+00  1.20458915e+00  1.23389475e+00\n",
      "  1.27938529e+00  1.29860659e+00  1.37350215e+00  1.37748492e+00\n",
      "  1.42996340e+00  1.47373879e+00  1.50836798e+00  1.52397485e+00\n",
      "  1.59557153e+00  1.67752189e+00  1.69232942e+00  1.71314375e+00\n",
      "  1.72758366e+00  1.73574191e+00  1.77068342e+00  1.80590492e+00\n",
      "  1.80961349e+00  1.81985983e+00  1.83079960e+00  1.83191962e+00\n",
      "  1.89338794e+00  1.90855480e+00  1.93103460e+00  1.98989171e+00\n",
      "  1.99045352e+00  2.06522531e+00  2.08172780e+00  2.11234078e+00\n",
      "  2.15565753e+00  2.18435510e+00  2.23740412e+00  2.24835611e+00\n",
      "  2.25833751e+00  2.31332738e+00  2.33423308e+00  2.36987902e+00\n",
      "  2.44650700e+00  2.47200536e+00  2.52099595e+00  2.52379139e+00\n",
      "  2.57252956e+00  2.61635570e+00  2.71713467e+00  2.74850413e+00\n",
      "  2.79522185e+00  2.82476097e+00  2.86609737e+00  2.87029154e+00\n",
      "  2.92754732e+00  2.94045366e+00  2.97774156e+00  3.03709144e+00\n",
      "  3.04815408e+00  3.06531666e+00  3.13905284e+00  3.15134458e+00\n",
      "  3.20862077e+00  3.26830119e+00  3.28715387e+00  3.31713784e+00\n",
      "  3.39366227e+00  3.40544896e+00  3.46913382e+00  3.47011045e+00\n",
      "  3.48140325e+00  3.51805573e+00  3.57674103e+00  3.60718924e+00\n",
      "  3.63210791e+00  3.66050837e+00  3.74794764e+00  3.77379491e+00\n",
      "  3.79178717e+00  3.80302408e+00  3.84985998e+00  3.90981870e+00\n",
      "  3.94303877e+00  3.99108423e+00  4.08433323e+00  4.14573061e+00\n",
      "  4.29227780e+00  4.41927932e+00  4.42701204e+00  4.44375319e+00\n",
      "  4.50611311e+00  4.56061095e+00  4.64102313e+00  4.68343642e+00\n",
      "  4.76563122e+00  4.84812217e+00  4.90799055e+00  5.07043032e+00\n",
      "  5.09731985e+00  5.21035008e+00  5.21508564e+00  5.26922610e+00\n",
      "  5.31357506e+00  5.45167598e+00  5.59939504e+00  5.67805598e+00\n",
      "  5.81765778e+00  5.85571885e+00  5.98011762e+00  9.53420676e+00\n",
      "  9.95023635e+00  1.00600638e+01  2.04696853e+01  2.31255281e+01\n",
      "  2.36081017e+01  2.37752820e+01  3.33212422e+01]\n",
      "E1 = -1182.8935017865142  E_coul = 411.98381567202694\n",
      "cycle= 20 E= -567.370561140471  delta_E= -1.14e-12  |g|= 2.43e-08  |ddm|= 8e-08\n",
      "    CPU time for cycle= 20      1.32 sec, wall time      0.53 sec\n",
      "Linear dependence found in DIIS error vectors.\n",
      "  HOMO = -0.354848537044099  LUMO = 0.0904925025101824\n",
      "  mo_energy =\n",
      "[-9.20086820e+01 -1.55929344e+01 -1.12900071e+01 -1.12863072e+01\n",
      " -1.12499109e+01 -9.00863974e+00 -6.68971804e+00 -6.68886822e+00\n",
      " -6.68842828e+00 -1.25550297e+00 -1.05971176e+00 -9.98531948e-01\n",
      " -7.96067239e-01 -7.69130004e-01 -6.97920970e-01 -5.86373749e-01\n",
      " -5.72094701e-01 -5.51783597e-01 -4.99015852e-01 -4.40396818e-01\n",
      " -3.78061264e-01 -3.54848537e-01  9.04925025e-02  1.42843398e-01\n",
      "  1.60256718e-01  1.73862896e-01  1.85370587e-01  1.91812146e-01\n",
      "  2.19757273e-01  2.36846423e-01  2.88364744e-01  3.17166550e-01\n",
      "  3.28939240e-01  3.48322191e-01  3.58397609e-01  3.76089066e-01\n",
      "  3.82671984e-01  4.15665860e-01  4.46521132e-01  4.79870958e-01\n",
      "  4.90586800e-01  4.91098351e-01  5.20021705e-01  5.50490007e-01\n",
      "  5.56629501e-01  5.58829406e-01  5.82670179e-01  5.84989477e-01\n",
      "  5.98195030e-01  6.40785650e-01  6.48634042e-01  6.98215894e-01\n",
      "  7.07802289e-01  7.41942053e-01  7.91102269e-01  8.17299975e-01\n",
      "  8.34578427e-01  8.57083430e-01  9.07051440e-01  9.16155656e-01\n",
      "  1.01026054e+00  1.02999132e+00  1.04614139e+00  1.12609781e+00\n",
      "  1.14014399e+00  1.15154533e+00  1.20458915e+00  1.23389474e+00\n",
      "  1.27938529e+00  1.29860659e+00  1.37350215e+00  1.37748492e+00\n",
      "  1.42996340e+00  1.47373879e+00  1.50836798e+00  1.52397485e+00\n",
      "  1.59557153e+00  1.67752189e+00  1.69232942e+00  1.71314375e+00\n",
      "  1.72758366e+00  1.73574191e+00  1.77068342e+00  1.80590493e+00\n",
      "  1.80961349e+00  1.81985983e+00  1.83079960e+00  1.83191962e+00\n",
      "  1.89338794e+00  1.90855480e+00  1.93103460e+00  1.98989171e+00\n",
      "  1.99045352e+00  2.06522532e+00  2.08172780e+00  2.11234078e+00\n",
      "  2.15565753e+00  2.18435510e+00  2.23740412e+00  2.24835611e+00\n",
      "  2.25833751e+00  2.31332738e+00  2.33423308e+00  2.36987902e+00\n",
      "  2.44650700e+00  2.47200536e+00  2.52099595e+00  2.52379139e+00\n",
      "  2.57252956e+00  2.61635570e+00  2.71713467e+00  2.74850413e+00\n",
      "  2.79522185e+00  2.82476097e+00  2.86609737e+00  2.87029154e+00\n",
      "  2.92754732e+00  2.94045366e+00  2.97774156e+00  3.03709144e+00\n",
      "  3.04815408e+00  3.06531665e+00  3.13905283e+00  3.15134458e+00\n",
      "  3.20862077e+00  3.26830119e+00  3.28715387e+00  3.31713784e+00\n",
      "  3.39366227e+00  3.40544896e+00  3.46913382e+00  3.47011045e+00\n",
      "  3.48140325e+00  3.51805573e+00  3.57674103e+00  3.60718924e+00\n",
      "  3.63210790e+00  3.66050837e+00  3.74794764e+00  3.77379491e+00\n",
      "  3.79178717e+00  3.80302408e+00  3.84985998e+00  3.90981870e+00\n",
      "  3.94303877e+00  3.99108423e+00  4.08433323e+00  4.14573061e+00\n",
      "  4.29227780e+00  4.41927932e+00  4.42701204e+00  4.44375319e+00\n",
      "  4.50611311e+00  4.56061095e+00  4.64102313e+00  4.68343642e+00\n",
      "  4.76563122e+00  4.84812217e+00  4.90799055e+00  5.07043032e+00\n",
      "  5.09731985e+00  5.21035008e+00  5.21508564e+00  5.26922610e+00\n",
      "  5.31357506e+00  5.45167598e+00  5.59939505e+00  5.67805598e+00\n",
      "  5.81765778e+00  5.85571885e+00  5.98011763e+00  9.53420676e+00\n",
      "  9.95023636e+00  1.00600638e+01  2.04696853e+01  2.31255281e+01\n",
      "  2.36081017e+01  2.37752820e+01  3.33212422e+01]\n",
      "E1 = -1182.8935017824112  E_coul = 411.98381566792676\n",
      "cycle= 21 E= -567.370561140469  delta_E= 2.84e-12  |g|= 1.64e-08  |ddm|= 3.5e-08\n",
      "    CPU time for cycle= 21      1.38 sec, wall time      0.64 sec\n",
      "Linear dependence found in DIIS error vectors.\n",
      "  HOMO = -0.354848536519809  LUMO = 0.0904925026373741\n",
      "  mo_energy =\n",
      "[-9.20086819e+01 -1.55929344e+01 -1.12900071e+01 -1.12863072e+01\n",
      " -1.12499109e+01 -9.00863974e+00 -6.68971803e+00 -6.68886822e+00\n",
      " -6.68842828e+00 -1.25550297e+00 -1.05971176e+00 -9.98531948e-01\n",
      " -7.96067238e-01 -7.69130004e-01 -6.97920970e-01 -5.86373749e-01\n",
      " -5.72094700e-01 -5.51783596e-01 -4.99015852e-01 -4.40396817e-01\n",
      " -3.78061263e-01 -3.54848537e-01  9.04925026e-02  1.42843398e-01\n",
      "  1.60256718e-01  1.73862896e-01  1.85370588e-01  1.91812146e-01\n",
      "  2.19757273e-01  2.36846424e-01  2.88364744e-01  3.17166550e-01\n",
      "  3.28939240e-01  3.48322191e-01  3.58397609e-01  3.76089066e-01\n",
      "  3.82671984e-01  4.15665860e-01  4.46521132e-01  4.79870958e-01\n",
      "  4.90586800e-01  4.91098351e-01  5.20021706e-01  5.50490008e-01\n",
      "  5.56629501e-01  5.58829407e-01  5.82670180e-01  5.84989478e-01\n",
      "  5.98195030e-01  6.40785651e-01  6.48634042e-01  6.98215894e-01\n",
      "  7.07802290e-01  7.41942053e-01  7.91102270e-01  8.17299975e-01\n",
      "  8.34578427e-01  8.57083430e-01  9.07051440e-01  9.16155656e-01\n",
      "  1.01026054e+00  1.02999132e+00  1.04614140e+00  1.12609781e+00\n",
      "  1.14014399e+00  1.15154533e+00  1.20458915e+00  1.23389474e+00\n",
      "  1.27938529e+00  1.29860659e+00  1.37350215e+00  1.37748492e+00\n",
      "  1.42996340e+00  1.47373879e+00  1.50836798e+00  1.52397486e+00\n",
      "  1.59557153e+00  1.67752189e+00  1.69232942e+00  1.71314375e+00\n",
      "  1.72758366e+00  1.73574191e+00  1.77068342e+00  1.80590493e+00\n",
      "  1.80961349e+00  1.81985983e+00  1.83079960e+00  1.83191962e+00\n",
      "  1.89338794e+00  1.90855480e+00  1.93103460e+00  1.98989171e+00\n",
      "  1.99045352e+00  2.06522532e+00  2.08172780e+00  2.11234079e+00\n",
      "  2.15565753e+00  2.18435510e+00  2.23740412e+00  2.24835611e+00\n",
      "  2.25833751e+00  2.31332738e+00  2.33423308e+00  2.36987902e+00\n",
      "  2.44650700e+00  2.47200536e+00  2.52099595e+00  2.52379139e+00\n",
      "  2.57252956e+00  2.61635571e+00  2.71713467e+00  2.74850413e+00\n",
      "  2.79522185e+00  2.82476097e+00  2.86609737e+00  2.87029154e+00\n",
      "  2.92754732e+00  2.94045366e+00  2.97774156e+00  3.03709144e+00\n",
      "  3.04815408e+00  3.06531666e+00  3.13905284e+00  3.15134458e+00\n",
      "  3.20862077e+00  3.26830119e+00  3.28715387e+00  3.31713784e+00\n",
      "  3.39366227e+00  3.40544896e+00  3.46913382e+00  3.47011045e+00\n",
      "  3.48140325e+00  3.51805573e+00  3.57674103e+00  3.60718924e+00\n",
      "  3.63210790e+00  3.66050837e+00  3.74794764e+00  3.77379491e+00\n",
      "  3.79178717e+00  3.80302408e+00  3.84985998e+00  3.90981870e+00\n",
      "  3.94303877e+00  3.99108423e+00  4.08433323e+00  4.14573061e+00\n",
      "  4.29227780e+00  4.41927932e+00  4.42701204e+00  4.44375319e+00\n",
      "  4.50611311e+00  4.56061095e+00  4.64102313e+00  4.68343642e+00\n",
      "  4.76563122e+00  4.84812217e+00  4.90799055e+00  5.07043032e+00\n",
      "  5.09731985e+00  5.21035008e+00  5.21508564e+00  5.26922611e+00\n",
      "  5.31357506e+00  5.45167599e+00  5.59939505e+00  5.67805599e+00\n",
      "  5.81765779e+00  5.85571885e+00  5.98011763e+00  9.53420676e+00\n",
      "  9.95023636e+00  1.00600638e+01  2.04696853e+01  2.31255281e+01\n",
      "  2.36081017e+01  2.37752820e+01  3.33212422e+01]\n",
      "E1 = -1182.8935017674507  E_coul = 411.9838156529661\n",
      "cycle= 22 E= -567.370561140469  delta_E= -2.27e-13  |g|= 1.27e-08  |ddm|= 1.6e-08\n",
      "    CPU time for cycle= 22      1.34 sec, wall time      0.69 sec\n",
      "Linear dependence found in DIIS error vectors.\n",
      "  HOMO = -0.354848536140381  LUMO = 0.0904925027950147\n",
      "  mo_energy =\n",
      "[-9.20086819e+01 -1.55929344e+01 -1.12900071e+01 -1.12863072e+01\n",
      " -1.12499109e+01 -9.00863974e+00 -6.68971803e+00 -6.68886822e+00\n",
      " -6.68842828e+00 -1.25550297e+00 -1.05971176e+00 -9.98531947e-01\n",
      " -7.96067238e-01 -7.69130003e-01 -6.97920970e-01 -5.86373748e-01\n",
      " -5.72094699e-01 -5.51783596e-01 -4.99015852e-01 -4.40396816e-01\n",
      " -3.78061263e-01 -3.54848536e-01  9.04925028e-02  1.42843398e-01\n",
      "  1.60256718e-01  1.73862896e-01  1.85370588e-01  1.91812147e-01\n",
      "  2.19757273e-01  2.36846424e-01  2.88364744e-01  3.17166550e-01\n",
      "  3.28939240e-01  3.48322192e-01  3.58397609e-01  3.76089066e-01\n",
      "  3.82671984e-01  4.15665860e-01  4.46521132e-01  4.79870958e-01\n",
      "  4.90586800e-01  4.91098351e-01  5.20021706e-01  5.50490008e-01\n",
      "  5.56629502e-01  5.58829407e-01  5.82670180e-01  5.84989478e-01\n",
      "  5.98195031e-01  6.40785651e-01  6.48634042e-01  6.98215894e-01\n",
      "  7.07802290e-01  7.41942053e-01  7.91102270e-01  8.17299976e-01\n",
      "  8.34578428e-01  8.57083430e-01  9.07051441e-01  9.16155656e-01\n",
      "  1.01026054e+00  1.02999132e+00  1.04614140e+00  1.12609781e+00\n",
      "  1.14014399e+00  1.15154533e+00  1.20458915e+00  1.23389475e+00\n",
      "  1.27938529e+00  1.29860659e+00  1.37350215e+00  1.37748492e+00\n",
      "  1.42996340e+00  1.47373879e+00  1.50836798e+00  1.52397486e+00\n",
      "  1.59557153e+00  1.67752189e+00  1.69232942e+00  1.71314375e+00\n",
      "  1.72758366e+00  1.73574191e+00  1.77068342e+00  1.80590493e+00\n",
      "  1.80961349e+00  1.81985983e+00  1.83079960e+00  1.83191962e+00\n",
      "  1.89338794e+00  1.90855480e+00  1.93103460e+00  1.98989171e+00\n",
      "  1.99045352e+00  2.06522532e+00  2.08172780e+00  2.11234079e+00\n",
      "  2.15565753e+00  2.18435510e+00  2.23740412e+00  2.24835611e+00\n",
      "  2.25833751e+00  2.31332738e+00  2.33423308e+00  2.36987902e+00\n",
      "  2.44650700e+00  2.47200536e+00  2.52099595e+00  2.52379139e+00\n",
      "  2.57252956e+00  2.61635571e+00  2.71713467e+00  2.74850413e+00\n",
      "  2.79522185e+00  2.82476097e+00  2.86609737e+00  2.87029154e+00\n",
      "  2.92754732e+00  2.94045366e+00  2.97774156e+00  3.03709144e+00\n",
      "  3.04815408e+00  3.06531666e+00  3.13905284e+00  3.15134458e+00\n",
      "  3.20862077e+00  3.26830119e+00  3.28715387e+00  3.31713784e+00\n",
      "  3.39366227e+00  3.40544896e+00  3.46913382e+00  3.47011045e+00\n",
      "  3.48140325e+00  3.51805573e+00  3.57674103e+00  3.60718924e+00\n",
      "  3.63210791e+00  3.66050837e+00  3.74794764e+00  3.77379491e+00\n",
      "  3.79178717e+00  3.80302408e+00  3.84985998e+00  3.90981870e+00\n",
      "  3.94303877e+00  3.99108423e+00  4.08433323e+00  4.14573061e+00\n",
      "  4.29227780e+00  4.41927933e+00  4.42701204e+00  4.44375319e+00\n",
      "  4.50611312e+00  4.56061095e+00  4.64102313e+00  4.68343642e+00\n",
      "  4.76563122e+00  4.84812217e+00  4.90799055e+00  5.07043032e+00\n",
      "  5.09731985e+00  5.21035008e+00  5.21508564e+00  5.26922611e+00\n",
      "  5.31357506e+00  5.45167599e+00  5.59939505e+00  5.67805599e+00\n",
      "  5.81765779e+00  5.85571885e+00  5.98011763e+00  9.53420676e+00\n",
      "  9.95023636e+00  1.00600638e+01  2.04696853e+01  2.31255281e+01\n",
      "  2.36081017e+01  2.37752820e+01  3.33212422e+01]\n",
      "E1 = -1182.8935017595168  E_coul = 411.98381564503245\n",
      "cycle= 23 E= -567.370561140468  delta_E= 3.41e-13  |g|= 1.2e-08  |ddm|= 9.49e-09\n",
      "    CPU time for cycle= 23      1.40 sec, wall time      0.58 sec\n",
      "Linear dependence found in DIIS error vectors.\n",
      "  HOMO = -0.354848536586343  LUMO = 0.0904925024498821\n",
      "  mo_energy =\n",
      "[-9.20086819e+01 -1.55929344e+01 -1.12900071e+01 -1.12863072e+01\n",
      " -1.12499109e+01 -9.00863974e+00 -6.68971803e+00 -6.68886822e+00\n",
      " -6.68842828e+00 -1.25550297e+00 -1.05971176e+00 -9.98531948e-01\n",
      " -7.96067238e-01 -7.69130004e-01 -6.97920970e-01 -5.86373749e-01\n",
      " -5.72094700e-01 -5.51783596e-01 -4.99015852e-01 -4.40396817e-01\n",
      " -3.78061263e-01 -3.54848537e-01  9.04925024e-02  1.42843398e-01\n",
      "  1.60256718e-01  1.73862896e-01  1.85370587e-01  1.91812146e-01\n",
      "  2.19757273e-01  2.36846424e-01  2.88364744e-01  3.17166550e-01\n",
      "  3.28939240e-01  3.48322191e-01  3.58397609e-01  3.76089066e-01\n",
      "  3.82671984e-01  4.15665860e-01  4.46521132e-01  4.79870958e-01\n",
      "  4.90586800e-01  4.91098351e-01  5.20021705e-01  5.50490008e-01\n",
      "  5.56629501e-01  5.58829407e-01  5.82670180e-01  5.84989477e-01\n",
      "  5.98195031e-01  6.40785651e-01  6.48634042e-01  6.98215894e-01\n",
      "  7.07802290e-01  7.41942053e-01  7.91102270e-01  8.17299975e-01\n",
      "  8.34578427e-01  8.57083430e-01  9.07051440e-01  9.16155656e-01\n",
      "  1.01026054e+00  1.02999132e+00  1.04614140e+00  1.12609781e+00\n",
      "  1.14014399e+00  1.15154533e+00  1.20458915e+00  1.23389474e+00\n",
      "  1.27938529e+00  1.29860659e+00  1.37350215e+00  1.37748492e+00\n",
      "  1.42996340e+00  1.47373879e+00  1.50836798e+00  1.52397486e+00\n",
      "  1.59557153e+00  1.67752189e+00  1.69232942e+00  1.71314375e+00\n",
      "  1.72758366e+00  1.73574191e+00  1.77068342e+00  1.80590493e+00\n",
      "  1.80961349e+00  1.81985983e+00  1.83079960e+00  1.83191962e+00\n",
      "  1.89338794e+00  1.90855480e+00  1.93103460e+00  1.98989171e+00\n",
      "  1.99045352e+00  2.06522532e+00  2.08172780e+00  2.11234079e+00\n",
      "  2.15565753e+00  2.18435510e+00  2.23740412e+00  2.24835611e+00\n",
      "  2.25833751e+00  2.31332738e+00  2.33423308e+00  2.36987902e+00\n",
      "  2.44650700e+00  2.47200536e+00  2.52099595e+00  2.52379139e+00\n",
      "  2.57252956e+00  2.61635571e+00  2.71713467e+00  2.74850413e+00\n",
      "  2.79522185e+00  2.82476097e+00  2.86609737e+00  2.87029154e+00\n",
      "  2.92754732e+00  2.94045366e+00  2.97774156e+00  3.03709144e+00\n",
      "  3.04815408e+00  3.06531666e+00  3.13905284e+00  3.15134458e+00\n",
      "  3.20862077e+00  3.26830119e+00  3.28715387e+00  3.31713784e+00\n",
      "  3.39366227e+00  3.40544896e+00  3.46913382e+00  3.47011045e+00\n",
      "  3.48140325e+00  3.51805573e+00  3.57674103e+00  3.60718924e+00\n",
      "  3.63210790e+00  3.66050837e+00  3.74794764e+00  3.77379491e+00\n",
      "  3.79178717e+00  3.80302408e+00  3.84985998e+00  3.90981870e+00\n",
      "  3.94303877e+00  3.99108423e+00  4.08433323e+00  4.14573061e+00\n",
      "  4.29227780e+00  4.41927932e+00  4.42701204e+00  4.44375319e+00\n",
      "  4.50611311e+00  4.56061095e+00  4.64102312e+00  4.68343642e+00\n",
      "  4.76563122e+00  4.84812217e+00  4.90799055e+00  5.07043032e+00\n",
      "  5.09731985e+00  5.21035008e+00  5.21508564e+00  5.26922611e+00\n",
      "  5.31357506e+00  5.45167599e+00  5.59939505e+00  5.67805599e+00\n",
      "  5.81765779e+00  5.85571885e+00  5.98011763e+00  9.53420676e+00\n",
      "  9.95023636e+00  1.00600638e+01  2.04696853e+01  2.31255281e+01\n",
      "  2.36081017e+01  2.37752820e+01  3.33212422e+01]\n",
      "E1 = -1182.8935017623758  E_coul = 411.9838156478901\n",
      "cycle= 24 E= -567.37056114047  delta_E= -1.36e-12  |g|= 1.21e-08  |ddm|= 1.1e-08\n",
      "    CPU time for cycle= 24      1.38 sec, wall time      0.57 sec\n",
      "Linear dependence found in DIIS error vectors.\n",
      "  HOMO = -0.354848536054808  LUMO = 0.0904925032437921\n",
      "  mo_energy =\n",
      "[-9.20086819e+01 -1.55929344e+01 -1.12900071e+01 -1.12863072e+01\n",
      " -1.12499109e+01 -9.00863974e+00 -6.68971803e+00 -6.68886822e+00\n",
      " -6.68842828e+00 -1.25550297e+00 -1.05971176e+00 -9.98531947e-01\n",
      " -7.96067238e-01 -7.69130003e-01 -6.97920970e-01 -5.86373749e-01\n",
      " -5.72094699e-01 -5.51783595e-01 -4.99015851e-01 -4.40396815e-01\n",
      " -3.78061262e-01 -3.54848536e-01  9.04925032e-02  1.42843399e-01\n",
      "  1.60256718e-01  1.73862896e-01  1.85370588e-01  1.91812146e-01\n",
      "  2.19757273e-01  2.36846424e-01  2.88364744e-01  3.17166550e-01\n",
      "  3.28939240e-01  3.48322192e-01  3.58397610e-01  3.76089066e-01\n",
      "  3.82671984e-01  4.15665860e-01  4.46521133e-01  4.79870958e-01\n",
      "  4.90586800e-01  4.91098351e-01  5.20021706e-01  5.50490008e-01\n",
      "  5.56629501e-01  5.58829408e-01  5.82670181e-01  5.84989478e-01\n",
      "  5.98195031e-01  6.40785651e-01  6.48634043e-01  6.98215894e-01\n",
      "  7.07802290e-01  7.41942054e-01  7.91102271e-01  8.17299975e-01\n",
      "  8.34578428e-01  8.57083431e-01  9.07051441e-01  9.16155656e-01\n",
      "  1.01026054e+00  1.02999132e+00  1.04614140e+00  1.12609781e+00\n",
      "  1.14014399e+00  1.15154533e+00  1.20458915e+00  1.23389474e+00\n",
      "  1.27938529e+00  1.29860659e+00  1.37350215e+00  1.37748492e+00\n",
      "  1.42996340e+00  1.47373879e+00  1.50836798e+00  1.52397486e+00\n",
      "  1.59557153e+00  1.67752189e+00  1.69232942e+00  1.71314375e+00\n",
      "  1.72758366e+00  1.73574191e+00  1.77068342e+00  1.80590493e+00\n",
      "  1.80961349e+00  1.81985983e+00  1.83079960e+00  1.83191962e+00\n",
      "  1.89338794e+00  1.90855480e+00  1.93103460e+00  1.98989171e+00\n",
      "  1.99045352e+00  2.06522532e+00  2.08172780e+00  2.11234079e+00\n",
      "  2.15565753e+00  2.18435510e+00  2.23740412e+00  2.24835612e+00\n",
      "  2.25833751e+00  2.31332738e+00  2.33423308e+00  2.36987902e+00\n",
      "  2.44650700e+00  2.47200536e+00  2.52099595e+00  2.52379139e+00\n",
      "  2.57252956e+00  2.61635571e+00  2.71713467e+00  2.74850413e+00\n",
      "  2.79522185e+00  2.82476097e+00  2.86609737e+00  2.87029154e+00\n",
      "  2.92754732e+00  2.94045366e+00  2.97774156e+00  3.03709144e+00\n",
      "  3.04815408e+00  3.06531666e+00  3.13905284e+00  3.15134458e+00\n",
      "  3.20862077e+00  3.26830119e+00  3.28715387e+00  3.31713784e+00\n",
      "  3.39366227e+00  3.40544896e+00  3.46913382e+00  3.47011045e+00\n",
      "  3.48140325e+00  3.51805573e+00  3.57674103e+00  3.60718924e+00\n",
      "  3.63210791e+00  3.66050837e+00  3.74794764e+00  3.77379491e+00\n",
      "  3.79178717e+00  3.80302408e+00  3.84985998e+00  3.90981870e+00\n",
      "  3.94303877e+00  3.99108423e+00  4.08433324e+00  4.14573061e+00\n",
      "  4.29227780e+00  4.41927933e+00  4.42701204e+00  4.44375319e+00\n",
      "  4.50611312e+00  4.56061095e+00  4.64102313e+00  4.68343642e+00\n",
      "  4.76563122e+00  4.84812217e+00  4.90799056e+00  5.07043032e+00\n",
      "  5.09731985e+00  5.21035008e+00  5.21508565e+00  5.26922611e+00\n",
      "  5.31357506e+00  5.45167599e+00  5.59939505e+00  5.67805599e+00\n",
      "  5.81765779e+00  5.85571886e+00  5.98011763e+00  9.53420677e+00\n",
      "  9.95023636e+00  1.00600638e+01  2.04696853e+01  2.31255281e+01\n",
      "  2.36081017e+01  2.37752820e+01  3.33212422e+01]\n",
      "E1 = -1182.893501734433  E_coul = 411.98381561994546\n",
      "cycle= 25 E= -567.370561140472  delta_E= -1.71e-12  |g|= 1.51e-08  |ddm|= 2.26e-08\n",
      "    CPU time for cycle= 25      1.45 sec, wall time      0.56 sec\n",
      "Linear dependence found in DIIS error vectors.\n",
      "  HOMO = -0.354848535545396  LUMO = 0.0904925020518741\n",
      "  mo_energy =\n",
      "[-9.20086819e+01 -1.55929344e+01 -1.12900071e+01 -1.12863072e+01\n",
      " -1.12499109e+01 -9.00863974e+00 -6.68971803e+00 -6.68886822e+00\n",
      " -6.68842828e+00 -1.25550297e+00 -1.05971176e+00 -9.98531947e-01\n",
      " -7.96067238e-01 -7.69130004e-01 -6.97920970e-01 -5.86373749e-01\n",
      " -5.72094699e-01 -5.51783596e-01 -4.99015852e-01 -4.40396816e-01\n",
      " -3.78061263e-01 -3.54848536e-01  9.04925021e-02  1.42843398e-01\n",
      "  1.60256718e-01  1.73862896e-01  1.85370588e-01  1.91812146e-01\n",
      "  2.19757273e-01  2.36846424e-01  2.88364745e-01  3.17166550e-01\n",
      "  3.28939240e-01  3.48322191e-01  3.58397609e-01  3.76089066e-01\n",
      "  3.82671984e-01  4.15665860e-01  4.46521132e-01  4.79870958e-01\n",
      "  4.90586800e-01  4.91098351e-01  5.20021705e-01  5.50490008e-01\n",
      "  5.56629501e-01  5.58829407e-01  5.82670180e-01  5.84989478e-01\n",
      "  5.98195031e-01  6.40785652e-01  6.48634042e-01  6.98215894e-01\n",
      "  7.07802290e-01  7.41942053e-01  7.91102270e-01  8.17299976e-01\n",
      "  8.34578428e-01  8.57083431e-01  9.07051441e-01  9.16155656e-01\n",
      "  1.01026054e+00  1.02999132e+00  1.04614140e+00  1.12609781e+00\n",
      "  1.14014399e+00  1.15154533e+00  1.20458915e+00  1.23389474e+00\n",
      "  1.27938529e+00  1.29860659e+00  1.37350215e+00  1.37748492e+00\n",
      "  1.42996340e+00  1.47373879e+00  1.50836798e+00  1.52397486e+00\n",
      "  1.59557153e+00  1.67752189e+00  1.69232942e+00  1.71314375e+00\n",
      "  1.72758366e+00  1.73574191e+00  1.77068342e+00  1.80590493e+00\n",
      "  1.80961349e+00  1.81985983e+00  1.83079960e+00  1.83191962e+00\n",
      "  1.89338794e+00  1.90855480e+00  1.93103460e+00  1.98989171e+00\n",
      "  1.99045352e+00  2.06522532e+00  2.08172780e+00  2.11234079e+00\n",
      "  2.15565753e+00  2.18435510e+00  2.23740412e+00  2.24835611e+00\n",
      "  2.25833751e+00  2.31332738e+00  2.33423308e+00  2.36987902e+00\n",
      "  2.44650700e+00  2.47200536e+00  2.52099595e+00  2.52379139e+00\n",
      "  2.57252956e+00  2.61635571e+00  2.71713467e+00  2.74850413e+00\n",
      "  2.79522185e+00  2.82476097e+00  2.86609737e+00  2.87029154e+00\n",
      "  2.92754732e+00  2.94045366e+00  2.97774156e+00  3.03709144e+00\n",
      "  3.04815408e+00  3.06531666e+00  3.13905284e+00  3.15134458e+00\n",
      "  3.20862077e+00  3.26830119e+00  3.28715387e+00  3.31713784e+00\n",
      "  3.39366227e+00  3.40544896e+00  3.46913382e+00  3.47011045e+00\n",
      "  3.48140325e+00  3.51805573e+00  3.57674103e+00  3.60718924e+00\n",
      "  3.63210791e+00  3.66050837e+00  3.74794764e+00  3.77379491e+00\n",
      "  3.79178717e+00  3.80302408e+00  3.84985998e+00  3.90981870e+00\n",
      "  3.94303877e+00  3.99108423e+00  4.08433323e+00  4.14573061e+00\n",
      "  4.29227780e+00  4.41927933e+00  4.42701204e+00  4.44375319e+00\n",
      "  4.50611312e+00  4.56061095e+00  4.64102312e+00  4.68343642e+00\n",
      "  4.76563122e+00  4.84812217e+00  4.90799055e+00  5.07043032e+00\n",
      "  5.09731985e+00  5.21035008e+00  5.21508564e+00  5.26922611e+00\n",
      "  5.31357506e+00  5.45167599e+00  5.59939505e+00  5.67805599e+00\n",
      "  5.81765779e+00  5.85571885e+00  5.98011763e+00  9.53420677e+00\n",
      "  9.95023636e+00  1.00600638e+01  2.04696853e+01  2.31255281e+01\n",
      "  2.36081017e+01  2.37752820e+01  3.33212422e+01]\n",
      "E1 = -1182.893501748562  E_coul = 411.98381563407503\n",
      "cycle= 26 E= -567.370561140471  delta_E= 4.55e-13  |g|= 7.91e-09  |ddm|= 4.1e-08\n",
      "    CPU time for cycle= 26      1.39 sec, wall time      0.54 sec\n",
      "  HOMO = -0.354848535698079  LUMO = 0.0904925019647679\n",
      "  mo_energy =\n",
      "[-9.20086819e+01 -1.55929344e+01 -1.12900071e+01 -1.12863072e+01\n",
      " -1.12499109e+01 -9.00863974e+00 -6.68971803e+00 -6.68886822e+00\n",
      " -6.68842828e+00 -1.25550297e+00 -1.05971176e+00 -9.98531948e-01\n",
      " -7.96067238e-01 -7.69130004e-01 -6.97920970e-01 -5.86373749e-01\n",
      " -5.72094699e-01 -5.51783596e-01 -4.99015852e-01 -4.40396815e-01\n",
      " -3.78061263e-01 -3.54848536e-01  9.04925020e-02  1.42843398e-01\n",
      "  1.60256718e-01  1.73862896e-01  1.85370587e-01  1.91812146e-01\n",
      "  2.19757273e-01  2.36846424e-01  2.88364744e-01  3.17166550e-01\n",
      "  3.28939240e-01  3.48322192e-01  3.58397609e-01  3.76089066e-01\n",
      "  3.82671984e-01  4.15665860e-01  4.46521133e-01  4.79870958e-01\n",
      "  4.90586800e-01  4.91098351e-01  5.20021706e-01  5.50490008e-01\n",
      "  5.56629501e-01  5.58829407e-01  5.82670180e-01  5.84989478e-01\n",
      "  5.98195030e-01  6.40785651e-01  6.48634042e-01  6.98215894e-01\n",
      "  7.07802290e-01  7.41942053e-01  7.91102270e-01  8.17299975e-01\n",
      "  8.34578427e-01  8.57083431e-01  9.07051441e-01  9.16155656e-01\n",
      "  1.01026054e+00  1.02999132e+00  1.04614140e+00  1.12609781e+00\n",
      "  1.14014399e+00  1.15154533e+00  1.20458915e+00  1.23389474e+00\n",
      "  1.27938529e+00  1.29860659e+00  1.37350215e+00  1.37748492e+00\n",
      "  1.42996340e+00  1.47373879e+00  1.50836798e+00  1.52397486e+00\n",
      "  1.59557153e+00  1.67752189e+00  1.69232942e+00  1.71314375e+00\n",
      "  1.72758366e+00  1.73574191e+00  1.77068342e+00  1.80590493e+00\n",
      "  1.80961349e+00  1.81985983e+00  1.83079960e+00  1.83191962e+00\n",
      "  1.89338794e+00  1.90855480e+00  1.93103460e+00  1.98989171e+00\n",
      "  1.99045352e+00  2.06522532e+00  2.08172780e+00  2.11234079e+00\n",
      "  2.15565753e+00  2.18435510e+00  2.23740412e+00  2.24835611e+00\n",
      "  2.25833751e+00  2.31332738e+00  2.33423308e+00  2.36987902e+00\n",
      "  2.44650700e+00  2.47200536e+00  2.52099595e+00  2.52379139e+00\n",
      "  2.57252956e+00  2.61635571e+00  2.71713467e+00  2.74850413e+00\n",
      "  2.79522185e+00  2.82476097e+00  2.86609737e+00  2.87029154e+00\n",
      "  2.92754732e+00  2.94045366e+00  2.97774156e+00  3.03709144e+00\n",
      "  3.04815408e+00  3.06531666e+00  3.13905284e+00  3.15134458e+00\n",
      "  3.20862077e+00  3.26830119e+00  3.28715387e+00  3.31713784e+00\n",
      "  3.39366227e+00  3.40544896e+00  3.46913382e+00  3.47011045e+00\n",
      "  3.48140325e+00  3.51805573e+00  3.57674103e+00  3.60718924e+00\n",
      "  3.63210790e+00  3.66050837e+00  3.74794764e+00  3.77379491e+00\n",
      "  3.79178717e+00  3.80302408e+00  3.84985998e+00  3.90981870e+00\n",
      "  3.94303877e+00  3.99108423e+00  4.08433323e+00  4.14573061e+00\n",
      "  4.29227780e+00  4.41927933e+00  4.42701204e+00  4.44375319e+00\n",
      "  4.50611312e+00  4.56061095e+00  4.64102313e+00  4.68343642e+00\n",
      "  4.76563122e+00  4.84812217e+00  4.90799055e+00  5.07043032e+00\n",
      "  5.09731985e+00  5.21035008e+00  5.21508565e+00  5.26922611e+00\n",
      "  5.31357506e+00  5.45167599e+00  5.59939505e+00  5.67805599e+00\n",
      "  5.81765779e+00  5.85571885e+00  5.98011763e+00  9.53420676e+00\n",
      "  9.95023636e+00  1.00600638e+01  2.04696853e+01  2.31255281e+01\n",
      "  2.36081017e+01  2.37752820e+01  3.33212422e+01]\n",
      "E1 = -1182.8935017535523  E_coul = 411.9838156390644\n",
      "Extra cycle  E= -567.370561140472  delta_E= -9.09e-13  |g|= 4.98e-09  |ddm|= 1.27e-08\n",
      "    CPU time for scf_cycle     57.94 sec, wall time     25.57 sec\n",
      "    CPU time for SCF     57.97 sec, wall time     25.60 sec\n",
      "converged SCF energy = -567.370561140472\n"
     ]
    },
    {
     "data": {
      "text/plain": [
       "-567.370561140472"
      ]
     },
     "execution_count": 17,
     "metadata": {},
     "output_type": "execute_result"
    }
   ],
   "source": [
    "mf=scf.RHF(Thiazole_mol)\n",
    "\n",
    "mf.conv_tol=1e-12 # the difference in the SCF energy (in Hartrees) between two successive cycles              (On defini le critere de convergence du calcul)\n",
    "mf.conv_tol_grad=1e-8 # the root-mean-square of the orbital gradient                                     (définit le critère de convergence de la norme quadratique moyenne du gradient des orbitales à 1e-8)\n",
    "mf.direct_scf_tol=1e-13 #the threshold for discarding integrals                                           (on accélére les calculs en négligeant les intégrales dont la valeur est inférieure à ce seui)\n",
    "mf.init_guess='atom' #  vital for the efficient completion of the SCF procedure                         **( Je ne comprend pas le role de cette ligne)\n",
    "mf.max_cycle=100 # the maximum number of SCF cycles that should be performed before the calculation terminates. For systems that are notoriously difficult to converge, the value should be increased to 100 or even 1000\n",
    "mf.max_memory=4000 #determines the maximum amount of memory (in Megabytes) that PySCF is allowed to utilize during the SCF procedure\n",
    "mf.verbose=5 #controls the print level for the mean-field object (in the 'Dwat_HF.txt' defined above)                    (## Donne le niveau de detail a afficher)\n",
    "\n",
    "mf.kernel()                           # ( execute le calul)"
   ]
  },
  {
   "cell_type": "code",
   "execution_count": 18,
   "id": "0c306fb7-252b-450e-96f4-9ec54a33977d",
   "metadata": {},
   "outputs": [],
   "source": [
    "### On obtient le résultat après 27 itérations"
   ]
  },
  {
   "cell_type": "markdown",
   "id": "cd7f1e86-878f-4246-a302-e5e78d450482",
   "metadata": {},
   "source": [
    "### Théorie de la fonctionnelle de la densité - DFT"
   ]
  },
  {
   "cell_type": "markdown",
   "id": "56b59e75-67fa-4ed2-b699-113f90993b9a",
   "metadata": {},
   "source": [
    "#### Création d'un objet mean-field (mf) avec `scf.RKS()"
   ]
  },
  {
   "cell_type": "code",
   "execution_count": 19,
   "id": "d81001ff-0385-477b-958d-68b2d99262a4",
   "metadata": {},
   "outputs": [
    {
     "name": "stdout",
     "output_type": "stream",
     "text": [
      "converged SCF energy = -569.052665024419\n"
     ]
    },
    {
     "data": {
      "text/plain": [
       "-569.0526650244185"
      ]
     },
     "execution_count": 19,
     "metadata": {},
     "output_type": "execute_result"
    }
   ],
   "source": [
    "from pyscf import dft # On importe 'dft' de 'pyscf'\n",
    "\n",
    "mfd=dft.KS(Thiazole_mol) # on fait le calcul du champ moyen avec 'KS'\n",
    "\n",
    "mfd.xc='wB97X-D' #  on fait le choix de la fonctionnelle\n",
    "\n",
    "mfd.kernel() # on execute le calcul"
   ]
  },
  {
   "cell_type": "code",
   "execution_count": 20,
   "id": "ad52fcdd-4117-43c9-b328-c2f1c597567e",
   "metadata": {},
   "outputs": [
    {
     "name": "stdout",
     "output_type": "stream",
     "text": [
      "**** SCF Summaries ****\n",
      "Total Energy =                        -569.052665024418502\n",
      "Nuclear Repulsion Energy =             203.539124974015891\n",
      "One-electron Energy =                -1183.819026526315383\n",
      "Two-electron Coulomb Energy =          461.117913415940450\n",
      "DFT Exchange-Correlation Energy =      -49.890676888059424\n"
     ]
    }
   ],
   "source": [
    "mfd.dump_scf_summary()"
   ]
  },
  {
   "cell_type": "code",
   "execution_count": 21,
   "id": "e5837c8f-61a5-4c50-afbf-aada9c4cbb87",
   "metadata": {},
   "outputs": [
    {
     "data": {
      "text/plain": [
       "{'e1': -1183.8190265263154,\n",
       " 'coul': 461.11791341594045,\n",
       " 'exc': -49.890676888059424,\n",
       " 'nuc': 203.5391249740159}"
      ]
     },
     "execution_count": 21,
     "metadata": {},
     "output_type": "execute_result"
    }
   ],
   "source": [
    "mfd.scf_summary"
   ]
  },
  {
   "cell_type": "code",
   "execution_count": 22,
   "id": "3f1b1a5a-24c0-4e34-89b5-ac3ea6c20131",
   "metadata": {},
   "outputs": [
    {
     "name": "stdout",
     "output_type": "stream",
     "text": [
      "**** SCF Summaries ****\n",
      "Total Energy =                        -567.370561140471978\n",
      "Nuclear Repulsion Energy =             203.539124974015891\n",
      "One-electron Energy =                -1182.893501753552300\n",
      "Two-electron Energy =                  411.983815639064403\n"
     ]
    }
   ],
   "source": [
    "mf.dump_scf_summary()"
   ]
  },
  {
   "cell_type": "code",
   "execution_count": 23,
   "id": "462052a3-8c5e-4ea9-a471-cfd3b3c59830",
   "metadata": {},
   "outputs": [
    {
     "name": "stdout",
     "output_type": "stream",
     "text": [
      "**** SCF Summaries ****\n",
      "Total Energy =                        -567.370561140471978\n",
      "Nuclear Repulsion Energy =             203.539124974015891\n",
      "One-electron Energy =                -1182.893501753552300\n",
      "Two-electron Energy =                  411.983815639064403\n",
      "**** MO energy ****\n",
      "MO #1   energy= -92.0086819478986  occ= 2\n",
      "MO #2   energy= -15.5929343755766  occ= 2\n",
      "MO #3   energy= -11.2900071077965  occ= 2\n",
      "MO #4   energy= -11.2863072320872  occ= 2\n",
      "MO #5   energy= -11.249910905126   occ= 2\n",
      "MO #6   energy= -9.00863973946178  occ= 2\n",
      "MO #7   energy= -6.68971803301309  occ= 2\n",
      "MO #8   energy= -6.68886821744796  occ= 2\n",
      "MO #9   energy= -6.68842828272764  occ= 2\n",
      "MO #10  energy= -1.25550297196204  occ= 2\n",
      "MO #11  energy= -1.05971175716499  occ= 2\n",
      "MO #12  energy= -0.998531947580138 occ= 2\n",
      "MO #13  energy= -0.796067238280574 occ= 2\n",
      "MO #14  energy= -0.769130003774976 occ= 2\n",
      "MO #15  energy= -0.697920969857651 occ= 2\n",
      "MO #16  energy= -0.586373749058671 occ= 2\n",
      "MO #17  energy= -0.572094699369232 occ= 2\n",
      "MO #18  energy= -0.551783596112217 occ= 2\n",
      "MO #19  energy= -0.499015852087415 occ= 2\n",
      "MO #20  energy= -0.440396814979313 occ= 2\n",
      "MO #21  energy= -0.378061263144827 occ= 2\n",
      "MO #22  energy= -0.354848535698079 occ= 2\n",
      "MO #23  energy= 0.0904925019647679 occ= 0\n",
      "MO #24  energy= 0.142843398199568  occ= 0\n",
      "MO #25  energy= 0.160256717875887  occ= 0\n",
      "MO #26  energy= 0.173862896010707  occ= 0\n",
      "MO #27  energy= 0.185370587231854  occ= 0\n",
      "MO #28  energy= 0.191812146197866  occ= 0\n",
      "MO #29  energy= 0.21975727335027   occ= 0\n",
      "MO #30  energy= 0.236846423685309  occ= 0\n",
      "MO #31  energy= 0.288364744284981  occ= 0\n",
      "MO #32  energy= 0.31716654983904   occ= 0\n",
      "MO #33  energy= 0.328939239897604  occ= 0\n",
      "MO #34  energy= 0.348322191525125  occ= 0\n",
      "MO #35  energy= 0.358397609283338  occ= 0\n",
      "MO #36  energy= 0.376089066157394  occ= 0\n",
      "MO #37  energy= 0.382671984109254  occ= 0\n",
      "MO #38  energy= 0.415665860025704  occ= 0\n",
      "MO #39  energy= 0.446521132548258  occ= 0\n",
      "MO #40  energy= 0.479870957721284  occ= 0\n",
      "MO #41  energy= 0.490586799844248  occ= 0\n",
      "MO #42  energy= 0.491098350648566  occ= 0\n",
      "MO #43  energy= 0.520021705608394  occ= 0\n",
      "MO #44  energy= 0.550490007503457  occ= 0\n",
      "MO #45  energy= 0.556629501325891  occ= 0\n",
      "MO #46  energy= 0.55882940699242   occ= 0\n",
      "MO #47  energy= 0.582670179757212  occ= 0\n",
      "MO #48  energy= 0.584989477663752  occ= 0\n",
      "MO #49  energy= 0.598195030485624  occ= 0\n",
      "MO #50  energy= 0.64078565107794   occ= 0\n",
      "MO #51  energy= 0.648634042432125  occ= 0\n",
      "MO #52  energy= 0.698215893796673  occ= 0\n",
      "MO #53  energy= 0.707802289609     occ= 0\n",
      "MO #54  energy= 0.741942053275989  occ= 0\n",
      "MO #55  energy= 0.791102270317084  occ= 0\n",
      "MO #56  energy= 0.817299975074219  occ= 0\n",
      "MO #57  energy= 0.834578427475917  occ= 0\n",
      "MO #58  energy= 0.857083430559027  occ= 0\n",
      "MO #59  energy= 0.907051440739772  occ= 0\n",
      "MO #60  energy= 0.916155655969638  occ= 0\n",
      "MO #61  energy= 1.01026054163232   occ= 0\n",
      "MO #62  energy= 1.02999132374683   occ= 0\n",
      "MO #63  energy= 1.04614139536582   occ= 0\n",
      "MO #64  energy= 1.12609780948895   occ= 0\n",
      "MO #65  energy= 1.14014399239451   occ= 0\n",
      "MO #66  energy= 1.15154533273892   occ= 0\n",
      "MO #67  energy= 1.20458915004549   occ= 0\n",
      "MO #68  energy= 1.23389474482329   occ= 0\n",
      "MO #69  energy= 1.27938529282006   occ= 0\n",
      "MO #70  energy= 1.29860659011678   occ= 0\n",
      "MO #71  energy= 1.37350214792206   occ= 0\n",
      "MO #72  energy= 1.37748491917346   occ= 0\n",
      "MO #73  energy= 1.42996339648992   occ= 0\n",
      "MO #74  energy= 1.4737387889079    occ= 0\n",
      "MO #75  energy= 1.50836797653607   occ= 0\n",
      "MO #76  energy= 1.52397485598314   occ= 0\n",
      "MO #77  energy= 1.5955715257463    occ= 0\n",
      "MO #78  energy= 1.67752188724067   occ= 0\n",
      "MO #79  energy= 1.69232941968165   occ= 0\n",
      "MO #80  energy= 1.71314375002151   occ= 0\n",
      "MO #81  energy= 1.72758365828246   occ= 0\n",
      "MO #82  energy= 1.7357419087593    occ= 0\n",
      "MO #83  energy= 1.77068341713867   occ= 0\n",
      "MO #84  energy= 1.80590492641673   occ= 0\n",
      "MO #85  energy= 1.80961349314775   occ= 0\n",
      "MO #86  energy= 1.81985982910856   occ= 0\n",
      "MO #87  energy= 1.83079960043123   occ= 0\n",
      "MO #88  energy= 1.83191962330698   occ= 0\n",
      "MO #89  energy= 1.89338794011491   occ= 0\n",
      "MO #90  energy= 1.90855480365608   occ= 0\n",
      "MO #91  energy= 1.93103460385348   occ= 0\n",
      "MO #92  energy= 1.98989170812363   occ= 0\n",
      "MO #93  energy= 1.9904535189883    occ= 0\n",
      "MO #94  energy= 2.06522531683343   occ= 0\n",
      "MO #95  energy= 2.08172779827853   occ= 0\n",
      "MO #96  energy= 2.11234078532287   occ= 0\n",
      "MO #97  energy= 2.15565753297288   occ= 0\n",
      "MO #98  energy= 2.1843551005458    occ= 0\n",
      "MO #99  energy= 2.23740412282213   occ= 0\n",
      "MO #100 energy= 2.24835611448318   occ= 0\n",
      "MO #101 energy= 2.25833750923314   occ= 0\n",
      "MO #102 energy= 2.31332738360412   occ= 0\n",
      "MO #103 energy= 2.33423307805535   occ= 0\n",
      "MO #104 energy= 2.3698790161068    occ= 0\n",
      "MO #105 energy= 2.44650699869293   occ= 0\n",
      "MO #106 energy= 2.47200535685393   occ= 0\n",
      "MO #107 energy= 2.52099595154075   occ= 0\n",
      "MO #108 energy= 2.5237913885821    occ= 0\n",
      "MO #109 energy= 2.57252956223483   occ= 0\n",
      "MO #110 energy= 2.61635570592637   occ= 0\n",
      "MO #111 energy= 2.71713466913571   occ= 0\n",
      "MO #112 energy= 2.74850413373332   occ= 0\n",
      "MO #113 energy= 2.79522184916357   occ= 0\n",
      "MO #114 energy= 2.82476097360466   occ= 0\n",
      "MO #115 energy= 2.86609736738072   occ= 0\n",
      "MO #116 energy= 2.87029154129879   occ= 0\n",
      "MO #117 energy= 2.92754731980995   occ= 0\n",
      "MO #118 energy= 2.94045366092812   occ= 0\n",
      "MO #119 energy= 2.97774155729474   occ= 0\n",
      "MO #120 energy= 3.03709144398758   occ= 0\n",
      "MO #121 energy= 3.04815407648927   occ= 0\n",
      "MO #122 energy= 3.06531665511414   occ= 0\n",
      "MO #123 energy= 3.13905283535077   occ= 0\n",
      "MO #124 energy= 3.15134458270267   occ= 0\n",
      "MO #125 energy= 3.20862077239606   occ= 0\n",
      "MO #126 energy= 3.26830118896095   occ= 0\n",
      "MO #127 energy= 3.28715386638473   occ= 0\n",
      "MO #128 energy= 3.31713784086084   occ= 0\n",
      "MO #129 energy= 3.39366226842059   occ= 0\n",
      "MO #130 energy= 3.40544896363507   occ= 0\n",
      "MO #131 energy= 3.4691338198732    occ= 0\n",
      "MO #132 energy= 3.47011044716417   occ= 0\n",
      "MO #133 energy= 3.48140325063858   occ= 0\n",
      "MO #134 energy= 3.51805573040024   occ= 0\n",
      "MO #135 energy= 3.57674102853687   occ= 0\n",
      "MO #136 energy= 3.6071892363465    occ= 0\n",
      "MO #137 energy= 3.6321079049688    occ= 0\n",
      "MO #138 energy= 3.66050836870627   occ= 0\n",
      "MO #139 energy= 3.74794763597277   occ= 0\n",
      "MO #140 energy= 3.77379490956182   occ= 0\n",
      "MO #141 energy= 3.79178716675509   occ= 0\n",
      "MO #142 energy= 3.80302407720527   occ= 0\n",
      "MO #143 energy= 3.84985997779955   occ= 0\n",
      "MO #144 energy= 3.90981869641042   occ= 0\n",
      "MO #145 energy= 3.94303877057628   occ= 0\n",
      "MO #146 energy= 3.99108422881733   occ= 0\n",
      "MO #147 energy= 4.08433323490252   occ= 0\n",
      "MO #148 energy= 4.14573061057134   occ= 0\n",
      "MO #149 energy= 4.29227780347469   occ= 0\n",
      "MO #150 energy= 4.41927932558121   occ= 0\n",
      "MO #151 energy= 4.42701204396273   occ= 0\n",
      "MO #152 energy= 4.44375319181073   occ= 0\n",
      "MO #153 energy= 4.50611311606261   occ= 0\n",
      "MO #154 energy= 4.56061094578722   occ= 0\n",
      "MO #155 energy= 4.64102312547416   occ= 0\n",
      "MO #156 energy= 4.68343641903235   occ= 0\n",
      "MO #157 energy= 4.76563122311256   occ= 0\n",
      "MO #158 energy= 4.84812217236471   occ= 0\n",
      "MO #159 energy= 4.90799055428111   occ= 0\n",
      "MO #160 energy= 5.07043031656287   occ= 0\n",
      "MO #161 energy= 5.09731984947937   occ= 0\n",
      "MO #162 energy= 5.21035008208456   occ= 0\n",
      "MO #163 energy= 5.21508564515527   occ= 0\n",
      "MO #164 energy= 5.26922610892103   occ= 0\n",
      "MO #165 energy= 5.31357506201445   occ= 0\n",
      "MO #166 energy= 5.45167598681265   occ= 0\n",
      "MO #167 energy= 5.59939504929095   occ= 0\n",
      "MO #168 energy= 5.67805598748812   occ= 0\n",
      "MO #169 energy= 5.81765778730318   occ= 0\n",
      "MO #170 energy= 5.85571885380882   occ= 0\n",
      "MO #171 energy= 5.98011762772533   occ= 0\n",
      "MO #172 energy= 9.53420676376284   occ= 0\n",
      "MO #173 energy= 9.95023635856233   occ= 0\n",
      "MO #174 energy= 10.0600637614584   occ= 0\n",
      "MO #175 energy= 20.4696853066271   occ= 0\n",
      "MO #176 energy= 23.1255280812082   occ= 0\n",
      "MO #177 energy= 23.6081017067705   occ= 0\n",
      "MO #178 energy= 23.7752820079648   occ= 0\n",
      "MO #179 energy= 33.3212421667698   occ= 0\n",
      " ** Mulliken pop on meta-lowdin orthogonal AOs  **\n",
      " ** Mulliken pop  **\n",
      "pop of  0 C 1s            1.99999\n",
      "pop of  0 C 2s            1.03859\n",
      "pop of  0 C 3s            0.00423\n",
      "pop of  0 C 4s            0.00149\n",
      "pop of  0 C 5s            0.00009\n",
      "pop of  0 C 2px           1.07405\n",
      "pop of  0 C 2py           1.04848\n",
      "pop of  0 C 2pz           1.00737\n",
      "pop of  0 C 3px           0.00409\n",
      "pop of  0 C 3py           0.00463\n",
      "pop of  0 C 3pz           0.00557\n",
      "pop of  0 C 4px           0.00143\n",
      "pop of  0 C 4py           0.00138\n",
      "pop of  0 C 4pz           0.00062\n",
      "pop of  0 C 3dxy          0.00431\n",
      "pop of  0 C 3dyz          0.00292\n",
      "pop of  0 C 3dz^2         0.00274\n",
      "pop of  0 C 3dxz          0.00322\n",
      "pop of  0 C 3dx2-y2       0.00184\n",
      "pop of  0 C 4dxy          0.00031\n",
      "pop of  0 C 4dyz          0.00023\n",
      "pop of  0 C 4dz^2         0.00016\n",
      "pop of  0 C 4dxz          0.00023\n",
      "pop of  0 C 4dx2-y2       0.00054\n",
      "pop of  0 C 4f-3          0.00064\n",
      "pop of  0 C 4f-2          0.00065\n",
      "pop of  0 C 4f-1          0.00037\n",
      "pop of  0 C 4f+0          0.00067\n",
      "pop of  0 C 4f+1          0.00044\n",
      "pop of  0 C 4f+2          0.00041\n",
      "pop of  0 C 4f+3          0.00071\n",
      "pop of  1 C 1s            1.99999\n",
      "pop of  1 C 2s            0.98768\n",
      "pop of  1 C 3s            0.00385\n",
      "pop of  1 C 4s            0.00048\n",
      "pop of  1 C 5s            0.00012\n",
      "pop of  1 C 2px           1.03332\n",
      "pop of  1 C 2py           1.05879\n",
      "pop of  1 C 2pz           1.06557\n",
      "pop of  1 C 3px           0.00545\n",
      "pop of  1 C 3py           0.00466\n",
      "pop of  1 C 3pz           0.00665\n",
      "pop of  1 C 4px           0.00044\n",
      "pop of  1 C 4py           0.00094\n",
      "pop of  1 C 4pz           0.00020\n",
      "pop of  1 C 3dxy          0.00147\n",
      "pop of  1 C 3dyz          0.00135\n",
      "pop of  1 C 3dz^2         0.00179\n",
      "pop of  1 C 3dxz          0.00193\n",
      "pop of  1 C 3dx2-y2       0.00297\n",
      "pop of  1 C 4dxy          0.00071\n",
      "pop of  1 C 4dyz          0.00026\n",
      "pop of  1 C 4dz^2         0.00013\n",
      "pop of  1 C 4dxz          0.00017\n",
      "pop of  1 C 4dx2-y2       0.00022\n",
      "pop of  1 C 4f-3          0.00026\n",
      "pop of  1 C 4f-2          0.00037\n",
      "pop of  1 C 4f-1          0.00031\n",
      "pop of  1 C 4f+0          0.00040\n",
      "pop of  1 C 4f+1          0.00027\n",
      "pop of  1 C 4f+2          0.00031\n",
      "pop of  1 C 4f+3          0.00081\n",
      "pop of  2 H 1s            0.85023\n",
      "pop of  2 H 2s            0.00684\n",
      "pop of  2 H 3s            0.00255\n",
      "pop of  2 H 2px           0.00107\n",
      "pop of  2 H 2py           0.00022\n",
      "pop of  2 H 2pz           0.00028\n",
      "pop of  3 H 1s            0.86997\n",
      "pop of  3 H 2s            0.00608\n",
      "pop of  3 H 3s            0.00223\n",
      "pop of  3 H 2px           0.00044\n",
      "pop of  3 H 2py           0.00082\n",
      "pop of  3 H 2pz           0.00026\n",
      "pop of  4 S 1s            2.00000\n",
      "pop of  4 S 2s            1.99995\n",
      "pop of  4 S 3s            1.67932\n",
      "pop of  4 S 4s            0.00363\n",
      "pop of  4 S 5s            0.00006\n",
      "pop of  4 S 2px           1.99997\n",
      "pop of  4 S 2py           1.99998\n",
      "pop of  4 S 2pz           1.99999\n",
      "pop of  4 S 3px           0.98899\n",
      "pop of  4 S 3py           1.28623\n",
      "pop of  4 S 3pz           1.57362\n",
      "pop of  4 S 4px           0.01108\n",
      "pop of  4 S 4py           0.00382\n",
      "pop of  4 S 4pz           0.00396\n",
      "pop of  4 S 5px           0.00121\n",
      "pop of  4 S 5py           0.00028\n",
      "pop of  4 S 5pz           0.00049\n",
      "pop of  4 S 6px           0.00020\n",
      "pop of  4 S 6py           0.00013\n",
      "pop of  4 S 6pz           0.00011\n",
      "pop of  4 S 3dxy          0.01445\n",
      "pop of  4 S 3dyz          0.00676\n",
      "pop of  4 S 3dz^2         0.00995\n",
      "pop of  4 S 3dxz          0.01066\n",
      "pop of  4 S 3dx2-y2       0.00817\n",
      "pop of  4 S 4dxy          0.00174\n",
      "pop of  4 S 4dyz          0.00040\n",
      "pop of  4 S 4dz^2         0.00004\n",
      "pop of  4 S 4dxz          0.00024\n",
      "pop of  4 S 4dx2-y2       0.00064\n",
      "pop of  4 S 4f-3          0.00039\n",
      "pop of  4 S 4f-2          0.00068\n",
      "pop of  4 S 4f-1          0.00033\n",
      "pop of  4 S 4f+0          0.00026\n",
      "pop of  4 S 4f+1          0.00043\n",
      "pop of  4 S 4f+2          0.00014\n",
      "pop of  4 S 4f+3          0.00014\n",
      "pop of  5 N 1s            1.99999\n",
      "pop of  5 N 2s            1.50101\n",
      "pop of  5 N 3s            0.00872\n",
      "pop of  5 N 4s            0.00197\n",
      "pop of  5 N 5s            0.00008\n",
      "pop of  5 N 2px           1.47637\n",
      "pop of  5 N 2py           1.09914\n",
      "pop of  5 N 2pz           1.29577\n",
      "pop of  5 N 3px           0.01000\n",
      "pop of  5 N 3py           0.00327\n",
      "pop of  5 N 3pz           0.00894\n",
      "pop of  5 N 4px           0.00091\n",
      "pop of  5 N 4py           0.00156\n",
      "pop of  5 N 4pz           0.00036\n",
      "pop of  5 N 3dxy          0.00624\n",
      "pop of  5 N 3dyz          0.00220\n",
      "pop of  5 N 3dz^2         0.00386\n",
      "pop of  5 N 3dxz          0.00392\n",
      "pop of  5 N 3dx2-y2       0.00169\n",
      "pop of  5 N 4dxy          0.00037\n",
      "pop of  5 N 4dyz          0.00011\n",
      "pop of  5 N 4dz^2         0.00028\n",
      "pop of  5 N 4dxz          0.00027\n",
      "pop of  5 N 4dx2-y2       0.00016\n",
      "pop of  5 N 4f-3          0.00019\n",
      "pop of  5 N 4f-2          0.00006\n",
      "pop of  5 N 4f-1          0.00018\n",
      "pop of  5 N 4f+0          0.00030\n",
      "pop of  5 N 4f+1          0.00015\n",
      "pop of  5 N 4f+2          0.00014\n",
      "pop of  5 N 4f+3          0.00064\n",
      "pop of  6 C 1s            1.99999\n",
      "pop of  6 C 2s            0.98563\n",
      "pop of  6 C 3s            0.00567\n",
      "pop of  6 C 4s            0.00089\n",
      "pop of  6 C 5s            0.00018\n",
      "pop of  6 C 2px           0.99198\n",
      "pop of  6 C 2py           1.00978\n",
      "pop of  6 C 2pz           0.92270\n",
      "pop of  6 C 3px           0.00742\n",
      "pop of  6 C 3py           0.00622\n",
      "pop of  6 C 3pz           0.00508\n",
      "pop of  6 C 4px           0.00044\n",
      "pop of  6 C 4py           0.00120\n",
      "pop of  6 C 4pz           0.00019\n",
      "pop of  6 C 3dxy          0.00281\n",
      "pop of  6 C 3dyz          0.00293\n",
      "pop of  6 C 3dz^2         0.00283\n",
      "pop of  6 C 3dxz          0.00225\n",
      "pop of  6 C 3dx2-y2       0.00442\n",
      "pop of  6 C 4dxy          0.00072\n",
      "pop of  6 C 4dyz          0.00018\n",
      "pop of  6 C 4dz^2         0.00010\n",
      "pop of  6 C 4dxz          0.00017\n",
      "pop of  6 C 4dx2-y2       0.00007\n",
      "pop of  6 C 4f-3          0.00010\n",
      "pop of  6 C 4f-2          0.00022\n",
      "pop of  6 C 4f-1          0.00046\n",
      "pop of  6 C 4f+0          0.00033\n",
      "pop of  6 C 4f+1          0.00028\n",
      "pop of  6 C 4f+2          0.00045\n",
      "pop of  6 C 4f+3          0.00097\n",
      "pop of  7 H 1s            0.85880\n",
      "pop of  7 H 2s            0.00760\n",
      "pop of  7 H 3s            0.00264\n",
      "pop of  7 H 2px           0.00062\n",
      "pop of  7 H 2py           0.00105\n",
      "pop of  7 H 2pz           0.00012\n",
      " ** Mulliken atomic charges  **\n",
      "charge of    0C =     -0.21241\n",
      "charge of    1C =     -0.18188\n",
      "charge of    2H =      0.13882\n",
      "charge of    3H =      0.12021\n",
      "charge of    4S =      0.39156\n",
      "charge of    5N =     -0.42881\n",
      "charge of    6C =      0.04335\n",
      "charge of    7H =      0.12916\n",
      "Dipole moment(X, Y, Z, Debye):  2.22864, -1.17185, -1.18845\n"
     ]
    },
    {
     "data": {
      "text/plain": [
       "((array([1.99998886e+00, 1.03858952e+00, 4.23065027e-03, 1.49428395e-03,\n",
       "         9.34841475e-05, 1.07404551e+00, 1.04848290e+00, 1.00737262e+00,\n",
       "         4.08533631e-03, 4.63391168e-03, 5.57112392e-03, 1.43381278e-03,\n",
       "         1.37959153e-03, 6.19078015e-04, 4.30877360e-03, 2.92302639e-03,\n",
       "         2.74399481e-03, 3.21683445e-03, 1.84428469e-03, 3.06101523e-04,\n",
       "         2.29534596e-04, 1.61751004e-04, 2.27728746e-04, 5.40201124e-04,\n",
       "         6.35204577e-04, 6.45354838e-04, 3.71871609e-04, 6.71088916e-04,\n",
       "         4.36315171e-04, 4.10706479e-04, 7.13075621e-04, 1.99998814e+00,\n",
       "         9.87682206e-01, 3.84591491e-03, 4.84446023e-04, 1.24598282e-04,\n",
       "         1.03332054e+00, 1.05879114e+00, 1.06557091e+00, 5.45358680e-03,\n",
       "         4.66458378e-03, 6.65003229e-03, 4.38747345e-04, 9.38392544e-04,\n",
       "         2.02485679e-04, 1.46980838e-03, 1.34956817e-03, 1.79067050e-03,\n",
       "         1.93498186e-03, 2.96683501e-03, 7.10323808e-04, 2.59377247e-04,\n",
       "         1.30602196e-04, 1.67722395e-04, 2.24037851e-04, 2.57769053e-04,\n",
       "         3.68524844e-04, 3.13017097e-04, 3.98702492e-04, 2.68425304e-04,\n",
       "         3.06306497e-04, 8.09250094e-04, 8.50225576e-01, 6.83686748e-03,\n",
       "         2.55217987e-03, 1.06900208e-03, 2.17733782e-04, 2.78684904e-04,\n",
       "         8.69967612e-01, 6.07771025e-03, 2.22595576e-03, 4.41945048e-04,\n",
       "         8.21807746e-04, 2.58641418e-04, 1.99999709e+00, 1.99995116e+00,\n",
       "         1.67932158e+00, 3.62677005e-03, 6.42867013e-05, 1.99996884e+00,\n",
       "         1.99997959e+00, 1.99998898e+00, 9.88994167e-01, 1.28623405e+00,\n",
       "         1.57362436e+00, 1.10768733e-02, 3.81969102e-03, 3.96239918e-03,\n",
       "         1.20520113e-03, 2.81926460e-04, 4.91584887e-04, 1.99891982e-04,\n",
       "         1.34350792e-04, 1.05329666e-04, 1.44510317e-02, 6.76344782e-03,\n",
       "         9.94684803e-03, 1.06558558e-02, 8.16657883e-03, 1.73715287e-03,\n",
       "         4.02237619e-04, 3.76683693e-05, 2.36574566e-04, 6.37760008e-04,\n",
       "         3.92278560e-04, 6.82825660e-04, 3.30396930e-04, 2.64454197e-04,\n",
       "         4.27883331e-04, 1.36287898e-04, 1.44124701e-04, 1.99998793e+00,\n",
       "         1.50100899e+00, 8.72113617e-03, 1.96614048e-03, 7.91057868e-05,\n",
       "         1.47636730e+00, 1.09913607e+00, 1.29576754e+00, 1.00028062e-02,\n",
       "         3.27383662e-03, 8.93939440e-03, 9.11454633e-04, 1.55589893e-03,\n",
       "         3.59721942e-04, 6.23669470e-03, 2.19548778e-03, 3.86264448e-03,\n",
       "         3.91622559e-03, 1.69055113e-03, 3.70953089e-04, 1.13354299e-04,\n",
       "         2.81760808e-04, 2.65204382e-04, 1.55399944e-04, 1.85037044e-04,\n",
       "         6.00614766e-05, 1.75348607e-04, 2.95875090e-04, 1.46968814e-04,\n",
       "         1.42778169e-04, 6.41124983e-04, 1.99998868e+00, 9.85631037e-01,\n",
       "         5.67252726e-03, 8.86646538e-04, 1.84458280e-04, 9.91978856e-01,\n",
       "         1.00977795e+00, 9.22704073e-01, 7.42318797e-03, 6.21748671e-03,\n",
       "         5.08137444e-03, 4.39003775e-04, 1.19747895e-03, 1.86565574e-04,\n",
       "         2.80512383e-03, 2.93045533e-03, 2.83273963e-03, 2.25313972e-03,\n",
       "         4.41793666e-03, 7.15930720e-04, 1.83744606e-04, 9.76973267e-05,\n",
       "         1.72197923e-04, 6.51785377e-05, 9.66174775e-05, 2.24416247e-04,\n",
       "         4.59772208e-04, 3.25094959e-04, 2.80750915e-04, 4.52335591e-04,\n",
       "         9.65042423e-04, 8.58801942e-01, 7.59823603e-03, 2.64117192e-03,\n",
       "         6.24755232e-04, 1.04754763e-03, 1.22619679e-04]),\n",
       "  array([-0.21240653, -0.18188165,  0.13881996,  0.12020633,  0.39155846,\n",
       "         -0.42881279,  0.0433525 ,  0.12916373])),\n",
       " array([ 2.22863849, -1.1718451 , -1.18845   ]))"
      ]
     },
     "execution_count": 23,
     "metadata": {},
     "output_type": "execute_result"
    }
   ],
   "source": [
    "mf.analyze(verbose = 4) # on analyse le champ moyen avec un niveau de detail 4"
   ]
  },
  {
   "cell_type": "markdown",
   "id": "1518bba3-e3a9-439d-b652-2db018c996ad",
   "metadata": {},
   "source": [
    "### Ensemble de bases de calcul "
   ]
  },
  {
   "cell_type": "code",
   "execution_count": 24,
   "id": "c4b5c328-7c8e-437f-ac37-f8e4df9047bf",
   "metadata": {},
   "outputs": [],
   "source": [
    "basis_sets = [\n",
    "    \"STO-3G\",           # Simple zeta, minimal basis\n",
    "    \"3-21G\",            # Double zeta with 3 Gaussian primitives\n",
    "    \"6-31G\",            # Double zeta with 6 Gaussian primitives\n",
    "    \"6-31G*\",           # Double zeta with 6 Gaussian primitives\n",
    "    \"6-31G(d,p)\",       # Polarization functions (+ 5 d-orbitals for all atoms except H, +3 p-orbitals for H atoms) added\n",
    "    \"6-311G(d,p)\",      # Triple zeta with polarization functions\n",
    "    \"6-311+G(d,p)\",     # Triple zeta with polarization functions and diffuse functions\n",
    "    \"cc-pvqz\",          # Quadruple zeta\n",
    "    \"cc-pv5z\",          # Quintuple zeta\n",
    "    \"def2-SVP\",         # Double zeta with polarization functions\n",
    "    \"def2-SVPD\",         # Double zeta with polarization functions and diffuse functions\n",
    "    \"def2-TZVP\",        # Triple zeta with polarization functions\n",
    "    \"def2-TZVPD\",       # Triple zeta with polarization functions and diffuse functions\n",
    "    \"def2-TZVPP\",       # Triple zeta with polarization functions and diffuse functions\n",
    "    \"def2-TZVPPD\",      # Triple zeta with polarization functions, diffuse functions, and d functions\n",
    "    \"def2-QZVP\",        # Quadruple zeta with polarization functions\n",
    "    \"def2-QZVPP\",       # Quadruple zeta with polarization functions and diffuse functions\n",
    "    \"def2-QZVPPD\",      # Quadruple zeta with polarization functions, diffuse functions, and d functions\n",
    "    \"def2-QZVPD\",       # Quadruple zeta with polarization functions and diffuse functions\n",
    "    \"def2-QZVPPD\",      # Quadruple zeta with polarization functions, diffuse functions, and d functions\n",
    "]"
   ]
  },
  {
   "cell_type": "code",
   "execution_count": 25,
   "id": "6ebd1665-087b-46e7-91d1-05a69798d4b8",
   "metadata": {},
   "outputs": [
    {
     "name": "stdout",
     "output_type": "stream",
     "text": [
      "converged SCF energy = -560.839162479208\n",
      "converged SCF energy = -564.353910370577\n",
      "converged SCF energy = -567.14659720878\n",
      "converged SCF energy = -567.271438515033\n",
      "converged SCF energy = -567.277171175378\n",
      "converged SCF energy = -567.332421478453\n",
      "converged SCF energy = -567.337216126817\n"
     ]
    },
    {
     "name": "stdout",
     "output_type": "stream",
     "text": [
      "converged SCF energy = -567.386205746625\n",
      "converged SCF energy = -567.390991904292\n",
      "converged SCF energy = -567.03322381821\n",
      "converged SCF energy = -567.047677122676\n",
      "converged SCF energy = -567.370561140446\n",
      "converged SCF energy = -567.3714549239\n",
      "converged SCF energy = -567.371711409627\n",
      "converged SCF energy = -567.372532084781\n",
      "converged SCF energy = -567.390181136282\n",
      "converged SCF energy = -567.390181136281\n",
      "converged SCF energy = -567.390318544903\n",
      "converged SCF energy = -567.390318544903\n",
      "converged SCF energy = -567.390318544902\n"
     ]
    }
   ],
   "source": [
    "import time                  # on importe le module 'time' qui permettra de mesurer le temps pour chaque calcul\n",
    "\n",
    "mf_energies = list()        # cette liste servira à stocker l' energie pour chaque base\n",
    "mf_times = list()           #Cette liste servira à stocker les temps d'exécution des calculs HF pour chaque base \n",
    "nb_prim = list()             #Cette liste servira à stocker le nombre de fonctions de base primitives pour chaque base\n",
    "\n",
    "# Perform a Mean-Field calculation for each basis set\n",
    "for bs in basis_sets:\n",
    "\n",
    "    # Measure execution time\n",
    "    start = time.time()            # Enregistre l'heure de debut de calcul\n",
    "    Thiazole_mol.basis = bs            # change la base de calcul\n",
    "    Thiazole_mol.build()\n",
    "\n",
    "    mf = scf.RHF(Thiazole_mol)       #crée un nouvel objet mf pour le calcul Hartree-Fock restreint (RHF) sur la molécule DWat_mol\n",
    "    mf.kernel()\n",
    "    end = time.time()             # Enregistre l'heure de fin du calcul\n",
    "\n",
    "    nb_prim.append(Thiazole_mol.npgto_nr())\n",
    "    mf_energies.append(mf.e_tot)\n",
    "    mf_times.append(end-start)\n"
   ]
  },
  {
   "cell_type": "code",
   "execution_count": 26,
   "id": "5b321c5e-6867-430a-a0b9-725eacb8b07c",
   "metadata": {},
   "outputs": [
    {
     "data": {
      "text/html": [
       "<div>\n",
       "<style scoped>\n",
       "    .dataframe tbody tr th:only-of-type {\n",
       "        vertical-align: middle;\n",
       "    }\n",
       "\n",
       "    .dataframe tbody tr th {\n",
       "        vertical-align: top;\n",
       "    }\n",
       "\n",
       "    .dataframe thead th {\n",
       "        text-align: right;\n",
       "    }\n",
       "</style>\n",
       "<table border=\"1\" class=\"dataframe\">\n",
       "  <thead>\n",
       "    <tr style=\"text-align: right;\">\n",
       "      <th></th>\n",
       "      <th>Basis</th>\n",
       "      <th>Nb of GTO primitives</th>\n",
       "      <th>Total energy</th>\n",
       "      <th>Time</th>\n",
       "    </tr>\n",
       "  </thead>\n",
       "  <tbody>\n",
       "    <tr>\n",
       "      <th>0</th>\n",
       "      <td>STO-3G</td>\n",
       "      <td>96</td>\n",
       "      <td>-560.839162</td>\n",
       "      <td>0.288040</td>\n",
       "    </tr>\n",
       "    <tr>\n",
       "      <th>1</th>\n",
       "      <td>3-21G</td>\n",
       "      <td>96</td>\n",
       "      <td>-564.353910</td>\n",
       "      <td>0.266673</td>\n",
       "    </tr>\n",
       "    <tr>\n",
       "      <th>2</th>\n",
       "      <td>6-31G</td>\n",
       "      <td>146</td>\n",
       "      <td>-567.146597</td>\n",
       "      <td>0.443223</td>\n",
       "    </tr>\n",
       "    <tr>\n",
       "      <th>3</th>\n",
       "      <td>6-31G*</td>\n",
       "      <td>171</td>\n",
       "      <td>-567.271439</td>\n",
       "      <td>0.802366</td>\n",
       "    </tr>\n",
       "    <tr>\n",
       "      <th>4</th>\n",
       "      <td>6-31G(d,p)</td>\n",
       "      <td>180</td>\n",
       "      <td>-567.277171</td>\n",
       "      <td>1.037844</td>\n",
       "    </tr>\n",
       "    <tr>\n",
       "      <th>5</th>\n",
       "      <td>6-311G(d,p)</td>\n",
       "      <td>193</td>\n",
       "      <td>-567.332421</td>\n",
       "      <td>1.983811</td>\n",
       "    </tr>\n",
       "    <tr>\n",
       "      <th>6</th>\n",
       "      <td>6-311+G(d,p)</td>\n",
       "      <td>213</td>\n",
       "      <td>-567.337216</td>\n",
       "      <td>3.883636</td>\n",
       "    </tr>\n",
       "    <tr>\n",
       "      <th>7</th>\n",
       "      <td>cc-pvqz</td>\n",
       "      <td>455</td>\n",
       "      <td>-567.386206</td>\n",
       "      <td>652.236078</td>\n",
       "    </tr>\n",
       "    <tr>\n",
       "      <th>8</th>\n",
       "      <td>cc-pv5z</td>\n",
       "      <td>732</td>\n",
       "      <td>-567.390992</td>\n",
       "      <td>8706.436098</td>\n",
       "    </tr>\n",
       "    <tr>\n",
       "      <th>9</th>\n",
       "      <td>def2-SVP</td>\n",
       "      <td>153</td>\n",
       "      <td>-567.033224</td>\n",
       "      <td>0.891997</td>\n",
       "    </tr>\n",
       "    <tr>\n",
       "      <th>10</th>\n",
       "      <td>def2-SVPD</td>\n",
       "      <td>195</td>\n",
       "      <td>-567.047677</td>\n",
       "      <td>2.806958</td>\n",
       "    </tr>\n",
       "    <tr>\n",
       "      <th>11</th>\n",
       "      <td>def2-TZVP</td>\n",
       "      <td>271</td>\n",
       "      <td>-567.370561</td>\n",
       "      <td>8.482393</td>\n",
       "    </tr>\n",
       "    <tr>\n",
       "      <th>12</th>\n",
       "      <td>def2-TZVPD</td>\n",
       "      <td>313</td>\n",
       "      <td>-567.371455</td>\n",
       "      <td>18.701085</td>\n",
       "    </tr>\n",
       "    <tr>\n",
       "      <th>13</th>\n",
       "      <td>def2-TZVPP</td>\n",
       "      <td>295</td>\n",
       "      <td>-567.371711</td>\n",
       "      <td>17.105783</td>\n",
       "    </tr>\n",
       "    <tr>\n",
       "      <th>14</th>\n",
       "      <td>def2-TZVPPD</td>\n",
       "      <td>337</td>\n",
       "      <td>-567.372532</td>\n",
       "      <td>134.696742</td>\n",
       "    </tr>\n",
       "    <tr>\n",
       "      <th>15</th>\n",
       "      <td>def2-QZVP</td>\n",
       "      <td>512</td>\n",
       "      <td>-567.390181</td>\n",
       "      <td>793.946957</td>\n",
       "    </tr>\n",
       "    <tr>\n",
       "      <th>16</th>\n",
       "      <td>def2-QZVPP</td>\n",
       "      <td>512</td>\n",
       "      <td>-567.390181</td>\n",
       "      <td>632.870744</td>\n",
       "    </tr>\n",
       "    <tr>\n",
       "      <th>17</th>\n",
       "      <td>def2-QZVPPD</td>\n",
       "      <td>554</td>\n",
       "      <td>-567.390319</td>\n",
       "      <td>965.277786</td>\n",
       "    </tr>\n",
       "    <tr>\n",
       "      <th>18</th>\n",
       "      <td>def2-QZVPD</td>\n",
       "      <td>554</td>\n",
       "      <td>-567.390319</td>\n",
       "      <td>962.906580</td>\n",
       "    </tr>\n",
       "    <tr>\n",
       "      <th>19</th>\n",
       "      <td>def2-QZVPPD</td>\n",
       "      <td>554</td>\n",
       "      <td>-567.390319</td>\n",
       "      <td>976.773329</td>\n",
       "    </tr>\n",
       "  </tbody>\n",
       "</table>\n",
       "</div>"
      ],
      "text/plain": [
       "           Basis  Nb of GTO primitives  Total energy         Time\n",
       "0         STO-3G                    96   -560.839162     0.288040\n",
       "1          3-21G                    96   -564.353910     0.266673\n",
       "2          6-31G                   146   -567.146597     0.443223\n",
       "3         6-31G*                   171   -567.271439     0.802366\n",
       "4     6-31G(d,p)                   180   -567.277171     1.037844\n",
       "5    6-311G(d,p)                   193   -567.332421     1.983811\n",
       "6   6-311+G(d,p)                   213   -567.337216     3.883636\n",
       "7        cc-pvqz                   455   -567.386206   652.236078\n",
       "8        cc-pv5z                   732   -567.390992  8706.436098\n",
       "9       def2-SVP                   153   -567.033224     0.891997\n",
       "10     def2-SVPD                   195   -567.047677     2.806958\n",
       "11     def2-TZVP                   271   -567.370561     8.482393\n",
       "12    def2-TZVPD                   313   -567.371455    18.701085\n",
       "13    def2-TZVPP                   295   -567.371711    17.105783\n",
       "14   def2-TZVPPD                   337   -567.372532   134.696742\n",
       "15     def2-QZVP                   512   -567.390181   793.946957\n",
       "16    def2-QZVPP                   512   -567.390181   632.870744\n",
       "17   def2-QZVPPD                   554   -567.390319   965.277786\n",
       "18    def2-QZVPD                   554   -567.390319   962.906580\n",
       "19   def2-QZVPPD                   554   -567.390319   976.773329"
      ]
     },
     "execution_count": 26,
     "metadata": {},
     "output_type": "execute_result"
    }
   ],
   "source": [
    "# Create the results dataframe\n",
    "import pandas as pd                    \n",
    "\n",
    "df_HF = pd.DataFrame({\"Basis\":basis_sets, \n",
    "                      'Nb of GTO primitives':nb_prim, \n",
    "                      'Total energy':mf_energies,\n",
    "                      \"Time\":mf_times})\n",
    "\n",
    "df_HF                                                                \n"
   ]
  },
  {
   "cell_type": "code",
   "execution_count": 27,
   "id": "76abb655-5dad-4f71-bf4c-70667b87b6ee",
   "metadata": {},
   "outputs": [
    {
     "data": {
      "application/javascript": "/* Put everything inside the global mpl namespace */\n/* global mpl */\nwindow.mpl = {};\n\nmpl.get_websocket_type = function () {\n    if (typeof WebSocket !== 'undefined') {\n        return WebSocket;\n    } else if (typeof MozWebSocket !== 'undefined') {\n        return MozWebSocket;\n    } else {\n        alert(\n            'Your browser does not have WebSocket support. ' +\n                'Please try Chrome, Safari or Firefox ≥ 6. ' +\n                'Firefox 4 and 5 are also supported but you ' +\n                'have to enable WebSockets in about:config.'\n        );\n    }\n};\n\nmpl.figure = function (figure_id, websocket, ondownload, parent_element) {\n    this.id = figure_id;\n\n    this.ws = websocket;\n\n    this.supports_binary = this.ws.binaryType !== undefined;\n\n    if (!this.supports_binary) {\n        var warnings = document.getElementById('mpl-warnings');\n        if (warnings) {\n            warnings.style.display = 'block';\n            warnings.textContent =\n                'This browser does not support binary websocket messages. ' +\n                'Performance may be slow.';\n        }\n    }\n\n    this.imageObj = new Image();\n\n    this.context = undefined;\n    this.message = undefined;\n    this.canvas = undefined;\n    this.rubberband_canvas = undefined;\n    this.rubberband_context = undefined;\n    this.format_dropdown = undefined;\n\n    this.image_mode = 'full';\n\n    this.root = document.createElement('div');\n    this.root.setAttribute('style', 'display: inline-block');\n    this._root_extra_style(this.root);\n\n    parent_element.appendChild(this.root);\n\n    this._init_header(this);\n    this._init_canvas(this);\n    this._init_toolbar(this);\n\n    var fig = this;\n\n    this.waiting = false;\n\n    this.ws.onopen = function () {\n        fig.send_message('supports_binary', { value: fig.supports_binary });\n        fig.send_message('send_image_mode', {});\n        if (fig.ratio !== 1) {\n            fig.send_message('set_device_pixel_ratio', {\n                device_pixel_ratio: fig.ratio,\n            });\n        }\n        fig.send_message('refresh', {});\n    };\n\n    this.imageObj.onload = function () {\n        if (fig.image_mode === 'full') {\n            // Full images could contain transparency (where diff images\n            // almost always do), so we need to clear the canvas so that\n            // there is no ghosting.\n            fig.context.clearRect(0, 0, fig.canvas.width, fig.canvas.height);\n        }\n        fig.context.drawImage(fig.imageObj, 0, 0);\n    };\n\n    this.imageObj.onunload = function () {\n        fig.ws.close();\n    };\n\n    this.ws.onmessage = this._make_on_message_function(this);\n\n    this.ondownload = ondownload;\n};\n\nmpl.figure.prototype._init_header = function () {\n    var titlebar = document.createElement('div');\n    titlebar.classList =\n        'ui-dialog-titlebar ui-widget-header ui-corner-all ui-helper-clearfix';\n    var titletext = document.createElement('div');\n    titletext.classList = 'ui-dialog-title';\n    titletext.setAttribute(\n        'style',\n        'width: 100%; text-align: center; padding: 3px;'\n    );\n    titlebar.appendChild(titletext);\n    this.root.appendChild(titlebar);\n    this.header = titletext;\n};\n\nmpl.figure.prototype._canvas_extra_style = function (_canvas_div) {};\n\nmpl.figure.prototype._root_extra_style = function (_canvas_div) {};\n\nmpl.figure.prototype._init_canvas = function () {\n    var fig = this;\n\n    var canvas_div = (this.canvas_div = document.createElement('div'));\n    canvas_div.setAttribute('tabindex', '0');\n    canvas_div.setAttribute(\n        'style',\n        'border: 1px solid #ddd;' +\n            'box-sizing: content-box;' +\n            'clear: both;' +\n            'min-height: 1px;' +\n            'min-width: 1px;' +\n            'outline: 0;' +\n            'overflow: hidden;' +\n            'position: relative;' +\n            'resize: both;' +\n            'z-index: 2;'\n    );\n\n    function on_keyboard_event_closure(name) {\n        return function (event) {\n            return fig.key_event(event, name);\n        };\n    }\n\n    canvas_div.addEventListener(\n        'keydown',\n        on_keyboard_event_closure('key_press')\n    );\n    canvas_div.addEventListener(\n        'keyup',\n        on_keyboard_event_closure('key_release')\n    );\n\n    this._canvas_extra_style(canvas_div);\n    this.root.appendChild(canvas_div);\n\n    var canvas = (this.canvas = document.createElement('canvas'));\n    canvas.classList.add('mpl-canvas');\n    canvas.setAttribute(\n        'style',\n        'box-sizing: content-box;' +\n            'pointer-events: none;' +\n            'position: relative;' +\n            'z-index: 0;'\n    );\n\n    this.context = canvas.getContext('2d');\n\n    var backingStore =\n        this.context.backingStorePixelRatio ||\n        this.context.webkitBackingStorePixelRatio ||\n        this.context.mozBackingStorePixelRatio ||\n        this.context.msBackingStorePixelRatio ||\n        this.context.oBackingStorePixelRatio ||\n        this.context.backingStorePixelRatio ||\n        1;\n\n    this.ratio = (window.devicePixelRatio || 1) / backingStore;\n\n    var rubberband_canvas = (this.rubberband_canvas = document.createElement(\n        'canvas'\n    ));\n    rubberband_canvas.setAttribute(\n        'style',\n        'box-sizing: content-box;' +\n            'left: 0;' +\n            'pointer-events: none;' +\n            'position: absolute;' +\n            'top: 0;' +\n            'z-index: 1;'\n    );\n\n    // Apply a ponyfill if ResizeObserver is not implemented by browser.\n    if (this.ResizeObserver === undefined) {\n        if (window.ResizeObserver !== undefined) {\n            this.ResizeObserver = window.ResizeObserver;\n        } else {\n            var obs = _JSXTOOLS_RESIZE_OBSERVER({});\n            this.ResizeObserver = obs.ResizeObserver;\n        }\n    }\n\n    this.resizeObserverInstance = new this.ResizeObserver(function (entries) {\n        var nentries = entries.length;\n        for (var i = 0; i < nentries; i++) {\n            var entry = entries[i];\n            var width, height;\n            if (entry.contentBoxSize) {\n                if (entry.contentBoxSize instanceof Array) {\n                    // Chrome 84 implements new version of spec.\n                    width = entry.contentBoxSize[0].inlineSize;\n                    height = entry.contentBoxSize[0].blockSize;\n                } else {\n                    // Firefox implements old version of spec.\n                    width = entry.contentBoxSize.inlineSize;\n                    height = entry.contentBoxSize.blockSize;\n                }\n            } else {\n                // Chrome <84 implements even older version of spec.\n                width = entry.contentRect.width;\n                height = entry.contentRect.height;\n            }\n\n            // Keep the size of the canvas and rubber band canvas in sync with\n            // the canvas container.\n            if (entry.devicePixelContentBoxSize) {\n                // Chrome 84 implements new version of spec.\n                canvas.setAttribute(\n                    'width',\n                    entry.devicePixelContentBoxSize[0].inlineSize\n                );\n                canvas.setAttribute(\n                    'height',\n                    entry.devicePixelContentBoxSize[0].blockSize\n                );\n            } else {\n                canvas.setAttribute('width', width * fig.ratio);\n                canvas.setAttribute('height', height * fig.ratio);\n            }\n            /* This rescales the canvas back to display pixels, so that it\n             * appears correct on HiDPI screens. */\n            canvas.style.width = width + 'px';\n            canvas.style.height = height + 'px';\n\n            rubberband_canvas.setAttribute('width', width);\n            rubberband_canvas.setAttribute('height', height);\n\n            // And update the size in Python. We ignore the initial 0/0 size\n            // that occurs as the element is placed into the DOM, which should\n            // otherwise not happen due to the minimum size styling.\n            if (fig.ws.readyState == 1 && width != 0 && height != 0) {\n                fig.request_resize(width, height);\n            }\n        }\n    });\n    this.resizeObserverInstance.observe(canvas_div);\n\n    function on_mouse_event_closure(name) {\n        /* User Agent sniffing is bad, but WebKit is busted:\n         * https://bugs.webkit.org/show_bug.cgi?id=144526\n         * https://bugs.webkit.org/show_bug.cgi?id=181818\n         * The worst that happens here is that they get an extra browser\n         * selection when dragging, if this check fails to catch them.\n         */\n        var UA = navigator.userAgent;\n        var isWebKit = /AppleWebKit/.test(UA) && !/Chrome/.test(UA);\n        if(isWebKit) {\n            return function (event) {\n                /* This prevents the web browser from automatically changing to\n                 * the text insertion cursor when the button is pressed. We\n                 * want to control all of the cursor setting manually through\n                 * the 'cursor' event from matplotlib */\n                event.preventDefault()\n                return fig.mouse_event(event, name);\n            };\n        } else {\n            return function (event) {\n                return fig.mouse_event(event, name);\n            };\n        }\n    }\n\n    canvas_div.addEventListener(\n        'mousedown',\n        on_mouse_event_closure('button_press')\n    );\n    canvas_div.addEventListener(\n        'mouseup',\n        on_mouse_event_closure('button_release')\n    );\n    canvas_div.addEventListener(\n        'dblclick',\n        on_mouse_event_closure('dblclick')\n    );\n    // Throttle sequential mouse events to 1 every 20ms.\n    canvas_div.addEventListener(\n        'mousemove',\n        on_mouse_event_closure('motion_notify')\n    );\n\n    canvas_div.addEventListener(\n        'mouseenter',\n        on_mouse_event_closure('figure_enter')\n    );\n    canvas_div.addEventListener(\n        'mouseleave',\n        on_mouse_event_closure('figure_leave')\n    );\n\n    canvas_div.addEventListener('wheel', function (event) {\n        if (event.deltaY < 0) {\n            event.step = 1;\n        } else {\n            event.step = -1;\n        }\n        on_mouse_event_closure('scroll')(event);\n    });\n\n    canvas_div.appendChild(canvas);\n    canvas_div.appendChild(rubberband_canvas);\n\n    this.rubberband_context = rubberband_canvas.getContext('2d');\n    this.rubberband_context.strokeStyle = '#000000';\n\n    this._resize_canvas = function (width, height, forward) {\n        if (forward) {\n            canvas_div.style.width = width + 'px';\n            canvas_div.style.height = height + 'px';\n        }\n    };\n\n    // Disable right mouse context menu.\n    canvas_div.addEventListener('contextmenu', function (_e) {\n        event.preventDefault();\n        return false;\n    });\n\n    function set_focus() {\n        canvas.focus();\n        canvas_div.focus();\n    }\n\n    window.setTimeout(set_focus, 100);\n};\n\nmpl.figure.prototype._init_toolbar = function () {\n    var fig = this;\n\n    var toolbar = document.createElement('div');\n    toolbar.classList = 'mpl-toolbar';\n    this.root.appendChild(toolbar);\n\n    function on_click_closure(name) {\n        return function (_event) {\n            return fig.toolbar_button_onclick(name);\n        };\n    }\n\n    function on_mouseover_closure(tooltip) {\n        return function (event) {\n            if (!event.currentTarget.disabled) {\n                return fig.toolbar_button_onmouseover(tooltip);\n            }\n        };\n    }\n\n    fig.buttons = {};\n    var buttonGroup = document.createElement('div');\n    buttonGroup.classList = 'mpl-button-group';\n    for (var toolbar_ind in mpl.toolbar_items) {\n        var name = mpl.toolbar_items[toolbar_ind][0];\n        var tooltip = mpl.toolbar_items[toolbar_ind][1];\n        var image = mpl.toolbar_items[toolbar_ind][2];\n        var method_name = mpl.toolbar_items[toolbar_ind][3];\n\n        if (!name) {\n            /* Instead of a spacer, we start a new button group. */\n            if (buttonGroup.hasChildNodes()) {\n                toolbar.appendChild(buttonGroup);\n            }\n            buttonGroup = document.createElement('div');\n            buttonGroup.classList = 'mpl-button-group';\n            continue;\n        }\n\n        var button = (fig.buttons[name] = document.createElement('button'));\n        button.classList = 'mpl-widget';\n        button.setAttribute('role', 'button');\n        button.setAttribute('aria-disabled', 'false');\n        button.addEventListener('click', on_click_closure(method_name));\n        button.addEventListener('mouseover', on_mouseover_closure(tooltip));\n\n        var icon_img = document.createElement('img');\n        icon_img.src = '_images/' + image + '.png';\n        icon_img.srcset = '_images/' + image + '_large.png 2x';\n        icon_img.alt = tooltip;\n        button.appendChild(icon_img);\n\n        buttonGroup.appendChild(button);\n    }\n\n    if (buttonGroup.hasChildNodes()) {\n        toolbar.appendChild(buttonGroup);\n    }\n\n    var fmt_picker = document.createElement('select');\n    fmt_picker.classList = 'mpl-widget';\n    toolbar.appendChild(fmt_picker);\n    this.format_dropdown = fmt_picker;\n\n    for (var ind in mpl.extensions) {\n        var fmt = mpl.extensions[ind];\n        var option = document.createElement('option');\n        option.selected = fmt === mpl.default_extension;\n        option.innerHTML = fmt;\n        fmt_picker.appendChild(option);\n    }\n\n    var status_bar = document.createElement('span');\n    status_bar.classList = 'mpl-message';\n    toolbar.appendChild(status_bar);\n    this.message = status_bar;\n};\n\nmpl.figure.prototype.request_resize = function (x_pixels, y_pixels) {\n    // Request matplotlib to resize the figure. Matplotlib will then trigger a resize in the client,\n    // which will in turn request a refresh of the image.\n    this.send_message('resize', { width: x_pixels, height: y_pixels });\n};\n\nmpl.figure.prototype.send_message = function (type, properties) {\n    properties['type'] = type;\n    properties['figure_id'] = this.id;\n    this.ws.send(JSON.stringify(properties));\n};\n\nmpl.figure.prototype.send_draw_message = function () {\n    if (!this.waiting) {\n        this.waiting = true;\n        this.ws.send(JSON.stringify({ type: 'draw', figure_id: this.id }));\n    }\n};\n\nmpl.figure.prototype.handle_save = function (fig, _msg) {\n    var format_dropdown = fig.format_dropdown;\n    var format = format_dropdown.options[format_dropdown.selectedIndex].value;\n    fig.ondownload(fig, format);\n};\n\nmpl.figure.prototype.handle_resize = function (fig, msg) {\n    var size = msg['size'];\n    if (size[0] !== fig.canvas.width || size[1] !== fig.canvas.height) {\n        fig._resize_canvas(size[0], size[1], msg['forward']);\n        fig.send_message('refresh', {});\n    }\n};\n\nmpl.figure.prototype.handle_rubberband = function (fig, msg) {\n    var x0 = msg['x0'] / fig.ratio;\n    var y0 = (fig.canvas.height - msg['y0']) / fig.ratio;\n    var x1 = msg['x1'] / fig.ratio;\n    var y1 = (fig.canvas.height - msg['y1']) / fig.ratio;\n    x0 = Math.floor(x0) + 0.5;\n    y0 = Math.floor(y0) + 0.5;\n    x1 = Math.floor(x1) + 0.5;\n    y1 = Math.floor(y1) + 0.5;\n    var min_x = Math.min(x0, x1);\n    var min_y = Math.min(y0, y1);\n    var width = Math.abs(x1 - x0);\n    var height = Math.abs(y1 - y0);\n\n    fig.rubberband_context.clearRect(\n        0,\n        0,\n        fig.canvas.width / fig.ratio,\n        fig.canvas.height / fig.ratio\n    );\n\n    fig.rubberband_context.strokeRect(min_x, min_y, width, height);\n};\n\nmpl.figure.prototype.handle_figure_label = function (fig, msg) {\n    // Updates the figure title.\n    fig.header.textContent = msg['label'];\n};\n\nmpl.figure.prototype.handle_cursor = function (fig, msg) {\n    fig.canvas_div.style.cursor = msg['cursor'];\n};\n\nmpl.figure.prototype.handle_message = function (fig, msg) {\n    fig.message.textContent = msg['message'];\n};\n\nmpl.figure.prototype.handle_draw = function (fig, _msg) {\n    // Request the server to send over a new figure.\n    fig.send_draw_message();\n};\n\nmpl.figure.prototype.handle_image_mode = function (fig, msg) {\n    fig.image_mode = msg['mode'];\n};\n\nmpl.figure.prototype.handle_history_buttons = function (fig, msg) {\n    for (var key in msg) {\n        if (!(key in fig.buttons)) {\n            continue;\n        }\n        fig.buttons[key].disabled = !msg[key];\n        fig.buttons[key].setAttribute('aria-disabled', !msg[key]);\n    }\n};\n\nmpl.figure.prototype.handle_navigate_mode = function (fig, msg) {\n    if (msg['mode'] === 'PAN') {\n        fig.buttons['Pan'].classList.add('active');\n        fig.buttons['Zoom'].classList.remove('active');\n    } else if (msg['mode'] === 'ZOOM') {\n        fig.buttons['Pan'].classList.remove('active');\n        fig.buttons['Zoom'].classList.add('active');\n    } else {\n        fig.buttons['Pan'].classList.remove('active');\n        fig.buttons['Zoom'].classList.remove('active');\n    }\n};\n\nmpl.figure.prototype.updated_canvas_event = function () {\n    // Called whenever the canvas gets updated.\n    this.send_message('ack', {});\n};\n\n// A function to construct a web socket function for onmessage handling.\n// Called in the figure constructor.\nmpl.figure.prototype._make_on_message_function = function (fig) {\n    return function socket_on_message(evt) {\n        if (evt.data instanceof Blob) {\n            var img = evt.data;\n            if (img.type !== 'image/png') {\n                /* FIXME: We get \"Resource interpreted as Image but\n                 * transferred with MIME type text/plain:\" errors on\n                 * Chrome.  But how to set the MIME type?  It doesn't seem\n                 * to be part of the websocket stream */\n                img.type = 'image/png';\n            }\n\n            /* Free the memory for the previous frames */\n            if (fig.imageObj.src) {\n                (window.URL || window.webkitURL).revokeObjectURL(\n                    fig.imageObj.src\n                );\n            }\n\n            fig.imageObj.src = (window.URL || window.webkitURL).createObjectURL(\n                img\n            );\n            fig.updated_canvas_event();\n            fig.waiting = false;\n            return;\n        } else if (\n            typeof evt.data === 'string' &&\n            evt.data.slice(0, 21) === 'data:image/png;base64'\n        ) {\n            fig.imageObj.src = evt.data;\n            fig.updated_canvas_event();\n            fig.waiting = false;\n            return;\n        }\n\n        var msg = JSON.parse(evt.data);\n        var msg_type = msg['type'];\n\n        // Call the  \"handle_{type}\" callback, which takes\n        // the figure and JSON message as its only arguments.\n        try {\n            var callback = fig['handle_' + msg_type];\n        } catch (e) {\n            console.log(\n                \"No handler for the '\" + msg_type + \"' message type: \",\n                msg\n            );\n            return;\n        }\n\n        if (callback) {\n            try {\n                // console.log(\"Handling '\" + msg_type + \"' message: \", msg);\n                callback(fig, msg);\n            } catch (e) {\n                console.log(\n                    \"Exception inside the 'handler_\" + msg_type + \"' callback:\",\n                    e,\n                    e.stack,\n                    msg\n                );\n            }\n        }\n    };\n};\n\nfunction getModifiers(event) {\n    var mods = [];\n    if (event.ctrlKey) {\n        mods.push('ctrl');\n    }\n    if (event.altKey) {\n        mods.push('alt');\n    }\n    if (event.shiftKey) {\n        mods.push('shift');\n    }\n    if (event.metaKey) {\n        mods.push('meta');\n    }\n    return mods;\n}\n\n/*\n * return a copy of an object with only non-object keys\n * we need this to avoid circular references\n * https://stackoverflow.com/a/24161582/3208463\n */\nfunction simpleKeys(original) {\n    return Object.keys(original).reduce(function (obj, key) {\n        if (typeof original[key] !== 'object') {\n            obj[key] = original[key];\n        }\n        return obj;\n    }, {});\n}\n\nmpl.figure.prototype.mouse_event = function (event, name) {\n    if (name === 'button_press') {\n        this.canvas.focus();\n        this.canvas_div.focus();\n    }\n\n    // from https://stackoverflow.com/q/1114465\n    var boundingRect = this.canvas.getBoundingClientRect();\n    var x = (event.clientX - boundingRect.left) * this.ratio;\n    var y = (event.clientY - boundingRect.top) * this.ratio;\n\n    this.send_message(name, {\n        x: x,\n        y: y,\n        button: event.button,\n        step: event.step,\n        modifiers: getModifiers(event),\n        guiEvent: simpleKeys(event),\n    });\n\n    return false;\n};\n\nmpl.figure.prototype._key_event_extra = function (_event, _name) {\n    // Handle any extra behaviour associated with a key event\n};\n\nmpl.figure.prototype.key_event = function (event, name) {\n    // Prevent repeat events\n    if (name === 'key_press') {\n        if (event.key === this._key) {\n            return;\n        } else {\n            this._key = event.key;\n        }\n    }\n    if (name === 'key_release') {\n        this._key = null;\n    }\n\n    var value = '';\n    if (event.ctrlKey && event.key !== 'Control') {\n        value += 'ctrl+';\n    }\n    else if (event.altKey && event.key !== 'Alt') {\n        value += 'alt+';\n    }\n    else if (event.shiftKey && event.key !== 'Shift') {\n        value += 'shift+';\n    }\n\n    value += 'k' + event.key;\n\n    this._key_event_extra(event, name);\n\n    this.send_message(name, { key: value, guiEvent: simpleKeys(event) });\n    return false;\n};\n\nmpl.figure.prototype.toolbar_button_onclick = function (name) {\n    if (name === 'download') {\n        this.handle_save(this, null);\n    } else {\n        this.send_message('toolbar_button', { name: name });\n    }\n};\n\nmpl.figure.prototype.toolbar_button_onmouseover = function (tooltip) {\n    this.message.textContent = tooltip;\n};\n\n///////////////// REMAINING CONTENT GENERATED BY embed_js.py /////////////////\n// prettier-ignore\nvar _JSXTOOLS_RESIZE_OBSERVER=function(A){var t,i=new WeakMap,n=new WeakMap,a=new WeakMap,r=new WeakMap,o=new Set;function s(e){if(!(this instanceof s))throw new TypeError(\"Constructor requires 'new' operator\");i.set(this,e)}function h(){throw new TypeError(\"Function is not a constructor\")}function c(e,t,i,n){e=0 in arguments?Number(arguments[0]):0,t=1 in arguments?Number(arguments[1]):0,i=2 in arguments?Number(arguments[2]):0,n=3 in arguments?Number(arguments[3]):0,this.right=(this.x=this.left=e)+(this.width=i),this.bottom=(this.y=this.top=t)+(this.height=n),Object.freeze(this)}function d(){t=requestAnimationFrame(d);var s=new WeakMap,p=new Set;o.forEach((function(t){r.get(t).forEach((function(i){var r=t instanceof window.SVGElement,o=a.get(t),d=r?0:parseFloat(o.paddingTop),f=r?0:parseFloat(o.paddingRight),l=r?0:parseFloat(o.paddingBottom),u=r?0:parseFloat(o.paddingLeft),g=r?0:parseFloat(o.borderTopWidth),m=r?0:parseFloat(o.borderRightWidth),w=r?0:parseFloat(o.borderBottomWidth),b=u+f,F=d+l,v=(r?0:parseFloat(o.borderLeftWidth))+m,W=g+w,y=r?0:t.offsetHeight-W-t.clientHeight,E=r?0:t.offsetWidth-v-t.clientWidth,R=b+v,z=F+W,M=r?t.width:parseFloat(o.width)-R-E,O=r?t.height:parseFloat(o.height)-z-y;if(n.has(t)){var k=n.get(t);if(k[0]===M&&k[1]===O)return}n.set(t,[M,O]);var S=Object.create(h.prototype);S.target=t,S.contentRect=new c(u,d,M,O),s.has(i)||(s.set(i,[]),p.add(i)),s.get(i).push(S)}))})),p.forEach((function(e){i.get(e).call(e,s.get(e),e)}))}return s.prototype.observe=function(i){if(i instanceof window.Element){r.has(i)||(r.set(i,new Set),o.add(i),a.set(i,window.getComputedStyle(i)));var n=r.get(i);n.has(this)||n.add(this),cancelAnimationFrame(t),t=requestAnimationFrame(d)}},s.prototype.unobserve=function(i){if(i instanceof window.Element&&r.has(i)){var n=r.get(i);n.has(this)&&(n.delete(this),n.size||(r.delete(i),o.delete(i))),n.size||r.delete(i),o.size||cancelAnimationFrame(t)}},A.DOMRectReadOnly=c,A.ResizeObserver=s,A.ResizeObserverEntry=h,A}; // eslint-disable-line\nmpl.toolbar_items = [[\"Home\", \"Reset original view\", \"fa fa-home\", \"home\"], [\"Back\", \"Back to previous view\", \"fa fa-arrow-left\", \"back\"], [\"Forward\", \"Forward to next view\", \"fa fa-arrow-right\", \"forward\"], [\"\", \"\", \"\", \"\"], [\"Pan\", \"Left button pans, Right button zooms\\nx/y fixes axis, CTRL fixes aspect\", \"fa fa-arrows\", \"pan\"], [\"Zoom\", \"Zoom to rectangle\\nx/y fixes axis\", \"fa fa-square-o\", \"zoom\"], [\"\", \"\", \"\", \"\"], [\"Download\", \"Download plot\", \"fa fa-floppy-o\", \"download\"]];\n\nmpl.extensions = [\"eps\", \"jpeg\", \"pgf\", \"pdf\", \"png\", \"ps\", \"raw\", \"svg\", \"tif\", \"webp\"];\n\nmpl.default_extension = \"png\";/* global mpl */\n\nvar comm_websocket_adapter = function (comm) {\n    // Create a \"websocket\"-like object which calls the given IPython comm\n    // object with the appropriate methods. Currently this is a non binary\n    // socket, so there is still some room for performance tuning.\n    var ws = {};\n\n    ws.binaryType = comm.kernel.ws.binaryType;\n    ws.readyState = comm.kernel.ws.readyState;\n    function updateReadyState(_event) {\n        if (comm.kernel.ws) {\n            ws.readyState = comm.kernel.ws.readyState;\n        } else {\n            ws.readyState = 3; // Closed state.\n        }\n    }\n    comm.kernel.ws.addEventListener('open', updateReadyState);\n    comm.kernel.ws.addEventListener('close', updateReadyState);\n    comm.kernel.ws.addEventListener('error', updateReadyState);\n\n    ws.close = function () {\n        comm.close();\n    };\n    ws.send = function (m) {\n        //console.log('sending', m);\n        comm.send(m);\n    };\n    // Register the callback with on_msg.\n    comm.on_msg(function (msg) {\n        //console.log('receiving', msg['content']['data'], msg);\n        var data = msg['content']['data'];\n        if (data['blob'] !== undefined) {\n            data = {\n                data: new Blob(msg['buffers'], { type: data['blob'] }),\n            };\n        }\n        // Pass the mpl event to the overridden (by mpl) onmessage function.\n        ws.onmessage(data);\n    });\n    return ws;\n};\n\nmpl.mpl_figure_comm = function (comm, msg) {\n    // This is the function which gets called when the mpl process\n    // starts-up an IPython Comm through the \"matplotlib\" channel.\n\n    var id = msg.content.data.id;\n    // Get hold of the div created by the display call when the Comm\n    // socket was opened in Python.\n    var element = document.getElementById(id);\n    var ws_proxy = comm_websocket_adapter(comm);\n\n    function ondownload(figure, _format) {\n        window.open(figure.canvas.toDataURL());\n    }\n\n    var fig = new mpl.figure(id, ws_proxy, ondownload, element);\n\n    // Call onopen now - mpl needs it, as it is assuming we've passed it a real\n    // web socket which is closed, not our websocket->open comm proxy.\n    ws_proxy.onopen();\n\n    fig.parent_element = element;\n    fig.cell_info = mpl.find_output_cell(\"<div id='\" + id + \"'></div>\");\n    if (!fig.cell_info) {\n        console.error('Failed to find cell for figure', id, fig);\n        return;\n    }\n    fig.cell_info[0].output_area.element.on(\n        'cleared',\n        { fig: fig },\n        fig._remove_fig_handler\n    );\n};\n\nmpl.figure.prototype.handle_close = function (fig, msg) {\n    var width = fig.canvas.width / fig.ratio;\n    fig.cell_info[0].output_area.element.off(\n        'cleared',\n        fig._remove_fig_handler\n    );\n    fig.resizeObserverInstance.unobserve(fig.canvas_div);\n\n    // Update the output cell to use the data from the current canvas.\n    fig.push_to_output();\n    var dataURL = fig.canvas.toDataURL();\n    // Re-enable the keyboard manager in IPython - without this line, in FF,\n    // the notebook keyboard shortcuts fail.\n    IPython.keyboard_manager.enable();\n    fig.parent_element.innerHTML =\n        '<img src=\"' + dataURL + '\" width=\"' + width + '\">';\n    fig.close_ws(fig, msg);\n};\n\nmpl.figure.prototype.close_ws = function (fig, msg) {\n    fig.send_message('closing', msg);\n    // fig.ws.close()\n};\n\nmpl.figure.prototype.push_to_output = function (_remove_interactive) {\n    // Turn the data on the canvas into data in the output cell.\n    var width = this.canvas.width / this.ratio;\n    var dataURL = this.canvas.toDataURL();\n    this.cell_info[1]['text/html'] =\n        '<img src=\"' + dataURL + '\" width=\"' + width + '\">';\n};\n\nmpl.figure.prototype.updated_canvas_event = function () {\n    // Tell IPython that the notebook contents must change.\n    IPython.notebook.set_dirty(true);\n    this.send_message('ack', {});\n    var fig = this;\n    // Wait a second, then push the new image to the DOM so\n    // that it is saved nicely (might be nice to debounce this).\n    setTimeout(function () {\n        fig.push_to_output();\n    }, 1000);\n};\n\nmpl.figure.prototype._init_toolbar = function () {\n    var fig = this;\n\n    var toolbar = document.createElement('div');\n    toolbar.classList = 'btn-toolbar';\n    this.root.appendChild(toolbar);\n\n    function on_click_closure(name) {\n        return function (_event) {\n            return fig.toolbar_button_onclick(name);\n        };\n    }\n\n    function on_mouseover_closure(tooltip) {\n        return function (event) {\n            if (!event.currentTarget.disabled) {\n                return fig.toolbar_button_onmouseover(tooltip);\n            }\n        };\n    }\n\n    fig.buttons = {};\n    var buttonGroup = document.createElement('div');\n    buttonGroup.classList = 'btn-group';\n    var button;\n    for (var toolbar_ind in mpl.toolbar_items) {\n        var name = mpl.toolbar_items[toolbar_ind][0];\n        var tooltip = mpl.toolbar_items[toolbar_ind][1];\n        var image = mpl.toolbar_items[toolbar_ind][2];\n        var method_name = mpl.toolbar_items[toolbar_ind][3];\n\n        if (!name) {\n            /* Instead of a spacer, we start a new button group. */\n            if (buttonGroup.hasChildNodes()) {\n                toolbar.appendChild(buttonGroup);\n            }\n            buttonGroup = document.createElement('div');\n            buttonGroup.classList = 'btn-group';\n            continue;\n        }\n\n        button = fig.buttons[name] = document.createElement('button');\n        button.classList = 'btn btn-default';\n        button.href = '#';\n        button.title = name;\n        button.innerHTML = '<i class=\"fa ' + image + ' fa-lg\"></i>';\n        button.addEventListener('click', on_click_closure(method_name));\n        button.addEventListener('mouseover', on_mouseover_closure(tooltip));\n        buttonGroup.appendChild(button);\n    }\n\n    if (buttonGroup.hasChildNodes()) {\n        toolbar.appendChild(buttonGroup);\n    }\n\n    // Add the status bar.\n    var status_bar = document.createElement('span');\n    status_bar.classList = 'mpl-message pull-right';\n    toolbar.appendChild(status_bar);\n    this.message = status_bar;\n\n    // Add the close button to the window.\n    var buttongrp = document.createElement('div');\n    buttongrp.classList = 'btn-group inline pull-right';\n    button = document.createElement('button');\n    button.classList = 'btn btn-mini btn-primary';\n    button.href = '#';\n    button.title = 'Stop Interaction';\n    button.innerHTML = '<i class=\"fa fa-power-off icon-remove icon-large\"></i>';\n    button.addEventListener('click', function (_evt) {\n        fig.handle_close(fig, {});\n    });\n    button.addEventListener(\n        'mouseover',\n        on_mouseover_closure('Stop Interaction')\n    );\n    buttongrp.appendChild(button);\n    var titlebar = this.root.querySelector('.ui-dialog-titlebar');\n    titlebar.insertBefore(buttongrp, titlebar.firstChild);\n};\n\nmpl.figure.prototype._remove_fig_handler = function (event) {\n    var fig = event.data.fig;\n    if (event.target !== this) {\n        // Ignore bubbled events from children.\n        return;\n    }\n    fig.close_ws(fig, {});\n};\n\nmpl.figure.prototype._root_extra_style = function (el) {\n    el.style.boxSizing = 'content-box'; // override notebook setting of border-box.\n};\n\nmpl.figure.prototype._canvas_extra_style = function (el) {\n    // this is important to make the div 'focusable\n    el.setAttribute('tabindex', 0);\n    // reach out to IPython and tell the keyboard manager to turn it's self\n    // off when our div gets focus\n\n    // location in version 3\n    if (IPython.notebook.keyboard_manager) {\n        IPython.notebook.keyboard_manager.register_events(el);\n    } else {\n        // location in version 2\n        IPython.keyboard_manager.register_events(el);\n    }\n};\n\nmpl.figure.prototype._key_event_extra = function (event, _name) {\n    // Check for shift+enter\n    if (event.shiftKey && event.which === 13) {\n        this.canvas_div.blur();\n        // select the cell after this one\n        var index = IPython.notebook.find_cell_index(this.cell_info[0]);\n        IPython.notebook.select(index + 1);\n    }\n};\n\nmpl.figure.prototype.handle_save = function (fig, _msg) {\n    fig.ondownload(fig, null);\n};\n\nmpl.find_output_cell = function (html_output) {\n    // Return the cell and output element which can be found *uniquely* in the notebook.\n    // Note - this is a bit hacky, but it is done because the \"notebook_saving.Notebook\"\n    // IPython event is triggered only after the cells have been serialised, which for\n    // our purposes (turning an active figure into a static one), is too late.\n    var cells = IPython.notebook.get_cells();\n    var ncells = cells.length;\n    for (var i = 0; i < ncells; i++) {\n        var cell = cells[i];\n        if (cell.cell_type === 'code') {\n            for (var j = 0; j < cell.output_area.outputs.length; j++) {\n                var data = cell.output_area.outputs[j];\n                if (data.data) {\n                    // IPython >= 3 moved mimebundle to data attribute of output\n                    data = data.data;\n                }\n                if (data['text/html'] === html_output) {\n                    return [cell, data, j];\n                }\n            }\n        }\n    }\n};\n\n// Register the function which deals with the matplotlib target/channel.\n// The kernel may be null if the page has been refreshed.\nif (IPython.notebook.kernel !== null) {\n    IPython.notebook.kernel.comm_manager.register_target(\n        'matplotlib',\n        mpl.mpl_figure_comm\n    );\n}\n",
      "text/plain": [
       "<IPython.core.display.Javascript object>"
      ]
     },
     "metadata": {},
     "output_type": "display_data"
    },
    {
     "data": {
      "text/html": [
       "<div id='f7ee14bd-5990-45cf-92d9-25f38e73e9a3'></div>"
      ],
      "text/plain": [
       "<IPython.core.display.HTML object>"
      ]
     },
     "metadata": {},
     "output_type": "display_data"
    }
   ],
   "source": [
    "%matplotlib notebook\n",
    "import matplotlib.pyplot as plt\n",
    "\n",
    "# Create the matplotlib figure\n",
    "fig, ax = plt.subplots(figsize=(8,5))\n",
    "\n",
    "# Plot the energies.\n",
    "ax.set_xticks(range(len(basis_sets)), basis_sets, rotation=90)\n",
    "ax.set_xlabel(\"Basis set\")\n",
    "ax.set_ylabel(\"Energy(Hartree)\", color=\"b\")\n",
    "ax.scatter(range(len(basis_sets)), mf_energies, marker=\"o\", s=50, color=\"b\")\n",
    "\n",
    "# Plot the time to solution\n",
    "ax_time = ax.twinx()\n",
    "ax_time.scatter(range(len(basis_sets)), mf_times, marker=\"s\", s=50, color=\"r\")\n",
    "ax_time.set_ylabel(\"Time to solution(s)\", color=\"r\", rotation=270, va=\"bottom\")\n",
    "\n",
    "# Show the graph\n",
    "plt.tick_params(axis=\"both\", direction=\"in\")\n",
    "plt.show()"
   ]
  },
  {
   "cell_type": "code",
   "execution_count": null,
   "id": "80f80043",
   "metadata": {},
   "outputs": [],
   "source": []
  },
  {
   "cell_type": "code",
   "execution_count": null,
   "id": "7268cbd1",
   "metadata": {},
   "outputs": [],
   "source": []
  },
  {
   "cell_type": "code",
   "execution_count": null,
   "id": "ce59ee70",
   "metadata": {},
   "outputs": [],
   "source": []
  }
 ],
 "metadata": {
  "kernelspec": {
   "display_name": "Python 3 (ipykernel)",
   "language": "python",
   "name": "python3"
  },
  "language_info": {
   "codemirror_mode": {
    "name": "ipython",
    "version": 3
   },
   "file_extension": ".py",
   "mimetype": "text/x-python",
   "name": "python",
   "nbconvert_exporter": "python",
   "pygments_lexer": "ipython3",
   "version": "3.11.8"
  }
 },
 "nbformat": 4,
 "nbformat_minor": 5
}
