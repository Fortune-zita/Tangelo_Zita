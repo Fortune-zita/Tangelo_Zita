{
 "cells": [
  {
   "cell_type": "code",
   "execution_count": 2,
   "metadata": {},
   "outputs": [],
   "source": [
    "import qiskit_nature\n",
    "from rdkit import Chem\n",
    "from pathlib import Path "
   ]
  },
  {
   "cell_type": "code",
   "execution_count": 3,
   "metadata": {},
   "outputs": [
    {
     "data": {
      "image/png": "[encoded data removed]",
      "text/plain": [
       "<rdkit.Chem.rdchem.Mol at 0x7e9058a51380>"
      ]
     },
     "execution_count": 3,
     "metadata": {},
     "output_type": "execute_result"
    }
   ],
   "source": [
    "smile='C1=CSC=N1'\n",
    "smi_key='Thiazole'\n",
    "mol_rdkit = Chem.MolFromSmiles(smile)\n",
    "mol_rdkit"
   ]
  },
  {
   "cell_type": "code",
   "execution_count": 4,
   "metadata": {},
   "outputs": [],
   "source": [
    " import py3Dmol "
   ]
  },
  {
   "cell_type": "code",
   "execution_count": 5,
   "metadata": {},
   "outputs": [],
   "source": [
    "\n",
    "def view3D(mol, label, fmt='mol'):\n",
    "        \"\"\"3D vizualisation of mol/xyz file with Py3DMol\n",
    "        \"\"\"\n",
    "\n",
    "        view = py3Dmol.view(width=400, height=400)       # visualiser la molécule avec une largeur de ''400'' et hauteur de ''400''\n",
    "\n",
    "        if fmt=='mol':                                   # si le format des 'mol',\n",
    "            view.addModel(Chem.MolToMolBlock(mol), fmt)     # generer les coordonnes de a molecule dans un block\n",
    "            # view.addModel(mol, fmt)\n",
    "        elif fmt=='xyz':                                      # sinon \n",
    "            view.addModel(mol, fmt)                             # generer les coordonnes en xyz\n",
    "\n",
    "        view.setStyle({'stick': {}, 'sphere': {'scale': .30}})     # définir le style de représentation de la molécule, avec des bâtons pour les liaisons et des sphères pour les atomes avec une échelle de '30'\n",
    "        view.addLabel(label, {'position': {'x': -2, 'y': -3, 'z': 0}}) # ajouter une etiquette de visualisation dont les coordonnées sont x,y,z\n",
    "\n",
    "        view.zoomTo()\n",
    "        view.show()"
   ]
  },
  {
   "cell_type": "markdown",
   "metadata": {},
   "source": [
    "Meilleur conformere"
   ]
  },
  {
   "cell_type": "code",
   "execution_count": 6,
   "metadata": {},
   "outputs": [
    {
     "data": {
      "image/png": "[encoded data removed]",
      "text/plain": [
       "<rdkit.Chem.rdchem.Mol at 0x7e903b268040>"
      ]
     },
     "execution_count": 6,
     "metadata": {},
     "output_type": "execute_result"
    }
   ],
   "source": [
    "from rdkit.Chem import AllChem\n",
    "\n",
    "# Add explicit Hs\n",
    "mol_rdkit = Chem.AddHs(mol_rdkit)    #   Ajouter les atomes d'hydrogene a la molécule\n",
    "\n",
    "# Generates the initial 3D conformation of the molecule\n",
    "AllChem.EmbedMolecule(mol_rdkit)\n",
    "mol_rdkit"
   ]
  },
  {
   "cell_type": "markdown",
   "metadata": {},
   "source": [
    "Visualisatio 3D"
   ]
  },
  {
   "cell_type": "code",
   "execution_count": 7,
   "metadata": {},
   "outputs": [
    {
     "data": {
      "application/3dmoljs_load.v0": "<div id=\"3dmolviewer_17171491784806116\"  style=\"position: relative; width: 400px; height: 400px;\">\n        <p id=\"3dmolwarning_17171491784806116\" style=\"background-color:#ffcccc;color:black\">3Dmol.js failed to load for some reason.  Please check your browser console for error messages.<br></p>\n        </div>\n<script>\n\nvar loadScriptAsync = function(uri){\n  return new Promise((resolve, reject) => {\n    //this is to ignore the existence of requirejs amd\n    var savedexports, savedmodule;\n    if (typeof exports !== 'undefined') savedexports = exports;\n    else exports = {}\n    if (typeof module !== 'undefined') savedmodule = module;\n    else module = {}\n\n    var tag = document.createElement('script');\n    tag.src = uri;\n    tag.async = true;\n    tag.onload = () => {\n        exports = savedexports;\n        module = savedmodule;\n        resolve();\n    };\n  var firstScriptTag = document.getElementsByTagName('script')[0];\n  firstScriptTag.parentNode.insertBefore(tag, firstScriptTag);\n});\n};\n\nif(typeof $3Dmolpromise === 'undefined') {\n$3Dmolpromise = null;\n  $3Dmolpromise = loadScriptAsync('https://cdnjs.cloudflare.com/ajax/libs/3Dmol/2.1.0/3Dmol-min.js');\n}\n\nvar viewer_17171491784806116 = null;\nvar warn = document.getElementById(\"3dmolwarning_17171491784806116\");\nif(warn) {\n    warn.parentNode.removeChild(warn);\n}\n$3Dmolpromise.then(function() {\nviewer_17171491784806116 = $3Dmol.createViewer(document.getElementById(\"3dmolviewer_17171491784806116\"),{backgroundColor:\"white\"});\nviewer_17171491784806116.zoomTo();\n\tviewer_17171491784806116.addModel(\"\\n     RDKit          3D\\n\\n  8  8  0  0  0  0  0  0  0  0999 V2000\\n   -0.6300   -0.7321    0.0145 C   0  0  0  0  0  0  0  0  0  0  0  0\\n   -1.0547    0.6017    0.0165 C   0  0  0  0  0  0  0  0  0  0  0  0\\n    0.4360    1.5152    0.2263 S   0  0  0  0  0  0  0  0  0  0  0  0\\n    1.4926   -0.0630    0.2888 C   0  0  0  0  0  0  0  0  0  0  0  0\\n    0.6625   -0.8586    0.1609 N   0  0  0  0  0  0  0  0  0  0  0  0\\n   -1.3961   -1.5168   -0.1055 H   0  0  0  0  0  0  0  0  0  0  0  0\\n   -2.0821    0.9892   -0.0887 H   0  0  0  0  0  0  0  0  0  0  0  0\\n    2.5717    0.0645    0.4201 H   0  0  0  0  0  0  0  0  0  0  0  0\\n  1  2  2  0\\n  2  3  1  0\\n  3  4  1  0\\n  4  5  2  0\\n  5  1  1  0\\n  1  6  1  0\\n  2  7  1  0\\n  4  8  1  0\\nM  END\\n\",\"mol\");\n\tviewer_17171491784806116.setStyle({\"stick\": {}, \"sphere\": {\"scale\": 0.3}});\n\tviewer_17171491784806116.addLabel(\"Thiazole RDKit Molecule\",{\"position\": {\"x\": -2, \"y\": -3, \"z\": 0}});\n\tviewer_17171491784806116.zoomTo();\nviewer_17171491784806116.render();\n});\n</script>",
      "text/html": [
       "<div id=\"3dmolviewer_17171491784806116\"  style=\"position: relative; width: 400px; height: 400px;\">\n",
       "        <p id=\"3dmolwarning_17171491784806116\" style=\"background-color:#ffcccc;color:black\">3Dmol.js failed to load for some reason.  Please check your browser console for error messages.<br></p>\n",
       "        </div>\n",
       "<script>\n",
       "\n",
       "var loadScriptAsync = function(uri){\n",
       "  return new Promise((resolve, reject) => {\n",
       "    //this is to ignore the existence of requirejs amd\n",
       "    var savedexports, savedmodule;\n",
       "    if (typeof exports !== 'undefined') savedexports = exports;\n",
       "    else exports = {}\n",
       "    if (typeof module !== 'undefined') savedmodule = module;\n",
       "    else module = {}\n",
       "\n",
       "    var tag = document.createElement('script');\n",
       "    tag.src = uri;\n",
       "    tag.async = true;\n",
       "    tag.onload = () => {\n",
       "        exports = savedexports;\n",
       "        module = savedmodule;\n",
       "        resolve();\n",
       "    };\n",
       "  var firstScriptTag = document.getElementsByTagName('script')[0];\n",
       "  firstScriptTag.parentNode.insertBefore(tag, firstScriptTag);\n",
       "});\n",
       "};\n",
       "\n",
       "if(typeof $3Dmolpromise === 'undefined') {\n",
       "$3Dmolpromise = null;\n",
       "  $3Dmolpromise = loadScriptAsync('https://cdnjs.cloudflare.com/ajax/libs/3Dmol/2.1.0/3Dmol-min.js');\n",
       "}\n",
       "\n",
       "var viewer_17171491784806116 = null;\n",
       "var warn = document.getElementById(\"3dmolwarning_17171491784806116\");\n",
       "if(warn) {\n",
       "    warn.parentNode.removeChild(warn);\n",
       "}\n",
       "$3Dmolpromise.then(function() {\n",
       "viewer_17171491784806116 = $3Dmol.createViewer(document.getElementById(\"3dmolviewer_17171491784806116\"),{backgroundColor:\"white\"});\n",
       "viewer_17171491784806116.zoomTo();\n",
       "\tviewer_17171491784806116.addModel(\"\\n     RDKit          3D\\n\\n  8  8  0  0  0  0  0  0  0  0999 V2000\\n   -0.6300   -0.7321    0.0145 C   0  0  0  0  0  0  0  0  0  0  0  0\\n   -1.0547    0.6017    0.0165 C   0  0  0  0  0  0  0  0  0  0  0  0\\n    0.4360    1.5152    0.2263 S   0  0  0  0  0  0  0  0  0  0  0  0\\n    1.4926   -0.0630    0.2888 C   0  0  0  0  0  0  0  0  0  0  0  0\\n    0.6625   -0.8586    0.1609 N   0  0  0  0  0  0  0  0  0  0  0  0\\n   -1.3961   -1.5168   -0.1055 H   0  0  0  0  0  0  0  0  0  0  0  0\\n   -2.0821    0.9892   -0.0887 H   0  0  0  0  0  0  0  0  0  0  0  0\\n    2.5717    0.0645    0.4201 H   0  0  0  0  0  0  0  0  0  0  0  0\\n  1  2  2  0\\n  2  3  1  0\\n  3  4  1  0\\n  4  5  2  0\\n  5  1  1  0\\n  1  6  1  0\\n  2  7  1  0\\n  4  8  1  0\\nM  END\\n\",\"mol\");\n",
       "\tviewer_17171491784806116.setStyle({\"stick\": {}, \"sphere\": {\"scale\": 0.3}});\n",
       "\tviewer_17171491784806116.addLabel(\"Thiazole RDKit Molecule\",{\"position\": {\"x\": -2, \"y\": -3, \"z\": 0}});\n",
       "\tviewer_17171491784806116.zoomTo();\n",
       "viewer_17171491784806116.render();\n",
       "});\n",
       "</script>"
      ]
     },
     "metadata": {},
     "output_type": "display_data"
    }
   ],
   "source": [
    "# 3D visualization\n",
    "mol_rdkit0 = mol_rdkit                    #crée une nouvelle variable mol_rdkit0 qui est une copie de mol_rdkit.\n",
    "                                           #Cette copie est nécessaire pour la visualisation 3D, car la fonction view3D() modifie l'objet molécule passé en argument.\n",
    "\n",
    "view3D(mol_rdkit0, f'{smi_key} RDKit Molecule')\n"
   ]
  },
  {
   "cell_type": "code",
   "execution_count": 8,
   "metadata": {},
   "outputs": [
    {
     "name": "stdout",
     "output_type": "stream",
     "text": [
      "8\n",
      "\n",
      "C     -0.629972   -0.732056    0.014525\n",
      "C     -1.054678    0.601653    0.016497\n",
      "S      0.436004    1.515214    0.226338\n",
      "C      1.492643   -0.063002    0.288846\n",
      "N      0.662480   -0.858628    0.160870\n",
      "H     -1.396102   -1.516840   -0.105550\n",
      "H     -2.082068    0.989155   -0.088716\n",
      "H      2.571693    0.064503    0.420074\n",
      "\n"
     ]
    }
   ],
   "source": [
    "# Convert RDKit molecule to XYZ format \n",
    "mol_xyz0 = Chem.MolToXYZBlock(mol_rdkit)    # Convertir  la molecule format XYZ \n",
    "print(mol_xyz0)"
   ]
  },
  {
   "cell_type": "markdown",
   "metadata": {},
   "source": [
    "Preoptimosation avec rdkit"
   ]
  },
  {
   "cell_type": "code",
   "execution_count": 9,
   "metadata": {},
   "outputs": [
    {
     "data": {
      "application/3dmoljs_load.v0": "<div id=\"3dmolviewer_17171492413996205\"  style=\"position: relative; width: 400px; height: 400px;\">\n        <p id=\"3dmolwarning_17171492413996205\" style=\"background-color:#ffcccc;color:black\">3Dmol.js failed to load for some reason.  Please check your browser console for error messages.<br></p>\n        </div>\n<script>\n\nvar loadScriptAsync = function(uri){\n  return new Promise((resolve, reject) => {\n    //this is to ignore the existence of requirejs amd\n    var savedexports, savedmodule;\n    if (typeof exports !== 'undefined') savedexports = exports;\n    else exports = {}\n    if (typeof module !== 'undefined') savedmodule = module;\n    else module = {}\n\n    var tag = document.createElement('script');\n    tag.src = uri;\n    tag.async = true;\n    tag.onload = () => {\n        exports = savedexports;\n        module = savedmodule;\n        resolve();\n    };\n  var firstScriptTag = document.getElementsByTagName('script')[0];\n  firstScriptTag.parentNode.insertBefore(tag, firstScriptTag);\n});\n};\n\nif(typeof $3Dmolpromise === 'undefined') {\n$3Dmolpromise = null;\n  $3Dmolpromise = loadScriptAsync('https://cdnjs.cloudflare.com/ajax/libs/3Dmol/2.1.0/3Dmol-min.js');\n}\n\nvar viewer_17171492413996205 = null;\nvar warn = document.getElementById(\"3dmolwarning_17171492413996205\");\nif(warn) {\n    warn.parentNode.removeChild(warn);\n}\n$3Dmolpromise.then(function() {\nviewer_17171492413996205 = $3Dmol.createViewer(document.getElementById(\"3dmolviewer_17171492413996205\"),{backgroundColor:\"white\"});\nviewer_17171492413996205.zoomTo();\n\tviewer_17171492413996205.addModel(\"\\n     RDKit          3D\\n\\n  8  8  0  0  0  0  0  0  0  0999 V2000\\n   -0.6916   -0.7202   -0.0000 C   0  0  0  0  0  0  0  0  0  0  0  0\\n   -0.9547    0.6332    0.0000 C   0  0  0  0  0  0  0  0  0  0  0  0\\n    0.5201    1.5092   -0.0000 S   0  0  0  0  0  0  0  0  0  0  0  0\\n    1.3771    0.0223    0.0000 C   0  0  0  0  0  0  0  0  0  0  0  0\\n    0.6447   -1.0700    0.0000 N   0  0  0  0  0  0  0  0  0  0  0  0\\n   -1.4425   -1.5011   -0.0000 H   0  0  0  0  0  0  0  0  0  0  0  0\\n   -1.9120    1.1336    0.0000 H   0  0  0  0  0  0  0  0  0  0  0  0\\n    2.4589   -0.0071   -0.0000 H   0  0  0  0  0  0  0  0  0  0  0  0\\n  1  2  2  0\\n  2  3  1  0\\n  3  4  1  0\\n  4  5  2  0\\n  5  1  1  0\\n  1  6  1  0\\n  2  7  1  0\\n  4  8  1  0\\nM  END\\n\",\"mol\");\n\tviewer_17171492413996205.setStyle({\"stick\": {}, \"sphere\": {\"scale\": 0.3}});\n\tviewer_17171492413996205.addLabel(\"Thiazole RDKit Molecule MMFF94\",{\"position\": {\"x\": -2, \"y\": -3, \"z\": 0}});\n\tviewer_17171492413996205.zoomTo();\nviewer_17171492413996205.render();\n});\n</script>",
      "text/html": [
       "<div id=\"3dmolviewer_17171492413996205\"  style=\"position: relative; width: 400px; height: 400px;\">\n",
       "        <p id=\"3dmolwarning_17171492413996205\" style=\"background-color:#ffcccc;color:black\">3Dmol.js failed to load for some reason.  Please check your browser console for error messages.<br></p>\n",
       "        </div>\n",
       "<script>\n",
       "\n",
       "var loadScriptAsync = function(uri){\n",
       "  return new Promise((resolve, reject) => {\n",
       "    //this is to ignore the existence of requirejs amd\n",
       "    var savedexports, savedmodule;\n",
       "    if (typeof exports !== 'undefined') savedexports = exports;\n",
       "    else exports = {}\n",
       "    if (typeof module !== 'undefined') savedmodule = module;\n",
       "    else module = {}\n",
       "\n",
       "    var tag = document.createElement('script');\n",
       "    tag.src = uri;\n",
       "    tag.async = true;\n",
       "    tag.onload = () => {\n",
       "        exports = savedexports;\n",
       "        module = savedmodule;\n",
       "        resolve();\n",
       "    };\n",
       "  var firstScriptTag = document.getElementsByTagName('script')[0];\n",
       "  firstScriptTag.parentNode.insertBefore(tag, firstScriptTag);\n",
       "});\n",
       "};\n",
       "\n",
       "if(typeof $3Dmolpromise === 'undefined') {\n",
       "$3Dmolpromise = null;\n",
       "  $3Dmolpromise = loadScriptAsync('https://cdnjs.cloudflare.com/ajax/libs/3Dmol/2.1.0/3Dmol-min.js');\n",
       "}\n",
       "\n",
       "var viewer_17171492413996205 = null;\n",
       "var warn = document.getElementById(\"3dmolwarning_17171492413996205\");\n",
       "if(warn) {\n",
       "    warn.parentNode.removeChild(warn);\n",
       "}\n",
       "$3Dmolpromise.then(function() {\n",
       "viewer_17171492413996205 = $3Dmol.createViewer(document.getElementById(\"3dmolviewer_17171492413996205\"),{backgroundColor:\"white\"});\n",
       "viewer_17171492413996205.zoomTo();\n",
       "\tviewer_17171492413996205.addModel(\"\\n     RDKit          3D\\n\\n  8  8  0  0  0  0  0  0  0  0999 V2000\\n   -0.6916   -0.7202   -0.0000 C   0  0  0  0  0  0  0  0  0  0  0  0\\n   -0.9547    0.6332    0.0000 C   0  0  0  0  0  0  0  0  0  0  0  0\\n    0.5201    1.5092   -0.0000 S   0  0  0  0  0  0  0  0  0  0  0  0\\n    1.3771    0.0223    0.0000 C   0  0  0  0  0  0  0  0  0  0  0  0\\n    0.6447   -1.0700    0.0000 N   0  0  0  0  0  0  0  0  0  0  0  0\\n   -1.4425   -1.5011   -0.0000 H   0  0  0  0  0  0  0  0  0  0  0  0\\n   -1.9120    1.1336    0.0000 H   0  0  0  0  0  0  0  0  0  0  0  0\\n    2.4589   -0.0071   -0.0000 H   0  0  0  0  0  0  0  0  0  0  0  0\\n  1  2  2  0\\n  2  3  1  0\\n  3  4  1  0\\n  4  5  2  0\\n  5  1  1  0\\n  1  6  1  0\\n  2  7  1  0\\n  4  8  1  0\\nM  END\\n\",\"mol\");\n",
       "\tviewer_17171492413996205.setStyle({\"stick\": {}, \"sphere\": {\"scale\": 0.3}});\n",
       "\tviewer_17171492413996205.addLabel(\"Thiazole RDKit Molecule MMFF94\",{\"position\": {\"x\": -2, \"y\": -3, \"z\": 0}});\n",
       "\tviewer_17171492413996205.zoomTo();\n",
       "viewer_17171492413996205.render();\n",
       "});\n",
       "</script>"
      ]
     },
     "metadata": {},
     "output_type": "display_data"
    }
   ],
   "source": [
    "from rdkit.Chem import AllChem\n",
    "\n",
    "# Optimizes the 3D conformation of the molecule using MMFF - Merck Molecular Force Field\n",
    "AllChem.MMFFOptimizeMolecule(mol_rdkit, maxIters=200, mmffVariant=\"MMFF94s\")   # utiliser 200 itérations et la variante MMFF94s\n",
    "\n",
    "#Canonicalize the orientation of the conformation\n",
    "Chem.rdMolTransforms.CanonicalizeMol(mol_rdkit, normalizeCovar=True, ignoreHs=False)\n",
    "\n",
    "# 3D visualization\n",
    "mol_rdkit1 = mol_rdkit\n",
    "view3D(mol_rdkit1, f'{smi_key} RDKit Molecule MMFF94')\n"
   ]
  },
  {
   "cell_type": "code",
   "execution_count": 10,
   "metadata": {},
   "outputs": [
    {
     "name": "stdout",
     "output_type": "stream",
     "text": [
      "8\n",
      "\n",
      "C     -0.691649   -0.720224   -0.000001\n",
      "C     -0.954693    0.633220    0.000000\n",
      "S      0.520142    1.509220   -0.000003\n",
      "C      1.377142    0.022332    0.000002\n",
      "N      0.644690   -1.070005    0.000002\n",
      "H     -1.442497   -1.501087   -0.000002\n",
      "H     -1.912037    1.133607    0.000002\n",
      "H      2.458901   -0.007063   -0.000001\n",
      "\n"
     ]
    }
   ],
   "source": [
    "# Convert RDKit molecule to XYZ format \n",
    "mol_xyz0 = Chem.MolToXYZBlock(mol_rdkit)    # Convertir  la molecule format XYZ \n",
    "print(mol_xyz0)"
   ]
  },
  {
   "cell_type": "markdown",
   "metadata": {},
   "source": [
    "Supppression des deux premieres lignes "
   ]
  },
  {
   "cell_type": "code",
   "execution_count": 11,
   "metadata": {},
   "outputs": [
    {
     "name": "stdout",
     "output_type": "stream",
     "text": [
      "C     -0.691649   -0.720224   -0.000001\n",
      "C     -0.954693    0.633220    0.000000\n",
      "S      0.520142    1.509220   -0.000003\n",
      "C      1.377142    0.022332    0.000002\n",
      "N      0.644690   -1.070005    0.000002\n",
      "H     -1.442497   -1.501087   -0.000002\n",
      "H     -1.912037    1.133607    0.000002\n",
      "H      2.458901   -0.007063   -0.000001\n"
     ]
    }
   ],
   "source": [
    "\n",
    "# Remove the first two lines (number of atoms and empty line) from XYZ data\n",
    "mol_xyz1 = '\\n'.join(mol_xyz0.strip().split('\\n')[2:])\n",
    "\n",
    "# Check that the xyz file is valide for the next step (pyscf.gto)\n",
    "print(mol_xyz1)"
   ]
  },
  {
   "cell_type": "markdown",
   "metadata": {},
   "source": []
  },
  {
   "cell_type": "code",
   "execution_count": 18,
   "metadata": {},
   "outputs": [],
   "source": [
    "from qiskit_nature.second_q.drivers import PySCFDriver ,MethodType # Nous travaillons avec le driver PySCF\n",
    "\n",
    "# Renseigner la structure de la molécule \n",
    "Thiazole_driver = PySCFDriver(\n",
    "    atom=mol_xyz1, #Coordonnées xyz Thiazole\n",
    "    basis='3-21G', #'def2-SVP', # Ensemble de base\n",
    "    method = MethodType.RKS \n",
    ")\n",
    "Thiazol = Thiazole_driver.run_pyscf() \n",
    "mol=Thiazole_driver._mol     \n",
    "mf = Thiazole_driver._calc  "
   ]
  },
  {
   "cell_type": "markdown",
   "metadata": {},
   "source": [
    "Affichage de quelques informations sur la molecule"
   ]
  },
  {
   "cell_type": "code",
   "execution_count": 19,
   "metadata": {},
   "outputs": [
    {
     "name": "stdout",
     "output_type": "stream",
     "text": [
      "Le nombre total d'électrons est 44 et le nombre total d'électrons (alpha, béta) est (22, 22)\n",
      "\n",
      "Les index (0-Based) du (HOMO,LUMO) sont (21, 22)\n",
      "\n",
      "Le nombre d'orbitales atomiques, dans la base 3-21G, est 55\n",
      "\n",
      "L'énergie nucléaire vaut 204.83945839928373 Hartrees\n"
     ]
    }
   ],
   "source": [
    "print(f'Le nombre total d\\'électrons est {mol.nelectron} \\\n",
    "et le nombre total d\\'électrons (alpha, béta) est {mol.nelec}\\n')\n",
    "print(f'Les index (0-Based) du (HOMO,LUMO) sont {mol.nelectron//2 -1, mol.nelectron//2}\\n')\n",
    "print(f'Le nombre d\\'orbitales atomiques, dans la base {mol.basis}, est {mol.nao}\\n')\n",
    "print(f'L\\'énergie nucléaire vaut {mol.energy_nuc()} Hartrees')"
   ]
  },
  {
   "cell_type": "markdown",
   "metadata": {},
   "source": [
    "Tracé de la courbe des orbitales avec la fonction plotly.express"
   ]
  },
  {
   "cell_type": "code",
   "execution_count": 20,
   "metadata": {},
   "outputs": [
    {
     "data": {
      "application/vnd.plotly.v1+json": {
       "config": {
        "plotlyServerURL": "https://plot.ly"
       },
       "data": [
        {
         "hovertemplate": "x=%{x}<br>y=%{y}<extra></extra>",
         "legendgroup": "",
         "line": {
          "color": "#636efa",
          "dash": "solid"
         },
         "marker": {
          "symbol": "circle"
         },
         "mode": "lines+markers",
         "name": "",
         "orientation": "v",
         "showlegend": false,
         "type": "scatter",
         "x": [
          0,
          1,
          2,
          3,
          4,
          5,
          6,
          7,
          8,
          9,
          10,
          11,
          12,
          13,
          14,
          15,
          16,
          17,
          18,
          19,
          20,
          21,
          22,
          23,
          24,
          25,
          26,
          27,
          28,
          29,
          30,
          31,
          32,
          33,
          34,
          35,
          36,
          37,
          38,
          39,
          40,
          41,
          42,
          43,
          44,
          45,
          46,
          47,
          48,
          49,
          50,
          51,
          52,
          53,
          54
         ],
         "xaxis": "x",
         "y": [
          2,
          2,
          2,
          2,
          2,
          2,
          2,
          2,
          2,
          2,
          2,
          2,
          2,
          2,
          2,
          2,
          2,
          2,
          2,
          2,
          2,
          2,
          0,
          0,
          0,
          0,
          0,
          0,
          0,
          0,
          0,
          0,
          0,
          0,
          0,
          0,
          0,
          0,
          0,
          0,
          0,
          0,
          0,
          0,
          0,
          0,
          0,
          0,
          0,
          0,
          0,
          0,
          0,
          0,
          0
         ],
         "yaxis": "y"
        }
       ],
       "layout": {
        "legend": {
         "tracegroupgap": 0
        },
        "template": {
         "data": {
          "bar": [
           {
            "error_x": {
             "color": "#2a3f5f"
            },
            "error_y": {
             "color": "#2a3f5f"
            },
            "marker": {
             "line": {
              "color": "#E5ECF6",
              "width": 0.5
             },
             "pattern": {
              "fillmode": "overlay",
              "size": 10,
              "solidity": 0.2
             }
            },
            "type": "bar"
           }
          ],
          "barpolar": [
           {
            "marker": {
             "line": {
              "color": "#E5ECF6",
              "width": 0.5
             },
             "pattern": {
              "fillmode": "overlay",
              "size": 10,
              "solidity": 0.2
             }
            },
            "type": "barpolar"
           }
          ],
          "carpet": [
           {
            "aaxis": {
             "endlinecolor": "#2a3f5f",
             "gridcolor": "white",
             "linecolor": "white",
             "minorgridcolor": "white",
             "startlinecolor": "#2a3f5f"
            },
            "baxis": {
             "endlinecolor": "#2a3f5f",
             "gridcolor": "white",
             "linecolor": "white",
             "minorgridcolor": "white",
             "startlinecolor": "#2a3f5f"
            },
            "type": "carpet"
           }
          ],
          "choropleth": [
           {
            "colorbar": {
             "outlinewidth": 0,
             "ticks": ""
            },
            "type": "choropleth"
           }
          ],
          "contour": [
           {
            "colorbar": {
             "outlinewidth": 0,
             "ticks": ""
            },
            "colorscale": [
             [
              0,
              "#0d0887"
             ],
             [
              0.1111111111111111,
              "#46039f"
             ],
             [
              0.2222222222222222,
              "#7201a8"
             ],
             [
              0.3333333333333333,
              "#9c179e"
             ],
             [
              0.4444444444444444,
              "#bd3786"
             ],
             [
              0.5555555555555556,
              "#d8576b"
             ],
             [
              0.6666666666666666,
              "#ed7953"
             ],
             [
              0.7777777777777778,
              "#fb9f3a"
             ],
             [
              0.8888888888888888,
              "#fdca26"
             ],
             [
              1,
              "#f0f921"
             ]
            ],
            "type": "contour"
           }
          ],
          "contourcarpet": [
           {
            "colorbar": {
             "outlinewidth": 0,
             "ticks": ""
            },
            "type": "contourcarpet"
           }
          ],
          "heatmap": [
           {
            "colorbar": {
             "outlinewidth": 0,
             "ticks": ""
            },
            "colorscale": [
             [
              0,
              "#0d0887"
             ],
             [
              0.1111111111111111,
              "#46039f"
             ],
             [
              0.2222222222222222,
              "#7201a8"
             ],
             [
              0.3333333333333333,
              "#9c179e"
             ],
             [
              0.4444444444444444,
              "#bd3786"
             ],
             [
              0.5555555555555556,
              "#d8576b"
             ],
             [
              0.6666666666666666,
              "#ed7953"
             ],
             [
              0.7777777777777778,
              "#fb9f3a"
             ],
             [
              0.8888888888888888,
              "#fdca26"
             ],
             [
              1,
              "#f0f921"
             ]
            ],
            "type": "heatmap"
           }
          ],
          "heatmapgl": [
           {
            "colorbar": {
             "outlinewidth": 0,
             "ticks": ""
            },
            "colorscale": [
             [
              0,
              "#0d0887"
             ],
             [
              0.1111111111111111,
              "#46039f"
             ],
             [
              0.2222222222222222,
              "#7201a8"
             ],
             [
              0.3333333333333333,
              "#9c179e"
             ],
             [
              0.4444444444444444,
              "#bd3786"
             ],
             [
              0.5555555555555556,
              "#d8576b"
             ],
             [
              0.6666666666666666,
              "#ed7953"
             ],
             [
              0.7777777777777778,
              "#fb9f3a"
             ],
             [
              0.8888888888888888,
              "#fdca26"
             ],
             [
              1,
              "#f0f921"
             ]
            ],
            "type": "heatmapgl"
           }
          ],
          "histogram": [
           {
            "marker": {
             "pattern": {
              "fillmode": "overlay",
              "size": 10,
              "solidity": 0.2
             }
            },
            "type": "histogram"
           }
          ],
          "histogram2d": [
           {
            "colorbar": {
             "outlinewidth": 0,
             "ticks": ""
            },
            "colorscale": [
             [
              0,
              "#0d0887"
             ],
             [
              0.1111111111111111,
              "#46039f"
             ],
             [
              0.2222222222222222,
              "#7201a8"
             ],
             [
              0.3333333333333333,
              "#9c179e"
             ],
             [
              0.4444444444444444,
              "#bd3786"
             ],
             [
              0.5555555555555556,
              "#d8576b"
             ],
             [
              0.6666666666666666,
              "#ed7953"
             ],
             [
              0.7777777777777778,
              "#fb9f3a"
             ],
             [
              0.8888888888888888,
              "#fdca26"
             ],
             [
              1,
              "#f0f921"
             ]
            ],
            "type": "histogram2d"
           }
          ],
          "histogram2dcontour": [
           {
            "colorbar": {
             "outlinewidth": 0,
             "ticks": ""
            },
            "colorscale": [
             [
              0,
              "#0d0887"
             ],
             [
              0.1111111111111111,
              "#46039f"
             ],
             [
              0.2222222222222222,
              "#7201a8"
             ],
             [
              0.3333333333333333,
              "#9c179e"
             ],
             [
              0.4444444444444444,
              "#bd3786"
             ],
             [
              0.5555555555555556,
              "#d8576b"
             ],
             [
              0.6666666666666666,
              "#ed7953"
             ],
             [
              0.7777777777777778,
              "#fb9f3a"
             ],
             [
              0.8888888888888888,
              "#fdca26"
             ],
             [
              1,
              "#f0f921"
             ]
            ],
            "type": "histogram2dcontour"
           }
          ],
          "mesh3d": [
           {
            "colorbar": {
             "outlinewidth": 0,
             "ticks": ""
            },
            "type": "mesh3d"
           }
          ],
          "parcoords": [
           {
            "line": {
             "colorbar": {
              "outlinewidth": 0,
              "ticks": ""
             }
            },
            "type": "parcoords"
           }
          ],
          "pie": [
           {
            "automargin": true,
            "type": "pie"
           }
          ],
          "scatter": [
           {
            "fillpattern": {
             "fillmode": "overlay",
             "size": 10,
             "solidity": 0.2
            },
            "type": "scatter"
           }
          ],
          "scatter3d": [
           {
            "line": {
             "colorbar": {
              "outlinewidth": 0,
              "ticks": ""
             }
            },
            "marker": {
             "colorbar": {
              "outlinewidth": 0,
              "ticks": ""
             }
            },
            "type": "scatter3d"
           }
          ],
          "scattercarpet": [
           {
            "marker": {
             "colorbar": {
              "outlinewidth": 0,
              "ticks": ""
             }
            },
            "type": "scattercarpet"
           }
          ],
          "scattergeo": [
           {
            "marker": {
             "colorbar": {
              "outlinewidth": 0,
              "ticks": ""
             }
            },
            "type": "scattergeo"
           }
          ],
          "scattergl": [
           {
            "marker": {
             "colorbar": {
              "outlinewidth": 0,
              "ticks": ""
             }
            },
            "type": "scattergl"
           }
          ],
          "scattermapbox": [
           {
            "marker": {
             "colorbar": {
              "outlinewidth": 0,
              "ticks": ""
             }
            },
            "type": "scattermapbox"
           }
          ],
          "scatterpolar": [
           {
            "marker": {
             "colorbar": {
              "outlinewidth": 0,
              "ticks": ""
             }
            },
            "type": "scatterpolar"
           }
          ],
          "scatterpolargl": [
           {
            "marker": {
             "colorbar": {
              "outlinewidth": 0,
              "ticks": ""
             }
            },
            "type": "scatterpolargl"
           }
          ],
          "scatterternary": [
           {
            "marker": {
             "colorbar": {
              "outlinewidth": 0,
              "ticks": ""
             }
            },
            "type": "scatterternary"
           }
          ],
          "surface": [
           {
            "colorbar": {
             "outlinewidth": 0,
             "ticks": ""
            },
            "colorscale": [
             [
              0,
              "#0d0887"
             ],
             [
              0.1111111111111111,
              "#46039f"
             ],
             [
              0.2222222222222222,
              "#7201a8"
             ],
             [
              0.3333333333333333,
              "#9c179e"
             ],
             [
              0.4444444444444444,
              "#bd3786"
             ],
             [
              0.5555555555555556,
              "#d8576b"
             ],
             [
              0.6666666666666666,
              "#ed7953"
             ],
             [
              0.7777777777777778,
              "#fb9f3a"
             ],
             [
              0.8888888888888888,
              "#fdca26"
             ],
             [
              1,
              "#f0f921"
             ]
            ],
            "type": "surface"
           }
          ],
          "table": [
           {
            "cells": {
             "fill": {
              "color": "#EBF0F8"
             },
             "line": {
              "color": "white"
             }
            },
            "header": {
             "fill": {
              "color": "#C8D4E3"
             },
             "line": {
              "color": "white"
             }
            },
            "type": "table"
           }
          ]
         },
         "layout": {
          "annotationdefaults": {
           "arrowcolor": "#2a3f5f",
           "arrowhead": 0,
           "arrowwidth": 1
          },
          "autotypenumbers": "strict",
          "coloraxis": {
           "colorbar": {
            "outlinewidth": 0,
            "ticks": ""
           }
          },
          "colorscale": {
           "diverging": [
            [
             0,
             "#8e0152"
            ],
            [
             0.1,
             "#c51b7d"
            ],
            [
             0.2,
             "#de77ae"
            ],
            [
             0.3,
             "#f1b6da"
            ],
            [
             0.4,
             "#fde0ef"
            ],
            [
             0.5,
             "#f7f7f7"
            ],
            [
             0.6,
             "#e6f5d0"
            ],
            [
             0.7,
             "#b8e186"
            ],
            [
             0.8,
             "#7fbc41"
            ],
            [
             0.9,
             "#4d9221"
            ],
            [
             1,
             "#276419"
            ]
           ],
           "sequential": [
            [
             0,
             "#0d0887"
            ],
            [
             0.1111111111111111,
             "#46039f"
            ],
            [
             0.2222222222222222,
             "#7201a8"
            ],
            [
             0.3333333333333333,
             "#9c179e"
            ],
            [
             0.4444444444444444,
             "#bd3786"
            ],
            [
             0.5555555555555556,
             "#d8576b"
            ],
            [
             0.6666666666666666,
             "#ed7953"
            ],
            [
             0.7777777777777778,
             "#fb9f3a"
            ],
            [
             0.8888888888888888,
             "#fdca26"
            ],
            [
             1,
             "#f0f921"
            ]
           ],
           "sequentialminus": [
            [
             0,
             "#0d0887"
            ],
            [
             0.1111111111111111,
             "#46039f"
            ],
            [
             0.2222222222222222,
             "#7201a8"
            ],
            [
             0.3333333333333333,
             "#9c179e"
            ],
            [
             0.4444444444444444,
             "#bd3786"
            ],
            [
             0.5555555555555556,
             "#d8576b"
            ],
            [
             0.6666666666666666,
             "#ed7953"
            ],
            [
             0.7777777777777778,
             "#fb9f3a"
            ],
            [
             0.8888888888888888,
             "#fdca26"
            ],
            [
             1,
             "#f0f921"
            ]
           ]
          },
          "colorway": [
           "#636efa",
           "#EF553B",
           "#00cc96",
           "#ab63fa",
           "#FFA15A",
           "#19d3f3",
           "#FF6692",
           "#B6E880",
           "#FF97FF",
           "#FECB52"
          ],
          "font": {
           "color": "#2a3f5f"
          },
          "geo": {
           "bgcolor": "white",
           "lakecolor": "white",
           "landcolor": "#E5ECF6",
           "showlakes": true,
           "showland": true,
           "subunitcolor": "white"
          },
          "hoverlabel": {
           "align": "left"
          },
          "hovermode": "closest",
          "mapbox": {
           "style": "light"
          },
          "paper_bgcolor": "white",
          "plot_bgcolor": "#E5ECF6",
          "polar": {
           "angularaxis": {
            "gridcolor": "white",
            "linecolor": "white",
            "ticks": ""
           },
           "bgcolor": "#E5ECF6",
           "radialaxis": {
            "gridcolor": "white",
            "linecolor": "white",
            "ticks": ""
           }
          },
          "scene": {
           "xaxis": {
            "backgroundcolor": "#E5ECF6",
            "gridcolor": "white",
            "gridwidth": 2,
            "linecolor": "white",
            "showbackground": true,
            "ticks": "",
            "zerolinecolor": "white"
           },
           "yaxis": {
            "backgroundcolor": "#E5ECF6",
            "gridcolor": "white",
            "gridwidth": 2,
            "linecolor": "white",
            "showbackground": true,
            "ticks": "",
            "zerolinecolor": "white"
           },
           "zaxis": {
            "backgroundcolor": "#E5ECF6",
            "gridcolor": "white",
            "gridwidth": 2,
            "linecolor": "white",
            "showbackground": true,
            "ticks": "",
            "zerolinecolor": "white"
           }
          },
          "shapedefaults": {
           "line": {
            "color": "#2a3f5f"
           }
          },
          "ternary": {
           "aaxis": {
            "gridcolor": "white",
            "linecolor": "white",
            "ticks": ""
           },
           "baxis": {
            "gridcolor": "white",
            "linecolor": "white",
            "ticks": ""
           },
           "bgcolor": "#E5ECF6",
           "caxis": {
            "gridcolor": "white",
            "linecolor": "white",
            "ticks": ""
           }
          },
          "title": {
           "x": 0.05
          },
          "xaxis": {
           "automargin": true,
           "gridcolor": "white",
           "linecolor": "white",
           "ticks": "",
           "title": {
            "standoff": 15
           },
           "zerolinecolor": "white",
           "zerolinewidth": 2
          },
          "yaxis": {
           "automargin": true,
           "gridcolor": "white",
           "linecolor": "white",
           "ticks": "",
           "title": {
            "standoff": 15
           },
           "zerolinecolor": "white",
           "zerolinewidth": 2
          }
         }
        },
        "title": {
         "text": "Molecular Orbital (MO) Occupations"
        },
        "xaxis": {
         "anchor": "y",
         "domain": [
          0,
          1
         ],
         "title": {
          "text": "Orbital Index (0-Based)"
         }
        },
        "yaxis": {
         "anchor": "x",
         "domain": [
          0,
          1
         ],
         "title": {
          "text": "MO Occupation"
         }
        }
       }
      }
     },
     "metadata": {},
     "output_type": "display_data"
    }
   ],
   "source": [
    "import plotly.express as px\n",
    "\n",
    "# Plot the MO Occupations\n",
    "fig = px.line(y=mf.mo_occ, markers=True, title=\"Molecular Orbital (MO) Occupations\")\n",
    "fig.update_layout(xaxis_title=\"Orbital Index (0-Based)\", yaxis_title=\"MO Occupation\")\n",
    "fig.show()"
   ]
  },
  {
   "cell_type": "code",
   "execution_count": null,
   "metadata": {},
   "outputs": [],
   "source": []
  },
  {
   "cell_type": "code",
   "execution_count": null,
   "metadata": {},
   "outputs": [],
   "source": []
  }
 ],
 "metadata": {
  "kernelspec": {
   "display_name": "base",
   "language": "python",
   "name": "python3"
  },
  "language_info": {
   "codemirror_mode": {
    "name": "ipython",
    "version": 3
   },
   "file_extension": ".py",
   "mimetype": "text/x-python",
   "name": "python",
   "nbconvert_exporter": "python",
   "pygments_lexer": "ipython3",
   "version": "3.11.8"
  },
  "orig_nbformat": 4
 },
 "nbformat": 4,
 "nbformat_minor": 2
}
