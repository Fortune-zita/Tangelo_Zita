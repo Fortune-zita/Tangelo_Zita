{
 "cells": [
  {
   "cell_type": "code",
   "execution_count": 2,
   "id": "cabb40b5",
   "metadata": {},
   "outputs": [],
   "source": [
    "import qiskit_nature\n",
    "from rdkit import Chem\n",
    "from pathlib import Path \n",
    "import rdkit"
   ]
  },
  {
   "cell_type": "code",
   "execution_count": 3,
   "id": "701b16c2",
   "metadata": {},
   "outputs": [
    {
     "data": {
      "image/png": "[encoded data removed]",
      "text/plain": [
       "<rdkit.Chem.rdchem.Mol at 0x7bc54402a260>"
      ]
     },
     "execution_count": 3,
     "metadata": {},
     "output_type": "execute_result"
    }
   ],
   "source": [
    "#smile='C1=CSC=N1'\n",
    "smile = '[B-]1(n2cccc2C=C3[N+]1=CC=C3)(F)F'\n",
    "smi_key='BODIPY'\n",
    "mol_rdkit = Chem.MolFromSmiles(smile)\n",
    "mol_rdkit"
   ]
  },
  {
   "cell_type": "code",
   "execution_count": 4,
   "id": "b452e4f5",
   "metadata": {},
   "outputs": [],
   "source": [
    " import py3Dmol "
   ]
  },
  {
   "cell_type": "code",
   "execution_count": 5,
   "id": "75ef0096",
   "metadata": {},
   "outputs": [],
   "source": [
    " # Verify if the \"data2402_{smi_key}\" subdirectory exist and if not, create it\n",
    "working_dir = Path(f'./data2405/{smi_key}')\n",
    "# Create the output directory if it doesn't exist\n",
    "working_dir.mkdir(parents=True, exist_ok=True)\n"
   ]
  },
  {
   "cell_type": "code",
   "execution_count": 6,
   "id": "a08d10bf",
   "metadata": {},
   "outputs": [],
   "source": [
    "\n",
    "def view3D(mol, label, fmt='mol'):\n",
    "        \"\"\"3D vizualisation of mol/xyz file with Py3DMol\n",
    "        \"\"\"\n",
    "\n",
    "        view = py3Dmol.view(width=400, height=400)       # visualiser la molécule avec une largeur de ''400'' et hauteur de ''400''\n",
    "\n",
    "        if fmt=='mol':                                   # si le format des 'mol',\n",
    "            view.addModel(Chem.MolToMolBlock(mol), fmt)     # generer les coordonnes de a molecule dans un block\n",
    "            # view.addModel(mol, fmt)\n",
    "        elif fmt=='xyz':                                      # sinon \n",
    "            view.addModel(mol, fmt)                             # generer les coordonnes en xyz\n",
    "\n",
    "        view.setStyle({'stick': {}, 'sphere': {'scale': .30}})     # définir le style de représentation de la molécule, avec des bâtons pour les liaisons et des sphères pour les atomes avec une échelle de '30'\n",
    "        view.addLabel(label, {'position': {'x': -2, 'y': -3, 'z': 0}}) # ajouter une etiquette de visualisation dont les coordonnées sont x,y,z\n",
    "\n",
    "        view.zoomTo()\n",
    "        view.show()"
   ]
  },
  {
   "cell_type": "markdown",
   "id": "9c082670",
   "metadata": {},
   "source": [
    "Meilleur conformere"
   ]
  },
  {
   "cell_type": "code",
   "execution_count": 8,
   "id": "1ce76929",
   "metadata": {},
   "outputs": [
    {
     "data": {
      "image/png": "[encoded data removed]",
      "text/plain": [
       "<rdkit.Chem.rdchem.Mol at 0x7bc5440a8660>"
      ]
     },
     "execution_count": 8,
     "metadata": {},
     "output_type": "execute_result"
    }
   ],
   "source": [
    "from rdkit.Chem import AllChem\n",
    "\n",
    "# Add explicit Hs\n",
    "mol_rdkit = Chem.AddHs(mol_rdkit)    #   Ajouter les atomes d'hydrogene a la molécule\n",
    "\n",
    "# Generates the initial 3D conformation of the molecule\n",
    "AllChem.EmbedMolecule(mol_rdkit)\n",
    "mol_rdkit"
   ]
  },
  {
   "cell_type": "markdown",
   "id": "c5fedcd3",
   "metadata": {},
   "source": [
    "Visualisation 3D"
   ]
  },
  {
   "cell_type": "code",
   "execution_count": 9,
   "id": "f357c927",
   "metadata": {},
   "outputs": [
    {
     "data": {
      "application/3dmoljs_load.v0": "<div id=\"3dmolviewer_17193136363550782\"  style=\"position: relative; width: 400px; height: 400px;\">\n        <p id=\"3dmolwarning_17193136363550782\" style=\"background-color:#ffcccc;color:black\">3Dmol.js failed to load for some reason.  Please check your browser console for error messages.<br></p>\n        </div>\n<script>\n\nvar loadScriptAsync = function(uri){\n  return new Promise((resolve, reject) => {\n    //this is to ignore the existence of requirejs amd\n    var savedexports, savedmodule;\n    if (typeof exports !== 'undefined') savedexports = exports;\n    else exports = {}\n    if (typeof module !== 'undefined') savedmodule = module;\n    else module = {}\n\n    var tag = document.createElement('script');\n    tag.src = uri;\n    tag.async = true;\n    tag.onload = () => {\n        exports = savedexports;\n        module = savedmodule;\n        resolve();\n    };\n  var firstScriptTag = document.getElementsByTagName('script')[0];\n  firstScriptTag.parentNode.insertBefore(tag, firstScriptTag);\n});\n};\n\nif(typeof $3Dmolpromise === 'undefined') {\n$3Dmolpromise = null;\n  $3Dmolpromise = loadScriptAsync('https://cdnjs.cloudflare.com/ajax/libs/3Dmol/2.1.0/3Dmol-min.js');\n}\n\nvar viewer_17193136363550782 = null;\nvar warn = document.getElementById(\"3dmolwarning_17193136363550782\");\nif(warn) {\n    warn.parentNode.removeChild(warn);\n}\n$3Dmolpromise.then(function() {\nviewer_17193136363550782 = $3Dmol.createViewer(document.getElementById(\"3dmolviewer_17193136363550782\"),{backgroundColor:\"white\"});\nviewer_17193136363550782.zoomTo();\n\tviewer_17193136363550782.addModel(\"\\n     RDKit          3D\\n\\n 21 23  0  0  0  0  0  0  0  0999 V2000\\n    0.0775   -1.2601    0.6622 B   0  0  0  0  0  4  0  0  0  0  0  0\\n    1.2873   -0.5121    0.1678 N   0  0  0  0  0  0  0  0  0  0  0  0\\n    2.6101   -0.8723    0.2561 C   0  0  0  0  0  0  0  0  0  0  0  0\\n    3.3765    0.1066   -0.3267 C   0  0  0  0  0  0  0  0  0  0  0  0\\n    2.4773    1.0529   -0.7613 C   0  0  0  0  0  0  0  0  0  0  0  0\\n    1.1919    0.6600   -0.4505 C   0  0  0  0  0  0  0  0  0  0  0  0\\n   -0.1101    1.3026   -0.6912 C   0  0  0  0  0  0  0  0  0  0  0  0\\n   -1.2263    0.7188   -0.2917 C   0  0  0  0  0  0  0  0  0  0  0  0\\n   -1.2109   -0.5171    0.3668 N   0  0  0  0  0  4  0  0  0  0  0  0\\n   -2.4657   -0.8715    0.6547 C   0  0  0  0  0  0  0  0  0  0  0  0\\n   -3.3672    0.1576    0.1762 C   0  0  0  0  0  0  0  0  0  0  0  0\\n   -2.6494    1.1092   -0.3882 C   0  0  0  0  0  0  0  0  0  0  0  0\\n    0.1677   -1.3842    2.1273 F   0  0  0  0  0  0  0  0  0  0  0  0\\n   -0.0089   -2.6021    0.0717 F   0  0  0  0  0  0  0  0  0  0  0  0\\n    2.9289   -1.7878    0.7198 H   0  0  0  0  0  0  0  0  0  0  0  0\\n    4.4599    0.1073   -0.4122 H   0  0  0  0  0  0  0  0  0  0  0  0\\n    2.7468    1.9741   -1.2742 H   0  0  0  0  0  0  0  0  0  0  0  0\\n   -0.1600    2.2578   -1.1971 H   0  0  0  0  0  0  0  0  0  0  0  0\\n   -2.7124   -1.7989    1.1692 H   0  0  0  0  0  0  0  0  0  0  0  0\\n   -4.4478    0.1345    0.2735 H   0  0  0  0  0  0  0  0  0  0  0  0\\n   -2.9651    2.0248   -0.8522 H   0  0  0  0  0  0  0  0  0  0  0  0\\n  1  2  1  0\\n  2  3  1  0\\n  3  4  2  0\\n  4  5  1  0\\n  5  6  2  0\\n  6  7  1  0\\n  7  8  2  0\\n  8  9  1  0\\n  9 10  2  0\\n 10 11  1  0\\n 11 12  2  0\\n  1 13  1  0\\n  1 14  1  0\\n  9  1  1  0\\n  6  2  1  0\\n 12  8  1  0\\n  3 15  1  0\\n  4 16  1  0\\n  5 17  1  0\\n  7 18  1  0\\n 10 19  1  0\\n 11 20  1  0\\n 12 21  1  0\\nM  CHG  2   1  -1   9   1\\nM  END\\n\",\"mol\");\n\tviewer_17193136363550782.setStyle({\"stick\": {}, \"sphere\": {\"scale\": 0.3}});\n\tviewer_17193136363550782.addLabel(\"BODIPY RDKit Molecule\",{\"position\": {\"x\": -2, \"y\": -3, \"z\": 0}});\n\tviewer_17193136363550782.zoomTo();\nviewer_17193136363550782.render();\n});\n</script>",
      "text/html": [
       "<div id=\"3dmolviewer_17193136363550782\"  style=\"position: relative; width: 400px; height: 400px;\">\n",
       "        <p id=\"3dmolwarning_17193136363550782\" style=\"background-color:#ffcccc;color:black\">3Dmol.js failed to load for some reason.  Please check your browser console for error messages.<br></p>\n",
       "        </div>\n",
       "<script>\n",
       "\n",
       "var loadScriptAsync = function(uri){\n",
       "  return new Promise((resolve, reject) => {\n",
       "    //this is to ignore the existence of requirejs amd\n",
       "    var savedexports, savedmodule;\n",
       "    if (typeof exports !== 'undefined') savedexports = exports;\n",
       "    else exports = {}\n",
       "    if (typeof module !== 'undefined') savedmodule = module;\n",
       "    else module = {}\n",
       "\n",
       "    var tag = document.createElement('script');\n",
       "    tag.src = uri;\n",
       "    tag.async = true;\n",
       "    tag.onload = () => {\n",
       "        exports = savedexports;\n",
       "        module = savedmodule;\n",
       "        resolve();\n",
       "    };\n",
       "  var firstScriptTag = document.getElementsByTagName('script')[0];\n",
       "  firstScriptTag.parentNode.insertBefore(tag, firstScriptTag);\n",
       "});\n",
       "};\n",
       "\n",
       "if(typeof $3Dmolpromise === 'undefined') {\n",
       "$3Dmolpromise = null;\n",
       "  $3Dmolpromise = loadScriptAsync('https://cdnjs.cloudflare.com/ajax/libs/3Dmol/2.1.0/3Dmol-min.js');\n",
       "}\n",
       "\n",
       "var viewer_17193136363550782 = null;\n",
       "var warn = document.getElementById(\"3dmolwarning_17193136363550782\");\n",
       "if(warn) {\n",
       "    warn.parentNode.removeChild(warn);\n",
       "}\n",
       "$3Dmolpromise.then(function() {\n",
       "viewer_17193136363550782 = $3Dmol.createViewer(document.getElementById(\"3dmolviewer_17193136363550782\"),{backgroundColor:\"white\"});\n",
       "viewer_17193136363550782.zoomTo();\n",
       "\tviewer_17193136363550782.addModel(\"\\n     RDKit          3D\\n\\n 21 23  0  0  0  0  0  0  0  0999 V2000\\n    0.0775   -1.2601    0.6622 B   0  0  0  0  0  4  0  0  0  0  0  0\\n    1.2873   -0.5121    0.1678 N   0  0  0  0  0  0  0  0  0  0  0  0\\n    2.6101   -0.8723    0.2561 C   0  0  0  0  0  0  0  0  0  0  0  0\\n    3.3765    0.1066   -0.3267 C   0  0  0  0  0  0  0  0  0  0  0  0\\n    2.4773    1.0529   -0.7613 C   0  0  0  0  0  0  0  0  0  0  0  0\\n    1.1919    0.6600   -0.4505 C   0  0  0  0  0  0  0  0  0  0  0  0\\n   -0.1101    1.3026   -0.6912 C   0  0  0  0  0  0  0  0  0  0  0  0\\n   -1.2263    0.7188   -0.2917 C   0  0  0  0  0  0  0  0  0  0  0  0\\n   -1.2109   -0.5171    0.3668 N   0  0  0  0  0  4  0  0  0  0  0  0\\n   -2.4657   -0.8715    0.6547 C   0  0  0  0  0  0  0  0  0  0  0  0\\n   -3.3672    0.1576    0.1762 C   0  0  0  0  0  0  0  0  0  0  0  0\\n   -2.6494    1.1092   -0.3882 C   0  0  0  0  0  0  0  0  0  0  0  0\\n    0.1677   -1.3842    2.1273 F   0  0  0  0  0  0  0  0  0  0  0  0\\n   -0.0089   -2.6021    0.0717 F   0  0  0  0  0  0  0  0  0  0  0  0\\n    2.9289   -1.7878    0.7198 H   0  0  0  0  0  0  0  0  0  0  0  0\\n    4.4599    0.1073   -0.4122 H   0  0  0  0  0  0  0  0  0  0  0  0\\n    2.7468    1.9741   -1.2742 H   0  0  0  0  0  0  0  0  0  0  0  0\\n   -0.1600    2.2578   -1.1971 H   0  0  0  0  0  0  0  0  0  0  0  0\\n   -2.7124   -1.7989    1.1692 H   0  0  0  0  0  0  0  0  0  0  0  0\\n   -4.4478    0.1345    0.2735 H   0  0  0  0  0  0  0  0  0  0  0  0\\n   -2.9651    2.0248   -0.8522 H   0  0  0  0  0  0  0  0  0  0  0  0\\n  1  2  1  0\\n  2  3  1  0\\n  3  4  2  0\\n  4  5  1  0\\n  5  6  2  0\\n  6  7  1  0\\n  7  8  2  0\\n  8  9  1  0\\n  9 10  2  0\\n 10 11  1  0\\n 11 12  2  0\\n  1 13  1  0\\n  1 14  1  0\\n  9  1  1  0\\n  6  2  1  0\\n 12  8  1  0\\n  3 15  1  0\\n  4 16  1  0\\n  5 17  1  0\\n  7 18  1  0\\n 10 19  1  0\\n 11 20  1  0\\n 12 21  1  0\\nM  CHG  2   1  -1   9   1\\nM  END\\n\",\"mol\");\n",
       "\tviewer_17193136363550782.setStyle({\"stick\": {}, \"sphere\": {\"scale\": 0.3}});\n",
       "\tviewer_17193136363550782.addLabel(\"BODIPY RDKit Molecule\",{\"position\": {\"x\": -2, \"y\": -3, \"z\": 0}});\n",
       "\tviewer_17193136363550782.zoomTo();\n",
       "viewer_17193136363550782.render();\n",
       "});\n",
       "</script>"
      ]
     },
     "metadata": {},
     "output_type": "display_data"
    }
   ],
   "source": [
    "# 3D visualization\n",
    "mol_rdkit0 = mol_rdkit                    #crée une nouvelle variable mol_rdkit0 qui est une copie de mol_rdkit.\n",
    "                                           #Cette copie est nécessaire pour la visualisation 3D, car la fonction view3D() modifie l'objet molécule passé en argument.\n",
    "\n",
    "view3D(mol_rdkit0, f'{smi_key} RDKit Molecule')\n"
   ]
  },
  {
   "cell_type": "code",
   "execution_count": 10,
   "id": "17e2962b",
   "metadata": {},
   "outputs": [
    {
     "name": "stdout",
     "output_type": "stream",
     "text": [
      "21\n",
      "\n",
      "B      0.077540   -1.260063    0.662168\n",
      "N      1.287298   -0.512080    0.167762\n",
      "C      2.610063   -0.872251    0.256071\n",
      "C      3.376476    0.106602   -0.326730\n",
      "C      2.477341    1.052924   -0.761252\n",
      "C      1.191909    0.660042   -0.450475\n",
      "C     -0.110072    1.302633   -0.691166\n",
      "C     -1.226323    0.718760   -0.291707\n",
      "N     -1.210933   -0.517100    0.366848\n",
      "C     -2.465701   -0.871538    0.654737\n",
      "C     -3.367151    0.157580    0.176219\n",
      "C     -2.649449    1.109206   -0.388242\n",
      "F      0.167736   -1.384240    2.127318\n",
      "F     -0.008884   -2.602113    0.071666\n",
      "H      2.928855   -1.787844    0.719808\n",
      "H      4.459867    0.107265   -0.412239\n",
      "H      2.746806    1.974054   -1.274174\n",
      "H     -0.159997    2.257776   -1.197146\n",
      "H     -2.712431   -1.798886    1.169208\n",
      "H     -4.447832    0.134476    0.273536\n",
      "H     -2.965119    2.024799   -0.852211\n",
      "\n"
     ]
    }
   ],
   "source": [
    "# Convert RDKit molecule to XYZ format \n",
    "mol_xyz0 = Chem.MolToXYZBlock(mol_rdkit)    # Convertir  la molecule format XYZ \n",
    "print(mol_xyz0)"
   ]
  },
  {
   "cell_type": "markdown",
   "id": "a9479a28",
   "metadata": {},
   "source": [
    "Préoptimisation avec RDKIT \\\n",
    "visualisation 3D"
   ]
  },
  {
   "cell_type": "code",
   "execution_count": 12,
   "id": "62b80942",
   "metadata": {},
   "outputs": [
    {
     "data": {
      "application/3dmoljs_load.v0": "<div id=\"3dmolviewer_17193136558230455\"  style=\"position: relative; width: 400px; height: 400px;\">\n        <p id=\"3dmolwarning_17193136558230455\" style=\"background-color:#ffcccc;color:black\">3Dmol.js failed to load for some reason.  Please check your browser console for error messages.<br></p>\n        </div>\n<script>\n\nvar loadScriptAsync = function(uri){\n  return new Promise((resolve, reject) => {\n    //this is to ignore the existence of requirejs amd\n    var savedexports, savedmodule;\n    if (typeof exports !== 'undefined') savedexports = exports;\n    else exports = {}\n    if (typeof module !== 'undefined') savedmodule = module;\n    else module = {}\n\n    var tag = document.createElement('script');\n    tag.src = uri;\n    tag.async = true;\n    tag.onload = () => {\n        exports = savedexports;\n        module = savedmodule;\n        resolve();\n    };\n  var firstScriptTag = document.getElementsByTagName('script')[0];\n  firstScriptTag.parentNode.insertBefore(tag, firstScriptTag);\n});\n};\n\nif(typeof $3Dmolpromise === 'undefined') {\n$3Dmolpromise = null;\n  $3Dmolpromise = loadScriptAsync('https://cdnjs.cloudflare.com/ajax/libs/3Dmol/2.1.0/3Dmol-min.js');\n}\n\nvar viewer_17193136558230455 = null;\nvar warn = document.getElementById(\"3dmolwarning_17193136558230455\");\nif(warn) {\n    warn.parentNode.removeChild(warn);\n}\n$3Dmolpromise.then(function() {\nviewer_17193136558230455 = $3Dmol.createViewer(document.getElementById(\"3dmolviewer_17193136558230455\"),{backgroundColor:\"white\"});\nviewer_17193136558230455.zoomTo();\n\tviewer_17193136558230455.addModel(\"\\n     RDKit          3D\\n\\n 21 23  0  0  0  0  0  0  0  0999 V2000\\n    0.0496   -1.4247   -0.0058 B   0  0  0  0  0  4  0  0  0  0  0  0\\n    1.2798   -0.5563   -0.0048 N   0  0  0  0  0  0  0  0  0  0  0  0\\n    2.5983   -0.9420   -0.0055 C   0  0  0  0  0  0  0  0  0  0  0  0\\n    3.3891    0.1804   -0.0041 C   0  0  0  0  0  0  0  0  0  0  0  0\\n    2.5087    1.2376   -0.0026 C   0  0  0  0  0  0  0  0  0  0  0  0\\n    1.2106    0.7705   -0.0030 C   0  0  0  0  0  0  0  0  0  0  0  0\\n   -0.0807    1.4765   -0.0019 C   0  0  0  0  0  0  0  0  0  0  0  0\\n   -1.2134    0.7958   -0.0026 C   0  0  0  0  0  0  0  0  0  0  0  0\\n   -1.2259   -0.6046   -0.0045 N   0  0  0  0  0  4  0  0  0  0  0  0\\n   -2.4923   -1.0277   -0.0048 C   0  0  0  0  0  0  0  0  0  0  0  0\\n   -3.3732    0.1232   -0.0032 C   0  0  0  0  0  0  0  0  0  0  0  0\\n   -2.6319    1.2140   -0.0019 C   0  0  0  0  0  0  0  0  0  0  0  0\\n    0.0385   -2.2258    1.2305 F   0  0  0  0  0  0  0  0  0  0  0  0\\n    0.0250   -2.3287   -1.1631 F   0  0  0  0  0  0  0  0  0  0  0  0\\n    2.8974   -1.9743   -0.0069 H   0  0  0  0  0  0  0  0  0  0  0  0\\n    4.4757    0.1996   -0.0042 H   0  0  0  0  0  0  0  0  0  0  0  0\\n    2.7998    2.2862   -0.0012 H   0  0  0  0  0  0  0  0  0  0  0  0\\n   -0.1092    2.5582   -0.0005 H   0  0  0  0  0  0  0  0  0  0  0  0\\n   -2.7607   -2.0830   -0.0062 H   0  0  0  0  0  0  0  0  0  0  0  0\\n   -4.4576    0.0786   -0.0031 H   0  0  0  0  0  0  0  0  0  0  0  0\\n   -2.9278    2.2463   -0.0005 H   0  0  0  0  0  0  0  0  0  0  0  0\\n  1  2  1  0\\n  2  3  1  0\\n  3  4  2  0\\n  4  5  1  0\\n  5  6  2  0\\n  6  7  1  0\\n  7  8  2  0\\n  8  9  1  0\\n  9 10  2  0\\n 10 11  1  0\\n 11 12  2  0\\n  1 13  1  0\\n  1 14  1  0\\n  9  1  1  0\\n  6  2  1  0\\n 12  8  1  0\\n  3 15  1  0\\n  4 16  1  0\\n  5 17  1  0\\n  7 18  1  0\\n 10 19  1  0\\n 11 20  1  0\\n 12 21  1  0\\nM  CHG  2   1  -1   9   1\\nM  END\\n\",\"mol\");\n\tviewer_17193136558230455.setStyle({\"stick\": {}, \"sphere\": {\"scale\": 0.3}});\n\tviewer_17193136558230455.addLabel(\"BODIPY RDKit Molecule MMFF94\",{\"position\": {\"x\": -2, \"y\": -3, \"z\": 0}});\n\tviewer_17193136558230455.zoomTo();\nviewer_17193136558230455.render();\n});\n</script>",
      "text/html": [
       "<div id=\"3dmolviewer_17193136558230455\"  style=\"position: relative; width: 400px; height: 400px;\">\n",
       "        <p id=\"3dmolwarning_17193136558230455\" style=\"background-color:#ffcccc;color:black\">3Dmol.js failed to load for some reason.  Please check your browser console for error messages.<br></p>\n",
       "        </div>\n",
       "<script>\n",
       "\n",
       "var loadScriptAsync = function(uri){\n",
       "  return new Promise((resolve, reject) => {\n",
       "    //this is to ignore the existence of requirejs amd\n",
       "    var savedexports, savedmodule;\n",
       "    if (typeof exports !== 'undefined') savedexports = exports;\n",
       "    else exports = {}\n",
       "    if (typeof module !== 'undefined') savedmodule = module;\n",
       "    else module = {}\n",
       "\n",
       "    var tag = document.createElement('script');\n",
       "    tag.src = uri;\n",
       "    tag.async = true;\n",
       "    tag.onload = () => {\n",
       "        exports = savedexports;\n",
       "        module = savedmodule;\n",
       "        resolve();\n",
       "    };\n",
       "  var firstScriptTag = document.getElementsByTagName('script')[0];\n",
       "  firstScriptTag.parentNode.insertBefore(tag, firstScriptTag);\n",
       "});\n",
       "};\n",
       "\n",
       "if(typeof $3Dmolpromise === 'undefined') {\n",
       "$3Dmolpromise = null;\n",
       "  $3Dmolpromise = loadScriptAsync('https://cdnjs.cloudflare.com/ajax/libs/3Dmol/2.1.0/3Dmol-min.js');\n",
       "}\n",
       "\n",
       "var viewer_17193136558230455 = null;\n",
       "var warn = document.getElementById(\"3dmolwarning_17193136558230455\");\n",
       "if(warn) {\n",
       "    warn.parentNode.removeChild(warn);\n",
       "}\n",
       "$3Dmolpromise.then(function() {\n",
       "viewer_17193136558230455 = $3Dmol.createViewer(document.getElementById(\"3dmolviewer_17193136558230455\"),{backgroundColor:\"white\"});\n",
       "viewer_17193136558230455.zoomTo();\n",
       "\tviewer_17193136558230455.addModel(\"\\n     RDKit          3D\\n\\n 21 23  0  0  0  0  0  0  0  0999 V2000\\n    0.0496   -1.4247   -0.0058 B   0  0  0  0  0  4  0  0  0  0  0  0\\n    1.2798   -0.5563   -0.0048 N   0  0  0  0  0  0  0  0  0  0  0  0\\n    2.5983   -0.9420   -0.0055 C   0  0  0  0  0  0  0  0  0  0  0  0\\n    3.3891    0.1804   -0.0041 C   0  0  0  0  0  0  0  0  0  0  0  0\\n    2.5087    1.2376   -0.0026 C   0  0  0  0  0  0  0  0  0  0  0  0\\n    1.2106    0.7705   -0.0030 C   0  0  0  0  0  0  0  0  0  0  0  0\\n   -0.0807    1.4765   -0.0019 C   0  0  0  0  0  0  0  0  0  0  0  0\\n   -1.2134    0.7958   -0.0026 C   0  0  0  0  0  0  0  0  0  0  0  0\\n   -1.2259   -0.6046   -0.0045 N   0  0  0  0  0  4  0  0  0  0  0  0\\n   -2.4923   -1.0277   -0.0048 C   0  0  0  0  0  0  0  0  0  0  0  0\\n   -3.3732    0.1232   -0.0032 C   0  0  0  0  0  0  0  0  0  0  0  0\\n   -2.6319    1.2140   -0.0019 C   0  0  0  0  0  0  0  0  0  0  0  0\\n    0.0385   -2.2258    1.2305 F   0  0  0  0  0  0  0  0  0  0  0  0\\n    0.0250   -2.3287   -1.1631 F   0  0  0  0  0  0  0  0  0  0  0  0\\n    2.8974   -1.9743   -0.0069 H   0  0  0  0  0  0  0  0  0  0  0  0\\n    4.4757    0.1996   -0.0042 H   0  0  0  0  0  0  0  0  0  0  0  0\\n    2.7998    2.2862   -0.0012 H   0  0  0  0  0  0  0  0  0  0  0  0\\n   -0.1092    2.5582   -0.0005 H   0  0  0  0  0  0  0  0  0  0  0  0\\n   -2.7607   -2.0830   -0.0062 H   0  0  0  0  0  0  0  0  0  0  0  0\\n   -4.4576    0.0786   -0.0031 H   0  0  0  0  0  0  0  0  0  0  0  0\\n   -2.9278    2.2463   -0.0005 H   0  0  0  0  0  0  0  0  0  0  0  0\\n  1  2  1  0\\n  2  3  1  0\\n  3  4  2  0\\n  4  5  1  0\\n  5  6  2  0\\n  6  7  1  0\\n  7  8  2  0\\n  8  9  1  0\\n  9 10  2  0\\n 10 11  1  0\\n 11 12  2  0\\n  1 13  1  0\\n  1 14  1  0\\n  9  1  1  0\\n  6  2  1  0\\n 12  8  1  0\\n  3 15  1  0\\n  4 16  1  0\\n  5 17  1  0\\n  7 18  1  0\\n 10 19  1  0\\n 11 20  1  0\\n 12 21  1  0\\nM  CHG  2   1  -1   9   1\\nM  END\\n\",\"mol\");\n",
       "\tviewer_17193136558230455.setStyle({\"stick\": {}, \"sphere\": {\"scale\": 0.3}});\n",
       "\tviewer_17193136558230455.addLabel(\"BODIPY RDKit Molecule MMFF94\",{\"position\": {\"x\": -2, \"y\": -3, \"z\": 0}});\n",
       "\tviewer_17193136558230455.zoomTo();\n",
       "viewer_17193136558230455.render();\n",
       "});\n",
       "</script>"
      ]
     },
     "metadata": {},
     "output_type": "display_data"
    }
   ],
   "source": [
    "from rdkit.Chem import AllChem\n",
    "\n",
    "# Optimizes the 3D conformation of the molecule using MMFF - Merck Molecular Force Field\n",
    "AllChem.MMFFOptimizeMolecule(mol_rdkit, maxIters=200, mmffVariant=\"MMFF94s\")   # utiliser 200 itérations et la variante MMFF94s\n",
    "\n",
    "#Canonicalize the orientation of the conformation\n",
    "Chem.rdMolTransforms.CanonicalizeMol(mol_rdkit, normalizeCovar=True, ignoreHs=False)\n",
    "\n",
    "# 3D visualization\n",
    "mol_rdkit1 = mol_rdkit\n",
    "view3D(mol_rdkit1, f'{smi_key} RDKit Molecule MMFF94')\n"
   ]
  },
  {
   "cell_type": "code",
   "execution_count": 13,
   "id": "8cf02861",
   "metadata": {},
   "outputs": [
    {
     "name": "stdout",
     "output_type": "stream",
     "text": [
      "B      0.077540   -1.260063    0.662168\n",
      "N      1.287298   -0.512080    0.167762\n",
      "C      2.610063   -0.872251    0.256071\n",
      "C      3.376476    0.106602   -0.326730\n",
      "C      2.477341    1.052924   -0.761252\n",
      "C      1.191909    0.660042   -0.450475\n",
      "C     -0.110072    1.302633   -0.691166\n",
      "C     -1.226323    0.718760   -0.291707\n",
      "N     -1.210933   -0.517100    0.366848\n",
      "C     -2.465701   -0.871538    0.654737\n",
      "C     -3.367151    0.157580    0.176219\n",
      "C     -2.649449    1.109206   -0.388242\n",
      "F      0.167736   -1.384240    2.127318\n",
      "F     -0.008884   -2.602113    0.071666\n",
      "H      2.928855   -1.787844    0.719808\n",
      "H      4.459867    0.107265   -0.412239\n",
      "H      2.746806    1.974054   -1.274174\n",
      "H     -0.159997    2.257776   -1.197146\n",
      "H     -2.712431   -1.798886    1.169208\n",
      "H     -4.447832    0.134476    0.273536\n",
      "H     -2.965119    2.024799   -0.852211\n"
     ]
    }
   ],
   "source": [
    "# Convert RDKit molecule to XYZ format \n",
    "mol_xyz1 = Chem.MolToXYZBlock(mol_rdkit)    # Convertir  la molecule format XYZ \n",
    "# Remove the first two lines (number of atoms and empty line) from XYZ data\n",
    "mol_xyz1 = '\\n'.join(mol_xyz0.strip().split('\\n')[2:]) \n",
    "# Check that the xyz file is valide for the next step (pyscf.gto)\n",
    "print(mol_xyz1)"
   ]
  },
  {
   "cell_type": "code",
   "execution_count": 14,
   "id": "452cd579",
   "metadata": {},
   "outputs": [],
   "source": [
    "from tangelo import SecondQuantizedMolecule as SQMol\n",
    "from tangelo.helpers.utils import is_package_installed"
   ]
  },
  {
   "cell_type": "markdown",
   "id": "34764d39",
   "metadata": {},
   "source": [
    "Creation de l'objet mole"
   ]
  },
  {
   "cell_type": "code",
   "execution_count": 15,
   "id": "059a9dc8",
   "metadata": {},
   "outputs": [
    {
     "name": "stdout",
     "output_type": "stream",
     "text": [
      "active molecular orbitals : 126 \n",
      "active electrons : 70 \n"
     ]
    }
   ],
   "source": [
    "thiazole_321g = SQMol(mol_xyz1, q=0, spin=0, basis=\"3-21g\")\n",
    "print(f\"active molecular orbitals : {thiazole_321g.n_active_mos} \")\n",
    "print(f\"active electrons : {thiazole_321g.n_active_electrons} \")"
   ]
  },
  {
   "cell_type": "code",
   "execution_count": 16,
   "id": "02f0432f",
   "metadata": {},
   "outputs": [],
   "source": [
    "import dftd4.pyscf as disp\n",
    "from pyscf import solvent\n",
    "\n",
    "\n",
    "mf = thiazole_321g.mean_field\n",
    "\n",
    "# Utiliser la méthode \"ddCOSMO\" de l'objet \"solvent\"\n",
    "mf = mf.run().ddCOSMO()\n",
    "mf.with_solvent.eps = 2.3741   # Toluene\n",
    "mf = disp.energy(mf).run()"
   ]
  },
  {
   "cell_type": "code",
   "execution_count": 28,
   "id": "455840ba",
   "metadata": {},
   "outputs": [
    {
     "name": "stdout",
     "output_type": "stream",
     "text": [
      "indice homo : 48 \n",
      " indice lumo: 49 \n"
     ]
    }
   ],
   "source": [
    "n_lumo = thiazole_321g.mo_occ.tolist().index(0.)\n",
    "n_homo = n_lumo - 1\n",
    "print(f\"indice homo : {n_homo} \")\n",
    "print(f\" indice lumo: {n_lumo} \")\n",
    "\n",
    "# n_molecular_orb = thiazole_321g.n_mos\n",
    "# frozen_orbitals = [n for n in range(n_molecular_orb) if n not in range(n_homo-1, n_lumo+1)] # definition des orbitales gelées\n",
    "# len(frozen_orbitals)\n",
    "#print(f\"{o2_6311gdp_frozen.n_active_mos} active molecular orbitals\")\n",
    "#print(f\"{o2_6311gdp_frozen.n_active_electrons} active electrons\")"
   ]
  },
  {
   "cell_type": "markdown",
   "id": "fd289539",
   "metadata": {},
   "source": [
    "Hamiltonien"
   ]
  },
  {
   "cell_type": "code",
   "execution_count": null,
   "id": "fcef62a9",
   "metadata": {},
   "outputs": [],
   "source": [
    "from tangelo.toolboxes.qubit_mappings.mapping_transform import fermion_to_qubit_mapping\n",
    "from tangelo.toolboxes.operators import count_qubits\n",
    "from tangelo.toolboxes.operators.taper_qubits import QubitTapering\n",
    "\n",
    "hamiltonian = fermion_to_qubit_mapping(thiazole_321g.fermionic_hamiltonian, \"JW\")\n",
    "n_qubits = count_qubits(hamiltonian)\n",
    "taper = QubitTapering(hamiltonian, n_qubits,\n",
    "                      n_electrons=thiazole_321g.n_active_electrons)\n",
    "hamiltonian_taper = taper.z2_tapered_op\n",
    "n_qubits_tapered = count_qubits(hamiltonian_taper)\n",
    "\n",
    "print(f\"Number of qubits: {n_qubits}\")\n",
    "print(f\"Number of qubits after tapering: {n_qubits_tapered}\")\n",
    "print(f\"{n_qubits - n_qubits_tapered} Z2 symmetries detected\")"
   ]
  },
  {
   "cell_type": "code",
   "execution_count": null,
   "id": "8410cf27",
   "metadata": {},
   "outputs": [],
   "source": []
  }
 ],
 "metadata": {
  "kernelspec": {
   "display_name": "Python 3 (ipykernel)",
   "language": "python",
   "name": "python3"
  },
  "language_info": {
   "codemirror_mode": {
    "name": "ipython",
    "version": 3
   },
   "file_extension": ".py",
   "mimetype": "text/x-python",
   "name": "python",
   "nbconvert_exporter": "python",
   "pygments_lexer": "ipython3",
   "version": "3.11.8"
  }
 },
 "nbformat": 4,
 "nbformat_minor": 5
}
