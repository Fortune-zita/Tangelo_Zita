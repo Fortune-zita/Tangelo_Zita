{
 "cells": [
  {
   "cell_type": "code",
   "execution_count": 83,
   "metadata": {},
   "outputs": [],
   "source": [
    "import qiskit_nature\n",
    "from rdkit import Chem\n",
    "from pathlib import Path "
   ]
  },
  {
   "cell_type": "code",
   "execution_count": 84,
   "metadata": {},
   "outputs": [
    {
     "data": {
      "image/png": "[encoded data removed]",
      "text/plain": [
       "<rdkit.Chem.rdchem.Mol at 0x762e7f4f6880>"
      ]
     },
     "execution_count": 84,
     "metadata": {},
     "output_type": "execute_result"
    }
   ],
   "source": [
    "#smile='C1=CSC=N1'\n",
    "smile = '[B-]1(n2cccc2C=C3[N+]1=CC=C3)(F)F'\n",
    "smi_key='BODIPY'\n",
    "mol_rdkit = Chem.MolFromSmiles(smile)\n",
    "mol_rdkit"
   ]
  },
  {
   "cell_type": "code",
   "execution_count": 85,
   "metadata": {},
   "outputs": [],
   "source": [
    " import py3Dmol "
   ]
  },
  {
   "cell_type": "code",
   "execution_count": 86,
   "metadata": {},
   "outputs": [],
   "source": [
    "\n",
    "def view3D(mol, label, fmt='mol'):\n",
    "        \"\"\"3D vizualisation of mol/xyz file with Py3DMol\n",
    "        \"\"\"\n",
    "\n",
    "        view = py3Dmol.view(width=400, height=400)       # visualiser la molécule avec une largeur de ''400'' et hauteur de ''400''\n",
    "\n",
    "        if fmt=='mol':                                   # si le format des 'mol',\n",
    "            view.addModel(Chem.MolToMolBlock(mol), fmt)     # generer les coordonnes de a molecule dans un block\n",
    "            # view.addModel(mol, fmt)\n",
    "        elif fmt=='xyz':                                      # sinon \n",
    "            view.addModel(mol, fmt)                             # generer les coordonnes en xyz\n",
    "\n",
    "        view.setStyle({'stick': {}, 'sphere': {'scale': .30}})     # définir le style de représentation de la molécule, avec des bâtons pour les liaisons et des sphères pour les atomes avec une échelle de '30'\n",
    "        view.addLabel(label, {'position': {'x': -2, 'y': -3, 'z': 0}}) # ajouter une etiquette de visualisation dont les coordonnées sont x,y,z\n",
    "\n",
    "        view.zoomTo()\n",
    "        view.show()"
   ]
  },
  {
   "cell_type": "markdown",
   "metadata": {},
   "source": [
    "Meilleur conformere"
   ]
  },
  {
   "cell_type": "code",
   "execution_count": 87,
   "metadata": {},
   "outputs": [
    {
     "data": {
      "image/png": "[encoded data removed]",
      "text/plain": [
       "<rdkit.Chem.rdchem.Mol at 0x762eb3535e00>"
      ]
     },
     "execution_count": 87,
     "metadata": {},
     "output_type": "execute_result"
    }
   ],
   "source": [
    "from rdkit.Chem import AllChem\n",
    "\n",
    "# Add explicit Hs\n",
    "mol_rdkit = Chem.AddHs(mol_rdkit)    #   Ajouter les atomes d'hydrogene a la molécule\n",
    "\n",
    "# Generates the initial 3D conformation of the molecule\n",
    "AllChem.EmbedMolecule(mol_rdkit)\n",
    "mol_rdkit"
   ]
  },
  {
   "cell_type": "markdown",
   "metadata": {},
   "source": [
    "Visualisatio 3D"
   ]
  },
  {
   "cell_type": "code",
   "execution_count": 88,
   "metadata": {},
   "outputs": [
    {
     "data": {
      "application/3dmoljs_load.v0": "<div id=\"3dmolviewer_17174263066547668\"  style=\"position: relative; width: 400px; height: 400px;\">\n        <p id=\"3dmolwarning_17174263066547668\" style=\"background-color:#ffcccc;color:black\">3Dmol.js failed to load for some reason.  Please check your browser console for error messages.<br></p>\n        </div>\n<script>\n\nvar loadScriptAsync = function(uri){\n  return new Promise((resolve, reject) => {\n    //this is to ignore the existence of requirejs amd\n    var savedexports, savedmodule;\n    if (typeof exports !== 'undefined') savedexports = exports;\n    else exports = {}\n    if (typeof module !== 'undefined') savedmodule = module;\n    else module = {}\n\n    var tag = document.createElement('script');\n    tag.src = uri;\n    tag.async = true;\n    tag.onload = () => {\n        exports = savedexports;\n        module = savedmodule;\n        resolve();\n    };\n  var firstScriptTag = document.getElementsByTagName('script')[0];\n  firstScriptTag.parentNode.insertBefore(tag, firstScriptTag);\n});\n};\n\nif(typeof $3Dmolpromise === 'undefined') {\n$3Dmolpromise = null;\n  $3Dmolpromise = loadScriptAsync('https://cdnjs.cloudflare.com/ajax/libs/3Dmol/2.1.0/3Dmol-min.js');\n}\n\nvar viewer_17174263066547668 = null;\nvar warn = document.getElementById(\"3dmolwarning_17174263066547668\");\nif(warn) {\n    warn.parentNode.removeChild(warn);\n}\n$3Dmolpromise.then(function() {\nviewer_17174263066547668 = $3Dmol.createViewer(document.getElementById(\"3dmolviewer_17174263066547668\"),{backgroundColor:\"white\"});\nviewer_17174263066547668.zoomTo();\n\tviewer_17174263066547668.addModel(\"\\n     RDKit          3D\\n\\n 21 23  0  0  0  0  0  0  0  0999 V2000\\n   -0.0105   -1.3857    0.4297 B   0  0  0  0  0  4  0  0  0  0  0  0\\n   -1.2570   -0.5322    0.2458 N   0  0  0  0  0  0  0  0  0  0  0  0\\n   -2.5655   -0.8917    0.4402 C   0  0  0  0  0  0  0  0  0  0  0  0\\n   -3.3920    0.1688    0.1656 C   0  0  0  0  0  0  0  0  0  0  0  0\\n   -2.5519    1.1893   -0.2029 C   0  0  0  0  0  0  0  0  0  0  0  0\\n   -1.2361    0.7465   -0.1502 C   0  0  0  0  0  0  0  0  0  0  0  0\\n    0.0507    1.3753   -0.4263 C   0  0  0  0  0  0  0  0  0  0  0  0\\n    1.2117    0.7659   -0.3122 C   0  0  0  0  0  0  0  0  0  0  0  0\\n    1.2505   -0.5850    0.1022 N   0  0  0  0  0  4  0  0  0  0  0  0\\n    2.5123   -0.9391    0.1310 C   0  0  0  0  0  0  0  0  0  0  0  0\\n    3.3728    0.1606   -0.2632 C   0  0  0  0  0  0  0  0  0  0  0  0\\n    2.6073    1.1974   -0.5344 C   0  0  0  0  0  0  0  0  0  0  0  0\\n    0.0537   -1.9011    1.8080 F   0  0  0  0  0  0  0  0  0  0  0  0\\n   -0.0973   -2.5596   -0.4554 F   0  0  0  0  0  0  0  0  0  0  0  0\\n   -2.9140   -1.8720    0.7651 H   0  0  0  0  0  0  0  0  0  0  0  0\\n   -4.4739    0.1374    0.2443 H   0  0  0  0  0  0  0  0  0  0  0  0\\n   -2.8521    2.1671   -0.4855 H   0  0  0  0  0  0  0  0  0  0  0  0\\n    0.0813    2.4223   -0.7514 H   0  0  0  0  0  0  0  0  0  0  0  0\\n    2.8416   -1.9477    0.4213 H   0  0  0  0  0  0  0  0  0  0  0  0\\n    4.4689    0.1014   -0.3149 H   0  0  0  0  0  0  0  0  0  0  0  0\\n    2.8995    2.1822   -0.8570 H   0  0  0  0  0  0  0  0  0  0  0  0\\n  1  2  1  0\\n  2  3  1  0\\n  3  4  2  0\\n  4  5  1  0\\n  5  6  2  0\\n  6  7  1  0\\n  7  8  2  0\\n  8  9  1  0\\n  9 10  2  0\\n 10 11  1  0\\n 11 12  2  0\\n  1 13  1  0\\n  1 14  1  0\\n  9  1  1  0\\n  6  2  1  0\\n 12  8  1  0\\n  3 15  1  0\\n  4 16  1  0\\n  5 17  1  0\\n  7 18  1  0\\n 10 19  1  0\\n 11 20  1  0\\n 12 21  1  0\\nM  CHG  2   1  -1   9   1\\nM  END\\n\",\"mol\");\n\tviewer_17174263066547668.setStyle({\"stick\": {}, \"sphere\": {\"scale\": 0.3}});\n\tviewer_17174263066547668.addLabel(\"BODIPY RDKit Molecule\",{\"position\": {\"x\": -2, \"y\": -3, \"z\": 0}});\n\tviewer_17174263066547668.zoomTo();\nviewer_17174263066547668.render();\n});\n</script>",
      "text/html": [
       "<div id=\"3dmolviewer_17174263066547668\"  style=\"position: relative; width: 400px; height: 400px;\">\n",
       "        <p id=\"3dmolwarning_17174263066547668\" style=\"background-color:#ffcccc;color:black\">3Dmol.js failed to load for some reason.  Please check your browser console for error messages.<br></p>\n",
       "        </div>\n",
       "<script>\n",
       "\n",
       "var loadScriptAsync = function(uri){\n",
       "  return new Promise((resolve, reject) => {\n",
       "    //this is to ignore the existence of requirejs amd\n",
       "    var savedexports, savedmodule;\n",
       "    if (typeof exports !== 'undefined') savedexports = exports;\n",
       "    else exports = {}\n",
       "    if (typeof module !== 'undefined') savedmodule = module;\n",
       "    else module = {}\n",
       "\n",
       "    var tag = document.createElement('script');\n",
       "    tag.src = uri;\n",
       "    tag.async = true;\n",
       "    tag.onload = () => {\n",
       "        exports = savedexports;\n",
       "        module = savedmodule;\n",
       "        resolve();\n",
       "    };\n",
       "  var firstScriptTag = document.getElementsByTagName('script')[0];\n",
       "  firstScriptTag.parentNode.insertBefore(tag, firstScriptTag);\n",
       "});\n",
       "};\n",
       "\n",
       "if(typeof $3Dmolpromise === 'undefined') {\n",
       "$3Dmolpromise = null;\n",
       "  $3Dmolpromise = loadScriptAsync('https://cdnjs.cloudflare.com/ajax/libs/3Dmol/2.1.0/3Dmol-min.js');\n",
       "}\n",
       "\n",
       "var viewer_17174263066547668 = null;\n",
       "var warn = document.getElementById(\"3dmolwarning_17174263066547668\");\n",
       "if(warn) {\n",
       "    warn.parentNode.removeChild(warn);\n",
       "}\n",
       "$3Dmolpromise.then(function() {\n",
       "viewer_17174263066547668 = $3Dmol.createViewer(document.getElementById(\"3dmolviewer_17174263066547668\"),{backgroundColor:\"white\"});\n",
       "viewer_17174263066547668.zoomTo();\n",
       "\tviewer_17174263066547668.addModel(\"\\n     RDKit          3D\\n\\n 21 23  0  0  0  0  0  0  0  0999 V2000\\n   -0.0105   -1.3857    0.4297 B   0  0  0  0  0  4  0  0  0  0  0  0\\n   -1.2570   -0.5322    0.2458 N   0  0  0  0  0  0  0  0  0  0  0  0\\n   -2.5655   -0.8917    0.4402 C   0  0  0  0  0  0  0  0  0  0  0  0\\n   -3.3920    0.1688    0.1656 C   0  0  0  0  0  0  0  0  0  0  0  0\\n   -2.5519    1.1893   -0.2029 C   0  0  0  0  0  0  0  0  0  0  0  0\\n   -1.2361    0.7465   -0.1502 C   0  0  0  0  0  0  0  0  0  0  0  0\\n    0.0507    1.3753   -0.4263 C   0  0  0  0  0  0  0  0  0  0  0  0\\n    1.2117    0.7659   -0.3122 C   0  0  0  0  0  0  0  0  0  0  0  0\\n    1.2505   -0.5850    0.1022 N   0  0  0  0  0  4  0  0  0  0  0  0\\n    2.5123   -0.9391    0.1310 C   0  0  0  0  0  0  0  0  0  0  0  0\\n    3.3728    0.1606   -0.2632 C   0  0  0  0  0  0  0  0  0  0  0  0\\n    2.6073    1.1974   -0.5344 C   0  0  0  0  0  0  0  0  0  0  0  0\\n    0.0537   -1.9011    1.8080 F   0  0  0  0  0  0  0  0  0  0  0  0\\n   -0.0973   -2.5596   -0.4554 F   0  0  0  0  0  0  0  0  0  0  0  0\\n   -2.9140   -1.8720    0.7651 H   0  0  0  0  0  0  0  0  0  0  0  0\\n   -4.4739    0.1374    0.2443 H   0  0  0  0  0  0  0  0  0  0  0  0\\n   -2.8521    2.1671   -0.4855 H   0  0  0  0  0  0  0  0  0  0  0  0\\n    0.0813    2.4223   -0.7514 H   0  0  0  0  0  0  0  0  0  0  0  0\\n    2.8416   -1.9477    0.4213 H   0  0  0  0  0  0  0  0  0  0  0  0\\n    4.4689    0.1014   -0.3149 H   0  0  0  0  0  0  0  0  0  0  0  0\\n    2.8995    2.1822   -0.8570 H   0  0  0  0  0  0  0  0  0  0  0  0\\n  1  2  1  0\\n  2  3  1  0\\n  3  4  2  0\\n  4  5  1  0\\n  5  6  2  0\\n  6  7  1  0\\n  7  8  2  0\\n  8  9  1  0\\n  9 10  2  0\\n 10 11  1  0\\n 11 12  2  0\\n  1 13  1  0\\n  1 14  1  0\\n  9  1  1  0\\n  6  2  1  0\\n 12  8  1  0\\n  3 15  1  0\\n  4 16  1  0\\n  5 17  1  0\\n  7 18  1  0\\n 10 19  1  0\\n 11 20  1  0\\n 12 21  1  0\\nM  CHG  2   1  -1   9   1\\nM  END\\n\",\"mol\");\n",
       "\tviewer_17174263066547668.setStyle({\"stick\": {}, \"sphere\": {\"scale\": 0.3}});\n",
       "\tviewer_17174263066547668.addLabel(\"BODIPY RDKit Molecule\",{\"position\": {\"x\": -2, \"y\": -3, \"z\": 0}});\n",
       "\tviewer_17174263066547668.zoomTo();\n",
       "viewer_17174263066547668.render();\n",
       "});\n",
       "</script>"
      ]
     },
     "metadata": {},
     "output_type": "display_data"
    }
   ],
   "source": [
    "# 3D visualization\n",
    "mol_rdkit0 = mol_rdkit                    #crée une nouvelle variable mol_rdkit0 qui est une copie de mol_rdkit.\n",
    "                                           #Cette copie est nécessaire pour la visualisation 3D, car la fonction view3D() modifie l'objet molécule passé en argument.\n",
    "\n",
    "view3D(mol_rdkit0, f'{smi_key} RDKit Molecule')\n"
   ]
  },
  {
   "cell_type": "code",
   "execution_count": 89,
   "metadata": {},
   "outputs": [
    {
     "name": "stdout",
     "output_type": "stream",
     "text": [
      "21\n",
      "\n",
      "B     -0.010545   -1.385684    0.429750\n",
      "N     -1.256950   -0.532216    0.245820\n",
      "C     -2.565515   -0.891689    0.440229\n",
      "C     -3.391967    0.168833    0.165623\n",
      "C     -2.551914    1.189282   -0.202909\n",
      "C     -1.236070    0.746451   -0.150157\n",
      "C      0.050710    1.375264   -0.426282\n",
      "C      1.211730    0.765863   -0.312231\n",
      "N      1.250523   -0.585010    0.102223\n",
      "C      2.512279   -0.939051    0.131036\n",
      "C      3.372796    0.160631   -0.263239\n",
      "C      2.607276    1.197379   -0.534406\n",
      "F      0.053675   -1.901112    1.808013\n",
      "F     -0.097285   -2.559605   -0.455440\n",
      "H     -2.913954   -1.872012    0.765052\n",
      "H     -4.473912    0.137377    0.244339\n",
      "H     -2.852149    2.167077   -0.485535\n",
      "H      0.081291    2.422296   -0.751372\n",
      "H      2.841589   -1.947714    0.421342\n",
      "H      4.468880    0.101391   -0.314853\n",
      "H      2.899510    2.182247   -0.857003\n",
      "\n"
     ]
    }
   ],
   "source": [
    "# Convert RDKit molecule to XYZ format \n",
    "mol_xyz0 = Chem.MolToXYZBlock(mol_rdkit)    # Convertir  la molecule format XYZ \n",
    "print(mol_xyz0)"
   ]
  },
  {
   "cell_type": "markdown",
   "metadata": {},
   "source": [
    "Preoptimisation avec rdkit"
   ]
  },
  {
   "cell_type": "code",
   "execution_count": 90,
   "metadata": {},
   "outputs": [
    {
     "data": {
      "application/3dmoljs_load.v0": "<div id=\"3dmolviewer_17174263066770453\"  style=\"position: relative; width: 400px; height: 400px;\">\n        <p id=\"3dmolwarning_17174263066770453\" style=\"background-color:#ffcccc;color:black\">3Dmol.js failed to load for some reason.  Please check your browser console for error messages.<br></p>\n        </div>\n<script>\n\nvar loadScriptAsync = function(uri){\n  return new Promise((resolve, reject) => {\n    //this is to ignore the existence of requirejs amd\n    var savedexports, savedmodule;\n    if (typeof exports !== 'undefined') savedexports = exports;\n    else exports = {}\n    if (typeof module !== 'undefined') savedmodule = module;\n    else module = {}\n\n    var tag = document.createElement('script');\n    tag.src = uri;\n    tag.async = true;\n    tag.onload = () => {\n        exports = savedexports;\n        module = savedmodule;\n        resolve();\n    };\n  var firstScriptTag = document.getElementsByTagName('script')[0];\n  firstScriptTag.parentNode.insertBefore(tag, firstScriptTag);\n});\n};\n\nif(typeof $3Dmolpromise === 'undefined') {\n$3Dmolpromise = null;\n  $3Dmolpromise = loadScriptAsync('https://cdnjs.cloudflare.com/ajax/libs/3Dmol/2.1.0/3Dmol-min.js');\n}\n\nvar viewer_17174263066770453 = null;\nvar warn = document.getElementById(\"3dmolwarning_17174263066770453\");\nif(warn) {\n    warn.parentNode.removeChild(warn);\n}\n$3Dmolpromise.then(function() {\nviewer_17174263066770453 = $3Dmol.createViewer(document.getElementById(\"3dmolviewer_17174263066770453\"),{backgroundColor:\"white\"});\nviewer_17174263066770453.zoomTo();\n\tviewer_17174263066770453.addModel(\"\\n     RDKit          3D\\n\\n 21 23  0  0  0  0  0  0  0  0999 V2000\\n   -0.0572   -1.4497    0.0020 B   0  0  0  0  0  4  0  0  0  0  0  0\\n   -1.2774   -0.5403    0.0017 N   0  0  0  0  0  0  0  0  0  0  0  0\\n   -2.6006   -0.8988    0.0020 C   0  0  0  0  0  0  0  0  0  0  0  0\\n   -3.3930    0.2215    0.0015 C   0  0  0  0  0  0  0  0  0  0  0  0\\n   -2.5170    1.2777    0.0009 C   0  0  0  0  0  0  0  0  0  0  0  0\\n   -1.2135    0.7969    0.0011 C   0  0  0  0  0  0  0  0  0  0  0  0\\n    0.0969    1.4374    0.0007 C   0  0  0  0  0  0  0  0  0  0  0  0\\n    1.2397    0.7845    0.0009 C   0  0  0  0  0  0  0  0  0  0  0  0\\n    1.2332   -0.6291    0.0015 N   0  0  0  0  0  4  0  0  0  0  0  0\\n    2.4855   -1.0162    0.0016 C   0  0  0  0  0  0  0  0  0  0  0  0\\n    3.3846    0.1225    0.0010 C   0  0  0  0  0  0  0  0  0  0  0  0\\n    2.6525    1.2172    0.0006 C   0  0  0  0  0  0  0  0  0  0  0  0\\n   -0.0927   -2.3474    1.1692 F   0  0  0  0  0  0  0  0  0  0  0  0\\n   -0.0990   -2.3100   -1.1927 F   0  0  0  0  0  0  0  0  0  0  0  0\\n   -2.9826   -1.9196    0.0025 H   0  0  0  0  0  0  0  0  0  0  0  0\\n   -4.4781    0.2031    0.0016 H   0  0  0  0  0  0  0  0  0  0  0  0\\n   -2.7850    2.3045    0.0005 H   0  0  0  0  0  0  0  0  0  0  0  0\\n    0.1627    2.5322    0.0002 H   0  0  0  0  0  0  0  0  0  0  0  0\\n    2.7816   -2.0757    0.0021 H   0  0  0  0  0  0  0  0  0  0  0  0\\n    4.4809    0.0459    0.0010 H   0  0  0  0  0  0  0  0  0  0  0  0\\n    2.9784    2.2435    0.0001 H   0  0  0  0  0  0  0  0  0  0  0  0\\n  1  2  1  0\\n  2  3  1  0\\n  3  4  2  0\\n  4  5  1  0\\n  5  6  2  0\\n  6  7  1  0\\n  7  8  2  0\\n  8  9  1  0\\n  9 10  2  0\\n 10 11  1  0\\n 11 12  2  0\\n  1 13  1  0\\n  1 14  1  0\\n  9  1  1  0\\n  6  2  1  0\\n 12  8  1  0\\n  3 15  1  0\\n  4 16  1  0\\n  5 17  1  0\\n  7 18  1  0\\n 10 19  1  0\\n 11 20  1  0\\n 12 21  1  0\\nM  CHG  2   1  -1   9   1\\nM  END\\n\",\"mol\");\n\tviewer_17174263066770453.setStyle({\"stick\": {}, \"sphere\": {\"scale\": 0.3}});\n\tviewer_17174263066770453.addLabel(\"BODIPY RDKit Molecule MMFF94\",{\"position\": {\"x\": -2, \"y\": -3, \"z\": 0}});\n\tviewer_17174263066770453.zoomTo();\nviewer_17174263066770453.render();\n});\n</script>",
      "text/html": [
       "<div id=\"3dmolviewer_17174263066770453\"  style=\"position: relative; width: 400px; height: 400px;\">\n",
       "        <p id=\"3dmolwarning_17174263066770453\" style=\"background-color:#ffcccc;color:black\">3Dmol.js failed to load for some reason.  Please check your browser console for error messages.<br></p>\n",
       "        </div>\n",
       "<script>\n",
       "\n",
       "var loadScriptAsync = function(uri){\n",
       "  return new Promise((resolve, reject) => {\n",
       "    //this is to ignore the existence of requirejs amd\n",
       "    var savedexports, savedmodule;\n",
       "    if (typeof exports !== 'undefined') savedexports = exports;\n",
       "    else exports = {}\n",
       "    if (typeof module !== 'undefined') savedmodule = module;\n",
       "    else module = {}\n",
       "\n",
       "    var tag = document.createElement('script');\n",
       "    tag.src = uri;\n",
       "    tag.async = true;\n",
       "    tag.onload = () => {\n",
       "        exports = savedexports;\n",
       "        module = savedmodule;\n",
       "        resolve();\n",
       "    };\n",
       "  var firstScriptTag = document.getElementsByTagName('script')[0];\n",
       "  firstScriptTag.parentNode.insertBefore(tag, firstScriptTag);\n",
       "});\n",
       "};\n",
       "\n",
       "if(typeof $3Dmolpromise === 'undefined') {\n",
       "$3Dmolpromise = null;\n",
       "  $3Dmolpromise = loadScriptAsync('https://cdnjs.cloudflare.com/ajax/libs/3Dmol/2.1.0/3Dmol-min.js');\n",
       "}\n",
       "\n",
       "var viewer_17174263066770453 = null;\n",
       "var warn = document.getElementById(\"3dmolwarning_17174263066770453\");\n",
       "if(warn) {\n",
       "    warn.parentNode.removeChild(warn);\n",
       "}\n",
       "$3Dmolpromise.then(function() {\n",
       "viewer_17174263066770453 = $3Dmol.createViewer(document.getElementById(\"3dmolviewer_17174263066770453\"),{backgroundColor:\"white\"});\n",
       "viewer_17174263066770453.zoomTo();\n",
       "\tviewer_17174263066770453.addModel(\"\\n     RDKit          3D\\n\\n 21 23  0  0  0  0  0  0  0  0999 V2000\\n   -0.0572   -1.4497    0.0020 B   0  0  0  0  0  4  0  0  0  0  0  0\\n   -1.2774   -0.5403    0.0017 N   0  0  0  0  0  0  0  0  0  0  0  0\\n   -2.6006   -0.8988    0.0020 C   0  0  0  0  0  0  0  0  0  0  0  0\\n   -3.3930    0.2215    0.0015 C   0  0  0  0  0  0  0  0  0  0  0  0\\n   -2.5170    1.2777    0.0009 C   0  0  0  0  0  0  0  0  0  0  0  0\\n   -1.2135    0.7969    0.0011 C   0  0  0  0  0  0  0  0  0  0  0  0\\n    0.0969    1.4374    0.0007 C   0  0  0  0  0  0  0  0  0  0  0  0\\n    1.2397    0.7845    0.0009 C   0  0  0  0  0  0  0  0  0  0  0  0\\n    1.2332   -0.6291    0.0015 N   0  0  0  0  0  4  0  0  0  0  0  0\\n    2.4855   -1.0162    0.0016 C   0  0  0  0  0  0  0  0  0  0  0  0\\n    3.3846    0.1225    0.0010 C   0  0  0  0  0  0  0  0  0  0  0  0\\n    2.6525    1.2172    0.0006 C   0  0  0  0  0  0  0  0  0  0  0  0\\n   -0.0927   -2.3474    1.1692 F   0  0  0  0  0  0  0  0  0  0  0  0\\n   -0.0990   -2.3100   -1.1927 F   0  0  0  0  0  0  0  0  0  0  0  0\\n   -2.9826   -1.9196    0.0025 H   0  0  0  0  0  0  0  0  0  0  0  0\\n   -4.4781    0.2031    0.0016 H   0  0  0  0  0  0  0  0  0  0  0  0\\n   -2.7850    2.3045    0.0005 H   0  0  0  0  0  0  0  0  0  0  0  0\\n    0.1627    2.5322    0.0002 H   0  0  0  0  0  0  0  0  0  0  0  0\\n    2.7816   -2.0757    0.0021 H   0  0  0  0  0  0  0  0  0  0  0  0\\n    4.4809    0.0459    0.0010 H   0  0  0  0  0  0  0  0  0  0  0  0\\n    2.9784    2.2435    0.0001 H   0  0  0  0  0  0  0  0  0  0  0  0\\n  1  2  1  0\\n  2  3  1  0\\n  3  4  2  0\\n  4  5  1  0\\n  5  6  2  0\\n  6  7  1  0\\n  7  8  2  0\\n  8  9  1  0\\n  9 10  2  0\\n 10 11  1  0\\n 11 12  2  0\\n  1 13  1  0\\n  1 14  1  0\\n  9  1  1  0\\n  6  2  1  0\\n 12  8  1  0\\n  3 15  1  0\\n  4 16  1  0\\n  5 17  1  0\\n  7 18  1  0\\n 10 19  1  0\\n 11 20  1  0\\n 12 21  1  0\\nM  CHG  2   1  -1   9   1\\nM  END\\n\",\"mol\");\n",
       "\tviewer_17174263066770453.setStyle({\"stick\": {}, \"sphere\": {\"scale\": 0.3}});\n",
       "\tviewer_17174263066770453.addLabel(\"BODIPY RDKit Molecule MMFF94\",{\"position\": {\"x\": -2, \"y\": -3, \"z\": 0}});\n",
       "\tviewer_17174263066770453.zoomTo();\n",
       "viewer_17174263066770453.render();\n",
       "});\n",
       "</script>"
      ]
     },
     "metadata": {},
     "output_type": "display_data"
    }
   ],
   "source": [
    "from rdkit.Chem import AllChem\n",
    "\n",
    "# Optimizes the 3D conformation of the molecule using MMFF - Merck Molecular Force Field\n",
    "AllChem.MMFFOptimizeMolecule(mol_rdkit, maxIters=200, mmffVariant=\"MMFF94s\")   # utiliser 200 itérations et la variante MMFF94s\n",
    "\n",
    "#Canonicalize the orientation of the conformation\n",
    "Chem.rdMolTransforms.CanonicalizeMol(mol_rdkit, normalizeCovar=True, ignoreHs=False)\n",
    "\n",
    "# 3D visualization\n",
    "mol_rdkit1 = mol_rdkit\n",
    "view3D(mol_rdkit1, f'{smi_key} RDKit Molecule MMFF94')\n"
   ]
  },
  {
   "cell_type": "code",
   "execution_count": 91,
   "metadata": {},
   "outputs": [
    {
     "name": "stdout",
     "output_type": "stream",
     "text": [
      "21\n",
      "\n",
      "B     -0.057215   -1.449703    0.002024\n",
      "N     -1.277367   -0.540311    0.001690\n",
      "C     -2.600551   -0.898837    0.001975\n",
      "C     -3.392979    0.221519    0.001518\n",
      "C     -2.517009    1.277691    0.000941\n",
      "C     -1.213486    0.796903    0.001056\n",
      "C      0.096918    1.437444    0.000663\n",
      "C      1.239719    0.784488    0.000886\n",
      "N      1.233202   -0.629051    0.001548\n",
      "C      2.485513   -1.016245    0.001637\n",
      "C      3.384647    0.122526    0.001036\n",
      "C      2.652472    1.217203    0.000574\n",
      "F     -0.092734   -2.347444    1.169157\n",
      "F     -0.099008   -2.310027   -1.192661\n",
      "H     -2.982605   -1.919615    0.002521\n",
      "H     -4.478082    0.203073    0.001622\n",
      "H     -2.784977    2.304479    0.000492\n",
      "H      0.162735    2.532233    0.000156\n",
      "H      2.781575   -2.075712    0.002107\n",
      "H      4.480869    0.045911    0.000987\n",
      "H      2.978362    2.243474    0.000073\n",
      "\n"
     ]
    }
   ],
   "source": [
    "# Convert RDKit molecule to XYZ format \n",
    "mol_xyz0 = Chem.MolToXYZBlock(mol_rdkit)    # Convertir  la molecule format XYZ \n",
    "print(mol_xyz0)"
   ]
  },
  {
   "cell_type": "markdown",
   "metadata": {},
   "source": [
    "Supppression des deux premieres lignes "
   ]
  },
  {
   "cell_type": "code",
   "execution_count": 92,
   "metadata": {},
   "outputs": [
    {
     "name": "stdout",
     "output_type": "stream",
     "text": [
      "B     -0.057215   -1.449703    0.002024\n",
      "N     -1.277367   -0.540311    0.001690\n",
      "C     -2.600551   -0.898837    0.001975\n",
      "C     -3.392979    0.221519    0.001518\n",
      "C     -2.517009    1.277691    0.000941\n",
      "C     -1.213486    0.796903    0.001056\n",
      "C      0.096918    1.437444    0.000663\n",
      "C      1.239719    0.784488    0.000886\n",
      "N      1.233202   -0.629051    0.001548\n",
      "C      2.485513   -1.016245    0.001637\n",
      "C      3.384647    0.122526    0.001036\n",
      "C      2.652472    1.217203    0.000574\n",
      "F     -0.092734   -2.347444    1.169157\n",
      "F     -0.099008   -2.310027   -1.192661\n",
      "H     -2.982605   -1.919615    0.002521\n",
      "H     -4.478082    0.203073    0.001622\n",
      "H     -2.784977    2.304479    0.000492\n",
      "H      0.162735    2.532233    0.000156\n",
      "H      2.781575   -2.075712    0.002107\n",
      "H      4.480869    0.045911    0.000987\n",
      "H      2.978362    2.243474    0.000073\n"
     ]
    }
   ],
   "source": [
    "\n",
    "# Remove the first two lines (number of atoms and empty line) from XYZ data\n",
    "mol_xyz1 = '\\n'.join(mol_xyz0.strip().split('\\n')[2:])\n",
    "\n",
    "# Check that the xyz file is valide for the next step (pyscf.gto)\n",
    "print(mol_xyz1)"
   ]
  },
  {
   "cell_type": "code",
   "execution_count": 93,
   "metadata": {},
   "outputs": [],
   "source": [
    "from qiskit_nature.second_q.drivers import PySCFDriver ,MethodType # Nous travaillons avec le driver PySCF\n",
    "\n",
    "# Renseigner la structure de la molécule \n",
    "Thiazole_driver = PySCFDriver(\n",
    "    atom=mol_xyz1, #Coordonnées xyz Thiazole\n",
    "    basis='3-21G', #'def2-SVP', # Ensemble de base\n",
    "    method = MethodType.RKS \n",
    ")\n",
    "Thiazol = Thiazole_driver.run_pyscf() \n",
    "mol = Thiazole_driver._mol     \n",
    "mf = Thiazole_driver._calc  "
   ]
  },
  {
   "cell_type": "markdown",
   "metadata": {},
   "source": [
    "Affichage de quelques informations sur la molecule"
   ]
  },
  {
   "cell_type": "code",
   "execution_count": 94,
   "metadata": {},
   "outputs": [
    {
     "name": "stdout",
     "output_type": "stream",
     "text": [
      "Le nombre total d'électrons est 98 et le nombre total d'électrons (alpha, béta) est (49, 49)\n",
      "\n",
      "Les index (0-Based) du (HOMO,LUMO) sont (48, 49)\n",
      "\n",
      "Le nombre d'orbitales atomiques, dans la base 3-21G, est 140\n",
      "\n",
      "L'énergie nucléaire vaut 858.5967897939886 Hartrees\n"
     ]
    }
   ],
   "source": [
    "print(f'Le nombre total d\\'électrons est {mol.nelectron} \\\n",
    "et le nombre total d\\'électrons (alpha, béta) est {mol.nelec}\\n')\n",
    "lumo_idx = mol.nelectron//2\n",
    "homo_idx = mol.nelectron//2 -1 \n",
    "print(f'Les index (0-Based) du (HOMO,LUMO) sont {homo_idx,lumo_idx}\\n')\n",
    "print(f'Le nombre d\\'orbitales atomiques, dans la base {mol.basis}, est {mol.nao}\\n')\n",
    "print(f'L\\'énergie nucléaire vaut {mol.energy_nuc()} Hartrees')"
   ]
  },
  {
   "cell_type": "markdown",
   "metadata": {},
   "source": [
    "Tracé de la courbe des occupations moléculaires avec la fonction plotly.express"
   ]
  },
  {
   "cell_type": "code",
   "execution_count": 95,
   "metadata": {},
   "outputs": [
    {
     "data": {
      "application/vnd.plotly.v1+json": {
       "config": {
        "plotlyServerURL": "https://plot.ly"
       },
       "data": [
        {
         "hovertemplate": "x=%{x}<br>y=%{y}<extra></extra>",
         "legendgroup": "",
         "line": {
          "color": "#636efa",
          "dash": "solid"
         },
         "marker": {
          "symbol": "circle"
         },
         "mode": "lines+markers",
         "name": "",
         "orientation": "v",
         "showlegend": false,
         "type": "scatter",
         "x": [
          0,
          1,
          2,
          3,
          4,
          5,
          6,
          7,
          8,
          9,
          10,
          11,
          12,
          13,
          14,
          15,
          16,
          17,
          18,
          19,
          20,
          21,
          22,
          23,
          24,
          25,
          26,
          27,
          28,
          29,
          30,
          31,
          32,
          33,
          34,
          35,
          36,
          37,
          38,
          39,
          40,
          41,
          42,
          43,
          44,
          45,
          46,
          47,
          48,
          49,
          50,
          51,
          52,
          53,
          54,
          55,
          56,
          57,
          58,
          59,
          60,
          61,
          62,
          63,
          64,
          65,
          66,
          67,
          68,
          69,
          70,
          71,
          72,
          73,
          74,
          75,
          76,
          77,
          78,
          79,
          80,
          81,
          82,
          83,
          84,
          85,
          86,
          87,
          88,
          89,
          90,
          91,
          92,
          93,
          94,
          95,
          96,
          97,
          98,
          99,
          100,
          101,
          102,
          103,
          104,
          105,
          106,
          107,
          108,
          109,
          110,
          111,
          112,
          113,
          114,
          115,
          116,
          117,
          118,
          119,
          120,
          121,
          122,
          123,
          124,
          125,
          126,
          127,
          128,
          129,
          130,
          131,
          132,
          133,
          134,
          135,
          136,
          137,
          138,
          139
         ],
         "xaxis": "x",
         "y": [
          2,
          2,
          2,
          2,
          2,
          2,
          2,
          2,
          2,
          2,
          2,
          2,
          2,
          2,
          2,
          2,
          2,
          2,
          2,
          2,
          2,
          2,
          2,
          2,
          2,
          2,
          2,
          2,
          2,
          2,
          2,
          2,
          2,
          2,
          2,
          2,
          2,
          2,
          2,
          2,
          2,
          2,
          2,
          2,
          2,
          2,
          2,
          2,
          2,
          0,
          0,
          0,
          0,
          0,
          0,
          0,
          0,
          0,
          0,
          0,
          0,
          0,
          0,
          0,
          0,
          0,
          0,
          0,
          0,
          0,
          0,
          0,
          0,
          0,
          0,
          0,
          0,
          0,
          0,
          0,
          0,
          0,
          0,
          0,
          0,
          0,
          0,
          0,
          0,
          0,
          0,
          0,
          0,
          0,
          0,
          0,
          0,
          0,
          0,
          0,
          0,
          0,
          0,
          0,
          0,
          0,
          0,
          0,
          0,
          0,
          0,
          0,
          0,
          0,
          0,
          0,
          0,
          0,
          0,
          0,
          0,
          0,
          0,
          0,
          0,
          0,
          0,
          0,
          0,
          0,
          0,
          0,
          0,
          0,
          0,
          0,
          0,
          0,
          0,
          0
         ],
         "yaxis": "y"
        }
       ],
       "layout": {
        "legend": {
         "tracegroupgap": 0
        },
        "template": {
         "data": {
          "bar": [
           {
            "error_x": {
             "color": "#2a3f5f"
            },
            "error_y": {
             "color": "#2a3f5f"
            },
            "marker": {
             "line": {
              "color": "#E5ECF6",
              "width": 0.5
             },
             "pattern": {
              "fillmode": "overlay",
              "size": 10,
              "solidity": 0.2
             }
            },
            "type": "bar"
           }
          ],
          "barpolar": [
           {
            "marker": {
             "line": {
              "color": "#E5ECF6",
              "width": 0.5
             },
             "pattern": {
              "fillmode": "overlay",
              "size": 10,
              "solidity": 0.2
             }
            },
            "type": "barpolar"
           }
          ],
          "carpet": [
           {
            "aaxis": {
             "endlinecolor": "#2a3f5f",
             "gridcolor": "white",
             "linecolor": "white",
             "minorgridcolor": "white",
             "startlinecolor": "#2a3f5f"
            },
            "baxis": {
             "endlinecolor": "#2a3f5f",
             "gridcolor": "white",
             "linecolor": "white",
             "minorgridcolor": "white",
             "startlinecolor": "#2a3f5f"
            },
            "type": "carpet"
           }
          ],
          "choropleth": [
           {
            "colorbar": {
             "outlinewidth": 0,
             "ticks": ""
            },
            "type": "choropleth"
           }
          ],
          "contour": [
           {
            "colorbar": {
             "outlinewidth": 0,
             "ticks": ""
            },
            "colorscale": [
             [
              0,
              "#0d0887"
             ],
             [
              0.1111111111111111,
              "#46039f"
             ],
             [
              0.2222222222222222,
              "#7201a8"
             ],
             [
              0.3333333333333333,
              "#9c179e"
             ],
             [
              0.4444444444444444,
              "#bd3786"
             ],
             [
              0.5555555555555556,
              "#d8576b"
             ],
             [
              0.6666666666666666,
              "#ed7953"
             ],
             [
              0.7777777777777778,
              "#fb9f3a"
             ],
             [
              0.8888888888888888,
              "#fdca26"
             ],
             [
              1,
              "#f0f921"
             ]
            ],
            "type": "contour"
           }
          ],
          "contourcarpet": [
           {
            "colorbar": {
             "outlinewidth": 0,
             "ticks": ""
            },
            "type": "contourcarpet"
           }
          ],
          "heatmap": [
           {
            "colorbar": {
             "outlinewidth": 0,
             "ticks": ""
            },
            "colorscale": [
             [
              0,
              "#0d0887"
             ],
             [
              0.1111111111111111,
              "#46039f"
             ],
             [
              0.2222222222222222,
              "#7201a8"
             ],
             [
              0.3333333333333333,
              "#9c179e"
             ],
             [
              0.4444444444444444,
              "#bd3786"
             ],
             [
              0.5555555555555556,
              "#d8576b"
             ],
             [
              0.6666666666666666,
              "#ed7953"
             ],
             [
              0.7777777777777778,
              "#fb9f3a"
             ],
             [
              0.8888888888888888,
              "#fdca26"
             ],
             [
              1,
              "#f0f921"
             ]
            ],
            "type": "heatmap"
           }
          ],
          "heatmapgl": [
           {
            "colorbar": {
             "outlinewidth": 0,
             "ticks": ""
            },
            "colorscale": [
             [
              0,
              "#0d0887"
             ],
             [
              0.1111111111111111,
              "#46039f"
             ],
             [
              0.2222222222222222,
              "#7201a8"
             ],
             [
              0.3333333333333333,
              "#9c179e"
             ],
             [
              0.4444444444444444,
              "#bd3786"
             ],
             [
              0.5555555555555556,
              "#d8576b"
             ],
             [
              0.6666666666666666,
              "#ed7953"
             ],
             [
              0.7777777777777778,
              "#fb9f3a"
             ],
             [
              0.8888888888888888,
              "#fdca26"
             ],
             [
              1,
              "#f0f921"
             ]
            ],
            "type": "heatmapgl"
           }
          ],
          "histogram": [
           {
            "marker": {
             "pattern": {
              "fillmode": "overlay",
              "size": 10,
              "solidity": 0.2
             }
            },
            "type": "histogram"
           }
          ],
          "histogram2d": [
           {
            "colorbar": {
             "outlinewidth": 0,
             "ticks": ""
            },
            "colorscale": [
             [
              0,
              "#0d0887"
             ],
             [
              0.1111111111111111,
              "#46039f"
             ],
             [
              0.2222222222222222,
              "#7201a8"
             ],
             [
              0.3333333333333333,
              "#9c179e"
             ],
             [
              0.4444444444444444,
              "#bd3786"
             ],
             [
              0.5555555555555556,
              "#d8576b"
             ],
             [
              0.6666666666666666,
              "#ed7953"
             ],
             [
              0.7777777777777778,
              "#fb9f3a"
             ],
             [
              0.8888888888888888,
              "#fdca26"
             ],
             [
              1,
              "#f0f921"
             ]
            ],
            "type": "histogram2d"
           }
          ],
          "histogram2dcontour": [
           {
            "colorbar": {
             "outlinewidth": 0,
             "ticks": ""
            },
            "colorscale": [
             [
              0,
              "#0d0887"
             ],
             [
              0.1111111111111111,
              "#46039f"
             ],
             [
              0.2222222222222222,
              "#7201a8"
             ],
             [
              0.3333333333333333,
              "#9c179e"
             ],
             [
              0.4444444444444444,
              "#bd3786"
             ],
             [
              0.5555555555555556,
              "#d8576b"
             ],
             [
              0.6666666666666666,
              "#ed7953"
             ],
             [
              0.7777777777777778,
              "#fb9f3a"
             ],
             [
              0.8888888888888888,
              "#fdca26"
             ],
             [
              1,
              "#f0f921"
             ]
            ],
            "type": "histogram2dcontour"
           }
          ],
          "mesh3d": [
           {
            "colorbar": {
             "outlinewidth": 0,
             "ticks": ""
            },
            "type": "mesh3d"
           }
          ],
          "parcoords": [
           {
            "line": {
             "colorbar": {
              "outlinewidth": 0,
              "ticks": ""
             }
            },
            "type": "parcoords"
           }
          ],
          "pie": [
           {
            "automargin": true,
            "type": "pie"
           }
          ],
          "scatter": [
           {
            "fillpattern": {
             "fillmode": "overlay",
             "size": 10,
             "solidity": 0.2
            },
            "type": "scatter"
           }
          ],
          "scatter3d": [
           {
            "line": {
             "colorbar": {
              "outlinewidth": 0,
              "ticks": ""
             }
            },
            "marker": {
             "colorbar": {
              "outlinewidth": 0,
              "ticks": ""
             }
            },
            "type": "scatter3d"
           }
          ],
          "scattercarpet": [
           {
            "marker": {
             "colorbar": {
              "outlinewidth": 0,
              "ticks": ""
             }
            },
            "type": "scattercarpet"
           }
          ],
          "scattergeo": [
           {
            "marker": {
             "colorbar": {
              "outlinewidth": 0,
              "ticks": ""
             }
            },
            "type": "scattergeo"
           }
          ],
          "scattergl": [
           {
            "marker": {
             "colorbar": {
              "outlinewidth": 0,
              "ticks": ""
             }
            },
            "type": "scattergl"
           }
          ],
          "scattermapbox": [
           {
            "marker": {
             "colorbar": {
              "outlinewidth": 0,
              "ticks": ""
             }
            },
            "type": "scattermapbox"
           }
          ],
          "scatterpolar": [
           {
            "marker": {
             "colorbar": {
              "outlinewidth": 0,
              "ticks": ""
             }
            },
            "type": "scatterpolar"
           }
          ],
          "scatterpolargl": [
           {
            "marker": {
             "colorbar": {
              "outlinewidth": 0,
              "ticks": ""
             }
            },
            "type": "scatterpolargl"
           }
          ],
          "scatterternary": [
           {
            "marker": {
             "colorbar": {
              "outlinewidth": 0,
              "ticks": ""
             }
            },
            "type": "scatterternary"
           }
          ],
          "surface": [
           {
            "colorbar": {
             "outlinewidth": 0,
             "ticks": ""
            },
            "colorscale": [
             [
              0,
              "#0d0887"
             ],
             [
              0.1111111111111111,
              "#46039f"
             ],
             [
              0.2222222222222222,
              "#7201a8"
             ],
             [
              0.3333333333333333,
              "#9c179e"
             ],
             [
              0.4444444444444444,
              "#bd3786"
             ],
             [
              0.5555555555555556,
              "#d8576b"
             ],
             [
              0.6666666666666666,
              "#ed7953"
             ],
             [
              0.7777777777777778,
              "#fb9f3a"
             ],
             [
              0.8888888888888888,
              "#fdca26"
             ],
             [
              1,
              "#f0f921"
             ]
            ],
            "type": "surface"
           }
          ],
          "table": [
           {
            "cells": {
             "fill": {
              "color": "#EBF0F8"
             },
             "line": {
              "color": "white"
             }
            },
            "header": {
             "fill": {
              "color": "#C8D4E3"
             },
             "line": {
              "color": "white"
             }
            },
            "type": "table"
           }
          ]
         },
         "layout": {
          "annotationdefaults": {
           "arrowcolor": "#2a3f5f",
           "arrowhead": 0,
           "arrowwidth": 1
          },
          "autotypenumbers": "strict",
          "coloraxis": {
           "colorbar": {
            "outlinewidth": 0,
            "ticks": ""
           }
          },
          "colorscale": {
           "diverging": [
            [
             0,
             "#8e0152"
            ],
            [
             0.1,
             "#c51b7d"
            ],
            [
             0.2,
             "#de77ae"
            ],
            [
             0.3,
             "#f1b6da"
            ],
            [
             0.4,
             "#fde0ef"
            ],
            [
             0.5,
             "#f7f7f7"
            ],
            [
             0.6,
             "#e6f5d0"
            ],
            [
             0.7,
             "#b8e186"
            ],
            [
             0.8,
             "#7fbc41"
            ],
            [
             0.9,
             "#4d9221"
            ],
            [
             1,
             "#276419"
            ]
           ],
           "sequential": [
            [
             0,
             "#0d0887"
            ],
            [
             0.1111111111111111,
             "#46039f"
            ],
            [
             0.2222222222222222,
             "#7201a8"
            ],
            [
             0.3333333333333333,
             "#9c179e"
            ],
            [
             0.4444444444444444,
             "#bd3786"
            ],
            [
             0.5555555555555556,
             "#d8576b"
            ],
            [
             0.6666666666666666,
             "#ed7953"
            ],
            [
             0.7777777777777778,
             "#fb9f3a"
            ],
            [
             0.8888888888888888,
             "#fdca26"
            ],
            [
             1,
             "#f0f921"
            ]
           ],
           "sequentialminus": [
            [
             0,
             "#0d0887"
            ],
            [
             0.1111111111111111,
             "#46039f"
            ],
            [
             0.2222222222222222,
             "#7201a8"
            ],
            [
             0.3333333333333333,
             "#9c179e"
            ],
            [
             0.4444444444444444,
             "#bd3786"
            ],
            [
             0.5555555555555556,
             "#d8576b"
            ],
            [
             0.6666666666666666,
             "#ed7953"
            ],
            [
             0.7777777777777778,
             "#fb9f3a"
            ],
            [
             0.8888888888888888,
             "#fdca26"
            ],
            [
             1,
             "#f0f921"
            ]
           ]
          },
          "colorway": [
           "#636efa",
           "#EF553B",
           "#00cc96",
           "#ab63fa",
           "#FFA15A",
           "#19d3f3",
           "#FF6692",
           "#B6E880",
           "#FF97FF",
           "#FECB52"
          ],
          "font": {
           "color": "#2a3f5f"
          },
          "geo": {
           "bgcolor": "white",
           "lakecolor": "white",
           "landcolor": "#E5ECF6",
           "showlakes": true,
           "showland": true,
           "subunitcolor": "white"
          },
          "hoverlabel": {
           "align": "left"
          },
          "hovermode": "closest",
          "mapbox": {
           "style": "light"
          },
          "paper_bgcolor": "white",
          "plot_bgcolor": "#E5ECF6",
          "polar": {
           "angularaxis": {
            "gridcolor": "white",
            "linecolor": "white",
            "ticks": ""
           },
           "bgcolor": "#E5ECF6",
           "radialaxis": {
            "gridcolor": "white",
            "linecolor": "white",
            "ticks": ""
           }
          },
          "scene": {
           "xaxis": {
            "backgroundcolor": "#E5ECF6",
            "gridcolor": "white",
            "gridwidth": 2,
            "linecolor": "white",
            "showbackground": true,
            "ticks": "",
            "zerolinecolor": "white"
           },
           "yaxis": {
            "backgroundcolor": "#E5ECF6",
            "gridcolor": "white",
            "gridwidth": 2,
            "linecolor": "white",
            "showbackground": true,
            "ticks": "",
            "zerolinecolor": "white"
           },
           "zaxis": {
            "backgroundcolor": "#E5ECF6",
            "gridcolor": "white",
            "gridwidth": 2,
            "linecolor": "white",
            "showbackground": true,
            "ticks": "",
            "zerolinecolor": "white"
           }
          },
          "shapedefaults": {
           "line": {
            "color": "#2a3f5f"
           }
          },
          "ternary": {
           "aaxis": {
            "gridcolor": "white",
            "linecolor": "white",
            "ticks": ""
           },
           "baxis": {
            "gridcolor": "white",
            "linecolor": "white",
            "ticks": ""
           },
           "bgcolor": "#E5ECF6",
           "caxis": {
            "gridcolor": "white",
            "linecolor": "white",
            "ticks": ""
           }
          },
          "title": {
           "x": 0.05
          },
          "xaxis": {
           "automargin": true,
           "gridcolor": "white",
           "linecolor": "white",
           "ticks": "",
           "title": {
            "standoff": 15
           },
           "zerolinecolor": "white",
           "zerolinewidth": 2
          },
          "yaxis": {
           "automargin": true,
           "gridcolor": "white",
           "linecolor": "white",
           "ticks": "",
           "title": {
            "standoff": 15
           },
           "zerolinecolor": "white",
           "zerolinewidth": 2
          }
         }
        },
        "title": {
         "text": "Molecular Orbital (MO) Occupations"
        },
        "xaxis": {
         "anchor": "y",
         "domain": [
          0,
          1
         ],
         "title": {
          "text": "Orbital Index (0-Based)"
         }
        },
        "yaxis": {
         "anchor": "x",
         "domain": [
          0,
          1
         ],
         "title": {
          "text": "MO Occupation"
         }
        }
       }
      }
     },
     "metadata": {},
     "output_type": "display_data"
    }
   ],
   "source": [
    "import plotly.express as px\n",
    "\n",
    "# Plot the MO Occupations\n",
    "fig = px.line(y=mf.mo_occ, markers=True, title=\"Molecular Orbital (MO) Occupations\")\n",
    "fig.update_layout(xaxis_title=\"Orbital Index (0-Based)\", yaxis_title=\"MO Occupation\")\n",
    "fig.show()"
   ]
  },
  {
   "cell_type": "markdown",
   "metadata": {},
   "source": [
    "Conversion des energies du homo et lumo en ev"
   ]
  },
  {
   "cell_type": "code",
   "execution_count": 96,
   "metadata": {},
   "outputs": [
    {
     "name": "stdout",
     "output_type": "stream",
     "text": [
      "Energie du Homo = -5.7088744144082435 eV\n",
      "Energie de Lumo = -3.673142047777769 eV\n",
      "Energie du gap Homo-Lumo = 2.035732366630474 eV\n"
     ]
    }
   ],
   "source": [
    "from pyscf.data.nist import HARTREE2EV as au2ev \n",
    "\n",
    "print(f'Energie du Homo = {mf.mo_energy[homo_idx] * au2ev} eV')\n",
    "print(f'Energie de Lumo = {mf.mo_energy[lumo_idx] * au2ev} eV')\n",
    "print(f'Energie du gap Homo-Lumo = {abs(mf.mo_energy[homo_idx] - mf.mo_energy[lumo_idx]) * au2ev} eV')"
   ]
  },
  {
   "cell_type": "markdown",
   "metadata": {},
   "source": [
    "Tracé de la courbe des energies des MO"
   ]
  },
  {
   "cell_type": "code",
   "execution_count": 97,
   "metadata": {},
   "outputs": [
    {
     "data": {
      "application/vnd.plotly.v1+json": {
       "config": {
        "plotlyServerURL": "https://plot.ly"
       },
       "data": [
        {
         "hovertemplate": "x=%{x}<br>y=%{y}<extra></extra>",
         "legendgroup": "",
         "line": {
          "color": "#636efa",
          "dash": "solid"
         },
         "marker": {
          "symbol": "circle"
         },
         "mode": "lines+markers",
         "name": "",
         "orientation": "v",
         "showlegend": false,
         "type": "scatter",
         "x": [
          0,
          1,
          2,
          3,
          4,
          5,
          6,
          7,
          8,
          9,
          10,
          11,
          12,
          13,
          14,
          15,
          16,
          17,
          18,
          19,
          20,
          21,
          22,
          23,
          24,
          25,
          26,
          27,
          28,
          29,
          30,
          31,
          32,
          33,
          34,
          35,
          36,
          37,
          38,
          39,
          40,
          41,
          42,
          43,
          44,
          45,
          46,
          47,
          48,
          49,
          50,
          51,
          52,
          53,
          54,
          55,
          56,
          57,
          58,
          59,
          60,
          61,
          62,
          63,
          64,
          65,
          66,
          67,
          68,
          69,
          70,
          71,
          72,
          73,
          74,
          75,
          76,
          77,
          78,
          79,
          80,
          81,
          82,
          83,
          84,
          85,
          86,
          87,
          88,
          89,
          90,
          91,
          92,
          93,
          94,
          95,
          96,
          97,
          98,
          99,
          100,
          101,
          102,
          103,
          104,
          105,
          106,
          107,
          108,
          109,
          110,
          111,
          112,
          113,
          114,
          115,
          116,
          117,
          118,
          119,
          120,
          121,
          122,
          123,
          124,
          125,
          126,
          127,
          128,
          129,
          130,
          131,
          132,
          133,
          134,
          135,
          136,
          137,
          138,
          139
         ],
         "xaxis": "x",
         "y": [
          -23.876368456212116,
          -23.87426225053562,
          -13.859616850828848,
          -13.829687932625063,
          -9.798760082716084,
          -9.79178146966173,
          -9.780502586772508,
          -9.776576522172899,
          -9.763725823415488,
          -9.76070945224451,
          -9.752670445227277,
          -9.73025749482449,
          -9.723618540675906,
          -6.442386898086839,
          -0.9935326042643066,
          -0.9597487883812914,
          -0.9451695081532813,
          -0.9260644833922372,
          -0.7678245010025366,
          -0.7517356023431776,
          -0.7213996546070991,
          -0.6764183261740263,
          -0.6212761918665138,
          -0.5754974858841575,
          -0.5580566895187227,
          -0.537049446947142,
          -0.5352107033457258,
          -0.51359435144182,
          -0.46913674606265293,
          -0.4453964450133217,
          -0.43100697477637195,
          -0.42001130464666275,
          -0.4138833450876367,
          -0.3968450003501852,
          -0.3950710926198103,
          -0.37960093424015484,
          -0.3714404427441684,
          -0.3650320137038537,
          -0.3512198075090225,
          -0.3475247022954438,
          -0.3429486173527597,
          -0.2937576781986289,
          -0.2750972863180308,
          -0.26682390326738353,
          -0.2571002188387937,
          -0.25194890410472703,
          -0.235368980613416,
          -0.2258361324264329,
          -0.2097972668577888,
          -0.13498548163177207,
          -0.017072127227793697,
          0.0035195453714597963,
          0.02880922492598039,
          0.06637796380418157,
          0.07089939323194679,
          0.0876541488153095,
          0.10179814377623855,
          0.11639982372115908,
          0.12518594465551133,
          0.13630377721413872,
          0.15174830528728953,
          0.1560361343329963,
          0.17243332428416877,
          0.18500833837851707,
          0.20097552760789472,
          0.22051644477521698,
          0.22278018076185296,
          0.2258629649821614,
          0.2598593043638845,
          0.28675956727942836,
          0.3201163628256964,
          0.3558060395031076,
          0.38102269670223915,
          0.39327283208114366,
          0.42132819953820727,
          0.44953227605824114,
          0.45256095076901526,
          0.478109619662338,
          0.5053804364988925,
          0.5273115404071854,
          0.558961895363151,
          0.5893130089966763,
          0.618242989391696,
          0.631828506909332,
          0.6330665698179799,
          0.6582023668004221,
          0.6718992434555816,
          0.6780097982452667,
          0.6931207826730522,
          0.6986403821518805,
          0.7033421747038343,
          0.726499934665223,
          0.7445312894636524,
          0.7557265466760368,
          0.7811399441028017,
          0.8066474311939716,
          0.8169449738859296,
          0.8248974521081184,
          0.8617849845742919,
          0.8979285551554977,
          0.9070441829578033,
          0.9220059397568374,
          0.9258502694515953,
          0.9470506651249928,
          0.9741218679821461,
          0.9811765941159541,
          0.9976618156200011,
          1.0862822128762641,
          1.1234964049114824,
          1.1354435704347046,
          1.1649074182334844,
          1.1868693329625823,
          1.2123658057568456,
          1.2521352626916524,
          1.2525420156266704,
          1.2879463030404643,
          1.3180962143581945,
          1.3648928158523166,
          1.462095464173733,
          1.4785585163898678,
          1.4997505298137757,
          1.5436535460613097,
          1.6007724419585072,
          1.6573362289049964,
          1.7026733045957734,
          1.768056250617188,
          1.8205467484612585,
          1.884701873078274,
          1.908995830342674,
          1.9521176210411255,
          2.0166763951265883,
          2.0228835078016725,
          2.0534839432128913,
          2.0780807614969765,
          2.1714054472863267,
          2.213321723576674,
          2.7729298130214364,
          2.8390454029718994,
          3.432759560326815,
          3.87058553379944
         ],
         "yaxis": "y"
        }
       ],
       "layout": {
        "legend": {
         "tracegroupgap": 0
        },
        "template": {
         "data": {
          "bar": [
           {
            "error_x": {
             "color": "#2a3f5f"
            },
            "error_y": {
             "color": "#2a3f5f"
            },
            "marker": {
             "line": {
              "color": "#E5ECF6",
              "width": 0.5
             },
             "pattern": {
              "fillmode": "overlay",
              "size": 10,
              "solidity": 0.2
             }
            },
            "type": "bar"
           }
          ],
          "barpolar": [
           {
            "marker": {
             "line": {
              "color": "#E5ECF6",
              "width": 0.5
             },
             "pattern": {
              "fillmode": "overlay",
              "size": 10,
              "solidity": 0.2
             }
            },
            "type": "barpolar"
           }
          ],
          "carpet": [
           {
            "aaxis": {
             "endlinecolor": "#2a3f5f",
             "gridcolor": "white",
             "linecolor": "white",
             "minorgridcolor": "white",
             "startlinecolor": "#2a3f5f"
            },
            "baxis": {
             "endlinecolor": "#2a3f5f",
             "gridcolor": "white",
             "linecolor": "white",
             "minorgridcolor": "white",
             "startlinecolor": "#2a3f5f"
            },
            "type": "carpet"
           }
          ],
          "choropleth": [
           {
            "colorbar": {
             "outlinewidth": 0,
             "ticks": ""
            },
            "type": "choropleth"
           }
          ],
          "contour": [
           {
            "colorbar": {
             "outlinewidth": 0,
             "ticks": ""
            },
            "colorscale": [
             [
              0,
              "#0d0887"
             ],
             [
              0.1111111111111111,
              "#46039f"
             ],
             [
              0.2222222222222222,
              "#7201a8"
             ],
             [
              0.3333333333333333,
              "#9c179e"
             ],
             [
              0.4444444444444444,
              "#bd3786"
             ],
             [
              0.5555555555555556,
              "#d8576b"
             ],
             [
              0.6666666666666666,
              "#ed7953"
             ],
             [
              0.7777777777777778,
              "#fb9f3a"
             ],
             [
              0.8888888888888888,
              "#fdca26"
             ],
             [
              1,
              "#f0f921"
             ]
            ],
            "type": "contour"
           }
          ],
          "contourcarpet": [
           {
            "colorbar": {
             "outlinewidth": 0,
             "ticks": ""
            },
            "type": "contourcarpet"
           }
          ],
          "heatmap": [
           {
            "colorbar": {
             "outlinewidth": 0,
             "ticks": ""
            },
            "colorscale": [
             [
              0,
              "#0d0887"
             ],
             [
              0.1111111111111111,
              "#46039f"
             ],
             [
              0.2222222222222222,
              "#7201a8"
             ],
             [
              0.3333333333333333,
              "#9c179e"
             ],
             [
              0.4444444444444444,
              "#bd3786"
             ],
             [
              0.5555555555555556,
              "#d8576b"
             ],
             [
              0.6666666666666666,
              "#ed7953"
             ],
             [
              0.7777777777777778,
              "#fb9f3a"
             ],
             [
              0.8888888888888888,
              "#fdca26"
             ],
             [
              1,
              "#f0f921"
             ]
            ],
            "type": "heatmap"
           }
          ],
          "heatmapgl": [
           {
            "colorbar": {
             "outlinewidth": 0,
             "ticks": ""
            },
            "colorscale": [
             [
              0,
              "#0d0887"
             ],
             [
              0.1111111111111111,
              "#46039f"
             ],
             [
              0.2222222222222222,
              "#7201a8"
             ],
             [
              0.3333333333333333,
              "#9c179e"
             ],
             [
              0.4444444444444444,
              "#bd3786"
             ],
             [
              0.5555555555555556,
              "#d8576b"
             ],
             [
              0.6666666666666666,
              "#ed7953"
             ],
             [
              0.7777777777777778,
              "#fb9f3a"
             ],
             [
              0.8888888888888888,
              "#fdca26"
             ],
             [
              1,
              "#f0f921"
             ]
            ],
            "type": "heatmapgl"
           }
          ],
          "histogram": [
           {
            "marker": {
             "pattern": {
              "fillmode": "overlay",
              "size": 10,
              "solidity": 0.2
             }
            },
            "type": "histogram"
           }
          ],
          "histogram2d": [
           {
            "colorbar": {
             "outlinewidth": 0,
             "ticks": ""
            },
            "colorscale": [
             [
              0,
              "#0d0887"
             ],
             [
              0.1111111111111111,
              "#46039f"
             ],
             [
              0.2222222222222222,
              "#7201a8"
             ],
             [
              0.3333333333333333,
              "#9c179e"
             ],
             [
              0.4444444444444444,
              "#bd3786"
             ],
             [
              0.5555555555555556,
              "#d8576b"
             ],
             [
              0.6666666666666666,
              "#ed7953"
             ],
             [
              0.7777777777777778,
              "#fb9f3a"
             ],
             [
              0.8888888888888888,
              "#fdca26"
             ],
             [
              1,
              "#f0f921"
             ]
            ],
            "type": "histogram2d"
           }
          ],
          "histogram2dcontour": [
           {
            "colorbar": {
             "outlinewidth": 0,
             "ticks": ""
            },
            "colorscale": [
             [
              0,
              "#0d0887"
             ],
             [
              0.1111111111111111,
              "#46039f"
             ],
             [
              0.2222222222222222,
              "#7201a8"
             ],
             [
              0.3333333333333333,
              "#9c179e"
             ],
             [
              0.4444444444444444,
              "#bd3786"
             ],
             [
              0.5555555555555556,
              "#d8576b"
             ],
             [
              0.6666666666666666,
              "#ed7953"
             ],
             [
              0.7777777777777778,
              "#fb9f3a"
             ],
             [
              0.8888888888888888,
              "#fdca26"
             ],
             [
              1,
              "#f0f921"
             ]
            ],
            "type": "histogram2dcontour"
           }
          ],
          "mesh3d": [
           {
            "colorbar": {
             "outlinewidth": 0,
             "ticks": ""
            },
            "type": "mesh3d"
           }
          ],
          "parcoords": [
           {
            "line": {
             "colorbar": {
              "outlinewidth": 0,
              "ticks": ""
             }
            },
            "type": "parcoords"
           }
          ],
          "pie": [
           {
            "automargin": true,
            "type": "pie"
           }
          ],
          "scatter": [
           {
            "fillpattern": {
             "fillmode": "overlay",
             "size": 10,
             "solidity": 0.2
            },
            "type": "scatter"
           }
          ],
          "scatter3d": [
           {
            "line": {
             "colorbar": {
              "outlinewidth": 0,
              "ticks": ""
             }
            },
            "marker": {
             "colorbar": {
              "outlinewidth": 0,
              "ticks": ""
             }
            },
            "type": "scatter3d"
           }
          ],
          "scattercarpet": [
           {
            "marker": {
             "colorbar": {
              "outlinewidth": 0,
              "ticks": ""
             }
            },
            "type": "scattercarpet"
           }
          ],
          "scattergeo": [
           {
            "marker": {
             "colorbar": {
              "outlinewidth": 0,
              "ticks": ""
             }
            },
            "type": "scattergeo"
           }
          ],
          "scattergl": [
           {
            "marker": {
             "colorbar": {
              "outlinewidth": 0,
              "ticks": ""
             }
            },
            "type": "scattergl"
           }
          ],
          "scattermapbox": [
           {
            "marker": {
             "colorbar": {
              "outlinewidth": 0,
              "ticks": ""
             }
            },
            "type": "scattermapbox"
           }
          ],
          "scatterpolar": [
           {
            "marker": {
             "colorbar": {
              "outlinewidth": 0,
              "ticks": ""
             }
            },
            "type": "scatterpolar"
           }
          ],
          "scatterpolargl": [
           {
            "marker": {
             "colorbar": {
              "outlinewidth": 0,
              "ticks": ""
             }
            },
            "type": "scatterpolargl"
           }
          ],
          "scatterternary": [
           {
            "marker": {
             "colorbar": {
              "outlinewidth": 0,
              "ticks": ""
             }
            },
            "type": "scatterternary"
           }
          ],
          "surface": [
           {
            "colorbar": {
             "outlinewidth": 0,
             "ticks": ""
            },
            "colorscale": [
             [
              0,
              "#0d0887"
             ],
             [
              0.1111111111111111,
              "#46039f"
             ],
             [
              0.2222222222222222,
              "#7201a8"
             ],
             [
              0.3333333333333333,
              "#9c179e"
             ],
             [
              0.4444444444444444,
              "#bd3786"
             ],
             [
              0.5555555555555556,
              "#d8576b"
             ],
             [
              0.6666666666666666,
              "#ed7953"
             ],
             [
              0.7777777777777778,
              "#fb9f3a"
             ],
             [
              0.8888888888888888,
              "#fdca26"
             ],
             [
              1,
              "#f0f921"
             ]
            ],
            "type": "surface"
           }
          ],
          "table": [
           {
            "cells": {
             "fill": {
              "color": "#EBF0F8"
             },
             "line": {
              "color": "white"
             }
            },
            "header": {
             "fill": {
              "color": "#C8D4E3"
             },
             "line": {
              "color": "white"
             }
            },
            "type": "table"
           }
          ]
         },
         "layout": {
          "annotationdefaults": {
           "arrowcolor": "#2a3f5f",
           "arrowhead": 0,
           "arrowwidth": 1
          },
          "autotypenumbers": "strict",
          "coloraxis": {
           "colorbar": {
            "outlinewidth": 0,
            "ticks": ""
           }
          },
          "colorscale": {
           "diverging": [
            [
             0,
             "#8e0152"
            ],
            [
             0.1,
             "#c51b7d"
            ],
            [
             0.2,
             "#de77ae"
            ],
            [
             0.3,
             "#f1b6da"
            ],
            [
             0.4,
             "#fde0ef"
            ],
            [
             0.5,
             "#f7f7f7"
            ],
            [
             0.6,
             "#e6f5d0"
            ],
            [
             0.7,
             "#b8e186"
            ],
            [
             0.8,
             "#7fbc41"
            ],
            [
             0.9,
             "#4d9221"
            ],
            [
             1,
             "#276419"
            ]
           ],
           "sequential": [
            [
             0,
             "#0d0887"
            ],
            [
             0.1111111111111111,
             "#46039f"
            ],
            [
             0.2222222222222222,
             "#7201a8"
            ],
            [
             0.3333333333333333,
             "#9c179e"
            ],
            [
             0.4444444444444444,
             "#bd3786"
            ],
            [
             0.5555555555555556,
             "#d8576b"
            ],
            [
             0.6666666666666666,
             "#ed7953"
            ],
            [
             0.7777777777777778,
             "#fb9f3a"
            ],
            [
             0.8888888888888888,
             "#fdca26"
            ],
            [
             1,
             "#f0f921"
            ]
           ],
           "sequentialminus": [
            [
             0,
             "#0d0887"
            ],
            [
             0.1111111111111111,
             "#46039f"
            ],
            [
             0.2222222222222222,
             "#7201a8"
            ],
            [
             0.3333333333333333,
             "#9c179e"
            ],
            [
             0.4444444444444444,
             "#bd3786"
            ],
            [
             0.5555555555555556,
             "#d8576b"
            ],
            [
             0.6666666666666666,
             "#ed7953"
            ],
            [
             0.7777777777777778,
             "#fb9f3a"
            ],
            [
             0.8888888888888888,
             "#fdca26"
            ],
            [
             1,
             "#f0f921"
            ]
           ]
          },
          "colorway": [
           "#636efa",
           "#EF553B",
           "#00cc96",
           "#ab63fa",
           "#FFA15A",
           "#19d3f3",
           "#FF6692",
           "#B6E880",
           "#FF97FF",
           "#FECB52"
          ],
          "font": {
           "color": "#2a3f5f"
          },
          "geo": {
           "bgcolor": "white",
           "lakecolor": "white",
           "landcolor": "#E5ECF6",
           "showlakes": true,
           "showland": true,
           "subunitcolor": "white"
          },
          "hoverlabel": {
           "align": "left"
          },
          "hovermode": "closest",
          "mapbox": {
           "style": "light"
          },
          "paper_bgcolor": "white",
          "plot_bgcolor": "#E5ECF6",
          "polar": {
           "angularaxis": {
            "gridcolor": "white",
            "linecolor": "white",
            "ticks": ""
           },
           "bgcolor": "#E5ECF6",
           "radialaxis": {
            "gridcolor": "white",
            "linecolor": "white",
            "ticks": ""
           }
          },
          "scene": {
           "xaxis": {
            "backgroundcolor": "#E5ECF6",
            "gridcolor": "white",
            "gridwidth": 2,
            "linecolor": "white",
            "showbackground": true,
            "ticks": "",
            "zerolinecolor": "white"
           },
           "yaxis": {
            "backgroundcolor": "#E5ECF6",
            "gridcolor": "white",
            "gridwidth": 2,
            "linecolor": "white",
            "showbackground": true,
            "ticks": "",
            "zerolinecolor": "white"
           },
           "zaxis": {
            "backgroundcolor": "#E5ECF6",
            "gridcolor": "white",
            "gridwidth": 2,
            "linecolor": "white",
            "showbackground": true,
            "ticks": "",
            "zerolinecolor": "white"
           }
          },
          "shapedefaults": {
           "line": {
            "color": "#2a3f5f"
           }
          },
          "ternary": {
           "aaxis": {
            "gridcolor": "white",
            "linecolor": "white",
            "ticks": ""
           },
           "baxis": {
            "gridcolor": "white",
            "linecolor": "white",
            "ticks": ""
           },
           "bgcolor": "#E5ECF6",
           "caxis": {
            "gridcolor": "white",
            "linecolor": "white",
            "ticks": ""
           }
          },
          "title": {
           "x": 0.05
          },
          "xaxis": {
           "automargin": true,
           "gridcolor": "white",
           "linecolor": "white",
           "ticks": "",
           "title": {
            "standoff": 15
           },
           "zerolinecolor": "white",
           "zerolinewidth": 2
          },
          "yaxis": {
           "automargin": true,
           "gridcolor": "white",
           "linecolor": "white",
           "ticks": "",
           "title": {
            "standoff": 15
           },
           "zerolinecolor": "white",
           "zerolinewidth": 2
          }
         }
        },
        "title": {
         "text": "Molecular Orbital (MO) Energies (a.u.)"
        },
        "xaxis": {
         "anchor": "y",
         "domain": [
          0,
          1
         ],
         "title": {
          "text": "Orbital Index (0-Based)"
         }
        },
        "yaxis": {
         "anchor": "x",
         "domain": [
          0,
          1
         ],
         "title": {
          "text": "MO Energies (a.u.)"
         }
        }
       }
      }
     },
     "metadata": {},
     "output_type": "display_data"
    }
   ],
   "source": [
    "# Plot the MO Energies (i.e. eigenvalues of the Fock matrix)\n",
    "fig = px.line(y=mf.mo_energy, markers=True, title=\"Molecular Orbital (MO) Energies (a.u.)\")\n",
    "fig.update_layout(xaxis_title=\"Orbital Index (0-Based)\", yaxis_title=\"MO Energies (a.u.)\")\n",
    "fig.show()"
   ]
  },
  {
   "cell_type": "code",
   "execution_count": 98,
   "metadata": {},
   "outputs": [
    {
     "name": "stdout",
     "output_type": "stream",
     "text": [
      "**** SCF Summaries ****\n",
      "Total Energy =                        -672.129088478872063\n",
      "Nuclear Repulsion Energy =             858.596789793988592\n",
      "One-electron Energy =                -2629.742348106312875\n",
      "Two-electron Coulomb Energy =         1183.526037830823043\n",
      "DFT Exchange-Correlation Energy =      -84.509567997370866\n"
     ]
    }
   ],
   "source": [
    "mf.dump_scf_summary()"
   ]
  },
  {
   "cell_type": "markdown",
   "metadata": {},
   "source": [
    "Construction du hamiltonien "
   ]
  },
  {
   "cell_type": "code",
   "execution_count": 107,
   "metadata": {},
   "outputs": [],
   "source": [
    "from qiskit_nature.second_q.formats.qcschema import QCSchema\n",
    "from qiskit_nature.second_q.formats import qcschema_translator\n",
    "\n",
    "qcschema = Thiazole_driver.to_qcschema(include_dipole=True)\n",
    "hamiltonian = qcschema_translator._get_mo_hamiltonian_direct(qcschema)"
   ]
  },
  {
   "cell_type": "markdown",
   "metadata": {},
   "source": [
    "Construction du hamiltonien fermionique"
   ]
  },
  {
   "cell_type": "code",
   "execution_count": 18,
   "metadata": {},
   "outputs": [],
   "source": [
    "#print(hamiltonian.second_q_op())"
   ]
  },
  {
   "cell_type": "code",
   "execution_count": 19,
   "metadata": {},
   "outputs": [],
   "source": [
    "# print(Thiazole_driver.run().hamiltonian)\n",
    "# print(hamiltonian)\n"
   ]
  },
  {
   "cell_type": "markdown",
   "metadata": {},
   "source": [
    "## Reduction d'un espace actif (AS)"
   ]
  },
  {
   "cell_type": "code",
   "execution_count": 100,
   "metadata": {},
   "outputs": [],
   "source": [
    "# definir l'espace actif\n",
    "import numpy as np\n",
    "from qiskit_nature.second_q.transformers import ActiveSpaceTransformer\n",
    "transformer = ActiveSpaceTransformer(2, 2)  "
   ]
  },
  {
   "cell_type": "code",
   "execution_count": 101,
   "metadata": {},
   "outputs": [],
   "source": [
    "# quelques variables utiles\n",
    "total_number_particle = mol.nelec\n",
    "total_num_electrons = mol.nelectron\n",
    "total_num_spatial_orbitals = mol.nao\n",
    "num_alpha = qcschema.properties.calcinfo_nalpha\n",
    "num_beta = qcschema.properties.calcinfo_nbeta\n",
    "\n",
    "occupation_alpha = np.asarray([1.0] * num_alpha \n",
    "                              + [0.0] * (total_num_spatial_orbitals - num_alpha)\n",
    "                              )\n",
    "occupation_beta = np.asarray([1.0] * num_beta \n",
    "                             + [0.0] * (total_num_spatial_orbitals - num_beta)\n",
    "                             )"
   ]
  },
  {
   "cell_type": "code",
   "execution_count": 102,
   "metadata": {},
   "outputs": [],
   "source": [
    "## prepare active space\n",
    "transformer.prepare_active_space(total_num_electrons,\n",
    "        total_num_spatial_orbitals,\n",
    "        occupation_alpha = occupation_alpha,\n",
    "        occupation_beta = occupation_beta)"
   ]
  },
  {
   "cell_type": "code",
   "execution_count": 103,
   "metadata": {},
   "outputs": [
    {
     "data": {
      "text/plain": [
       "[48, 49]"
      ]
     },
     "execution_count": 103,
     "metadata": {},
     "output_type": "execute_result"
    }
   ],
   "source": [
    "# Determine active space\n",
    "as_orbitals = transformer._determine_active_space(total_num_electrons, total_num_spatial_orbitals)\n",
    "as_orbitals[0]\n"
   ]
  },
  {
   "cell_type": "code",
   "execution_count": 104,
   "metadata": {},
   "outputs": [],
   "source": [
    "# Reduice hamiltonian\n",
    "reduced_hamiltonian = transformer.transform_hamiltonian(hamiltonian)"
   ]
  },
  {
   "cell_type": "code",
   "execution_count": 106,
   "metadata": {},
   "outputs": [
    {
     "name": "stdout",
     "output_type": "stream",
     "text": [
      "Fermionic Operator\n",
      "number spin orbitals=4, number terms=72\n",
      "  0.12541156427869712 * ( +_0 +_0 -_0 -_0 )\n",
      "+ 0.015088049210239225 * ( +_0 +_0 -_1 -_0 )\n",
      "+ 0.015088049210239225 * ( +_0 +_1 -_0 -_0 )\n",
      "+ 0.10531456082563456 * ( +_0 +_1 -_1 -_0 )\n",
      "+ 0.12541156427869712 * ( +_0 +_2 -_2 -_0 )\n",
      "+ 0.015088049210239225 * ( +_0 +_2 -_3 -_0 )\n",
      "+ 0.015088049210239225 * ( +_0 +_3 -_2 -_0 )\n",
      "+ 0.10531456082563456 * ( +_0 +_3 -_3 -_0 )\n",
      "+ 0.015088049210239225 * ( +_0 +_0 -_0 -_1 )\n",
      "+ 0.02658665970734114 * ( +_0 +_0 -_1 -_1 )\n",
      "+ 0.02658665970734114 * ( +_0 +_1 -_0 -_1 )\n",
      "+ -0.008632770517122468 * ( +_0 +_1 -_1 -_1 )\n",
      "+ 0.015088049210239225 * ( +_0 +_2 -_2 -_1 )\n",
      "+ 0.02658665970734114 * ( +_0 +_2 -_3 -_1 )\n",
      "+ 0.02658665970734114 * ( +_0 +_3 -_2 -_1 )\n",
      "+ -0.008632770517122468 * ( +_0 +_3 -_3 -_1 )\n",
      "+ 0.015088049210239225 * ( +_1 +_0 -_0 -_0 )\n",
      "+ 0.02658665970734114 * ( +_1 +_0 -_1 -_0 )\n",
      "+ 0.02658665970734114 * ( +_1 +_1 -_0 -_0 )\n",
      "+ -0.008632770517122468 * ( +_1 +_1 -_1 -_0 )\n",
      "+ 0.015088049210239225 * ( +_1 +_2 -_2 -_0 )\n",
      "+ 0.02658665970734114 * ( +_1 +_2 -_3 -_0 )\n",
      "+ 0.02658665970734114 * ( +_1 +_3 -_2 -_0 )\n",
      "+ -0.008632770517122468 * ( +_1 +_3 -_3 -_0 )\n",
      "+ 0.10531456082563456 * ( +_1 +_0 -_0 -_1 )\n",
      "+ -0.008632770517122468 * ( +_1 +_0 -_1 -_1 )\n",
      "+ -0.008632770517122468 * ( +_1 +_1 -_0 -_1 )\n",
      "+ 0.12180272781827901 * ( +_1 +_1 -_1 -_1 )\n",
      "+ 0.10531456082563456 * ( +_1 +_2 -_2 -_1 )\n",
      "+ -0.008632770517122468 * ( +_1 +_2 -_3 -_1 )\n",
      "+ -0.008632770517122468 * ( +_1 +_3 -_2 -_1 )\n",
      "+ 0.12180272781827901 * ( +_1 +_3 -_3 -_1 )\n",
      "+ 0.12541156427869712 * ( +_2 +_0 -_0 -_2 )\n",
      "+ 0.015088049210239225 * ( +_2 +_0 -_1 -_2 )\n",
      "+ 0.015088049210239225 * ( +_2 +_1 -_0 -_2 )\n",
      "+ 0.10531456082563456 * ( +_2 +_1 -_1 -_2 )\n",
      "+ 0.12541156427869712 * ( +_2 +_2 -_2 -_2 )\n",
      "+ 0.015088049210239225 * ( +_2 +_2 -_3 -_2 )\n",
      "+ 0.015088049210239225 * ( +_2 +_3 -_2 -_2 )\n",
      "+ 0.10531456082563456 * ( +_2 +_3 -_3 -_2 )\n",
      "+ 0.015088049210239225 * ( +_2 +_0 -_0 -_3 )\n",
      "+ 0.02658665970734114 * ( +_2 +_0 -_1 -_3 )\n",
      "+ 0.02658665970734114 * ( +_2 +_1 -_0 -_3 )\n",
      "+ -0.008632770517122468 * ( +_2 +_1 -_1 -_3 )\n",
      "+ 0.015088049210239225 * ( +_2 +_2 -_2 -_3 )\n",
      "+ 0.02658665970734114 * ( +_2 +_2 -_3 -_3 )\n",
      "+ 0.02658665970734114 * ( +_2 +_3 -_2 -_3 )\n",
      "+ -0.008632770517122468 * ( +_2 +_3 -_3 -_3 )\n",
      "+ 0.015088049210239225 * ( +_3 +_0 -_0 -_2 )\n",
      "+ 0.02658665970734114 * ( +_3 +_0 -_1 -_2 )\n",
      "+ 0.02658665970734114 * ( +_3 +_1 -_0 -_2 )\n",
      "+ -0.008632770517122468 * ( +_3 +_1 -_1 -_2 )\n",
      "+ 0.015088049210239225 * ( +_3 +_2 -_2 -_2 )\n",
      "+ 0.02658665970734114 * ( +_3 +_2 -_3 -_2 )\n",
      "+ 0.02658665970734114 * ( +_3 +_3 -_2 -_2 )\n",
      "+ -0.008632770517122468 * ( +_3 +_3 -_3 -_2 )\n",
      "+ 0.10531456082563456 * ( +_3 +_0 -_0 -_3 )\n",
      "+ -0.008632770517122468 * ( +_3 +_0 -_1 -_3 )\n",
      "+ -0.008632770517122468 * ( +_3 +_1 -_0 -_3 )\n",
      "+ 0.12180272781827901 * ( +_3 +_1 -_1 -_3 )\n",
      "+ 0.10531456082563456 * ( +_3 +_2 -_2 -_3 )\n",
      "+ -0.008632770517122468 * ( +_3 +_2 -_3 -_3 )\n",
      "+ -0.008632770517122468 * ( +_3 +_3 -_2 -_3 )\n",
      "+ 0.12180272781827901 * ( +_3 +_3 -_3 -_3 )\n",
      "+ -0.528659338221926 * ( +_0 -_0 )\n",
      "+ -0.0421749479535147 * ( +_0 -_1 )\n",
      "+ -0.042174947953516756 * ( +_1 -_0 )\n",
      "+ -0.34956836487608783 * ( +_1 -_1 )\n",
      "+ -0.528659338221926 * ( +_2 -_2 )\n",
      "+ -0.042174947953514674 * ( +_2 -_3 )\n",
      "+ -0.04217494795351673 * ( +_3 -_2 )\n",
      "+ -0.34956836487608783 * ( +_3 -_3 )\n"
     ]
    }
   ],
   "source": [
    "print(reduced_hamiltonian.second_q_op())"
   ]
  },
  {
   "cell_type": "code",
   "execution_count": 108,
   "metadata": {},
   "outputs": [],
   "source": [
    "## Total dipole moment \n",
    "dipole_x = qcschema_translator._get_mo_dipole(qcschema, \"x\")\n",
    "dipole_y = qcschema_translator._get_mo_dipole(qcschema, \"y\")\n",
    "dipole_z = qcschema_translator._get_mo_dipole(qcschema, \"z\")"
   ]
  },
  {
   "cell_type": "code",
   "execution_count": 119,
   "metadata": {},
   "outputs": [],
   "source": [
    "from qiskit_nature.second_q.properties import (\n",
    "    AngularMomentum,\n",
    "    ElectronicDensity,\n",
    "    ElectronicDipoleMoment,\n",
    "    Magnetization,\n",
    "    ParticleNumber,\n",
    ")"
   ]
  },
  {
   "cell_type": "code",
   "execution_count": 110,
   "metadata": {},
   "outputs": [],
   "source": [
    "dipole_moment = ElectronicDipoleMoment(dipole_x,dipole_y,dipole_z)\n",
    "if qcschema.properties.nuclear_dipole_moment is not None:\n",
    "    dipole_moment.nuclear_dipole_moment = qcschema.properties.nuclear_dipole_moment"
   ]
  },
  {
   "cell_type": "code",
   "execution_count": 29,
   "metadata": {},
   "outputs": [
    {
     "ename": "NameError",
     "evalue": "name 'transform_electronic_dipole_moment' is not defined",
     "output_type": "error",
     "traceback": [
      "\u001b[0;31m---------------------------------------------------------------------------\u001b[0m",
      "\u001b[0;31mNameError\u001b[0m                                 Traceback (most recent call last)",
      "Cell \u001b[0;32mIn[29], line 1\u001b[0m\n\u001b[0;32m----> 1\u001b[0m transform_electronic_dipole_moment(  \u001b[39m# pylint: disable=invalid-name\u001b[39;00m\n\u001b[1;32m      2\u001b[0m     dipole_moment,\n\u001b[1;32m      3\u001b[0m    \u001b[39m# density_total: ElectronicIntegrals,\u001b[39;00m\n\u001b[1;32m      4\u001b[0m     \u001b[39m#density_active: ElectronicIntegrals,\u001b[39;00m\n\u001b[1;32m      5\u001b[0m     \u001b[39m#active_basis: BasisTransformer,\u001b[39;00m\n\u001b[1;32m      6\u001b[0m     \u001b[39m#offset_name: str,\u001b[39;00m\n\u001b[1;32m      7\u001b[0m )\n",
      "\u001b[0;31mNameError\u001b[0m: name 'transform_electronic_dipole_moment' is not defined"
     ]
    }
   ],
   "source": [
    "transform_electronic_dipole_moment(  # pylint: disable=invalid-name\n",
    "    dipole_moment,\n",
    "   # density_total: ElectronicIntegrals,\n",
    "    #density_active: ElectronicIntegrals,\n",
    "    #active_basis: BasisTransformer,\n",
    "    #offset_name: str,\n",
    ")"
   ]
  },
  {
   "cell_type": "code",
   "execution_count": null,
   "metadata": {},
   "outputs": [],
   "source": []
  },
  {
   "cell_type": "code",
   "execution_count": null,
   "metadata": {},
   "outputs": [],
   "source": []
  },
  {
   "cell_type": "code",
   "execution_count": 132,
   "metadata": {},
   "outputs": [],
   "source": [
    "from qiskit_nature.second_q.hamiltonians import ElectronicEnergy\n",
    "from typing import cast\n",
    "electronic_energy = cast(ElectronicEnergy, reduced_hamiltonian)\n",
    "new_problem = ElectronicStructureProblem(electronic_energy)"
   ]
  },
  {
   "cell_type": "code",
   "execution_count": 137,
   "metadata": {},
   "outputs": [],
   "source": [
    "for prop in problem.properties:\n",
    "    if isinstance(prop, ElectronicDipoleMoment):\n",
    "        new_problem.properties.electronic_dipole_moment = (\n",
    "            _transform_electronic_dipole_moment(\n",
    "                prop,\n",
    "                transformer._density_total,\n",
    "                transformer._active_density,\n",
    "                transformer._active_basis,\n",
    "                transformer.__class__.__name__,\n",
    "        ) \n",
    "       ) \n",
    "    elif isinstance(prop, ElectronicDensity):\n",
    "        transformed = transformer._active_basis.transform_electronic_integrals(prop)\n",
    "        new_problem.properties.electronic_density = ElectronicDensity(\n",
    "            transformed.alpha, transformed.beta, transformed.beta_alpha\n",
    "       )\n",
    "    elif isinstance(prop, AngularMomentum):\n",
    "        if prop.overlap is None:\n",
    "            #new_problem.properties.add(prop.__class__(new_problem.num_spatial_orbitals))\n",
    "            continue       \n",
    "\n",
    "        if isinstance(transformer._active_basis.coefficients, ElectronicIntegrals):\n",
    "            coeff_alpha = transformer._active_basis.coefficients.alpha[\"+-\"]\n",
    "            coeff_beta: Tensor\n",
    "            if transformer._active_basis.coefficients.beta.is_empty():\n",
    "                coeff_beta = coeff_alpha\n",
    "            else:\n",
    "                coeff_beta = transformer._active_basis.coefficients.beta[\"+-\"]\n",
    "\n",
    "            new_problem.properties.angular_momentum = AngularMomentum(\n",
    "                new_problem.num_spatial_orbitals,\n",
    "                coeff_alpha.transpose() @ prop.overlap @ coeff_beta,\n",
    "            )\n",
    "        elif isinstance(prop, (Magnetization, ParticleNumber)):\n",
    "            new_problem.properties.add(prop.__class__(new_problem.num_spatial_orbitals))\n",
    "        else:\n",
    "            LOGGER.warning(\"Encountered an unsupported property of type '%s'.\", type(prop))\n"
   ]
  },
  {
   "cell_type": "code",
   "execution_count": 153,
   "metadata": {},
   "outputs": [
    {
     "ename": "SyntaxError",
     "evalue": "unterminated triple-quoted string literal (detected at line 59) (100224186.py, line 2)",
     "output_type": "error",
     "traceback": [
      "\u001b[0;36m  Cell \u001b[0;32mIn[153], line 2\u001b[0;36m\u001b[0m\n\u001b[0;31m    '''\u001b[0m\n\u001b[0m    ^\u001b[0m\n\u001b[0;31mSyntaxError\u001b[0m\u001b[0;31m:\u001b[0m unterminated triple-quoted string literal (detected at line 59)\n"
     ]
    }
   ],
   "source": [
    "Setup Problem Electronic properties\n",
    "'''\n",
    "from qiskit_nature.second_q.properties import (\n",
    "    AngularMomentum,\n",
    "    ElectronicDensity,\n",
    "    Magnetization,\n",
    "    ParticleNumber,\n",
    "    ElectronicDipoleMoment\n",
    ")\n",
    "from qiskit_nature.second_q.operators import Tensor\n",
    "\n",
    "for prop in problem.properties:\n",
    "    if isinstance(prop, (Magnetization, ParticleNumber)):\n",
    "        problem.properties.add(prop.class(problem.num_spatial_orbitals))\n",
    "    \n",
    "    elif isinstance(prop, ElectronicDipoleMoment):\n",
    "        problem.properties.electronic_dipole_moment = (\n",
    "            _transform_electronic_dipole_moment(\n",
    "                prop,\n",
    "                transformer._density_total,\n",
    "                transformer._active_density,\n",
    "                transformer._active_basis,\n",
    "                transformer.class.name,\n",
    "            )\n",
    "        )\n",
    "\n",
    "    elif isinstance(prop, ElectronicDensity):\n",
    "        transformed = transformer._active_basis.transform_electronic_integrals(prop)\n",
    "        problem.properties.electronic_density = ElectronicDensity(\n",
    "            transformed.alpha, transformed.beta, transformed.beta_alpha\n",
    "        )\n",
    "\n",
    "    elif isinstance(prop, AngularMomentum):\n",
    "        if prop.overlap is None:\n",
    "            # only the size needs to be changed\n",
    "            problem.properties.add(prop.class(problem.num_spatial_orbitals))\n",
    "            continue\n",
    "\n",
    "        if isinstance(transformer._active_basis.coefficients, ElectronicIntegrals):\n",
    "            coeff_alpha = transformer._active_basis.coefficients.alpha[\"+-\"]\n",
    "            coeff_beta: Tensor\n",
    "            if transformer._active_basis.coefficients.beta.is_empty():\n",
    "                coeff_beta = coeff_alpha\n",
    "            else:\n",
    "                coeff_beta = transformer._active_basis.coefficients.beta[\"+-\"]\n",
    "\n",
    "            problem.properties.angular_momentum = AngularMomentum(\n",
    "                problem.num_spatial_orbitals,\n",
    "                coeff_alpha.transpose() @ prop.overlap @ coeff_beta,\n",
    "            )\n",
    "\n",
    "norb = problem.num_spatial_orbitals\n",
    "problem.properties.particle_number = ParticleNumber(norb)\n",
    "problem.properties.magnetization = Magnetization(norb)\n",
    "problem.properties.angular_momentum = AngularMomentum(norb)\n",
    "problem.properties.electronic_density = ElectronicDensity.from_orbital_occupation(\n",
    "    problem.orbital_occupations, \n",
    "    problem.orbital_occupations_b\n",
    ")"
   ]
  },
  {
   "cell_type": "code",
   "execution_count": 141,
   "metadata": {},
   "outputs": [],
   "source": [
    "#Construction d'un nouveau probleme\n",
    "#from qiskit_nature.second_q.problems import ElectronicBasis, ElectronicStructureProblem\n",
    "#problem = ElectronicStructureProblem(reduced_hamiltonian)\n",
    "num_particles = problem.num_particles\n",
    "norb = problem.num_spatial_orbitals \n",
    "problem.reference_energy = qcschema.properties.return_energy\n",
    "#problem.properties.angular_momentum = AngularMomentum(norb)\n",
    "#problem.properties.magnetization = Magnetization(norb)\n",
    "#problem.properties.particle_number = ParticleNumber(norb)\n"
   ]
  },
  {
   "cell_type": "code",
   "execution_count": 142,
   "metadata": {},
   "outputs": [],
   "source": [
    "if qcschema.wavefunction.scf_eigenvalues_a is not None:\n",
    "    problem.orbital_energies = np.asarray(qcschema.wavefunction.scf_eigenvalues_a)     #140-143 qcshema_tranlator\n",
    "ora = problem.orbital_energies\n",
    "\n",
    "if qcschema.wavefunction.scf_eigenvalues_b is not None:\n",
    "    problem.orbital_energies_b = np.asarray(qcschema.wavefunction.scf_eigenvalues_b)\n",
    "orb = problem.orbital_energies_b"
   ]
  },
  {
   "cell_type": "code",
   "execution_count": 143,
   "metadata": {},
   "outputs": [
    {
     "name": "stdout",
     "output_type": "stream",
     "text": [
      "None\n"
     ]
    }
   ],
   "source": [
    "#print(ora)\n",
    "#print(orb)"
   ]
  },
  {
   "cell_type": "code",
   "execution_count": 144,
   "metadata": {},
   "outputs": [],
   "source": [
    "from qiskit_nature.second_q.mappers import JordanWignerMapper,ParityMapper\n",
    "from qiskit_nature.second_q.operators import FermionicOp"
   ]
  },
  {
   "cell_type": "code",
   "execution_count": 145,
   "metadata": {},
   "outputs": [
    {
     "name": "stdout",
     "output_type": "stream",
     "text": [
      "Number of items in the PT Pauli list: 27 \n",
      "\n",
      "SparsePauliOp(['IIII', 'IIIZ', 'IIZZ', 'IIZI', 'IZZI', 'IZZZ', 'ZXZI', 'ZXZZ', 'IXII', 'IXIZ', 'ZZII', 'ZZIZ', 'IIZX', 'IZIX', 'IIIX', 'IZZX', 'ZXIX', 'IXZX', 'ZXZX', 'IXIX', 'ZZZX', 'ZZIX', 'IZIZ', 'ZXIZ', 'IXZZ', 'ZZZZ', 'ZIZI'],\n",
      "              coeffs=[-0.5705781 +0.j,  0.10960266+0.j,  0.02186159+0.j,  0.03936395+0.j,\n",
      "  0.10960266+0.j,  0.06270578+0.j,  0.01785983+0.j,  0.00754402+0.j,\n",
      " -0.01785983+0.j, -0.00754402+0.j,  0.02186159+0.j,  0.05265728+0.j,\n",
      "  0.01785983+0.j,  0.00754402+0.j, -0.01785983+0.j, -0.00754402+0.j,\n",
      "  0.01329333+0.j, -0.01329333+0.j, -0.01329333+0.j,  0.01329333+0.j,\n",
      " -0.00431639+0.j,  0.00431639+0.j,  0.05265728+0.j, -0.00431639+0.j,\n",
      "  0.00431639+0.j,  0.06090136+0.j,  0.03936395+0.j])\n"
     ]
    }
   ],
   "source": [
    "Thiazole_qubit_P_op = ParityMapper().map(reduced_hamiltonian.second_q_op())\n",
    "\n",
    "print(\"Number of items in the PT Pauli list:\", len(Thiazole_qubit_P_op),'\\n')\n",
    "\n",
    "# if len(Thiazole_qubit_P_op) <= 10:\n",
    "print(Thiazole_qubit_P_op)\n",
    "# else:\n",
    "#     print(Thiazole_qubit_P_op[0:10])\n"
   ]
  },
  {
   "cell_type": "code",
   "execution_count": 146,
   "metadata": {},
   "outputs": [
    {
     "data": {
      "text/plain": [
       "[1, 3]"
      ]
     },
     "execution_count": 146,
     "metadata": {},
     "output_type": "execute_result"
    }
   ],
   "source": [
    "num_qubits = Thiazole_qubit_P_op.num_qubits\n",
    "last_idx = num_qubits - 1\n",
    "mid_idx = num_qubits // 2 - 1\n",
    "sq_list = [mid_idx, last_idx]\n",
    "sq_list\n"
   ]
  },
  {
   "cell_type": "code",
   "execution_count": 147,
   "metadata": {},
   "outputs": [
    {
     "data": {
      "text/plain": [
       "['I', 'I', 'I', 'I']"
      ]
     },
     "execution_count": 147,
     "metadata": {},
     "output_type": "execute_result"
    }
   ],
   "source": [
    "symmetries, sq_paulis = [], []\n",
    "for idx in sq_list:\n",
    "    pauli_str = [\"I\"] * num_qubits\n",
    "pauli_str"
   ]
  },
  {
   "cell_type": "code",
   "execution_count": 148,
   "metadata": {},
   "outputs": [],
   "source": [
    "pauli_str[idx] = \"Z\"\n",
    "z_sym = \"\".join(pauli_str)[::-1]\n",
    "symmetries.append(z_sym)"
   ]
  },
  {
   "cell_type": "code",
   "execution_count": 149,
   "metadata": {},
   "outputs": [],
   "source": [
    "pauli_str[idx] = \"X\"\n",
    "sq_pauli = \"\".join(pauli_str)[::-1]\n",
    "sq_paulis.append(sq_pauli)"
   ]
  },
  {
   "cell_type": "code",
   "execution_count": null,
   "metadata": {},
   "outputs": [],
   "source": []
  }
 ],
 "metadata": {
  "kernelspec": {
   "display_name": "base",
   "language": "python",
   "name": "python3"
  },
  "language_info": {
   "codemirror_mode": {
    "name": "ipython",
    "version": 3
   },
   "file_extension": ".py",
   "mimetype": "text/x-python",
   "name": "python",
   "nbconvert_exporter": "python",
   "pygments_lexer": "ipython3",
   "version": "3.11.8"
  },
  "orig_nbformat": 4
 },
 "nbformat": 4,
 "nbformat_minor": 2
}
