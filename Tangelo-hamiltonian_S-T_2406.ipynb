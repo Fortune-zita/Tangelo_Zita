{
 "cells": [
  {
   "cell_type": "code",
   "execution_count": 1,
   "id": "cabb40b5",
   "metadata": {},
   "outputs": [],
   "source": [
    "import qiskit_nature\n",
    "from rdkit import Chem\n",
    "from pathlib import Path \n",
    "import rdkit"
   ]
  },
  {
   "cell_type": "code",
   "execution_count": 2,
   "id": "701b16c2",
   "metadata": {},
   "outputs": [
    {
     "data": {
      "image/png": "[encoded data removed]",
      "text/plain": [
       "<rdkit.Chem.rdchem.Mol at 0x7a2bc96aa260>"
      ]
     },
     "execution_count": 2,
     "metadata": {},
     "output_type": "execute_result"
    }
   ],
   "source": [
    "#smile='C1=CSC=N1'\n",
    "smile = '[B-]1(n2cccc2C=C3[N+]1=CC=C3)(F)F'\n",
    "smi_key='BODIPY'\n",
    "mol_rdkit = Chem.MolFromSmiles(smile)\n",
    "mol_rdkit"
   ]
  },
  {
   "cell_type": "code",
   "execution_count": 3,
   "id": "b452e4f5",
   "metadata": {},
   "outputs": [],
   "source": [
    " import py3Dmol "
   ]
  },
  {
   "cell_type": "code",
   "execution_count": 4,
   "id": "75ef0096",
   "metadata": {},
   "outputs": [],
   "source": [
    " # Verify if the \"data2402_{smi_key}\" subdirectory exist and if not, create it\n",
    "working_dir = Path(f'./data2405/{smi_key}')\n",
    "# Create the output directory if it doesn't exist\n",
    "working_dir.mkdir(parents=True, exist_ok=True)\n"
   ]
  },
  {
   "cell_type": "code",
   "execution_count": 5,
   "id": "a08d10bf",
   "metadata": {},
   "outputs": [],
   "source": [
    "\n",
    "def view3D(mol, label, fmt='mol'):\n",
    "        \"\"\"3D vizualisation of mol/xyz file with Py3DMol\n",
    "        \"\"\"\n",
    "\n",
    "        view = py3Dmol.view(width=400, height=400)       # visualiser la molécule avec une largeur de ''400'' et hauteur de ''400''\n",
    "\n",
    "        if fmt=='mol':                                   # si le format des 'mol',\n",
    "            view.addModel(Chem.MolToMolBlock(mol), fmt)     # generer les coordonnes de a molecule dans un block\n",
    "            # view.addModel(mol, fmt)\n",
    "        elif fmt=='xyz':                                      # sinon \n",
    "            view.addModel(mol, fmt)                             # generer les coordonnes en xyz\n",
    "\n",
    "        view.setStyle({'stick': {}, 'sphere': {'scale': .30}})     # définir le style de représentation de la molécule, avec des bâtons pour les liaisons et des sphères pour les atomes avec une échelle de '30'\n",
    "        view.addLabel(label, {'position': {'x': -2, 'y': -3, 'z': 0}}) # ajouter une etiquette de visualisation dont les coordonnées sont x,y,z\n",
    "\n",
    "        view.zoomTo()\n",
    "        view.show()"
   ]
  },
  {
   "cell_type": "markdown",
   "id": "9c082670",
   "metadata": {},
   "source": [
    "Meilleur conformere"
   ]
  },
  {
   "cell_type": "code",
   "execution_count": 6,
   "id": "1ce76929",
   "metadata": {},
   "outputs": [
    {
     "data": {
      "image/png": "[encoded data removed]",
      "text/plain": [
       "<rdkit.Chem.rdchem.Mol at 0x7a2bc86d4580>"
      ]
     },
     "execution_count": 6,
     "metadata": {},
     "output_type": "execute_result"
    }
   ],
   "source": [
    "from rdkit.Chem import AllChem\n",
    "\n",
    "# Add explicit Hs\n",
    "mol_rdkit = Chem.AddHs(mol_rdkit)    #   Ajouter les atomes d'hydrogene a la molécule\n",
    "\n",
    "# Generates the initial 3D conformation of the molecule\n",
    "AllChem.EmbedMolecule(mol_rdkit)\n",
    "mol_rdkit"
   ]
  },
  {
   "cell_type": "markdown",
   "id": "c5fedcd3",
   "metadata": {},
   "source": [
    "Visualisation 3D"
   ]
  },
  {
   "cell_type": "code",
   "execution_count": 7,
   "id": "f357c927",
   "metadata": {},
   "outputs": [
    {
     "data": {
      "application/3dmoljs_load.v0": "<div id=\"3dmolviewer_17194010343690743\"  style=\"position: relative; width: 400px; height: 400px;\">\n        <p id=\"3dmolwarning_17194010343690743\" style=\"background-color:#ffcccc;color:black\">3Dmol.js failed to load for some reason.  Please check your browser console for error messages.<br></p>\n        </div>\n<script>\n\nvar loadScriptAsync = function(uri){\n  return new Promise((resolve, reject) => {\n    //this is to ignore the existence of requirejs amd\n    var savedexports, savedmodule;\n    if (typeof exports !== 'undefined') savedexports = exports;\n    else exports = {}\n    if (typeof module !== 'undefined') savedmodule = module;\n    else module = {}\n\n    var tag = document.createElement('script');\n    tag.src = uri;\n    tag.async = true;\n    tag.onload = () => {\n        exports = savedexports;\n        module = savedmodule;\n        resolve();\n    };\n  var firstScriptTag = document.getElementsByTagName('script')[0];\n  firstScriptTag.parentNode.insertBefore(tag, firstScriptTag);\n});\n};\n\nif(typeof $3Dmolpromise === 'undefined') {\n$3Dmolpromise = null;\n  $3Dmolpromise = loadScriptAsync('https://cdnjs.cloudflare.com/ajax/libs/3Dmol/2.1.0/3Dmol-min.js');\n}\n\nvar viewer_17194010343690743 = null;\nvar warn = document.getElementById(\"3dmolwarning_17194010343690743\");\nif(warn) {\n    warn.parentNode.removeChild(warn);\n}\n$3Dmolpromise.then(function() {\nviewer_17194010343690743 = $3Dmol.createViewer(document.getElementById(\"3dmolviewer_17194010343690743\"),{backgroundColor:\"white\"});\nviewer_17194010343690743.zoomTo();\n\tviewer_17194010343690743.addModel(\"\\n     RDKit          3D\\n\\n 21 23  0  0  0  0  0  0  0  0999 V2000\\n    0.0775   -1.2601    0.6622 B   0  0  0  0  0  4  0  0  0  0  0  0\\n    1.2873   -0.5121    0.1678 N   0  0  0  0  0  0  0  0  0  0  0  0\\n    2.6101   -0.8723    0.2561 C   0  0  0  0  0  0  0  0  0  0  0  0\\n    3.3765    0.1066   -0.3267 C   0  0  0  0  0  0  0  0  0  0  0  0\\n    2.4773    1.0529   -0.7613 C   0  0  0  0  0  0  0  0  0  0  0  0\\n    1.1919    0.6600   -0.4505 C   0  0  0  0  0  0  0  0  0  0  0  0\\n   -0.1101    1.3026   -0.6912 C   0  0  0  0  0  0  0  0  0  0  0  0\\n   -1.2263    0.7188   -0.2917 C   0  0  0  0  0  0  0  0  0  0  0  0\\n   -1.2109   -0.5171    0.3668 N   0  0  0  0  0  4  0  0  0  0  0  0\\n   -2.4657   -0.8715    0.6547 C   0  0  0  0  0  0  0  0  0  0  0  0\\n   -3.3672    0.1576    0.1762 C   0  0  0  0  0  0  0  0  0  0  0  0\\n   -2.6494    1.1092   -0.3882 C   0  0  0  0  0  0  0  0  0  0  0  0\\n    0.1677   -1.3842    2.1273 F   0  0  0  0  0  0  0  0  0  0  0  0\\n   -0.0089   -2.6021    0.0717 F   0  0  0  0  0  0  0  0  0  0  0  0\\n    2.9289   -1.7878    0.7198 H   0  0  0  0  0  0  0  0  0  0  0  0\\n    4.4599    0.1073   -0.4122 H   0  0  0  0  0  0  0  0  0  0  0  0\\n    2.7468    1.9741   -1.2742 H   0  0  0  0  0  0  0  0  0  0  0  0\\n   -0.1600    2.2578   -1.1971 H   0  0  0  0  0  0  0  0  0  0  0  0\\n   -2.7124   -1.7989    1.1692 H   0  0  0  0  0  0  0  0  0  0  0  0\\n   -4.4478    0.1345    0.2735 H   0  0  0  0  0  0  0  0  0  0  0  0\\n   -2.9651    2.0248   -0.8522 H   0  0  0  0  0  0  0  0  0  0  0  0\\n  1  2  1  0\\n  2  3  1  0\\n  3  4  2  0\\n  4  5  1  0\\n  5  6  2  0\\n  6  7  1  0\\n  7  8  2  0\\n  8  9  1  0\\n  9 10  2  0\\n 10 11  1  0\\n 11 12  2  0\\n  1 13  1  0\\n  1 14  1  0\\n  9  1  1  0\\n  6  2  1  0\\n 12  8  1  0\\n  3 15  1  0\\n  4 16  1  0\\n  5 17  1  0\\n  7 18  1  0\\n 10 19  1  0\\n 11 20  1  0\\n 12 21  1  0\\nM  CHG  2   1  -1   9   1\\nM  END\\n\",\"mol\");\n\tviewer_17194010343690743.setStyle({\"stick\": {}, \"sphere\": {\"scale\": 0.3}});\n\tviewer_17194010343690743.addLabel(\"BODIPY RDKit Molecule\",{\"position\": {\"x\": -2, \"y\": -3, \"z\": 0}});\n\tviewer_17194010343690743.zoomTo();\nviewer_17194010343690743.render();\n});\n</script>",
      "text/html": [
       "<div id=\"3dmolviewer_17194010343690743\"  style=\"position: relative; width: 400px; height: 400px;\">\n",
       "        <p id=\"3dmolwarning_17194010343690743\" style=\"background-color:#ffcccc;color:black\">3Dmol.js failed to load for some reason.  Please check your browser console for error messages.<br></p>\n",
       "        </div>\n",
       "<script>\n",
       "\n",
       "var loadScriptAsync = function(uri){\n",
       "  return new Promise((resolve, reject) => {\n",
       "    //this is to ignore the existence of requirejs amd\n",
       "    var savedexports, savedmodule;\n",
       "    if (typeof exports !== 'undefined') savedexports = exports;\n",
       "    else exports = {}\n",
       "    if (typeof module !== 'undefined') savedmodule = module;\n",
       "    else module = {}\n",
       "\n",
       "    var tag = document.createElement('script');\n",
       "    tag.src = uri;\n",
       "    tag.async = true;\n",
       "    tag.onload = () => {\n",
       "        exports = savedexports;\n",
       "        module = savedmodule;\n",
       "        resolve();\n",
       "    };\n",
       "  var firstScriptTag = document.getElementsByTagName('script')[0];\n",
       "  firstScriptTag.parentNode.insertBefore(tag, firstScriptTag);\n",
       "});\n",
       "};\n",
       "\n",
       "if(typeof $3Dmolpromise === 'undefined') {\n",
       "$3Dmolpromise = null;\n",
       "  $3Dmolpromise = loadScriptAsync('https://cdnjs.cloudflare.com/ajax/libs/3Dmol/2.1.0/3Dmol-min.js');\n",
       "}\n",
       "\n",
       "var viewer_17194010343690743 = null;\n",
       "var warn = document.getElementById(\"3dmolwarning_17194010343690743\");\n",
       "if(warn) {\n",
       "    warn.parentNode.removeChild(warn);\n",
       "}\n",
       "$3Dmolpromise.then(function() {\n",
       "viewer_17194010343690743 = $3Dmol.createViewer(document.getElementById(\"3dmolviewer_17194010343690743\"),{backgroundColor:\"white\"});\n",
       "viewer_17194010343690743.zoomTo();\n",
       "\tviewer_17194010343690743.addModel(\"\\n     RDKit          3D\\n\\n 21 23  0  0  0  0  0  0  0  0999 V2000\\n    0.0775   -1.2601    0.6622 B   0  0  0  0  0  4  0  0  0  0  0  0\\n    1.2873   -0.5121    0.1678 N   0  0  0  0  0  0  0  0  0  0  0  0\\n    2.6101   -0.8723    0.2561 C   0  0  0  0  0  0  0  0  0  0  0  0\\n    3.3765    0.1066   -0.3267 C   0  0  0  0  0  0  0  0  0  0  0  0\\n    2.4773    1.0529   -0.7613 C   0  0  0  0  0  0  0  0  0  0  0  0\\n    1.1919    0.6600   -0.4505 C   0  0  0  0  0  0  0  0  0  0  0  0\\n   -0.1101    1.3026   -0.6912 C   0  0  0  0  0  0  0  0  0  0  0  0\\n   -1.2263    0.7188   -0.2917 C   0  0  0  0  0  0  0  0  0  0  0  0\\n   -1.2109   -0.5171    0.3668 N   0  0  0  0  0  4  0  0  0  0  0  0\\n   -2.4657   -0.8715    0.6547 C   0  0  0  0  0  0  0  0  0  0  0  0\\n   -3.3672    0.1576    0.1762 C   0  0  0  0  0  0  0  0  0  0  0  0\\n   -2.6494    1.1092   -0.3882 C   0  0  0  0  0  0  0  0  0  0  0  0\\n    0.1677   -1.3842    2.1273 F   0  0  0  0  0  0  0  0  0  0  0  0\\n   -0.0089   -2.6021    0.0717 F   0  0  0  0  0  0  0  0  0  0  0  0\\n    2.9289   -1.7878    0.7198 H   0  0  0  0  0  0  0  0  0  0  0  0\\n    4.4599    0.1073   -0.4122 H   0  0  0  0  0  0  0  0  0  0  0  0\\n    2.7468    1.9741   -1.2742 H   0  0  0  0  0  0  0  0  0  0  0  0\\n   -0.1600    2.2578   -1.1971 H   0  0  0  0  0  0  0  0  0  0  0  0\\n   -2.7124   -1.7989    1.1692 H   0  0  0  0  0  0  0  0  0  0  0  0\\n   -4.4478    0.1345    0.2735 H   0  0  0  0  0  0  0  0  0  0  0  0\\n   -2.9651    2.0248   -0.8522 H   0  0  0  0  0  0  0  0  0  0  0  0\\n  1  2  1  0\\n  2  3  1  0\\n  3  4  2  0\\n  4  5  1  0\\n  5  6  2  0\\n  6  7  1  0\\n  7  8  2  0\\n  8  9  1  0\\n  9 10  2  0\\n 10 11  1  0\\n 11 12  2  0\\n  1 13  1  0\\n  1 14  1  0\\n  9  1  1  0\\n  6  2  1  0\\n 12  8  1  0\\n  3 15  1  0\\n  4 16  1  0\\n  5 17  1  0\\n  7 18  1  0\\n 10 19  1  0\\n 11 20  1  0\\n 12 21  1  0\\nM  CHG  2   1  -1   9   1\\nM  END\\n\",\"mol\");\n",
       "\tviewer_17194010343690743.setStyle({\"stick\": {}, \"sphere\": {\"scale\": 0.3}});\n",
       "\tviewer_17194010343690743.addLabel(\"BODIPY RDKit Molecule\",{\"position\": {\"x\": -2, \"y\": -3, \"z\": 0}});\n",
       "\tviewer_17194010343690743.zoomTo();\n",
       "viewer_17194010343690743.render();\n",
       "});\n",
       "</script>"
      ]
     },
     "metadata": {},
     "output_type": "display_data"
    }
   ],
   "source": [
    "# 3D visualization\n",
    "mol_rdkit0 = mol_rdkit                    #crée une nouvelle variable mol_rdkit0 qui est une copie de mol_rdkit.\n",
    "                                           #Cette copie est nécessaire pour la visualisation 3D, car la fonction view3D() modifie l'objet molécule passé en argument.\n",
    "\n",
    "view3D(mol_rdkit0, f'{smi_key} RDKit Molecule')\n"
   ]
  },
  {
   "cell_type": "code",
   "execution_count": 8,
   "id": "17e2962b",
   "metadata": {},
   "outputs": [
    {
     "name": "stdout",
     "output_type": "stream",
     "text": [
      "21\n",
      "\n",
      "B      0.077540   -1.260063    0.662168\n",
      "N      1.287298   -0.512080    0.167762\n",
      "C      2.610063   -0.872251    0.256071\n",
      "C      3.376476    0.106602   -0.326730\n",
      "C      2.477341    1.052924   -0.761252\n",
      "C      1.191909    0.660042   -0.450475\n",
      "C     -0.110072    1.302633   -0.691166\n",
      "C     -1.226323    0.718760   -0.291707\n",
      "N     -1.210933   -0.517100    0.366848\n",
      "C     -2.465701   -0.871538    0.654737\n",
      "C     -3.367151    0.157580    0.176219\n",
      "C     -2.649449    1.109206   -0.388242\n",
      "F      0.167736   -1.384240    2.127318\n",
      "F     -0.008884   -2.602113    0.071666\n",
      "H      2.928855   -1.787844    0.719808\n",
      "H      4.459867    0.107265   -0.412239\n",
      "H      2.746806    1.974054   -1.274174\n",
      "H     -0.159997    2.257776   -1.197146\n",
      "H     -2.712431   -1.798886    1.169208\n",
      "H     -4.447832    0.134476    0.273536\n",
      "H     -2.965119    2.024799   -0.852211\n",
      "\n"
     ]
    }
   ],
   "source": [
    "# Convert RDKit molecule to XYZ format \n",
    "mol_xyz0 = Chem.MolToXYZBlock(mol_rdkit)    # Convertir  la molecule format XYZ \n",
    "print(mol_xyz0)"
   ]
  },
  {
   "cell_type": "markdown",
   "id": "a9479a28",
   "metadata": {},
   "source": [
    "Préoptimisation avec RDKIT \\\n",
    "visualisation 3D"
   ]
  },
  {
   "cell_type": "code",
   "execution_count": 9,
   "id": "62b80942",
   "metadata": {},
   "outputs": [
    {
     "data": {
      "application/3dmoljs_load.v0": "<div id=\"3dmolviewer_17194010344688072\"  style=\"position: relative; width: 400px; height: 400px;\">\n        <p id=\"3dmolwarning_17194010344688072\" style=\"background-color:#ffcccc;color:black\">3Dmol.js failed to load for some reason.  Please check your browser console for error messages.<br></p>\n        </div>\n<script>\n\nvar loadScriptAsync = function(uri){\n  return new Promise((resolve, reject) => {\n    //this is to ignore the existence of requirejs amd\n    var savedexports, savedmodule;\n    if (typeof exports !== 'undefined') savedexports = exports;\n    else exports = {}\n    if (typeof module !== 'undefined') savedmodule = module;\n    else module = {}\n\n    var tag = document.createElement('script');\n    tag.src = uri;\n    tag.async = true;\n    tag.onload = () => {\n        exports = savedexports;\n        module = savedmodule;\n        resolve();\n    };\n  var firstScriptTag = document.getElementsByTagName('script')[0];\n  firstScriptTag.parentNode.insertBefore(tag, firstScriptTag);\n});\n};\n\nif(typeof $3Dmolpromise === 'undefined') {\n$3Dmolpromise = null;\n  $3Dmolpromise = loadScriptAsync('https://cdnjs.cloudflare.com/ajax/libs/3Dmol/2.1.0/3Dmol-min.js');\n}\n\nvar viewer_17194010344688072 = null;\nvar warn = document.getElementById(\"3dmolwarning_17194010344688072\");\nif(warn) {\n    warn.parentNode.removeChild(warn);\n}\n$3Dmolpromise.then(function() {\nviewer_17194010344688072 = $3Dmol.createViewer(document.getElementById(\"3dmolviewer_17194010344688072\"),{backgroundColor:\"white\"});\nviewer_17194010344688072.zoomTo();\n\tviewer_17194010344688072.addModel(\"\\n     RDKit          3D\\n\\n 21 23  0  0  0  0  0  0  0  0999 V2000\\n    0.0496   -1.4247   -0.0058 B   0  0  0  0  0  4  0  0  0  0  0  0\\n    1.2798   -0.5563   -0.0048 N   0  0  0  0  0  0  0  0  0  0  0  0\\n    2.5983   -0.9420   -0.0055 C   0  0  0  0  0  0  0  0  0  0  0  0\\n    3.3891    0.1804   -0.0041 C   0  0  0  0  0  0  0  0  0  0  0  0\\n    2.5087    1.2376   -0.0026 C   0  0  0  0  0  0  0  0  0  0  0  0\\n    1.2106    0.7705   -0.0030 C   0  0  0  0  0  0  0  0  0  0  0  0\\n   -0.0807    1.4765   -0.0019 C   0  0  0  0  0  0  0  0  0  0  0  0\\n   -1.2134    0.7958   -0.0026 C   0  0  0  0  0  0  0  0  0  0  0  0\\n   -1.2259   -0.6046   -0.0045 N   0  0  0  0  0  4  0  0  0  0  0  0\\n   -2.4923   -1.0277   -0.0048 C   0  0  0  0  0  0  0  0  0  0  0  0\\n   -3.3732    0.1232   -0.0032 C   0  0  0  0  0  0  0  0  0  0  0  0\\n   -2.6319    1.2140   -0.0019 C   0  0  0  0  0  0  0  0  0  0  0  0\\n    0.0385   -2.2258    1.2305 F   0  0  0  0  0  0  0  0  0  0  0  0\\n    0.0250   -2.3287   -1.1631 F   0  0  0  0  0  0  0  0  0  0  0  0\\n    2.8974   -1.9743   -0.0069 H   0  0  0  0  0  0  0  0  0  0  0  0\\n    4.4757    0.1996   -0.0042 H   0  0  0  0  0  0  0  0  0  0  0  0\\n    2.7998    2.2862   -0.0012 H   0  0  0  0  0  0  0  0  0  0  0  0\\n   -0.1092    2.5582   -0.0005 H   0  0  0  0  0  0  0  0  0  0  0  0\\n   -2.7607   -2.0830   -0.0062 H   0  0  0  0  0  0  0  0  0  0  0  0\\n   -4.4576    0.0786   -0.0031 H   0  0  0  0  0  0  0  0  0  0  0  0\\n   -2.9278    2.2463   -0.0005 H   0  0  0  0  0  0  0  0  0  0  0  0\\n  1  2  1  0\\n  2  3  1  0\\n  3  4  2  0\\n  4  5  1  0\\n  5  6  2  0\\n  6  7  1  0\\n  7  8  2  0\\n  8  9  1  0\\n  9 10  2  0\\n 10 11  1  0\\n 11 12  2  0\\n  1 13  1  0\\n  1 14  1  0\\n  9  1  1  0\\n  6  2  1  0\\n 12  8  1  0\\n  3 15  1  0\\n  4 16  1  0\\n  5 17  1  0\\n  7 18  1  0\\n 10 19  1  0\\n 11 20  1  0\\n 12 21  1  0\\nM  CHG  2   1  -1   9   1\\nM  END\\n\",\"mol\");\n\tviewer_17194010344688072.setStyle({\"stick\": {}, \"sphere\": {\"scale\": 0.3}});\n\tviewer_17194010344688072.addLabel(\"BODIPY RDKit Molecule MMFF94\",{\"position\": {\"x\": -2, \"y\": -3, \"z\": 0}});\n\tviewer_17194010344688072.zoomTo();\nviewer_17194010344688072.render();\n});\n</script>",
      "text/html": [
       "<div id=\"3dmolviewer_17194010344688072\"  style=\"position: relative; width: 400px; height: 400px;\">\n",
       "        <p id=\"3dmolwarning_17194010344688072\" style=\"background-color:#ffcccc;color:black\">3Dmol.js failed to load for some reason.  Please check your browser console for error messages.<br></p>\n",
       "        </div>\n",
       "<script>\n",
       "\n",
       "var loadScriptAsync = function(uri){\n",
       "  return new Promise((resolve, reject) => {\n",
       "    //this is to ignore the existence of requirejs amd\n",
       "    var savedexports, savedmodule;\n",
       "    if (typeof exports !== 'undefined') savedexports = exports;\n",
       "    else exports = {}\n",
       "    if (typeof module !== 'undefined') savedmodule = module;\n",
       "    else module = {}\n",
       "\n",
       "    var tag = document.createElement('script');\n",
       "    tag.src = uri;\n",
       "    tag.async = true;\n",
       "    tag.onload = () => {\n",
       "        exports = savedexports;\n",
       "        module = savedmodule;\n",
       "        resolve();\n",
       "    };\n",
       "  var firstScriptTag = document.getElementsByTagName('script')[0];\n",
       "  firstScriptTag.parentNode.insertBefore(tag, firstScriptTag);\n",
       "});\n",
       "};\n",
       "\n",
       "if(typeof $3Dmolpromise === 'undefined') {\n",
       "$3Dmolpromise = null;\n",
       "  $3Dmolpromise = loadScriptAsync('https://cdnjs.cloudflare.com/ajax/libs/3Dmol/2.1.0/3Dmol-min.js');\n",
       "}\n",
       "\n",
       "var viewer_17194010344688072 = null;\n",
       "var warn = document.getElementById(\"3dmolwarning_17194010344688072\");\n",
       "if(warn) {\n",
       "    warn.parentNode.removeChild(warn);\n",
       "}\n",
       "$3Dmolpromise.then(function() {\n",
       "viewer_17194010344688072 = $3Dmol.createViewer(document.getElementById(\"3dmolviewer_17194010344688072\"),{backgroundColor:\"white\"});\n",
       "viewer_17194010344688072.zoomTo();\n",
       "\tviewer_17194010344688072.addModel(\"\\n     RDKit          3D\\n\\n 21 23  0  0  0  0  0  0  0  0999 V2000\\n    0.0496   -1.4247   -0.0058 B   0  0  0  0  0  4  0  0  0  0  0  0\\n    1.2798   -0.5563   -0.0048 N   0  0  0  0  0  0  0  0  0  0  0  0\\n    2.5983   -0.9420   -0.0055 C   0  0  0  0  0  0  0  0  0  0  0  0\\n    3.3891    0.1804   -0.0041 C   0  0  0  0  0  0  0  0  0  0  0  0\\n    2.5087    1.2376   -0.0026 C   0  0  0  0  0  0  0  0  0  0  0  0\\n    1.2106    0.7705   -0.0030 C   0  0  0  0  0  0  0  0  0  0  0  0\\n   -0.0807    1.4765   -0.0019 C   0  0  0  0  0  0  0  0  0  0  0  0\\n   -1.2134    0.7958   -0.0026 C   0  0  0  0  0  0  0  0  0  0  0  0\\n   -1.2259   -0.6046   -0.0045 N   0  0  0  0  0  4  0  0  0  0  0  0\\n   -2.4923   -1.0277   -0.0048 C   0  0  0  0  0  0  0  0  0  0  0  0\\n   -3.3732    0.1232   -0.0032 C   0  0  0  0  0  0  0  0  0  0  0  0\\n   -2.6319    1.2140   -0.0019 C   0  0  0  0  0  0  0  0  0  0  0  0\\n    0.0385   -2.2258    1.2305 F   0  0  0  0  0  0  0  0  0  0  0  0\\n    0.0250   -2.3287   -1.1631 F   0  0  0  0  0  0  0  0  0  0  0  0\\n    2.8974   -1.9743   -0.0069 H   0  0  0  0  0  0  0  0  0  0  0  0\\n    4.4757    0.1996   -0.0042 H   0  0  0  0  0  0  0  0  0  0  0  0\\n    2.7998    2.2862   -0.0012 H   0  0  0  0  0  0  0  0  0  0  0  0\\n   -0.1092    2.5582   -0.0005 H   0  0  0  0  0  0  0  0  0  0  0  0\\n   -2.7607   -2.0830   -0.0062 H   0  0  0  0  0  0  0  0  0  0  0  0\\n   -4.4576    0.0786   -0.0031 H   0  0  0  0  0  0  0  0  0  0  0  0\\n   -2.9278    2.2463   -0.0005 H   0  0  0  0  0  0  0  0  0  0  0  0\\n  1  2  1  0\\n  2  3  1  0\\n  3  4  2  0\\n  4  5  1  0\\n  5  6  2  0\\n  6  7  1  0\\n  7  8  2  0\\n  8  9  1  0\\n  9 10  2  0\\n 10 11  1  0\\n 11 12  2  0\\n  1 13  1  0\\n  1 14  1  0\\n  9  1  1  0\\n  6  2  1  0\\n 12  8  1  0\\n  3 15  1  0\\n  4 16  1  0\\n  5 17  1  0\\n  7 18  1  0\\n 10 19  1  0\\n 11 20  1  0\\n 12 21  1  0\\nM  CHG  2   1  -1   9   1\\nM  END\\n\",\"mol\");\n",
       "\tviewer_17194010344688072.setStyle({\"stick\": {}, \"sphere\": {\"scale\": 0.3}});\n",
       "\tviewer_17194010344688072.addLabel(\"BODIPY RDKit Molecule MMFF94\",{\"position\": {\"x\": -2, \"y\": -3, \"z\": 0}});\n",
       "\tviewer_17194010344688072.zoomTo();\n",
       "viewer_17194010344688072.render();\n",
       "});\n",
       "</script>"
      ]
     },
     "metadata": {},
     "output_type": "display_data"
    }
   ],
   "source": [
    "from rdkit.Chem import AllChem\n",
    "\n",
    "# Optimizes the 3D conformation of the molecule using MMFF - Merck Molecular Force Field\n",
    "AllChem.MMFFOptimizeMolecule(mol_rdkit, maxIters=200, mmffVariant=\"MMFF94s\")   # utiliser 200 itérations et la variante MMFF94s\n",
    "\n",
    "#Canonicalize the orientation of the conformation\n",
    "Chem.rdMolTransforms.CanonicalizeMol(mol_rdkit, normalizeCovar=True, ignoreHs=False)\n",
    "\n",
    "# 3D visualization\n",
    "mol_rdkit1 = mol_rdkit\n",
    "view3D(mol_rdkit1, f'{smi_key} RDKit Molecule MMFF94')\n"
   ]
  },
  {
   "cell_type": "code",
   "execution_count": 10,
   "id": "8cf02861",
   "metadata": {},
   "outputs": [
    {
     "name": "stdout",
     "output_type": "stream",
     "text": [
      "B      0.077540   -1.260063    0.662168\n",
      "N      1.287298   -0.512080    0.167762\n",
      "C      2.610063   -0.872251    0.256071\n",
      "C      3.376476    0.106602   -0.326730\n",
      "C      2.477341    1.052924   -0.761252\n",
      "C      1.191909    0.660042   -0.450475\n",
      "C     -0.110072    1.302633   -0.691166\n",
      "C     -1.226323    0.718760   -0.291707\n",
      "N     -1.210933   -0.517100    0.366848\n",
      "C     -2.465701   -0.871538    0.654737\n",
      "C     -3.367151    0.157580    0.176219\n",
      "C     -2.649449    1.109206   -0.388242\n",
      "F      0.167736   -1.384240    2.127318\n",
      "F     -0.008884   -2.602113    0.071666\n",
      "H      2.928855   -1.787844    0.719808\n",
      "H      4.459867    0.107265   -0.412239\n",
      "H      2.746806    1.974054   -1.274174\n",
      "H     -0.159997    2.257776   -1.197146\n",
      "H     -2.712431   -1.798886    1.169208\n",
      "H     -4.447832    0.134476    0.273536\n",
      "H     -2.965119    2.024799   -0.852211\n"
     ]
    }
   ],
   "source": [
    "# Convert RDKit molecule to XYZ format \n",
    "mol_xyz1 = Chem.MolToXYZBlock(mol_rdkit)    # Convertir  la molecule format XYZ \n",
    "# Remove the first two lines (number of atoms and empty line) from XYZ data\n",
    "mol_xyz1 = '\\n'.join(mol_xyz0.strip().split('\\n')[2:]) \n",
    "# Check that the xyz file is valide for the next step (pyscf.gto)\n",
    "print(mol_xyz1)"
   ]
  },
  {
   "cell_type": "code",
   "execution_count": 13,
   "id": "452cd579",
   "metadata": {},
   "outputs": [],
   "source": [
    "from tangelo import SecondQuantizedMolecule as SQMol\n",
    "from tangelo.helpers.utils import is_package_installed"
   ]
  },
  {
   "cell_type": "markdown",
   "id": "34764d39",
   "metadata": {},
   "source": [
    "Creation de l'objet mole"
   ]
  },
  {
   "cell_type": "code",
   "execution_count": 14,
   "id": "059a9dc8",
   "metadata": {},
   "outputs": [
    {
     "name": "stdout",
     "output_type": "stream",
     "text": [
      "active molecular orbitals : 126 \n",
      "active electrons : 70 \n",
      "active molecular orbitals triplet : 126 \n",
      "active electrons triplet: 70 \n"
     ]
    }
   ],
   "source": [
    "thiazole_321g = SQMol(mol_xyz1, q=0, spin=0, basis=\"3-21g\")\n",
    "print(f\"active molecular orbitals : {thiazole_321g.n_active_mos} \")\n",
    "print(f\"active electrons : {thiazole_321g.n_active_electrons} \")\n",
    "\n",
    "# objet mol pour l'etat triplet\n",
    "thiazole_321g_t = SQMol(mol_xyz1, q=0, spin=2, basis=\"3-21g\")\n",
    "print(f\"active molecular orbitals triplet : {thiazole_321g_t.n_active_mos} \")\n",
    "print(f\"active electrons triplet: {thiazole_321g_t.n_active_electrons} \")"
   ]
  },
  {
   "cell_type": "code",
   "execution_count": 15,
   "id": "02f0432f",
   "metadata": {},
   "outputs": [],
   "source": [
    "import dftd4.pyscf as disp\n",
    "from pyscf import solvent\n",
    "\n",
    "\n",
    "mf = thiazole_321g.mean_field\n",
    "# Utiliser la méthode \"ddCOSMO\" de l'objet \"solvent\"\n",
    "mf = mf.run().ddCOSMO()\n",
    "mf.with_solvent.eps = 2.3741   # Toluene\n",
    "mf = disp.energy(mf).run()\n",
    "\n",
    "\n",
    "mf_t = thiazole_321g_t.mean_field\n",
    "mf_t = mf_t.run().ddCOSMO()\n",
    "mf_t.with_solvent.eps = 2.3741   # Toluene\n",
    "mf_t = disp.energy(mf_t).run()"
   ]
  },
  {
   "cell_type": "code",
   "execution_count": 14,
   "id": "903bc72c",
   "metadata": {},
   "outputs": [],
   "source": [
    "#mf.analyze(verbose=5)\n",
    "#mf_t.analyse(verbose=5)"
   ]
  },
  {
   "cell_type": "code",
   "execution_count": 16,
   "id": "455840ba",
   "metadata": {},
   "outputs": [
    {
     "name": "stdout",
     "output_type": "stream",
     "text": [
      "indice homo : 48 \n",
      " indice lumo: 49 \n",
      "le nombre orbitales moleculaire est :140\n",
      "indice homo triplet : 49 \n",
      " indice lumo triplet: 50 \n",
      "le nombre orbitales moleculaire triplet est :140\n"
     ]
    }
   ],
   "source": [
    "n_lumo = thiazole_321g.mo_occ.tolist().index(0.)\n",
    "n_homo = n_lumo - 1\n",
    "print(f\"indice homo : {n_homo} \")\n",
    "print(f\" indice lumo: {n_lumo} \")\n",
    "\n",
    "n_molecular_orb = thiazole_321g.n_mos\n",
    "print(f'le nombre orbitales moleculaire est :{n_molecular_orb}')\n",
    "\n",
    "\n",
    "\n",
    "#indices homo et lumo triplet\n",
    "n_lumo_t = thiazole_321g_t.mo_occ.tolist().index(0.)\n",
    "n_homo_t = n_lumo_t - 1\n",
    "print(f\"indice homo triplet : {n_homo_t} \")\n",
    "print(f\" indice lumo triplet: {n_lumo_t} \")\n",
    "\n",
    "n_molecular_orb_t = thiazole_321g_t.n_mos\n",
    "print(f'le nombre orbitales moleculaire triplet est :{n_molecular_orb_t}')\n"
   ]
  },
  {
   "cell_type": "markdown",
   "id": "fd289539",
   "metadata": {},
   "source": [
    "Hamiltonien"
   ]
  },
  {
   "cell_type": "code",
   "execution_count": 17,
   "id": "578f3eef",
   "metadata": {},
   "outputs": [
    {
     "name": "stdout",
     "output_type": "stream",
     "text": [
      "2 active molecular orbitals\n",
      "2 active electrons\n",
      "2 active molecular orbitals triplet\n",
      "2 active electrons triplet\n"
     ]
    }
   ],
   "source": [
    "from tangelo.toolboxes.molecular_computation.frozen_orbitals import get_orbitals_excluding_homo_lumo\n",
    "\n",
    "# Selecting HOMO to LUMO orbitals.\n",
    "frozen = get_orbitals_excluding_homo_lumo(thiazole_321g, homo_minus_n=0, lumo_plus_n=0)\n",
    "\n",
    "thiazole_321g_frozen = SQMol(mol_xyz1, q=0, spin=0,\n",
    "                                            basis=\"3-21g\",\n",
    "                                            frozen_orbitals=frozen)\n",
    "print(f\"{thiazole_321g_frozen.n_active_mos} active molecular orbitals\")\n",
    "print(f\"{thiazole_321g_frozen.n_active_electrons} active electrons\")\n",
    "\n",
    "\n",
    "\n",
    "# Selecting HOMO to LUMO orbitals.\n",
    "frozen_t = get_orbitals_excluding_homo_lumo(thiazole_321g, homo_minus_n=0, lumo_plus_n=0)\n",
    "\n",
    "thiazole_321g_frozen_t = SQMol(mol_xyz1, q=0, spin=2,\n",
    "                                            basis=\"3-21g\",\n",
    "                                            frozen_orbitals=frozen_t)\n",
    "print(f\"{thiazole_321g_frozen_t.n_active_mos} active molecular orbitals triplet\")\n",
    "print(f\"{thiazole_321g_frozen_t.n_active_electrons} active electrons triplet\")"
   ]
  },
  {
   "cell_type": "code",
   "execution_count": 18,
   "id": "fcef62a9",
   "metadata": {},
   "outputs": [
    {
     "ename": "",
     "evalue": "",
     "output_type": "error",
     "traceback": [
      "\u001b[1;31mCannot execute code, session has been disposed. Please try restarting the Kernel."
     ]
    },
    {
     "ename": "",
     "evalue": "",
     "output_type": "error",
     "traceback": [
      "\u001b[1;31mThe Kernel crashed while executing code in the the current cell or a previous cell. Please review the code in the cell(s) to identify a possible cause of the failure. Click <a href='https://aka.ms/vscodeJupyterKernelCrash'>here</a> for more info. View Jupyter <a href='command:jupyter.viewOutput'>log</a> for further details."
     ]
    }
   ],
   "source": [
    "from tangelo.toolboxes.qubit_mappings.mapping_transform import fermion_to_qubit_mapping\n",
    "from tangelo.toolboxes.operators import count_qubits\n",
    "from tangelo.toolboxes.operators.taper_qubits import QubitTapering\n",
    "\n",
    "#singulet\n",
    "hamiltonian = fermion_to_qubit_mapping(thiazole_321g_frozen.fermionic_hamiltonian, \"JW\")\n",
    "n_qubits = count_qubits(hamiltonian)\n",
    "taper = QubitTapering(hamiltonian, n_qubits,\n",
    "                      n_electrons=thiazole_321g_frozen.n_active_electrons)\n",
    "hamiltonian_taper = taper.z2_tapered_op\n",
    "n_qubits_tapered = count_qubits(hamiltonian_taper)\n",
    "\n",
    "print(f\"Number of qubits: {n_qubits}\")\n",
    "print(f\"Number of qubits after tapering: {n_qubits_tapered}\")\n",
    "print(f\"{n_qubits - n_qubits_tapered} Z2 symmetries detected\")\n",
    "\n",
    "\n",
    "# triplet\n",
    "hamiltonian_t = fermion_to_qubit_mapping(thiazole_321g_frozen_t.fermionic_hamiltonian, \"JW\")\n",
    "n_qubits_t = count_qubits(hamiltonian_t)\n",
    "taper_t = QubitTapering(hamiltonian_t, n_qubits_t,\n",
    "                      n_electrons=thiazole_321g_frozen_t.n_active_electrons)\n",
    "hamiltonian_taper_t = taper_t.z2_tapered_op\n",
    "n_qubits_tapered_t = count_qubits(hamiltonian_taper_t)\n",
    "\n",
    "print(f\"Number of qubits triplet: {n_qubits}\")\n",
    "print(f\"Number of qubits triplet after tapering: {n_qubits_tapered}\")\n",
    "print(f\"{n_qubits_t - n_qubits_tapered_t} Z2 symmetries t detected\")\n"
   ]
  },
  {
   "cell_type": "markdown",
   "id": "6a7c5872",
   "metadata": {},
   "source": [
    "Calcul vqe"
   ]
  },
  {
   "cell_type": "code",
   "execution_count": 18,
   "id": "8410cf27",
   "metadata": {},
   "outputs": [
    {
     "ename": "KeyboardInterrupt",
     "evalue": "",
     "output_type": "error",
     "traceback": [
      "\u001b[0;31m---------------------------------------------------------------------------\u001b[0m",
      "\u001b[0;31mKeyboardInterrupt\u001b[0m                         Traceback (most recent call last)",
      "Cell \u001b[0;32mIn[18], line 11\u001b[0m\n\u001b[1;32m      9\u001b[0m vqe_solver \u001b[39m=\u001b[39m VQESolver(vqe_options)\n\u001b[1;32m     10\u001b[0m vqe_solver\u001b[39m.\u001b[39mbuild()\n\u001b[0;32m---> 11\u001b[0m vqe_energy \u001b[39m=\u001b[39m vqe_solver\u001b[39m.\u001b[39msimulate()\n\u001b[1;32m     12\u001b[0m \u001b[39mprint\u001b[39m(\u001b[39m\"\u001b[39m\u001b[39m\\n\u001b[39;00m\u001b[39m Ground Singlet state\u001b[39m\u001b[39m\"\u001b[39m)\n\u001b[1;32m     13\u001b[0m \u001b[39mprint\u001b[39m(\u001b[39mf\u001b[39m\u001b[39m\"\u001b[39m\u001b[39mVQE energy = \u001b[39m\u001b[39m{\u001b[39;00mvqe_energy\u001b[39m}\u001b[39;00m\u001b[39m\"\u001b[39m)\n",
      "File \u001b[0;32m~/anaconda3/lib/python3.11/site-packages/tangelo/algorithms/variational/vqe_solver.py:259\u001b[0m, in \u001b[0;36mVQESolver.simulate\u001b[0;34m(self)\u001b[0m\n\u001b[1;32m    256\u001b[0m \u001b[39mif\u001b[39;00m \u001b[39mlen\u001b[39m(\u001b[39mself\u001b[39m\u001b[39m.\u001b[39mansatz\u001b[39m.\u001b[39mcircuit\u001b[39m.\u001b[39m_variational_gates) \u001b[39m==\u001b[39m \u001b[39m0\u001b[39m:\n\u001b[1;32m    257\u001b[0m     \u001b[39mraise\u001b[39;00m \u001b[39mRuntimeError\u001b[39;00m(\u001b[39m\"\u001b[39m\u001b[39mNo variational gate found in the circuit.\u001b[39m\u001b[39m\"\u001b[39m)\n\u001b[0;32m--> 259\u001b[0m optimal_energy, optimal_var_params \u001b[39m=\u001b[39m \u001b[39mself\u001b[39m\u001b[39m.\u001b[39moptimizer(\u001b[39mself\u001b[39m\u001b[39m.\u001b[39menergy_estimation, \u001b[39mself\u001b[39m\u001b[39m.\u001b[39minitial_var_params)\n\u001b[1;32m    261\u001b[0m \u001b[39mself\u001b[39m\u001b[39m.\u001b[39moptimal_var_params \u001b[39m=\u001b[39m optimal_var_params\n\u001b[1;32m    262\u001b[0m \u001b[39mself\u001b[39m\u001b[39m.\u001b[39moptimal_energy \u001b[39m=\u001b[39m optimal_energy\n",
      "File \u001b[0;32m~/anaconda3/lib/python3.11/site-packages/tangelo/algorithms/variational/vqe_solver.py:709\u001b[0m, in \u001b[0;36mVQESolver._default_optimizer\u001b[0;34m(self, func, var_params)\u001b[0m\n\u001b[1;32m    706\u001b[0m \u001b[39mfrom\u001b[39;00m \u001b[39mscipy\u001b[39;00m\u001b[39m.\u001b[39;00m\u001b[39moptimize\u001b[39;00m \u001b[39mimport\u001b[39;00m minimize\n\u001b[1;32m    708\u001b[0m \u001b[39mwith\u001b[39;00m HiddenPrints() \u001b[39mif\u001b[39;00m \u001b[39mnot\u001b[39;00m \u001b[39mself\u001b[39m\u001b[39m.\u001b[39mverbose \u001b[39melse\u001b[39;00m nullcontext():\n\u001b[0;32m--> 709\u001b[0m     result \u001b[39m=\u001b[39m minimize(func, var_params, method\u001b[39m=\u001b[39m\u001b[39m\"\u001b[39m\u001b[39mSLSQP\u001b[39m\u001b[39m\"\u001b[39m,\n\u001b[1;32m    710\u001b[0m                       options\u001b[39m=\u001b[39m{\u001b[39m\"\u001b[39m\u001b[39mdisp\u001b[39m\u001b[39m\"\u001b[39m: \u001b[39mTrue\u001b[39;00m, \u001b[39m\"\u001b[39m\u001b[39mmaxiter\u001b[39m\u001b[39m\"\u001b[39m: \u001b[39m2000\u001b[39m, \u001b[39m\"\u001b[39m\u001b[39meps\u001b[39m\u001b[39m\"\u001b[39m: \u001b[39m1e-5\u001b[39m, \u001b[39m\"\u001b[39m\u001b[39mftol\u001b[39m\u001b[39m\"\u001b[39m: \u001b[39m1e-5\u001b[39m})\n\u001b[1;32m    712\u001b[0m \u001b[39mif\u001b[39;00m \u001b[39mself\u001b[39m\u001b[39m.\u001b[39mverbose:\n\u001b[1;32m    713\u001b[0m     \u001b[39mprint\u001b[39m(\u001b[39mf\u001b[39m\u001b[39m\"\u001b[39m\u001b[39mVQESolver optimization results:\u001b[39m\u001b[39m\"\u001b[39m)\n",
      "File \u001b[0;32m~/anaconda3/lib/python3.11/site-packages/scipy/optimize/_minimize.py:719\u001b[0m, in \u001b[0;36mminimize\u001b[0;34m(fun, x0, args, method, jac, hess, hessp, bounds, constraints, tol, callback, options)\u001b[0m\n\u001b[1;32m    716\u001b[0m     res \u001b[39m=\u001b[39m _minimize_cobyla(fun, x0, args, constraints, callback\u001b[39m=\u001b[39mcallback,\n\u001b[1;32m    717\u001b[0m                            bounds\u001b[39m=\u001b[39mbounds, \u001b[39m*\u001b[39m\u001b[39m*\u001b[39moptions)\n\u001b[1;32m    718\u001b[0m \u001b[39melif\u001b[39;00m meth \u001b[39m==\u001b[39m \u001b[39m'\u001b[39m\u001b[39mslsqp\u001b[39m\u001b[39m'\u001b[39m:\n\u001b[0;32m--> 719\u001b[0m     res \u001b[39m=\u001b[39m _minimize_slsqp(fun, x0, args, jac, bounds,\n\u001b[1;32m    720\u001b[0m                           constraints, callback\u001b[39m=\u001b[39mcallback, \u001b[39m*\u001b[39m\u001b[39m*\u001b[39moptions)\n\u001b[1;32m    721\u001b[0m \u001b[39melif\u001b[39;00m meth \u001b[39m==\u001b[39m \u001b[39m'\u001b[39m\u001b[39mtrust-constr\u001b[39m\u001b[39m'\u001b[39m:\n\u001b[1;32m    722\u001b[0m     res \u001b[39m=\u001b[39m _minimize_trustregion_constr(fun, x0, args, jac, hess, hessp,\n\u001b[1;32m    723\u001b[0m                                        bounds, constraints,\n\u001b[1;32m    724\u001b[0m                                        callback\u001b[39m=\u001b[39mcallback, \u001b[39m*\u001b[39m\u001b[39m*\u001b[39moptions)\n",
      "File \u001b[0;32m~/anaconda3/lib/python3.11/site-packages/scipy/optimize/_slsqp_py.py:374\u001b[0m, in \u001b[0;36m_minimize_slsqp\u001b[0;34m(func, x0, args, jac, bounds, constraints, maxiter, ftol, iprint, disp, eps, callback, finite_diff_rel_step, **unknown_options)\u001b[0m\n\u001b[1;32m    371\u001b[0m     xu[infbnd[:, \u001b[39m1\u001b[39m]] \u001b[39m=\u001b[39m np\u001b[39m.\u001b[39mnan\n\u001b[1;32m    373\u001b[0m \u001b[39m# ScalarFunction provides function and gradient evaluation\u001b[39;00m\n\u001b[0;32m--> 374\u001b[0m sf \u001b[39m=\u001b[39m _prepare_scalar_function(func, x, jac\u001b[39m=\u001b[39mjac, args\u001b[39m=\u001b[39margs, epsilon\u001b[39m=\u001b[39meps,\n\u001b[1;32m    375\u001b[0m                               finite_diff_rel_step\u001b[39m=\u001b[39mfinite_diff_rel_step,\n\u001b[1;32m    376\u001b[0m                               bounds\u001b[39m=\u001b[39mnew_bounds)\n\u001b[1;32m    377\u001b[0m \u001b[39m# gh11403 SLSQP sometimes exceeds bounds by 1 or 2 ULP, make sure this\u001b[39;00m\n\u001b[1;32m    378\u001b[0m \u001b[39m# doesn't get sent to the func/grad evaluator.\u001b[39;00m\n\u001b[1;32m    379\u001b[0m wrapped_fun \u001b[39m=\u001b[39m _clip_x_for_func(sf\u001b[39m.\u001b[39mfun, new_bounds)\n",
      "File \u001b[0;32m~/anaconda3/lib/python3.11/site-packages/scipy/optimize/_optimize.py:383\u001b[0m, in \u001b[0;36m_prepare_scalar_function\u001b[0;34m(fun, x0, jac, args, bounds, epsilon, finite_diff_rel_step, hess)\u001b[0m\n\u001b[1;32m    379\u001b[0m     bounds \u001b[39m=\u001b[39m (\u001b[39m-\u001b[39mnp\u001b[39m.\u001b[39minf, np\u001b[39m.\u001b[39minf)\n\u001b[1;32m    381\u001b[0m \u001b[39m# ScalarFunction caches. Reuse of fun(x) during grad\u001b[39;00m\n\u001b[1;32m    382\u001b[0m \u001b[39m# calculation reduces overall function evaluations.\u001b[39;00m\n\u001b[0;32m--> 383\u001b[0m sf \u001b[39m=\u001b[39m ScalarFunction(fun, x0, args, grad, hess,\n\u001b[1;32m    384\u001b[0m                     finite_diff_rel_step, bounds, epsilon\u001b[39m=\u001b[39mepsilon)\n\u001b[1;32m    386\u001b[0m \u001b[39mreturn\u001b[39;00m sf\n",
      "File \u001b[0;32m~/anaconda3/lib/python3.11/site-packages/scipy/optimize/_differentiable_functions.py:177\u001b[0m, in \u001b[0;36mScalarFunction.__init__\u001b[0;34m(self, fun, x0, args, grad, hess, finite_diff_rel_step, finite_diff_bounds, epsilon)\u001b[0m\n\u001b[1;32m    173\u001b[0m         \u001b[39mself\u001b[39m\u001b[39m.\u001b[39mg \u001b[39m=\u001b[39m approx_derivative(fun_wrapped, \u001b[39mself\u001b[39m\u001b[39m.\u001b[39mx, f0\u001b[39m=\u001b[39m\u001b[39mself\u001b[39m\u001b[39m.\u001b[39mf,\n\u001b[1;32m    174\u001b[0m                                    \u001b[39m*\u001b[39m\u001b[39m*\u001b[39mfinite_diff_options)\n\u001b[1;32m    176\u001b[0m \u001b[39mself\u001b[39m\u001b[39m.\u001b[39m_update_grad_impl \u001b[39m=\u001b[39m update_grad\n\u001b[0;32m--> 177\u001b[0m \u001b[39mself\u001b[39m\u001b[39m.\u001b[39m_update_grad()\n\u001b[1;32m    179\u001b[0m \u001b[39m# Hessian Evaluation\u001b[39;00m\n\u001b[1;32m    180\u001b[0m \u001b[39mif\u001b[39;00m \u001b[39mcallable\u001b[39m(hess):\n",
      "File \u001b[0;32m~/anaconda3/lib/python3.11/site-packages/scipy/optimize/_differentiable_functions.py:256\u001b[0m, in \u001b[0;36mScalarFunction._update_grad\u001b[0;34m(self)\u001b[0m\n\u001b[1;32m    254\u001b[0m \u001b[39mdef\u001b[39;00m \u001b[39m_update_grad\u001b[39m(\u001b[39mself\u001b[39m):\n\u001b[1;32m    255\u001b[0m     \u001b[39mif\u001b[39;00m \u001b[39mnot\u001b[39;00m \u001b[39mself\u001b[39m\u001b[39m.\u001b[39mg_updated:\n\u001b[0;32m--> 256\u001b[0m         \u001b[39mself\u001b[39m\u001b[39m.\u001b[39m_update_grad_impl()\n\u001b[1;32m    257\u001b[0m         \u001b[39mself\u001b[39m\u001b[39m.\u001b[39mg_updated \u001b[39m=\u001b[39m \u001b[39mTrue\u001b[39;00m\n",
      "File \u001b[0;32m~/anaconda3/lib/python3.11/site-packages/scipy/optimize/_differentiable_functions.py:173\u001b[0m, in \u001b[0;36mScalarFunction.__init__.<locals>.update_grad\u001b[0;34m()\u001b[0m\n\u001b[1;32m    171\u001b[0m \u001b[39mself\u001b[39m\u001b[39m.\u001b[39m_update_fun()\n\u001b[1;32m    172\u001b[0m \u001b[39mself\u001b[39m\u001b[39m.\u001b[39mngev \u001b[39m+\u001b[39m\u001b[39m=\u001b[39m \u001b[39m1\u001b[39m\n\u001b[0;32m--> 173\u001b[0m \u001b[39mself\u001b[39m\u001b[39m.\u001b[39mg \u001b[39m=\u001b[39m approx_derivative(fun_wrapped, \u001b[39mself\u001b[39m\u001b[39m.\u001b[39mx, f0\u001b[39m=\u001b[39m\u001b[39mself\u001b[39m\u001b[39m.\u001b[39mf,\n\u001b[1;32m    174\u001b[0m                            \u001b[39m*\u001b[39m\u001b[39m*\u001b[39mfinite_diff_options)\n",
      "File \u001b[0;32m~/anaconda3/lib/python3.11/site-packages/scipy/optimize/_numdiff.py:505\u001b[0m, in \u001b[0;36mapprox_derivative\u001b[0;34m(fun, x0, method, rel_step, abs_step, f0, bounds, sparsity, as_linear_operator, args, kwargs)\u001b[0m\n\u001b[1;32m    502\u001b[0m     use_one_sided \u001b[39m=\u001b[39m \u001b[39mFalse\u001b[39;00m\n\u001b[1;32m    504\u001b[0m \u001b[39mif\u001b[39;00m sparsity \u001b[39mis\u001b[39;00m \u001b[39mNone\u001b[39;00m:\n\u001b[0;32m--> 505\u001b[0m     \u001b[39mreturn\u001b[39;00m _dense_difference(fun_wrapped, x0, f0, h,\n\u001b[1;32m    506\u001b[0m                              use_one_sided, method)\n\u001b[1;32m    507\u001b[0m \u001b[39melse\u001b[39;00m:\n\u001b[1;32m    508\u001b[0m     \u001b[39mif\u001b[39;00m \u001b[39mnot\u001b[39;00m issparse(sparsity) \u001b[39mand\u001b[39;00m \u001b[39mlen\u001b[39m(sparsity) \u001b[39m==\u001b[39m \u001b[39m2\u001b[39m:\n",
      "File \u001b[0;32m~/anaconda3/lib/python3.11/site-packages/scipy/optimize/_numdiff.py:576\u001b[0m, in \u001b[0;36m_dense_difference\u001b[0;34m(fun, x0, f0, h, use_one_sided, method)\u001b[0m\n\u001b[1;32m    574\u001b[0m     x \u001b[39m=\u001b[39m x0 \u001b[39m+\u001b[39m h_vecs[i]\n\u001b[1;32m    575\u001b[0m     dx \u001b[39m=\u001b[39m x[i] \u001b[39m-\u001b[39m x0[i]  \u001b[39m# Recompute dx as exactly representable number.\u001b[39;00m\n\u001b[0;32m--> 576\u001b[0m     df \u001b[39m=\u001b[39m fun(x) \u001b[39m-\u001b[39m f0\n\u001b[1;32m    577\u001b[0m \u001b[39melif\u001b[39;00m method \u001b[39m==\u001b[39m \u001b[39m'\u001b[39m\u001b[39m3-point\u001b[39m\u001b[39m'\u001b[39m \u001b[39mand\u001b[39;00m use_one_sided[i]:\n\u001b[1;32m    578\u001b[0m     x1 \u001b[39m=\u001b[39m x0 \u001b[39m+\u001b[39m h_vecs[i]\n",
      "File \u001b[0;32m~/anaconda3/lib/python3.11/site-packages/scipy/optimize/_numdiff.py:456\u001b[0m, in \u001b[0;36mapprox_derivative.<locals>.fun_wrapped\u001b[0;34m(x)\u001b[0m\n\u001b[1;32m    455\u001b[0m \u001b[39mdef\u001b[39;00m \u001b[39mfun_wrapped\u001b[39m(x):\n\u001b[0;32m--> 456\u001b[0m     f \u001b[39m=\u001b[39m np\u001b[39m.\u001b[39matleast_1d(fun(x, \u001b[39m*\u001b[39margs, \u001b[39m*\u001b[39m\u001b[39m*\u001b[39mkwargs))\n\u001b[1;32m    457\u001b[0m     \u001b[39mif\u001b[39;00m f\u001b[39m.\u001b[39mndim \u001b[39m>\u001b[39m \u001b[39m1\u001b[39m:\n\u001b[1;32m    458\u001b[0m         \u001b[39mraise\u001b[39;00m \u001b[39mRuntimeError\u001b[39;00m(\u001b[39m\"\u001b[39m\u001b[39m`fun` return value has \u001b[39m\u001b[39m\"\u001b[39m\n\u001b[1;32m    459\u001b[0m                            \u001b[39m\"\u001b[39m\u001b[39mmore than 1 dimension.\u001b[39m\u001b[39m\"\u001b[39m)\n",
      "File \u001b[0;32m~/anaconda3/lib/python3.11/site-packages/scipy/optimize/_differentiable_functions.py:137\u001b[0m, in \u001b[0;36mScalarFunction.__init__.<locals>.fun_wrapped\u001b[0;34m(x)\u001b[0m\n\u001b[1;32m    133\u001b[0m \u001b[39mself\u001b[39m\u001b[39m.\u001b[39mnfev \u001b[39m+\u001b[39m\u001b[39m=\u001b[39m \u001b[39m1\u001b[39m\n\u001b[1;32m    134\u001b[0m \u001b[39m# Send a copy because the user may overwrite it.\u001b[39;00m\n\u001b[1;32m    135\u001b[0m \u001b[39m# Overwriting results in undefined behaviour because\u001b[39;00m\n\u001b[1;32m    136\u001b[0m \u001b[39m# fun(self.x) will change self.x, with the two no longer linked.\u001b[39;00m\n\u001b[0;32m--> 137\u001b[0m fx \u001b[39m=\u001b[39m fun(np\u001b[39m.\u001b[39mcopy(x), \u001b[39m*\u001b[39margs)\n\u001b[1;32m    138\u001b[0m \u001b[39m# Make sure the function returns a true scalar\u001b[39;00m\n\u001b[1;32m    139\u001b[0m \u001b[39mif\u001b[39;00m \u001b[39mnot\u001b[39;00m np\u001b[39m.\u001b[39misscalar(fx):\n",
      "File \u001b[0;32m~/anaconda3/lib/python3.11/site-packages/tangelo/algorithms/variational/vqe_solver.py:309\u001b[0m, in \u001b[0;36mVQESolver.energy_estimation\u001b[0;34m(self, var_params)\u001b[0m\n\u001b[1;32m    307\u001b[0m \u001b[39mif\u001b[39;00m \u001b[39mself\u001b[39m\u001b[39m.\u001b[39mprojective_circuit:\n\u001b[1;32m    308\u001b[0m     circuit \u001b[39m+\u001b[39m\u001b[39m=\u001b[39m \u001b[39mself\u001b[39m\u001b[39m.\u001b[39mprojective_circuit\n\u001b[0;32m--> 309\u001b[0m energy \u001b[39m=\u001b[39m \u001b[39mself\u001b[39m\u001b[39m.\u001b[39mbackend\u001b[39m.\u001b[39mget_expectation_value(\u001b[39mself\u001b[39m\u001b[39m.\u001b[39mqubit_hamiltonian, circuit, \u001b[39m*\u001b[39m\u001b[39m*\u001b[39m\u001b[39mself\u001b[39m\u001b[39m.\u001b[39msimulate_options)\n\u001b[1;32m    311\u001b[0m \u001b[39m# Additional computation for deflation (optional)\u001b[39;00m\n\u001b[1;32m    312\u001b[0m \u001b[39mfor\u001b[39;00m circ \u001b[39min\u001b[39;00m \u001b[39mself\u001b[39m\u001b[39m.\u001b[39mdeflation_circuits:\n",
      "File \u001b[0;32m~/anaconda3/lib/python3.11/site-packages/tangelo/linq/target/backend.py:373\u001b[0m, in \u001b[0;36mBackend.get_expectation_value\u001b[0;34m(self, qubit_operator, state_prep_circuit, initial_statevector, desired_meas_result)\u001b[0m\n\u001b[1;32m    370\u001b[0m qb_op_imag\u001b[39m.\u001b[39mcompress()\n\u001b[1;32m    371\u001b[0m exp_real \u001b[39m=\u001b[39m \u001b[39mself\u001b[39m\u001b[39m.\u001b[39mget_expectation_value(qb_op_real, state_prep_circuit, initial_statevector\u001b[39m=\u001b[39minitial_statevector,\n\u001b[1;32m    372\u001b[0m                                       desired_meas_result\u001b[39m=\u001b[39mdesired_meas_result)\n\u001b[0;32m--> 373\u001b[0m exp_imag \u001b[39m=\u001b[39m \u001b[39mself\u001b[39m\u001b[39m.\u001b[39mget_expectation_value(qb_op_imag, state_prep_circuit, initial_statevector\u001b[39m=\u001b[39minitial_statevector,\n\u001b[1;32m    374\u001b[0m                                       desired_meas_result\u001b[39m=\u001b[39mdesired_meas_result)\n\u001b[1;32m    375\u001b[0m \u001b[39mreturn\u001b[39;00m exp_real \u001b[39mif\u001b[39;00m (exp_imag \u001b[39m==\u001b[39m \u001b[39m0.\u001b[39m) \u001b[39melse\u001b[39;00m exp_real \u001b[39m+\u001b[39m \u001b[39m1.0\u001b[39mj \u001b[39m*\u001b[39m exp_imag\n",
      "File \u001b[0;32m~/anaconda3/lib/python3.11/site-packages/tangelo/linq/target/backend.py:359\u001b[0m, in \u001b[0;36mBackend.get_expectation_value\u001b[0;34m(self, qubit_operator, state_prep_circuit, initial_statevector, desired_meas_result)\u001b[0m\n\u001b[1;32m    354\u001b[0m         \u001b[39mreturn\u001b[39;00m \u001b[39mself\u001b[39m\u001b[39m.\u001b[39m_get_expectation_value_from_frequencies(qubit_operator,\n\u001b[1;32m    355\u001b[0m                                                             state_prep_circuit,\n\u001b[1;32m    356\u001b[0m                                                             initial_statevector\u001b[39m=\u001b[39minitial_statevector,\n\u001b[1;32m    357\u001b[0m                                                             desired_meas_result\u001b[39m=\u001b[39mdesired_meas_result)\n\u001b[1;32m    358\u001b[0m     \u001b[39melif\u001b[39;00m \u001b[39mself\u001b[39m\u001b[39m.\u001b[39mstatevector_available:\n\u001b[0;32m--> 359\u001b[0m         \u001b[39mreturn\u001b[39;00m \u001b[39mself\u001b[39m\u001b[39m.\u001b[39m_get_expectation_value_from_statevector(qubit_operator,\n\u001b[1;32m    360\u001b[0m                                                             state_prep_circuit,\n\u001b[1;32m    361\u001b[0m                                                             initial_statevector\u001b[39m=\u001b[39minitial_statevector,\n\u001b[1;32m    362\u001b[0m                                                             desired_meas_result\u001b[39m=\u001b[39mdesired_meas_result)\n\u001b[1;32m    364\u001b[0m \u001b[39m# Else, separate the operator into 2 hermitian operators, use linearity and call this function twice\u001b[39;00m\n\u001b[1;32m    365\u001b[0m \u001b[39melse\u001b[39;00m:\n\u001b[1;32m    366\u001b[0m     qb_op_real, qb_op_imag \u001b[39m=\u001b[39m QubitOperator(), QubitOperator()\n",
      "File \u001b[0;32m~/anaconda3/lib/python3.11/site-packages/tangelo/linq/target/backend.py:475\u001b[0m, in \u001b[0;36mBackend._get_expectation_value_from_statevector\u001b[0;34m(self, qubit_operator, state_prep_circuit, initial_statevector, desired_meas_result)\u001b[0m\n\u001b[1;32m    472\u001b[0m n_qubits \u001b[39m=\u001b[39m state_prep_circuit\u001b[39m.\u001b[39mwidth\n\u001b[1;32m    474\u001b[0m expectation_value \u001b[39m=\u001b[39m \u001b[39m0.\u001b[39m\n\u001b[0;32m--> 475\u001b[0m prepared_frequencies, prepared_state \u001b[39m=\u001b[39m \u001b[39mself\u001b[39m\u001b[39m.\u001b[39msimulate(state_prep_circuit, return_statevector\u001b[39m=\u001b[39m\u001b[39mTrue\u001b[39;00m,\n\u001b[1;32m    476\u001b[0m                                                      initial_statevector\u001b[39m=\u001b[39minitial_statevector, desired_meas_result\u001b[39m=\u001b[39mdesired_meas_result)\n\u001b[1;32m    478\u001b[0m \u001b[39mif\u001b[39;00m \u001b[39mhasattr\u001b[39m(\u001b[39mself\u001b[39m, \u001b[39m\"\u001b[39m\u001b[39mexpectation_value_from_prepared_state\u001b[39m\u001b[39m\"\u001b[39m):\n\u001b[1;32m    479\u001b[0m     \u001b[39mreturn\u001b[39;00m \u001b[39mself\u001b[39m\u001b[39m.\u001b[39mexpectation_value_from_prepared_state(qubit_operator, n_qubits, prepared_state)\n",
      "File \u001b[0;32m~/anaconda3/lib/python3.11/site-packages/tangelo/linq/target/backend.py:312\u001b[0m, in \u001b[0;36mBackend.simulate\u001b[0;34m(self, source_circuit, return_statevector, initial_statevector, desired_meas_result, save_mid_circuit_meas)\u001b[0m\n\u001b[1;32m    308\u001b[0m         \u001b[39mself\u001b[39m\u001b[39m.\u001b[39mmid_circuit_meas_freqs, frequencies \u001b[39m=\u001b[39m split_frequency_dict_for_last_n_digits(all_frequencies,\n\u001b[1;32m    309\u001b[0m                                                                                           source_circuit\u001b[39m.\u001b[39mwidth)\n\u001b[1;32m    310\u001b[0m     \u001b[39mreturn\u001b[39;00m (frequencies, statevector)\n\u001b[0;32m--> 312\u001b[0m \u001b[39mreturn\u001b[39;00m \u001b[39mself\u001b[39m\u001b[39m.\u001b[39msimulate_circuit(source_circuit,\n\u001b[1;32m    313\u001b[0m                              return_statevector\u001b[39m=\u001b[39mreturn_statevector,\n\u001b[1;32m    314\u001b[0m                              initial_statevector\u001b[39m=\u001b[39minitial_statevector)\n",
      "File \u001b[0;32m~/anaconda3/lib/python3.11/site-packages/tangelo/linq/target/target_cirq.py:304\u001b[0m, in \u001b[0;36mCirqSimulator.simulate_circuit\u001b[0;34m(self, source_circuit, return_statevector, initial_statevector, desired_meas_result, save_mid_circuit_meas)\u001b[0m\n\u001b[1;32m    302\u001b[0m \u001b[39melse\u001b[39;00m:\n\u001b[1;32m    303\u001b[0m     translated_circuit \u001b[39m=\u001b[39m translate_c(source_circuit, \u001b[39m\"\u001b[39m\u001b[39mcirq\u001b[39m\u001b[39m\"\u001b[39m, output_options\u001b[39m=\u001b[39m{\u001b[39m\"\u001b[39m\u001b[39mnoise_model\u001b[39m\u001b[39m\"\u001b[39m: \u001b[39mself\u001b[39m\u001b[39m.\u001b[39m_noise_model})\n\u001b[0;32m--> 304\u001b[0m     job_sim \u001b[39m=\u001b[39m cirq_simulator\u001b[39m.\u001b[39msimulate(translated_circuit, initial_state\u001b[39m=\u001b[39mcirq_initial_statevector)\n\u001b[1;32m    305\u001b[0m     \u001b[39mself\u001b[39m\u001b[39m.\u001b[39m_current_state \u001b[39m=\u001b[39m job_sim\u001b[39m.\u001b[39mfinal_state_vector\n\u001b[1;32m    306\u001b[0m     frequencies \u001b[39m=\u001b[39m \u001b[39mself\u001b[39m\u001b[39m.\u001b[39m_statevector_to_frequencies(\u001b[39mself\u001b[39m\u001b[39m.\u001b[39m_current_state)\n",
      "File \u001b[0;32m~/anaconda3/lib/python3.11/site-packages/cirq/sim/simulator.py:496\u001b[0m, in \u001b[0;36mSimulatesFinalState.simulate\u001b[0;34m(self, program, param_resolver, qubit_order, initial_state)\u001b[0m\n\u001b[1;32m    471\u001b[0m \u001b[39mdef\u001b[39;00m \u001b[39msimulate\u001b[39m(\n\u001b[1;32m    472\u001b[0m     \u001b[39mself\u001b[39m,\n\u001b[1;32m    473\u001b[0m     program: \u001b[39m'\u001b[39m\u001b[39mcirq.AbstractCircuit\u001b[39m\u001b[39m'\u001b[39m,\n\u001b[0;32m   (...)\u001b[0m\n\u001b[1;32m    476\u001b[0m     initial_state: Any \u001b[39m=\u001b[39m \u001b[39mNone\u001b[39;00m,\n\u001b[1;32m    477\u001b[0m ) \u001b[39m-\u001b[39m\u001b[39m>\u001b[39m TSimulationTrialResult:\n\u001b[1;32m    478\u001b[0m \u001b[39m    \u001b[39m\u001b[39m\"\"\"Simulates the supplied Circuit.\u001b[39;00m\n\u001b[1;32m    479\u001b[0m \n\u001b[1;32m    480\u001b[0m \u001b[39m    This method returns a result which allows access to the entire\u001b[39;00m\n\u001b[0;32m   (...)\u001b[0m\n\u001b[1;32m    494\u001b[0m \u001b[39m        SimulationTrialResults for the simulation. Includes the final state.\u001b[39;00m\n\u001b[1;32m    495\u001b[0m \u001b[39m    \"\"\"\u001b[39;00m\n\u001b[0;32m--> 496\u001b[0m     \u001b[39mreturn\u001b[39;00m \u001b[39mself\u001b[39m\u001b[39m.\u001b[39msimulate_sweep(\n\u001b[1;32m    497\u001b[0m         program, study\u001b[39m.\u001b[39mParamResolver(param_resolver), qubit_order, initial_state\n\u001b[1;32m    498\u001b[0m     )[\u001b[39m0\u001b[39m]\n",
      "File \u001b[0;32m~/anaconda3/lib/python3.11/site-packages/cirq/sim/simulator.py:511\u001b[0m, in \u001b[0;36mSimulatesFinalState.simulate_sweep\u001b[0;34m(self, program, params, qubit_order, initial_state)\u001b[0m\n\u001b[1;32m    500\u001b[0m \u001b[39mdef\u001b[39;00m \u001b[39msimulate_sweep\u001b[39m(\n\u001b[1;32m    501\u001b[0m     \u001b[39mself\u001b[39m,\n\u001b[1;32m    502\u001b[0m     program: \u001b[39m'\u001b[39m\u001b[39mcirq.AbstractCircuit\u001b[39m\u001b[39m'\u001b[39m,\n\u001b[0;32m   (...)\u001b[0m\n\u001b[1;32m    505\u001b[0m     initial_state: Any \u001b[39m=\u001b[39m \u001b[39mNone\u001b[39;00m,\n\u001b[1;32m    506\u001b[0m ) \u001b[39m-\u001b[39m\u001b[39m>\u001b[39m List[TSimulationTrialResult]:\n\u001b[1;32m    507\u001b[0m \u001b[39m    \u001b[39m\u001b[39m\"\"\"Wraps computed states in a list.\u001b[39;00m\n\u001b[1;32m    508\u001b[0m \n\u001b[1;32m    509\u001b[0m \u001b[39m    Prefer overriding `simulate_sweep_iter`.\u001b[39;00m\n\u001b[1;32m    510\u001b[0m \u001b[39m    \"\"\"\u001b[39;00m\n\u001b[0;32m--> 511\u001b[0m     \u001b[39mreturn\u001b[39;00m \u001b[39mlist\u001b[39m(\u001b[39mself\u001b[39m\u001b[39m.\u001b[39msimulate_sweep_iter(program, params, qubit_order, initial_state))\n",
      "File \u001b[0;32m~/anaconda3/lib/python3.11/site-packages/cirq/sim/simulator_base.py:328\u001b[0m, in \u001b[0;36mSimulatorBase.simulate_sweep_iter\u001b[0;34m(self, program, params, qubit_order, initial_state)\u001b[0m\n\u001b[1;32m    322\u001b[0m prefix, suffix \u001b[39m=\u001b[39m (\n\u001b[1;32m    323\u001b[0m     split_into_matching_protocol_then_general(program, sweep_prefixable)\n\u001b[1;32m    324\u001b[0m     \u001b[39mif\u001b[39;00m \u001b[39mself\u001b[39m\u001b[39m.\u001b[39m_can_be_in_run_prefix(\u001b[39mself\u001b[39m\u001b[39m.\u001b[39mnoise)\n\u001b[1;32m    325\u001b[0m     \u001b[39melse\u001b[39;00m (program[\u001b[39m0\u001b[39m:\u001b[39m0\u001b[39m], program)\n\u001b[1;32m    326\u001b[0m )\n\u001b[1;32m    327\u001b[0m step_result \u001b[39m=\u001b[39m \u001b[39mNone\u001b[39;00m\n\u001b[0;32m--> 328\u001b[0m \u001b[39mfor\u001b[39;00m step_result \u001b[39min\u001b[39;00m \u001b[39mself\u001b[39m\u001b[39m.\u001b[39m_core_iterator(circuit\u001b[39m=\u001b[39mprefix, sim_state\u001b[39m=\u001b[39msim_state):\n\u001b[1;32m    329\u001b[0m     \u001b[39mpass\u001b[39;00m\n\u001b[1;32m    330\u001b[0m sim_state \u001b[39m=\u001b[39m step_result\u001b[39m.\u001b[39m_sim_state\n",
      "File \u001b[0;32m~/anaconda3/lib/python3.11/site-packages/cirq/sim/simulator_base.py:220\u001b[0m, in \u001b[0;36mSimulatorBase._core_iterator\u001b[0;34m(self, circuit, sim_state, all_measurements_are_terminal)\u001b[0m\n\u001b[1;32m    217\u001b[0m             \u001b[39mcontinue\u001b[39;00m\n\u001b[1;32m    219\u001b[0m     \u001b[39m# Simulate the operation\u001b[39;00m\n\u001b[0;32m--> 220\u001b[0m     protocols\u001b[39m.\u001b[39mact_on(op, sim_state)\n\u001b[1;32m    221\u001b[0m \u001b[39mexcept\u001b[39;00m \u001b[39mTypeError\u001b[39;00m:\n\u001b[1;32m    222\u001b[0m     \u001b[39mraise\u001b[39;00m \u001b[39mTypeError\u001b[39;00m(\u001b[39mf\u001b[39m\u001b[39m\"\u001b[39m\u001b[39m{\u001b[39;00m\u001b[39mself\u001b[39m\u001b[39m.\u001b[39m\u001b[39m__class__\u001b[39m\u001b[39m.\u001b[39m\u001b[39m__name__\u001b[39m\u001b[39m}\u001b[39;00m\u001b[39m doesn\u001b[39m\u001b[39m'\u001b[39m\u001b[39mt support \u001b[39m\u001b[39m{\u001b[39;00mop\u001b[39m!r}\u001b[39;00m\u001b[39m\"\u001b[39m)\n",
      "File \u001b[0;32m~/anaconda3/lib/python3.11/site-packages/cirq/protocols/act_on_protocol.py:153\u001b[0m, in \u001b[0;36mact_on\u001b[0;34m(action, sim_state, qubits, allow_decompose)\u001b[0m\n\u001b[1;32m    151\u001b[0m \u001b[39mif\u001b[39;00m arg_fallback \u001b[39mis\u001b[39;00m \u001b[39mnot\u001b[39;00m \u001b[39mNone\u001b[39;00m:\n\u001b[1;32m    152\u001b[0m     qubits \u001b[39m=\u001b[39m action\u001b[39m.\u001b[39mqubits \u001b[39mif\u001b[39;00m is_op \u001b[39melse\u001b[39;00m qubits\n\u001b[0;32m--> 153\u001b[0m     result \u001b[39m=\u001b[39m arg_fallback(action, qubits\u001b[39m=\u001b[39mqubits, allow_decompose\u001b[39m=\u001b[39mallow_decompose)\n\u001b[1;32m    154\u001b[0m     \u001b[39mif\u001b[39;00m result \u001b[39mis\u001b[39;00m \u001b[39mTrue\u001b[39;00m:\n\u001b[1;32m    155\u001b[0m         \u001b[39mreturn\u001b[39;00m\n",
      "File \u001b[0;32m~/anaconda3/lib/python3.11/site-packages/cirq/sim/simulation_product_state.py:123\u001b[0m, in \u001b[0;36mSimulationProductState._act_on_fallback_\u001b[0;34m(self, action, qubits, allow_decompose)\u001b[0m\n\u001b[1;32m    121\u001b[0m \u001b[39m# Act on the args with the operation\u001b[39;00m\n\u001b[1;32m    122\u001b[0m act_on_qubits \u001b[39m=\u001b[39m qubits \u001b[39mif\u001b[39;00m \u001b[39misinstance\u001b[39m(action, ops\u001b[39m.\u001b[39mGate) \u001b[39melse\u001b[39;00m \u001b[39mNone\u001b[39;00m\n\u001b[0;32m--> 123\u001b[0m protocols\u001b[39m.\u001b[39mact_on(action, op_args, act_on_qubits, allow_decompose\u001b[39m=\u001b[39mallow_decompose)\n\u001b[1;32m    125\u001b[0m \u001b[39m# Decouple any measurements or resets\u001b[39;00m\n\u001b[1;32m    126\u001b[0m \u001b[39mif\u001b[39;00m \u001b[39mself\u001b[39m\u001b[39m.\u001b[39msplit_untangled_states \u001b[39mand\u001b[39;00m \u001b[39misinstance\u001b[39m(\n\u001b[1;32m    127\u001b[0m     gate_opt, (ops\u001b[39m.\u001b[39mResetChannel, ops\u001b[39m.\u001b[39mMeasurementGate)\n\u001b[1;32m    128\u001b[0m ):\n",
      "File \u001b[0;32m~/anaconda3/lib/python3.11/site-packages/cirq/protocols/act_on_protocol.py:153\u001b[0m, in \u001b[0;36mact_on\u001b[0;34m(action, sim_state, qubits, allow_decompose)\u001b[0m\n\u001b[1;32m    151\u001b[0m \u001b[39mif\u001b[39;00m arg_fallback \u001b[39mis\u001b[39;00m \u001b[39mnot\u001b[39;00m \u001b[39mNone\u001b[39;00m:\n\u001b[1;32m    152\u001b[0m     qubits \u001b[39m=\u001b[39m action\u001b[39m.\u001b[39mqubits \u001b[39mif\u001b[39;00m is_op \u001b[39melse\u001b[39;00m qubits\n\u001b[0;32m--> 153\u001b[0m     result \u001b[39m=\u001b[39m arg_fallback(action, qubits\u001b[39m=\u001b[39mqubits, allow_decompose\u001b[39m=\u001b[39mallow_decompose)\n\u001b[1;32m    154\u001b[0m     \u001b[39mif\u001b[39;00m result \u001b[39mis\u001b[39;00m \u001b[39mTrue\u001b[39;00m:\n\u001b[1;32m    155\u001b[0m         \u001b[39mreturn\u001b[39;00m\n",
      "File \u001b[0;32m~/anaconda3/lib/python3.11/site-packages/cirq/sim/state_vector_simulation_state.py:388\u001b[0m, in \u001b[0;36mStateVectorSimulationState._act_on_fallback_\u001b[0;34m(self, action, qubits, allow_decompose)\u001b[0m\n\u001b[1;32m    386\u001b[0m \u001b[39m# Try each strategy, stopping if one works.\u001b[39;00m\n\u001b[1;32m    387\u001b[0m \u001b[39mfor\u001b[39;00m strat \u001b[39min\u001b[39;00m strats:\n\u001b[0;32m--> 388\u001b[0m     result \u001b[39m=\u001b[39m strat(action, \u001b[39mself\u001b[39m, qubits)\n\u001b[1;32m    389\u001b[0m     \u001b[39mif\u001b[39;00m result \u001b[39mis\u001b[39;00m \u001b[39mFalse\u001b[39;00m:\n\u001b[1;32m    390\u001b[0m         \u001b[39mbreak\u001b[39;00m  \u001b[39m# pragma: no cover\u001b[39;00m\n",
      "File \u001b[0;32m~/anaconda3/lib/python3.11/site-packages/cirq/sim/state_vector_simulation_state.py:420\u001b[0m, in \u001b[0;36m_strat_act_on_state_vector_from_apply_unitary\u001b[0;34m(action, args, qubits)\u001b[0m\n\u001b[1;32m    417\u001b[0m \u001b[39mdef\u001b[39;00m \u001b[39m_strat_act_on_state_vector_from_apply_unitary\u001b[39m(\n\u001b[1;32m    418\u001b[0m     action: Any, args: \u001b[39m'\u001b[39m\u001b[39mcirq.StateVectorSimulationState\u001b[39m\u001b[39m'\u001b[39m, qubits: Sequence[\u001b[39m'\u001b[39m\u001b[39mcirq.Qid\u001b[39m\u001b[39m'\u001b[39m]\n\u001b[1;32m    419\u001b[0m ) \u001b[39m-\u001b[39m\u001b[39m>\u001b[39m \u001b[39mbool\u001b[39m:\n\u001b[0;32m--> 420\u001b[0m     \u001b[39mif\u001b[39;00m \u001b[39mnot\u001b[39;00m args\u001b[39m.\u001b[39m_state\u001b[39m.\u001b[39mapply_unitary(action, args\u001b[39m.\u001b[39mget_axes(qubits)):\n\u001b[1;32m    421\u001b[0m         \u001b[39mreturn\u001b[39;00m \u001b[39mNotImplemented\u001b[39m\n\u001b[1;32m    422\u001b[0m     \u001b[39mreturn\u001b[39;00m \u001b[39mTrue\u001b[39;00m\n",
      "File \u001b[0;32m~/anaconda3/lib/python3.11/site-packages/cirq/sim/state_vector_simulation_state.py:166\u001b[0m, in \u001b[0;36m_BufferedStateVector.apply_unitary\u001b[0;34m(self, action, axes)\u001b[0m\n\u001b[1;32m    157\u001b[0m \u001b[39mdef\u001b[39;00m \u001b[39mapply_unitary\u001b[39m(\u001b[39mself\u001b[39m, action: Any, axes: Sequence[\u001b[39mint\u001b[39m]) \u001b[39m-\u001b[39m\u001b[39m>\u001b[39m \u001b[39mbool\u001b[39m:\n\u001b[1;32m    158\u001b[0m \u001b[39m    \u001b[39m\u001b[39m\"\"\"Apply unitary to state.\u001b[39;00m\n\u001b[1;32m    159\u001b[0m \n\u001b[1;32m    160\u001b[0m \u001b[39m    Args:\u001b[39;00m\n\u001b[0;32m   (...)\u001b[0m\n\u001b[1;32m    164\u001b[0m \u001b[39m        True if the operation succeeded.\u001b[39;00m\n\u001b[1;32m    165\u001b[0m \u001b[39m    \"\"\"\u001b[39;00m\n\u001b[0;32m--> 166\u001b[0m     new_target_tensor \u001b[39m=\u001b[39m protocols\u001b[39m.\u001b[39mapply_unitary(\n\u001b[1;32m    167\u001b[0m         action,\n\u001b[1;32m    168\u001b[0m         protocols\u001b[39m.\u001b[39mApplyUnitaryArgs(\n\u001b[1;32m    169\u001b[0m             target_tensor\u001b[39m=\u001b[39m\u001b[39mself\u001b[39m\u001b[39m.\u001b[39m_state_vector, available_buffer\u001b[39m=\u001b[39m\u001b[39mself\u001b[39m\u001b[39m.\u001b[39m_buffer, axes\u001b[39m=\u001b[39maxes\n\u001b[1;32m    170\u001b[0m         ),\n\u001b[1;32m    171\u001b[0m         allow_decompose\u001b[39m=\u001b[39m\u001b[39mFalse\u001b[39;00m,\n\u001b[1;32m    172\u001b[0m         default\u001b[39m=\u001b[39m\u001b[39mNotImplemented\u001b[39m,\n\u001b[1;32m    173\u001b[0m     )\n\u001b[1;32m    174\u001b[0m     \u001b[39mif\u001b[39;00m new_target_tensor \u001b[39mis\u001b[39;00m \u001b[39mNotImplemented\u001b[39m:\n\u001b[1;32m    175\u001b[0m         \u001b[39mreturn\u001b[39;00m \u001b[39mFalse\u001b[39;00m\n",
      "File \u001b[0;32m~/anaconda3/lib/python3.11/site-packages/cirq/protocols/apply_unitary_protocol.py:395\u001b[0m, in \u001b[0;36mapply_unitary\u001b[0;34m(unitary_value, args, default, allow_decompose)\u001b[0m\n\u001b[1;32m    393\u001b[0m warnings\u001b[39m.\u001b[39mfilterwarnings(action\u001b[39m=\u001b[39m\u001b[39m\"\u001b[39m\u001b[39merror\u001b[39m\u001b[39m\"\u001b[39m, category\u001b[39m=\u001b[39mnp\u001b[39m.\u001b[39mComplexWarning)\n\u001b[1;32m    394\u001b[0m \u001b[39mfor\u001b[39;00m strat \u001b[39min\u001b[39;00m strats:\n\u001b[0;32m--> 395\u001b[0m     result \u001b[39m=\u001b[39m strat(unitary_value, args)\n\u001b[1;32m    396\u001b[0m     \u001b[39mif\u001b[39;00m result \u001b[39mis\u001b[39;00m \u001b[39mNone\u001b[39;00m:\n\u001b[1;32m    397\u001b[0m         \u001b[39mbreak\u001b[39;00m\n",
      "File \u001b[0;32m~/anaconda3/lib/python3.11/site-packages/cirq/protocols/apply_unitary_protocol.py:437\u001b[0m, in \u001b[0;36m_strat_apply_unitary_from_apply_unitary\u001b[0;34m(unitary_value, args)\u001b[0m\n\u001b[1;32m    435\u001b[0m \u001b[39mif\u001b[39;00m sub_result \u001b[39mis\u001b[39;00m \u001b[39mNotImplemented\u001b[39m \u001b[39mor\u001b[39;00m sub_result \u001b[39mis\u001b[39;00m \u001b[39mNone\u001b[39;00m:\n\u001b[1;32m    436\u001b[0m     \u001b[39mreturn\u001b[39;00m sub_result\n\u001b[0;32m--> 437\u001b[0m \u001b[39mreturn\u001b[39;00m _incorporate_result_into_target(args, sub_args, sub_result)\n",
      "File \u001b[0;32m~/anaconda3/lib/python3.11/site-packages/cirq/protocols/apply_unitary_protocol.py:591\u001b[0m, in \u001b[0;36m_incorporate_result_into_target\u001b[0;34m(args, sub_args, sub_result)\u001b[0m\n\u001b[1;32m    586\u001b[0m         state \u001b[39m=\u001b[39m result\n\u001b[1;32m    588\u001b[0m     \u001b[39mreturn\u001b[39;00m state\n\u001b[0;32m--> 591\u001b[0m \u001b[39mdef\u001b[39;00m \u001b[39m_incorporate_result_into_target\u001b[39m(\n\u001b[1;32m    592\u001b[0m     args: \u001b[39m'\u001b[39m\u001b[39mApplyUnitaryArgs\u001b[39m\u001b[39m'\u001b[39m, sub_args: \u001b[39m'\u001b[39m\u001b[39mApplyUnitaryArgs\u001b[39m\u001b[39m'\u001b[39m, sub_result: np\u001b[39m.\u001b[39mndarray\n\u001b[1;32m    593\u001b[0m ):\n\u001b[1;32m    594\u001b[0m \u001b[39m    \u001b[39m\u001b[39m\"\"\"Takes the result of calling `_apply_unitary_` on `sub_args` and\u001b[39;00m\n\u001b[1;32m    595\u001b[0m \u001b[39m    copies it back into `args.target_tensor` or `args.available_buffer` as\u001b[39;00m\n\u001b[1;32m    596\u001b[0m \u001b[39m    necessary to return the result of applying the unitary to the full args.\u001b[39;00m\n\u001b[0;32m   (...)\u001b[0m\n\u001b[1;32m    613\u001b[0m \n\u001b[1;32m    614\u001b[0m \u001b[39m    \"\"\"\u001b[39;00m\n\u001b[1;32m    615\u001b[0m     \u001b[39mif\u001b[39;00m \u001b[39mnot\u001b[39;00m (\n\u001b[1;32m    616\u001b[0m         np\u001b[39m.\u001b[39mmay_share_memory(args\u001b[39m.\u001b[39mtarget_tensor, sub_args\u001b[39m.\u001b[39mtarget_tensor)\n\u001b[1;32m    617\u001b[0m         \u001b[39mand\u001b[39;00m np\u001b[39m.\u001b[39mmay_share_memory(args\u001b[39m.\u001b[39mavailable_buffer, sub_args\u001b[39m.\u001b[39mavailable_buffer)\n\u001b[1;32m    618\u001b[0m     ):\n",
      "\u001b[0;31mKeyboardInterrupt\u001b[0m: "
     ]
    }
   ],
   "source": [
    "from tangelo.algorithms.variational import VQESolver, BuiltInAnsatze\n",
    "from tangelo.algorithms.classical import FCISolver\n",
    "\n",
    "# Dictionary of resources for each algorithm\n",
    "algorithm_resources = dict()\n",
    "\n",
    "# Ground state energy calculation with VQE, reference values with FCI\n",
    "vqe_options = {\"molecule\": thiazole_321g_frozen, \"ansatz\": BuiltInAnsatze.UCCSD}\n",
    "vqe_solver = VQESolver(vqe_options)\n",
    "vqe_solver.build()\n",
    "vqe_energy = vqe_solver.simulate()\n",
    "print(\"\\n Ground Singlet state\")\n",
    "print(f\"VQE energy = {vqe_energy}\")\n",
    "print(f\"CASCI energy = {FCISolver(thiazole_321g_frozen).simulate()}\")\n",
    "algorithm_resources[\"vqe_ground_state\"] = vqe_solver.get_resources()\n",
    "\n",
    "\n",
    "\n",
    "# Dictionary of resources for each algorithm\n",
    "algorithm_resources_t = dict()\n",
    "\n",
    "# Ground state energy calculation with VQE, reference values with FCI\n",
    "vqe_options_t = {\"molecule\": thiazole_321g_frozen_t, \"ansatz\": BuiltInAnsatze.UCCSD}\n",
    "vqe_solver_t = VQESolver(vqe_options_t)\n",
    "vqe_solver_t.build()\n",
    "vqe_energy_t = vqe_solver_t.simulate()\n",
    "print(\"\\n Ground  state triplet\")\n",
    "print(f\"VQE energy triplet = {vqe_energy_t}\")\n",
    "print(f\"CASCI energy triplet = {FCISolver(thiazole_321g_frozen_t).simulate()}\")\n",
    "algorithm_resources_t[\"vqe_ground_state\"] = vqe_solver_t.get_resources()\n",
    "\n",
    "\n",
    "# First excited state energy calculation with VQE, reference values with FCI\n",
    "# vqe_options = {\"molecule\": mol_Li2_t, \"ansatz\": BuiltInAnsatze.UpCCGSD}\n",
    "# vqe_solver_t = VQESolver(vqe_options)\n",
    "# vqe_solver_t.build()\n",
    "# vqe_energy_t = vqe_solver_t.simulate()\n",
    "# print(\"\\n Lowest Triplet state\")\n",
    "# print(f\"VQE energy = {vqe_energy_t}\")\n",
    "# print(f\"CASCI energy = {FCISolver(mol_Li2_t).simulate()}\")\n",
    "# algorithm_resources[\"vqe_triplet_state\"] = vqe_solver_t.get_resources()"
   ]
  },
  {
   "cell_type": "code",
   "execution_count": null,
   "id": "a87fe781",
   "metadata": {},
   "outputs": [],
   "source": []
  }
 ],
 "metadata": {
  "kernelspec": {
   "display_name": "Python 3 (ipykernel)",
   "language": "python",
   "name": "python3"
  },
  "language_info": {
   "codemirror_mode": {
    "name": "ipython",
    "version": 3
   },
   "file_extension": ".py",
   "mimetype": "text/x-python",
   "name": "python",
   "nbconvert_exporter": "python",
   "pygments_lexer": "ipython3",
   "version": "3.11.8"
  }
 },
 "nbformat": 4,
 "nbformat_minor": 5
}
